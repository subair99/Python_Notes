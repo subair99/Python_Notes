{
 "cells": [
  {
   "cell_type": "markdown",
   "id": "e4128187",
   "metadata": {},
   "source": [
    "## Python_Notes_015"
   ]
  },
  {
   "cell_type": "markdown",
   "id": "4949b5d9",
   "metadata": {},
   "source": [
    "### List Comprehension\n",
    "It is an easy and compact syntax for creatng a list from a string or another iterable.\n",
    "It performs an operaton on each item in the existing object.\n",
    "It is consderably faster than processng with a lambda function or loop.\n",
    "It was added in Python 2.0 from patches by Greg Ewing with contributions by Skip Montanaro and Thomas Wouters."
   ]
  },
  {
   "cell_type": "code",
   "execution_count": 1,
   "id": "d7578ebb",
   "metadata": {},
   "outputs": [
    {
     "name": "stdout",
     "output_type": "stream",
     "text": [
      "['P', 'y', 't', 'h', 'o', 'n', ' ', 'i', 's', ' ', 'e', 'a', 's', 'y']\n"
     ]
    }
   ],
   "source": [
    "# Simple list comprehension.\n",
    "word_1 = 'Python is easy'\n",
    "alphabets_1 = [letter for letter in word_1]\n",
    "print(alphabets_1)"
   ]
  },
  {
   "cell_type": "code",
   "execution_count": 2,
   "id": "a6498028",
   "metadata": {},
   "outputs": [
    {
     "name": "stdout",
     "output_type": "stream",
     "text": [
      "['P', 'y', 't', 'h', 'o', 'n', ' ', 'i', 's', ' ', 'e', 'a', 's', 'y']\n"
     ]
    }
   ],
   "source": [
    "# Using lambda.\n",
    "word_2 = 'Python is easy'\n",
    "func_1 = lambda letter: letter\n",
    "alphabets_2 = map(func_1, word_2)\n",
    "print(list(alphabets_2))"
   ]
  },
  {
   "cell_type": "code",
   "execution_count": 3,
   "id": "4c7635a0",
   "metadata": {},
   "outputs": [
    {
     "name": "stdout",
     "output_type": "stream",
     "text": [
      "['P', 'y', 't', 'h', 'o', 'n', ' ', 'i', 's', ' ', 'e', 'a', 'z', 'y']\n"
     ]
    }
   ],
   "source": [
    "# Using loop.\n",
    "word_3 = 'Python is eazy'\n",
    "alphabets_3 = []\n",
    "for letter in word_3:\n",
    "    alphabets_3.append(letter)\n",
    "print(alphabets_3)"
   ]
  },
  {
   "cell_type": "code",
   "execution_count": 4,
   "id": "e6c468ba",
   "metadata": {},
   "outputs": [
    {
     "name": "stdout",
     "output_type": "stream",
     "text": [
      "The result is: 81650.0663\n",
      "Total time is: 0.0441\n"
     ]
    }
   ],
   "source": [
    "# Time list comprehension.\n",
    "import time\n",
    "start_1 = time.time()\n",
    "\n",
    "numbers_1 = range(1, 100001)\n",
    "result_1 = (sum([x**5 for x in numbers_1]))**0.5 / sum(numbers_1)\n",
    "print(f'The result is: {round(result_1, 4)}')\n",
    "\n",
    "end_1 = time.time()\n",
    "print(f'Total time is: {round(end_1 - start_1, 4)}')"
   ]
  },
  {
   "cell_type": "code",
   "execution_count": 5,
   "id": "a5327ab0",
   "metadata": {},
   "outputs": [
    {
     "name": "stdout",
     "output_type": "stream",
     "text": [
      "The result is: 81650.0663\n",
      "Total time is: 0.0529\n"
     ]
    }
   ],
   "source": [
    "# Time lambda\n",
    "import time\n",
    "start_2 = time.time()\n",
    "\n",
    "numbers_2 = range(1, 100001)\n",
    "func_2 = lambda x: x**5\n",
    "evaluate_2 = map(func_2, numbers_2)\n",
    "result_2 = (sum(evaluate_2))**0.5 / sum(numbers_2)\n",
    "print(f'The result is: {round(result_2, 4)}')\n",
    "\n",
    "end_2 = time.time()\n",
    "print(f'Total time is: {round(end_2 - start_2, 4)}')"
   ]
  },
  {
   "cell_type": "code",
   "execution_count": 6,
   "id": "d5e3e547",
   "metadata": {},
   "outputs": [
    {
     "name": "stdout",
     "output_type": "stream",
     "text": [
      "The result is: 81650.0663\n",
      "Total time is: 0.0652\n"
     ]
    }
   ],
   "source": [
    "# Time loop.\n",
    "import time\n",
    "start_3 = time.time()\n",
    "\n",
    "numbers_3 = range(1, 100001)\n",
    "evaluate_3 = []\n",
    "for x in numbers_3:\n",
    "    first_3 = x**5\n",
    "    evaluate_3.append(first_3)\n",
    "    \n",
    "result_3 = (sum(evaluate_3))**0.5 / sum(numbers_3)\n",
    "print(f'The result is: {round(result_3, 4)}')\n",
    "\n",
    "end_3 = time.time()\n",
    "print(f'Total time is: {round(end_3 - start_3, 4)}')"
   ]
  },
  {
   "cell_type": "code",
   "execution_count": 7,
   "id": "ec8915f3",
   "metadata": {},
   "outputs": [
    {
     "name": "stdout",
     "output_type": "stream",
     "text": [
      "[2, 4, 6, 8, 10, 12, 14, 16, 18, 20]\n"
     ]
    }
   ],
   "source": [
    "# List comprehension with if.\n",
    "lc_if = [x for x in range(1,21) if x % 2 == 0] # The condition comes after the iterator.\n",
    "print(lc_if)"
   ]
  },
  {
   "cell_type": "code",
   "execution_count": 8,
   "id": "50207afc",
   "metadata": {},
   "outputs": [
    {
     "name": "stdout",
     "output_type": "stream",
     "text": [
      "[5, 7, 11, 13, 17, 19]\n"
     ]
    }
   ],
   "source": [
    "# List comprehension with several ifs.\n",
    "lc_moreif = [x for x in range(1,21) if x != 1 if x % 2 != 0 if x % 3 != 0] # This should result in prime numbers.\n",
    "print(lc_moreif)"
   ]
  },
  {
   "cell_type": "code",
   "execution_count": 9,
   "id": "1185a39f",
   "metadata": {},
   "outputs": [
    {
     "name": "stdout",
     "output_type": "stream",
     "text": [
      "[5, 7, 11, 13, 17, 19]\n"
     ]
    }
   ],
   "source": [
    "# List comprehension with several if & and.\n",
    "lc_if_and = [x for x in range(1,21) if x != 1 and x % 2 != 0 and x % 3 != 0] # This should result in prime numbers.\n",
    "print(lc_if_and)"
   ]
  },
  {
   "cell_type": "code",
   "execution_count": 10,
   "id": "c2f88950",
   "metadata": {},
   "outputs": [
    {
     "name": "stdout",
     "output_type": "stream",
     "text": [
      "['Odd', 'Even', 'Odd', 'Even', 'Odd', 'Even', 'Odd', 'Even', 'Odd', 'Even']\n"
     ]
    }
   ],
   "source": [
    "# List comprehension with if, else.\n",
    "lc_if_else = ['Even' if num % 2 == 0 else 'Odd' for num in range(1, 11)] # The conditions comes befor the iterator.\n",
    "print(lc_if_else)"
   ]
  },
  {
   "cell_type": "code",
   "execution_count": 11,
   "id": "5a9db1af",
   "metadata": {},
   "outputs": [
    {
     "name": "stdout",
     "output_type": "stream",
     "text": [
      "['*', '*', 6, 8, 10, 12, 14, 16, 18, 20]\n"
     ]
    }
   ],
   "source": [
    "# List comprehension with if, else, if.\n",
    "lc_if_else_if = [x if x > 4 else '*' for x in range(1, 21) if x % 2 == 0]\n",
    "print(lc_if_else_if)"
   ]
  },
  {
   "cell_type": "code",
   "execution_count": 12,
   "id": "26d2df49",
   "metadata": {},
   "outputs": [
    {
     "name": "stdout",
     "output_type": "stream",
     "text": [
      "[[2], [4], [6], [8]]\n"
     ]
    }
   ],
   "source": [
    "# list comprehension vector transpose\n",
    "vector = [[2, 4, 6, 8]]\n",
    "matrix = [[row[i] for row in vector] for i in range(4)]\n",
    "print(matrix)"
   ]
  },
  {
   "cell_type": "code",
   "execution_count": 13,
   "id": "d9f3e160",
   "metadata": {},
   "outputs": [
    {
     "name": "stdout",
     "output_type": "stream",
     "text": [
      "[[1, 4, 7], [2, 5, 8], [3, 6, 9]]\n"
     ]
    }
   ],
   "source": [
    "# list comprehension matrix transpose.\n",
    "matrix_1 = [[1, 2, 3], [4, 5, 6], [7, 8, 9]]\n",
    "matrix_2 = [[row[i] for row in matrix_1] for i in range(3)]\n",
    "print(matrix_2)"
   ]
  },
  {
   "cell_type": "code",
   "execution_count": 14,
   "id": "ee3b4234",
   "metadata": {},
   "outputs": [
    {
     "name": "stdout",
     "output_type": "stream",
     "text": [
      "[[1 4 7]\n",
      " [2 5 8]\n",
      " [3 6 9]]\n"
     ]
    }
   ],
   "source": [
    "# Cornfirm with numpy transpose.\n",
    "import numpy\n",
    "matrix_1 = [[1, 2, 3], [4, 5, 6], [7, 8, 9]]\n",
    "matrix_3 = numpy.transpose(matrix_1)\n",
    "print(matrix_3)"
   ]
  },
  {
   "cell_type": "code",
   "execution_count": 15,
   "id": "272b7388",
   "metadata": {},
   "outputs": [
    {
     "data": {
      "text/plain": [
       "array([[ True,  True,  True],\n",
       "       [ True,  True,  True],\n",
       "       [ True,  True,  True]])"
      ]
     },
     "execution_count": 15,
     "metadata": {},
     "output_type": "execute_result"
    }
   ],
   "source": [
    "# Check if matrix_2 and matrix_3 are equal.\n",
    "matrix_2 == matrix_3"
   ]
  },
  {
   "cell_type": "code",
   "execution_count": 16,
   "id": "fa2cd77d",
   "metadata": {},
   "outputs": [
    {
     "data": {
      "text/plain": [
       "array([[ True, False, False],\n",
       "       [False,  True, False],\n",
       "       [False, False,  True]])"
      ]
     },
     "execution_count": 16,
     "metadata": {},
     "output_type": "execute_result"
    }
   ],
   "source": [
    "# Check if matrix_1 and matrix_3 are equal.\n",
    "matrix_1 == matrix_3"
   ]
  }
 ],
 "metadata": {
  "kernelspec": {
   "display_name": "Python 3 (ipykernel)",
   "language": "python",
   "name": "python3"
  },
  "language_info": {
   "codemirror_mode": {
    "name": "ipython",
    "version": 3
   },
   "file_extension": ".py",
   "mimetype": "text/x-python",
   "name": "python",
   "nbconvert_exporter": "python",
   "pygments_lexer": "ipython3",
   "version": "3.11.4"
  }
 },
 "nbformat": 4,
 "nbformat_minor": 5
}
