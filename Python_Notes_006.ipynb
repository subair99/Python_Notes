{
 "cells": [
  {
   "cell_type": "markdown",
   "id": "e4128187",
   "metadata": {},
   "source": [
    "## Python_Notes_006"
   ]
  },
  {
   "cell_type": "markdown",
   "id": "4949b5d9",
   "metadata": {},
   "source": [
    "### Sets"
   ]
  },
  {
   "cell_type": "code",
   "execution_count": 1,
   "id": "142247e1",
   "metadata": {},
   "outputs": [
    {
     "name": "stdout",
     "output_type": "stream",
     "text": [
      "<class 'set'>\n"
     ]
    }
   ],
   "source": [
    "# Create an empty set.\n",
    "a_set = set()\n",
    "print(type(a_set))"
   ]
  },
  {
   "cell_type": "code",
   "execution_count": 2,
   "id": "f1a0bd56",
   "metadata": {},
   "outputs": [
    {
     "name": "stdout",
     "output_type": "stream",
     "text": [
      "<class 'dict'>\n"
     ]
    }
   ],
   "source": [
    "# Empty curly braces '{}' does not create an empty set.\n",
    "b_set = {}\n",
    "print(type(b_set))"
   ]
  },
  {
   "cell_type": "code",
   "execution_count": 3,
   "id": "4c7635a0",
   "metadata": {},
   "outputs": [
    {
     "ename": "TypeError",
     "evalue": "set expected at most 1 argument, got 3",
     "output_type": "error",
     "traceback": [
      "\u001b[1;31m---------------------------------------------------------------------------\u001b[0m",
      "\u001b[1;31mTypeError\u001b[0m                                 Traceback (most recent call last)",
      "Cell \u001b[1;32mIn[3], line 2\u001b[0m\n\u001b[0;32m      1\u001b[0m \u001b[38;5;66;03m# The set() statement cannot be used to create an unempty set with more than one argument.\u001b[39;00m\n\u001b[1;32m----> 2\u001b[0m a_set \u001b[38;5;241m=\u001b[39m \u001b[38;5;28mset\u001b[39m(\u001b[38;5;124m'\u001b[39m\u001b[38;5;124ma\u001b[39m\u001b[38;5;124m'\u001b[39m, \u001b[38;5;124m'\u001b[39m\u001b[38;5;124mb\u001b[39m\u001b[38;5;124m'\u001b[39m, \u001b[38;5;124m'\u001b[39m\u001b[38;5;124mc\u001b[39m\u001b[38;5;124m'\u001b[39m)\n\u001b[0;32m      3\u001b[0m a_set\n",
      "\u001b[1;31mTypeError\u001b[0m: set expected at most 1 argument, got 3"
     ]
    }
   ],
   "source": [
    "# The set() statement cannot be used to create an unempty set with more than one argument.\n",
    "a_set = set('a', 'b', 'c')\n",
    "a_set"
   ]
  },
  {
   "cell_type": "code",
   "execution_count": 4,
   "id": "766e83ba",
   "metadata": {},
   "outputs": [
    {
     "name": "stdout",
     "output_type": "stream",
     "text": [
      "{'b', 'c', 'a'}\n",
      "<class 'set'>\n"
     ]
    }
   ],
   "source": [
    "# Instead use the curly braces '{}'.\n",
    "a_set = {'a', 'b', 'c'}\n",
    "\n",
    "print(a_set)\n",
    "print(type(a_set))"
   ]
  },
  {
   "cell_type": "code",
   "execution_count": 5,
   "id": "947440b1",
   "metadata": {},
   "outputs": [
    {
     "name": "stdout",
     "output_type": "stream",
     "text": [
      "{'b', 'c', 'a'}\n",
      "{'b', 'c', 'a'}\n"
     ]
    }
   ],
   "source": [
    "# Or use a list or tuple.\n",
    "a_set = set(['a', 'b', 'c'])\n",
    "b_set = set(('a', 'b', 'c'))\n",
    "\n",
    "print(a_set)\n",
    "print(b_set)"
   ]
  },
  {
   "cell_type": "code",
   "execution_count": 6,
   "id": "5a9db1af",
   "metadata": {},
   "outputs": [
    {
     "name": "stdout",
     "output_type": "stream",
     "text": [
      "{'b', 'c', 'd', 'a'}\n"
     ]
    }
   ],
   "source": [
    "# Set elements are unique.\n",
    "a_set = {'a', 'b', 'c', 'b', 'd'}\n",
    "print(a_set)"
   ]
  },
  {
   "cell_type": "code",
   "execution_count": 7,
   "id": "26d2df49",
   "metadata": {},
   "outputs": [
    {
     "name": "stdout",
     "output_type": "stream",
     "text": [
      "{1, 2, 'c', 'b', 'a'}\n"
     ]
    }
   ],
   "source": [
    "# Convert list to set.\n",
    "a_list = ['a', 1, 'b', 2, 'c', 1, 'b']\n",
    "a_set = set(a_list)\n",
    "print(a_set)"
   ]
  },
  {
   "cell_type": "code",
   "execution_count": 8,
   "id": "91cac82e",
   "metadata": {},
   "outputs": [
    {
     "name": "stdout",
     "output_type": "stream",
     "text": [
      "{3, 'c', 'b', 'd', 'a'}\n"
     ]
    }
   ],
   "source": [
    "# The add() method adds an element into a set.\n",
    "a_set = {'a', 'b', 'c', 'b', 'd'}\n",
    "a_set.add(3)\n",
    "print(a_set)"
   ]
  },
  {
   "cell_type": "code",
   "execution_count": 9,
   "id": "157b55dc",
   "metadata": {},
   "outputs": [
    {
     "ename": "TypeError",
     "evalue": "set.add() takes exactly one argument (2 given)",
     "output_type": "error",
     "traceback": [
      "\u001b[1;31m---------------------------------------------------------------------------\u001b[0m",
      "\u001b[1;31mTypeError\u001b[0m                                 Traceback (most recent call last)",
      "Cell \u001b[1;32mIn[9], line 3\u001b[0m\n\u001b[0;32m      1\u001b[0m \u001b[38;5;66;03m# Try adding two elements.\u001b[39;00m\n\u001b[0;32m      2\u001b[0m a_set \u001b[38;5;241m=\u001b[39m {\u001b[38;5;124m'\u001b[39m\u001b[38;5;124ma\u001b[39m\u001b[38;5;124m'\u001b[39m, \u001b[38;5;124m'\u001b[39m\u001b[38;5;124mb\u001b[39m\u001b[38;5;124m'\u001b[39m, \u001b[38;5;124m'\u001b[39m\u001b[38;5;124mc\u001b[39m\u001b[38;5;124m'\u001b[39m, \u001b[38;5;124m'\u001b[39m\u001b[38;5;124mb\u001b[39m\u001b[38;5;124m'\u001b[39m, \u001b[38;5;124m'\u001b[39m\u001b[38;5;124md\u001b[39m\u001b[38;5;124m'\u001b[39m}\n\u001b[1;32m----> 3\u001b[0m a_set\u001b[38;5;241m.\u001b[39madd(\u001b[38;5;241m3\u001b[39m, \u001b[38;5;124m'\u001b[39m\u001b[38;5;124md\u001b[39m\u001b[38;5;124m'\u001b[39m)\n\u001b[0;32m      4\u001b[0m \u001b[38;5;28mprint\u001b[39m(a_set)\n",
      "\u001b[1;31mTypeError\u001b[0m: set.add() takes exactly one argument (2 given)"
     ]
    }
   ],
   "source": [
    "# Try adding two elements.\n",
    "a_set = {'a', 'b', 'c', 'b', 'd'}\n",
    "a_set.add(3, 'd')\n",
    "print(a_set)"
   ]
  },
  {
   "cell_type": "code",
   "execution_count": 10,
   "id": "e32aca0d",
   "metadata": {},
   "outputs": [
    {
     "name": "stdout",
     "output_type": "stream",
     "text": [
      "{1, 2, 3, 'c', 4, 5, 'b', 'd', 'a', 'e'}\n"
     ]
    }
   ],
   "source": [
    "# The update() method adds multiple elements into a set.\n",
    "a_set = {1, 2, 3, 'a', 'b', 'c'}\n",
    "a_set.update({4, 'd', 5, 'e'})\n",
    "print(a_set)"
   ]
  },
  {
   "cell_type": "code",
   "execution_count": 11,
   "id": "e070ef8e",
   "metadata": {},
   "outputs": [
    {
     "name": "stdout",
     "output_type": "stream",
     "text": [
      "{1, 2, 3, 'c', 'a'}\n"
     ]
    }
   ],
   "source": [
    "# The remove() method removes an element from the set.\n",
    "a_set = {1, 2, 3, 'a', 'b', 'c'}\n",
    "a_set.remove('b')\n",
    "print(a_set)"
   ]
  },
  {
   "cell_type": "code",
   "execution_count": 12,
   "id": "996cba91",
   "metadata": {},
   "outputs": [
    {
     "ename": "KeyError",
     "evalue": "'d'",
     "output_type": "error",
     "traceback": [
      "\u001b[1;31m---------------------------------------------------------------------------\u001b[0m",
      "\u001b[1;31mKeyError\u001b[0m                                  Traceback (most recent call last)",
      "Cell \u001b[1;32mIn[12], line 3\u001b[0m\n\u001b[0;32m      1\u001b[0m \u001b[38;5;66;03m# The remove() method raises and error if the element to be removed is not available in the set.\u001b[39;00m\n\u001b[0;32m      2\u001b[0m a_set \u001b[38;5;241m=\u001b[39m {\u001b[38;5;241m1\u001b[39m, \u001b[38;5;241m2\u001b[39m, \u001b[38;5;241m3\u001b[39m, \u001b[38;5;124m'\u001b[39m\u001b[38;5;124ma\u001b[39m\u001b[38;5;124m'\u001b[39m, \u001b[38;5;124m'\u001b[39m\u001b[38;5;124mb\u001b[39m\u001b[38;5;124m'\u001b[39m, \u001b[38;5;124m'\u001b[39m\u001b[38;5;124mc\u001b[39m\u001b[38;5;124m'\u001b[39m}\n\u001b[1;32m----> 3\u001b[0m a_set\u001b[38;5;241m.\u001b[39mremove(\u001b[38;5;124m'\u001b[39m\u001b[38;5;124md\u001b[39m\u001b[38;5;124m'\u001b[39m)\n\u001b[0;32m      4\u001b[0m \u001b[38;5;28mprint\u001b[39m(a_set)\n",
      "\u001b[1;31mKeyError\u001b[0m: 'd'"
     ]
    }
   ],
   "source": [
    "# The remove() method raises and error if the element to be removed is not available in the set.\n",
    "a_set = {1, 2, 3, 'a', 'b', 'c'}\n",
    "a_set.remove('d')\n",
    "print(a_set)"
   ]
  },
  {
   "cell_type": "code",
   "execution_count": 13,
   "id": "e0aa8ddf",
   "metadata": {},
   "outputs": [
    {
     "data": {
      "text/plain": [
       "{1, 2, 3, 'a', 'b', 'c'}"
      ]
     },
     "execution_count": 13,
     "metadata": {},
     "output_type": "execute_result"
    }
   ],
   "source": [
    "# The discard() method leaves the set unchanged if the element to be deleted is not available in the set.\n",
    "a_set = {1, 2, 3, 'a', 'b', 'c'}\n",
    "a_set.discard('d')\n",
    "a_set"
   ]
  },
  {
   "cell_type": "code",
   "execution_count": 14,
   "id": "8ee073d3",
   "metadata": {},
   "outputs": [
    {
     "name": "stdout",
     "output_type": "stream",
     "text": [
      "{2, 3, 'c', 'a'}\n"
     ]
    }
   ],
   "source": [
    "# Find intersect of the two sets with &.\n",
    "a_set = {1, 2, 3, 'a', 'b', 'c'}\n",
    "b_set = {2, 3, 4, 'a', 'c', 'd'}\n",
    "intersect1 = a_set & b_set # Elements in both sets\n",
    "print(intersect1)"
   ]
  },
  {
   "cell_type": "code",
   "execution_count": 15,
   "id": "d42f75fc",
   "metadata": {},
   "outputs": [
    {
     "name": "stdout",
     "output_type": "stream",
     "text": [
      "{2, 3, 'c', 'a'}\n"
     ]
    }
   ],
   "source": [
    "# Find intersect of the two sets with intersection() method.\n",
    "a_set = {1, 2, 3, 'a', 'b', 'c'}\n",
    "b_set = {2, 3, 4, 'a', 'c', 'd'}\n",
    "intersect2 = a_set.intersection(b_set)\n",
    "print(intersect2)"
   ]
  },
  {
   "cell_type": "code",
   "execution_count": 16,
   "id": "95f61bb8",
   "metadata": {},
   "outputs": [
    {
     "name": "stdout",
     "output_type": "stream",
     "text": [
      "{'b', 1}\n",
      "{'d', 4}\n"
     ]
    }
   ],
   "source": [
    "# The difference() method finds the difference between two sets.\n",
    "difference1a = a_set.difference(b_set) # Elements in a_set but not in b_set\n",
    "difference1b = b_set.difference(a_set) # Elements in b_set but not in a_set\n",
    "print(difference1a)\n",
    "print(difference1b)"
   ]
  },
  {
   "cell_type": "code",
   "execution_count": 17,
   "id": "be8b9271",
   "metadata": {},
   "outputs": [
    {
     "name": "stdout",
     "output_type": "stream",
     "text": [
      "{'b', 1}\n",
      "{'d', 4}\n"
     ]
    }
   ],
   "source": [
    "# The subtraction operator can be used to achieve the same result.\n",
    "difference2a = a_set - b_set\n",
    "difference2b = b_set - a_set\n",
    "print(difference2a)\n",
    "print(difference2b)"
   ]
  },
  {
   "cell_type": "code",
   "execution_count": 18,
   "id": "b6d34c78",
   "metadata": {},
   "outputs": [
    {
     "data": {
      "text/plain": [
       "{1, 4, 'b', 'd'}"
      ]
     },
     "execution_count": 18,
     "metadata": {},
     "output_type": "execute_result"
    }
   ],
   "source": [
    "#  The ^ operator finds both difference (a_set - b_set) and (b_set - a_set).\n",
    "a_set = {1, 2, 3, 'a', 'b', 'c'}\n",
    "b_set = {2, 3, 4, 'a', 'c', 'd'}\n",
    "difference3 = a_set ^ b_set\n",
    "difference3"
   ]
  },
  {
   "cell_type": "code",
   "execution_count": 19,
   "id": "687277b1",
   "metadata": {},
   "outputs": [
    {
     "name": "stdout",
     "output_type": "stream",
     "text": [
      "False\n",
      "False\n",
      "False\n",
      "False\n"
     ]
    }
   ],
   "source": [
    "# Set comparison, differnt sets.\n",
    "a_set = {1, 2, 3, 'a', 'b', 'c'}\n",
    "b_set = {2, 3, 4, 'a', 'c', 'd'}\n",
    "A_grt_B = a_set > b_set\n",
    "B_grt_A = b_set > a_set\n",
    "A_eqa_B = a_set == b_set\n",
    "A_is_B = a_set is b_set\n",
    "print(A_grt_B)\n",
    "print(B_grt_A)\n",
    "print(A_eqa_B)\n",
    "print(A_is_B)"
   ]
  },
  {
   "cell_type": "code",
   "execution_count": 20,
   "id": "daf51e5a",
   "metadata": {},
   "outputs": [
    {
     "name": "stdout",
     "output_type": "stream",
     "text": [
      "False\n",
      "False\n",
      "True\n",
      "False\n"
     ]
    }
   ],
   "source": [
    "# Set comparison, similar sets.\n",
    "a_set = {1, 2, 3, 'a', 'b', 'c'}\n",
    "b_set = {3, 2, 1, 'c', 'b', 'a'}\n",
    "A_grt_B = a_set > b_set\n",
    "B_grt_A = b_set > a_set\n",
    "A_eqa_B = a_set == b_set\n",
    "A_is_B = a_set is b_set\n",
    "print(A_grt_B)\n",
    "print(B_grt_A)\n",
    "print(A_eqa_B)\n",
    "print(A_is_B)"
   ]
  },
  {
   "cell_type": "code",
   "execution_count": 21,
   "id": "96cd48bd",
   "metadata": {},
   "outputs": [
    {
     "name": "stdout",
     "output_type": "stream",
     "text": [
      "True\n",
      "False\n",
      "False\n",
      "False\n"
     ]
    }
   ],
   "source": [
    "# Set comparison, diffrent lengths.\n",
    "a_set = {1, 2, 3, 'a', 'b', 'c'}\n",
    "b_set = {3, 2, 1, 'c', 'b'}\n",
    "A_grt_B = a_set > b_set\n",
    "B_grt_A = b_set > a_set\n",
    "A_eqa_B = a_set == b_set\n",
    "A_is_B = a_set is b_set\n",
    "print(A_grt_B)\n",
    "print(B_grt_A)\n",
    "print(A_eqa_B)\n",
    "print(A_is_B)"
   ]
  },
  {
   "cell_type": "code",
   "execution_count": 22,
   "id": "1552116d",
   "metadata": {},
   "outputs": [
    {
     "name": "stdout",
     "output_type": "stream",
     "text": [
      "False\n",
      "False\n",
      "True\n",
      "True\n"
     ]
    }
   ],
   "source": [
    "# The 'is' comparison is only True when they are stored in the same memory position.\n",
    "a_set = b_set = {1, 2, 3, 'a', 'b', 'c'}\n",
    "A_grt_B = a_set > b_set\n",
    "B_grt_A = b_set > a_set\n",
    "A_eqa_B = a_set == b_set\n",
    "A_is_B = a_set is b_set\n",
    "print(A_grt_B)\n",
    "print(B_grt_A)\n",
    "print(A_eqa_B)\n",
    "print(A_is_B)"
   ]
  },
  {
   "cell_type": "code",
   "execution_count": 23,
   "id": "8e67f37b",
   "metadata": {},
   "outputs": [
    {
     "name": "stdout",
     "output_type": "stream",
     "text": [
      "{1, 2, 3, 'c', 4, 'b', 'd', 'a'}\n"
     ]
    }
   ],
   "source": [
    "# The union() method combines all the elements in both sets.\n",
    "a_set = {1, 2, 3, 'a', 'b', 'c'}\n",
    "b_set = {2, 3, 4, 'a', 'c', 'd'}\n",
    "A_union_B = a_set.union(b_set)\n",
    "print(A_union_B)"
   ]
  },
  {
   "cell_type": "code",
   "execution_count": 24,
   "id": "782e55cf",
   "metadata": {},
   "outputs": [
    {
     "name": "stdout",
     "output_type": "stream",
     "text": [
      "True\n"
     ]
    }
   ],
   "source": [
    "# The issuperset() method is used to check if a set is a superset of another set.\n",
    "a_set = {1, 2, 3, 'a', 'b', 'c'}\n",
    "b_set = {2, 1, 'c', 'b'}\n",
    "A_superset_B = a_set.issuperset(b_set)\n",
    "print(A_superset_B)"
   ]
  },
  {
   "cell_type": "code",
   "execution_count": 25,
   "id": "10f3435d",
   "metadata": {},
   "outputs": [
    {
     "name": "stdout",
     "output_type": "stream",
     "text": [
      "True\n"
     ]
    }
   ],
   "source": [
    "# The issubset() method is used to check if a set is a subset of another set.\n",
    "a_set = {1, 2, 3, 'a', 'b', 'c'}\n",
    "b_set = {2, 1, 'c', 'b'}\n",
    "B_issubset_A = b_set.issubset(a_set)\n",
    "print(B_issubset_A)"
   ]
  },
  {
   "cell_type": "code",
   "execution_count": 26,
   "id": "e497b5a2",
   "metadata": {},
   "outputs": [
    {
     "name": "stdout",
     "output_type": "stream",
     "text": [
      "True\n",
      "False\n",
      "True\n",
      "False\n"
     ]
    }
   ],
   "source": [
    "# More examples.\n",
    "a_set = {1, 2, 3, 'a', 'b', 'c'}\n",
    "b_set = {2, 3, 4, 'a', 'c', 'd'}\n",
    "print(set([1, 'b']).issubset(a_set))\n",
    "print(set([1, 'b']).issubset(b_set))\n",
    "print(a_set.issuperset([1, 'b']))\n",
    "print(b_set.issuperset([1, 'b']))"
   ]
  },
  {
   "cell_type": "code",
   "execution_count": 27,
   "id": "68f2c2e0",
   "metadata": {},
   "outputs": [
    {
     "name": "stdout",
     "output_type": "stream",
     "text": [
      "The minimum number of a_list is: 1\n",
      "The minimum number of a_set is: 1\n",
      "The maximum number of a_list is: 5\n",
      "The maximum number of a_set is: 5\n",
      "The sum of a_list is: 30\n",
      "The sum of a_set is: 15\n"
     ]
    }
   ],
   "source": [
    "# Comparison of min(), max() and sum() methods for a list and set.\n",
    "a_list = [1,1,2,2,3,3,4,4,5,5] # A list\n",
    "a_set = {1,1,2,2,3,3,4,4,5,5} # A set\n",
    "print('The minimum number of a_list is:', min(a_list))\n",
    "print('The minimum number of a_set is:', min(a_set))\n",
    "print('The maximum number of a_list is:', max(a_list))\n",
    "print('The maximum number of a_set is:', max(a_set))\n",
    "print('The sum of a_list is:', sum(a_list))\n",
    "print('The sum of a_set is:', sum(a_set))"
   ]
  },
  {
   "cell_type": "code",
   "execution_count": 28,
   "id": "6c4bf93b",
   "metadata": {},
   "outputs": [
    {
     "ename": "TypeError",
     "evalue": "'set' object is not subscriptable",
     "output_type": "error",
     "traceback": [
      "\u001b[1;31m---------------------------------------------------------------------------\u001b[0m",
      "\u001b[1;31mTypeError\u001b[0m                                 Traceback (most recent call last)",
      "Cell \u001b[1;32mIn[28], line 3\u001b[0m\n\u001b[0;32m      1\u001b[0m \u001b[38;5;66;03m# The index() method does not work in set since the set is an unordered collection.\u001b[39;00m\n\u001b[0;32m      2\u001b[0m a_set \u001b[38;5;241m=\u001b[39m {\u001b[38;5;241m1\u001b[39m, \u001b[38;5;241m2\u001b[39m, \u001b[38;5;241m3\u001b[39m, \u001b[38;5;124m'\u001b[39m\u001b[38;5;124ma\u001b[39m\u001b[38;5;124m'\u001b[39m, \u001b[38;5;124m'\u001b[39m\u001b[38;5;124mb\u001b[39m\u001b[38;5;124m'\u001b[39m, \u001b[38;5;124m'\u001b[39m\u001b[38;5;124mc\u001b[39m\u001b[38;5;124m'\u001b[39m}\n\u001b[1;32m----> 3\u001b[0m \u001b[38;5;28mprint\u001b[39m(a_set[\u001b[38;5;241m2\u001b[39m])\n",
      "\u001b[1;31mTypeError\u001b[0m: 'set' object is not subscriptable"
     ]
    }
   ],
   "source": [
    "# The index() method does not work in set since the set is an unordered collection.\n",
    "a_set = {1, 2, 3, 'a', 'b', 'c'}\n",
    "print(a_set[2])"
   ]
  },
  {
   "cell_type": "code",
   "execution_count": 29,
   "id": "3f4219fe",
   "metadata": {},
   "outputs": [
    {
     "name": "stdout",
     "output_type": "stream",
     "text": [
      "{1, 2, 3, 'c', 'b', 'a'}\n",
      "{1, 2, 3, 'c', 'b', 'a'}\n"
     ]
    }
   ],
   "source": [
    "# The copy() method returns a shallow copy of the original set.\n",
    "a_set = {1, 2, 3, 'a', 'b', 'c'}\n",
    "print(a_set)\n",
    "b_set = a_set.copy()\n",
    "print(b_set)"
   ]
  },
  {
   "cell_type": "code",
   "execution_count": 30,
   "id": "8ec1e1a2",
   "metadata": {},
   "outputs": [
    {
     "name": "stdout",
     "output_type": "stream",
     "text": [
      "{1, 2, 3, 'c', 'b', 'a'}\n",
      "{1, 2, 3, 'c', 4, 'b', 'a'}\n"
     ]
    }
   ],
   "source": [
    "# Check if a_set changes when b_set is modified\n",
    "b_set.add(4)\n",
    "print(a_set)\n",
    "print(b_set)"
   ]
  },
  {
   "cell_type": "code",
   "execution_count": 31,
   "id": "1eaa4bc7",
   "metadata": {},
   "outputs": [
    {
     "name": "stdout",
     "output_type": "stream",
     "text": [
      "{1, 2, 3, 'c', 'b', 'a'}\n",
      "set()\n"
     ]
    }
   ],
   "source": [
    "# The clear() method removes all elements in the set returing an empty set.\n",
    "a_set = {1, 2, 3, 'a', 'b', 'c'}\n",
    "print(a_set)\n",
    "a_set.clear()\n",
    "print(a_set)"
   ]
  },
  {
   "cell_type": "code",
   "execution_count": 32,
   "id": "667b590d",
   "metadata": {},
   "outputs": [
    {
     "name": "stdout",
     "output_type": "stream",
     "text": [
      "{1, 2, 3, 'c', 'b', 'a'}\n",
      "{2, 3, 'c', 'b', 'a'}\n"
     ]
    }
   ],
   "source": [
    "# The pop() method removes and returns an arbitrary set element.\n",
    "a_set = {1, 2, 3, 'a', 'b', 'c'}\n",
    "print(a_set)\n",
    "a_set.pop()\n",
    "print(a_set)"
   ]
  }
 ],
 "metadata": {
  "kernelspec": {
   "display_name": "Python 3 (ipykernel)",
   "language": "python",
   "name": "python3"
  },
  "language_info": {
   "codemirror_mode": {
    "name": "ipython",
    "version": 3
   },
   "file_extension": ".py",
   "mimetype": "text/x-python",
   "name": "python",
   "nbconvert_exporter": "python",
   "pygments_lexer": "ipython3",
   "version": "3.11.4"
  }
 },
 "nbformat": 4,
 "nbformat_minor": 5
}
