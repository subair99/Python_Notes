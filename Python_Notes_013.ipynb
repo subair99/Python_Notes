{
 "cells": [
  {
   "cell_type": "markdown",
   "id": "e4128187",
   "metadata": {},
   "source": [
    "## Python_Notes_013"
   ]
  },
  {
   "cell_type": "markdown",
   "id": "4949b5d9",
   "metadata": {},
   "source": [
    "### Files"
   ]
  },
  {
   "cell_type": "code",
   "execution_count": 1,
   "id": "d7578ebb",
   "metadata": {},
   "outputs": [
    {
     "name": "stdout",
     "output_type": "stream",
     "text": [
      "Python was created by Guido van Rossum, and first released on February 20, 1991. \n",
      "The name was derived from an old BBC television comedy called Monty Pythonâ€™s Flying Circus.\n",
      "One of the amazing features of Python is the fact that it is actually one personâ€™s work. \n",
      "New languages are usually developed and published by large companies employing lots of professionals.\n",
      "Guido van Rossum did not develop and evolve all the Python components himself. \n",
      "The speed with which Python has spread is a result of the work of thousands programmers, testers and users.\n",
      "Python is maintained by the Python Software Foundation, a non-profit membership organization and a community.\n",
      "They are devoted to developing, improving, expanding, and popularizing the Python language.\n"
     ]
    }
   ],
   "source": [
    "# Reading files\n",
    "f = open('the_file.txt', 'r')\n",
    "file_content = f.read()\n",
    "print(file_content)"
   ]
  },
  {
   "cell_type": "code",
   "execution_count": 2,
   "id": "e3926293",
   "metadata": {},
   "outputs": [
    {
     "name": "stdout",
     "output_type": "stream",
     "text": [
      "True\n"
     ]
    }
   ],
   "source": [
    "# Check if file is open.\n",
    "print(f.readable())"
   ]
  },
  {
   "cell_type": "code",
   "execution_count": 3,
   "id": "3e10ec89",
   "metadata": {},
   "outputs": [],
   "source": [
    "# Close the file.\n",
    "f.close()"
   ]
  },
  {
   "cell_type": "code",
   "execution_count": 4,
   "id": "0d40f752",
   "metadata": {},
   "outputs": [
    {
     "name": "stdout",
     "output_type": "stream",
     "text": [
      "True\n"
     ]
    }
   ],
   "source": [
    "# Check if file is closed.\n",
    "print(f.closed)"
   ]
  },
  {
   "cell_type": "code",
   "execution_count": 5,
   "id": "81797bef",
   "metadata": {},
   "outputs": [
    {
     "name": "stdout",
     "output_type": "stream",
     "text": [
      "Python was created by Guido van Rossum, and first released on February 20, 1991. \n",
      "The name was derived from an old BBC television comedy called Monty Pythonâ€™s Flying Circus.\n",
      "One of the amazing features of Python is the fact that it is actually one personâ€™s work. \n",
      "New languages are usually developed and published by large companies employing lots of professionals.\n",
      "Guido van Rossum did not develop and evolve all the Python components himself. \n",
      "The speed with which Python has spread is a result of the work of thousands programmers, testers and users.\n",
      "Python is maintained by the Python Software Foundation, a non-profit membership organization and a community.\n",
      "They are devoted to developing, improving, expanding, and popularizing the Python language.\n"
     ]
    }
   ],
   "source": [
    "# This is a better way to read files.\n",
    "with open('the_file.txt', 'r') as f:\n",
    "    print(f.read()) # The advantage is that the fine is automatically closed after use."
   ]
  },
  {
   "cell_type": "code",
   "execution_count": 6,
   "id": "030dcd69",
   "metadata": {},
   "outputs": [
    {
     "name": "stdout",
     "output_type": "stream",
     "text": [
      "True\n"
     ]
    }
   ],
   "source": [
    "# Check if file is closed.\n",
    "print(f.closed)"
   ]
  },
  {
   "cell_type": "code",
   "execution_count": 7,
   "id": "f719eb49",
   "metadata": {},
   "outputs": [
    {
     "name": "stdout",
     "output_type": "stream",
     "text": [
      "Python was created by Guido van Rossum, and first released on February 20, 1991. \n",
      "\n",
      "The name was derived from an old BBC television comedy called Monty Pythonâ€™s Flying Circus.\n",
      "\n",
      "One of the amazing features of Python is the fact that it is actually one personâ€™s work. \n",
      "\n"
     ]
    }
   ],
   "source": [
    "# Reading files (One line at a time).\n",
    "with open('the_file.txt', 'r') as f:\n",
    "    line_1 = f.readline()\n",
    "    line_2 = f.readline()\n",
    "    line_3 = f.readline()\n",
    "    print (line_1)\n",
    "    print (line_2)\n",
    "    print (line_3)"
   ]
  },
  {
   "cell_type": "code",
   "execution_count": 8,
   "id": "f3300aa5",
   "metadata": {},
   "outputs": [
    {
     "name": "stdout",
     "output_type": "stream",
     "text": [
      "['Python was created by Guido van Rossum, and first released on February 20, 1991. \\n', 'The name was derived from an old BBC television comedy called Monty Pythonâ€™s Flying Circus.\\n', 'One of the amazing features of Python is the fact that it is actually one personâ€™s work. \\n', 'New languages are usually developed and published by large companies employing lots of professionals.\\n', 'Guido van Rossum did not develop and evolve all the Python components himself. \\n', 'The speed with which Python has spread is a result of the work of thousands programmers, testers and users.\\n', 'Python is maintained by the Python Software Foundation, a non-profit membership organization and a community.\\n', 'They are devoted to developing, improving, expanding, and popularizing the Python language.']\n"
     ]
    }
   ],
   "source": [
    "# Reading files with readlines().\n",
    "with open('the_file.txt', 'r') as f:\n",
    "    print(f.readlines()) # Same result as above."
   ]
  },
  {
   "cell_type": "code",
   "execution_count": 9,
   "id": "1ed429fb",
   "metadata": {},
   "outputs": [
    {
     "name": "stdout",
     "output_type": "stream",
     "text": [
      "Python was created by Guido van Rossum, and first released on February 20, 1991. \n",
      "The name was derived\n"
     ]
    }
   ],
   "source": [
    "# Specify 102 characters.\n",
    "with open('the_file.txt', 'r') as f:\n",
    "    print(f.read(102))"
   ]
  },
  {
   "cell_type": "code",
   "execution_count": 10,
   "id": "cb3c1eda",
   "metadata": {},
   "outputs": [
    {
     "name": "stdout",
     "output_type": "stream",
     "text": [
      "Line 1: Python was created by Guido van Rossum, and first released on February 20, 1991. \n",
      "\n",
      "Line 2: The name was derived from an old BBC television comedy called Monty Pythonâ€™s Flying Circus.\n",
      "\n",
      "Line 3: One of the amazing features of Python is the fact that it is actually one personâ€™s work. \n",
      "\n",
      "Line 4: New languages are usually developed and published by large companies employing lots of professionals.\n",
      "\n",
      "Line 5: Guido van Rossum did not develop and evolve all the Python components himself. \n",
      "\n",
      "Line 6: The speed with which Python has spread is a result of the work of thousands programmers, testers and users.\n",
      "\n",
      "Line 7: Python is maintained by the Python Software Foundation, a non-profit membership organization and a community.\n",
      "\n",
      "Line 8: They are devoted to developing, improving, expanding, and popularizing the Python language.\n"
     ]
    }
   ],
   "source": [
    "# Use loop.\n",
    "with open('the_file.txt', 'r') as f:\n",
    "    line_num = 1\n",
    "    for line in f:\n",
    "        print(f'Line {line_num}: {line}')\n",
    "        line_num += 1"
   ]
  },
  {
   "cell_type": "code",
   "execution_count": 11,
   "id": "26d2df49",
   "metadata": {},
   "outputs": [
    {
     "name": "stdout",
     "output_type": "stream",
     "text": [
      "The size of the file is: 759.\n"
     ]
    }
   ],
   "source": [
    "# Get size of the file.\n",
    "with open('the_file.txt', 'r') as f:\n",
    "    string = \"\"\n",
    "    for line in f:\n",
    "        string += line\n",
    "    print(f'The size of the file is: {len(string)}.')"
   ]
  },
  {
   "cell_type": "code",
   "execution_count": 12,
   "id": "1ded16ff",
   "metadata": {},
   "outputs": [
    {
     "name": "stdout",
     "output_type": "stream",
     "text": [
      "The number of lines in the file is: 8.\n"
     ]
    }
   ],
   "source": [
    "# Get number of lines in the file.\n",
    "with open('the_file.txt', 'r') as f:\n",
    "    count = 0\n",
    "    for line in f:\n",
    "        count += 1\n",
    "    print(f'The number of lines in the file is: {count}.')"
   ]
  },
  {
   "cell_type": "code",
   "execution_count": 13,
   "id": "01cb66b8",
   "metadata": {},
   "outputs": [],
   "source": [
    "# Writing to files.\n",
    "with open('write_file.txt', 'w') as f: # If file does nor exist, it will be created else formatted.\n",
    "    f.write(\"Python has a real chance to hit first place in the TIOBE Index.\\n\")\n",
    "    f.write(\"It can become the most searched programming language in the world.\\n\")\n",
    "    f.write(\"The gap between the current number one and Python is only 0.7%.\\n\")\n",
    "    f.write(\"The other evidence of Python’s popularity is the results of the StackOverflow survey.\\n\")\n",
    "    f.write(\"66% of developers mentioned that they enjoyed working with the language.\\n\")\n",
    "    f.write(\"30% of engineers who have never before worked with Python like the language.\\n\")\n",
    "    f.write(\"Similar results are shown by Coding Game Developers Survey 2020.\\n\")\n",
    "    f.write(\"36% of respondents marked Python as their most favorite programming language.\\n\")"
   ]
  },
  {
   "cell_type": "code",
   "execution_count": 14,
   "id": "89c392e5",
   "metadata": {},
   "outputs": [
    {
     "name": "stdout",
     "output_type": "stream",
     "text": [
      "Python has a real chance to hit first place in the TIOBE Index.\n",
      "It can become the most searched programming language in the world.\n",
      "The gap between the current number one and Python is only 0.7%.\n",
      "The other evidence of Python’s popularity is the results of the StackOverflow survey.\n",
      "66% of developers mentioned that they enjoyed working with the language.\n",
      "30% of engineers who have never before worked with Python like the language.\n",
      "Similar results are shown by Coding Game Developers Survey 2020.\n",
      "36% of respondents marked Python as their most favorite programming language.\n",
      "\n"
     ]
    }
   ],
   "source": [
    "# Read the written file.\n",
    "with open('write_file.txt', 'r') as f:\n",
    "    print(f.read())"
   ]
  },
  {
   "cell_type": "code",
   "execution_count": 15,
   "id": "0a612837",
   "metadata": {},
   "outputs": [
    {
     "name": "stdout",
     "output_type": "stream",
     "text": [
      "The gap between the current number one and Python is only 0.7%.\n",
      "\n",
      "The other evidence of Python’s popularity is the results of the StackOverflow survey.\n",
      "\n",
      "66% of developers mentioned that they enjoyed working with the language.\n",
      "\n",
      "30% of engineers who have never before worked with Python like the language.\n",
      "\n"
     ]
    }
   ],
   "source": [
    "# Read the written file between lines 3 and 6.\n",
    "import itertools\n",
    "with open('write_file.txt', 'r') as f:\n",
    "    for line in itertools.islice(f, 2, 6):\n",
    "        print(line)"
   ]
  },
  {
   "cell_type": "code",
   "execution_count": 16,
   "id": "6c448b46",
   "metadata": {},
   "outputs": [],
   "source": [
    "# Append to 'write_file.txt'.\n",
    "with open('write_file.txt', 'a') as f:\n",
    "    f.write(\"Although it is hard to count the exact number of Python developers operating in 2022.\\n\")\n",
    "    f.write(\"According to SlashData, in 2018, there were 8.2 million Python developers in the world.\\n\")\n",
    "    f.write(\"In the next three years, the infusion of 6 million new developers is expected.\\n\")"
   ]
  },
  {
   "cell_type": "code",
   "execution_count": 17,
   "id": "7461162e",
   "metadata": {},
   "outputs": [
    {
     "name": "stdout",
     "output_type": "stream",
     "text": [
      "Python has a real chance to hit first place in the TIOBE Index.\n",
      "It can become the most searched programming language in the world.\n",
      "The gap between the current number one and Python is only 0.7%.\n",
      "The other evidence of Python’s popularity is the results of the StackOverflow survey.\n",
      "66% of developers mentioned that they enjoyed working with the language.\n",
      "30% of engineers who have never before worked with Python like the language.\n",
      "Similar results are shown by Coding Game Developers Survey 2020.\n",
      "36% of respondents marked Python as their most favorite programming language.\n",
      "Although it is hard to count the exact number of Python developers operating in 2022.\n",
      "According to SlashData, in 2018, there were 8.2 million Python developers in the world.\n",
      "In the next three years, the infusion of 6 million new developers is expected.\n",
      "\n"
     ]
    }
   ],
   "source": [
    "# Read the appended file.\n",
    "with open('write_file.txt', 'r') as f:\n",
    "    print(f.read())"
   ]
  },
  {
   "cell_type": "code",
   "execution_count": 18,
   "id": "9aa0d8ed",
   "metadata": {},
   "outputs": [],
   "source": [
    "# Copy the write_file.txt to write_file2.txt.\n",
    "with open('write_file.txt', 'r') as f_read:\n",
    "    with open('write_file2.txt', 'w') as f_write:\n",
    "        for line in f_read:\n",
    "            f_write.write(line)"
   ]
  },
  {
   "cell_type": "code",
   "execution_count": 19,
   "id": "21d36667",
   "metadata": {},
   "outputs": [
    {
     "data": {
      "text/plain": [
       "'C:\\\\1-Docs\\\\ML\\\\Learn\\\\Python_Notes\\\\Notebooks\\\\write_file.txt'"
      ]
     },
     "execution_count": 19,
     "metadata": {},
     "output_type": "execute_result"
    }
   ],
   "source": [
    "# Get location of 'write_file.txt' file.\n",
    "import os\n",
    "os.path.abspath('write_file.txt')"
   ]
  },
  {
   "cell_type": "code",
   "execution_count": 20,
   "id": "860ff4b1",
   "metadata": {},
   "outputs": [
    {
     "data": {
      "text/plain": [
       "'C:\\\\1-Docs\\\\ML\\\\Learn\\\\Python_Notes\\\\Notebooks\\\\write_file3.txt'"
      ]
     },
     "execution_count": 20,
     "metadata": {},
     "output_type": "execute_result"
    }
   ],
   "source": [
    "# Copy the 'write_file.txt' to 'write_file3.txt' using shutil.\n",
    "import shutil\n",
    "shutil.copyfile('write_file.txt', 'C:\\\\1-Docs\\\\ML\\\\Learn\\\\Python_Notes\\\\Notebooks\\\\write_file3.txt')"
   ]
  },
  {
   "cell_type": "code",
   "execution_count": 21,
   "id": "c1194c48",
   "metadata": {},
   "outputs": [
    {
     "data": {
      "text/plain": [
       "True"
      ]
     },
     "execution_count": 21,
     "metadata": {},
     "output_type": "execute_result"
    }
   ],
   "source": [
    "# Check if 'write_file3.txt' file exists.\n",
    "import os\n",
    "os.path.exists('write_file3.txt')"
   ]
  },
  {
   "cell_type": "code",
   "execution_count": 22,
   "id": "89cb0dc9",
   "metadata": {},
   "outputs": [
    {
     "data": {
      "text/plain": [
       "'write_file4.txt'"
      ]
     },
     "execution_count": 22,
     "metadata": {},
     "output_type": "execute_result"
    }
   ],
   "source": [
    "# If new file is in the same folder.\n",
    "import shutil\n",
    "shutil.copyfile('write_file.txt', 'write_file4.txt')"
   ]
  },
  {
   "cell_type": "code",
   "execution_count": 23,
   "id": "b9b8398c",
   "metadata": {},
   "outputs": [
    {
     "data": {
      "text/plain": [
       "True"
      ]
     },
     "execution_count": 23,
     "metadata": {},
     "output_type": "execute_result"
    }
   ],
   "source": [
    "# Check if 'write_file4.txt' file exists.\n",
    "import os\n",
    "os.path.exists('write_file4.txt')"
   ]
  },
  {
   "cell_type": "code",
   "execution_count": 24,
   "id": "6bbb4690",
   "metadata": {},
   "outputs": [
    {
     "name": "stdout",
     "output_type": "stream",
     "text": [
      "write_file2.txt is a copy of write_file.txt.\n"
     ]
    }
   ],
   "source": [
    "# Compare the two files with cmp().\n",
    "import filecmp\n",
    "\n",
    "file1 = 'write_file.txt'\n",
    "file2 = 'write_file2.txt'\n",
    "\n",
    "def compare_files(f1, f2):\n",
    "    compare = filecmp.cmp(f1, f2)\n",
    "   \n",
    "    if compare == True:\n",
    "        print('write_file2.txt is a copy of write_file.txt.')\n",
    "    else:\n",
    "        print('write_file2.txt is not a copy of write_file.txt.')\n",
    "        \n",
    "compare_files(file1, file2)"
   ]
  },
  {
   "cell_type": "code",
   "execution_count": 25,
   "id": "8f65ec9b",
   "metadata": {},
   "outputs": [
    {
     "name": "stdout",
     "output_type": "stream",
     "text": [
      "Enter the student name: James\n",
      "Enter the student name: Mary\n",
      "Enter the student name: Mike\n"
     ]
    }
   ],
   "source": [
    "# Use input to Write student names into a file.\n",
    "with open('student_names.txt', 'w') as f_write:\n",
    "    for item in range(3):\n",
    "        name = input('Enter the student name: ')\n",
    "        f_write.write(name)\n",
    "        f_write.write('\\n') # To write the next name to a new line."
   ]
  },
  {
   "cell_type": "code",
   "execution_count": 26,
   "id": "3395b060",
   "metadata": {},
   "outputs": [
    {
     "name": "stdout",
     "output_type": "stream",
     "text": [
      "James\n",
      "Mary\n",
      "Mike\n",
      "\n"
     ]
    }
   ],
   "source": [
    "# Publish the names in 'student_names.txt' file.\n",
    "with open('student_names.txt', 'r') as f_read:\n",
    "    print(f_read.read())"
   ]
  },
  {
   "cell_type": "code",
   "execution_count": 27,
   "id": "5ec15527",
   "metadata": {},
   "outputs": [
    {
     "data": {
      "text/plain": [
       "True"
      ]
     },
     "execution_count": 27,
     "metadata": {},
     "output_type": "execute_result"
    }
   ],
   "source": [
    "# Confirm if 'student_names.txt' is a file.\n",
    "import os\n",
    "os.path.isfile('student_names.txt')"
   ]
  },
  {
   "cell_type": "code",
   "execution_count": 28,
   "id": "27ce7ad2",
   "metadata": {},
   "outputs": [
    {
     "data": {
      "text/plain": [
       "False"
      ]
     },
     "execution_count": 28,
     "metadata": {},
     "output_type": "execute_result"
    }
   ],
   "source": [
    "# Check if 'student_names.txt' file is empty.\n",
    "import os\n",
    "os.stat('student_names.txt').st_size == 0"
   ]
  },
  {
   "cell_type": "code",
   "execution_count": 29,
   "id": "6597dfc4",
   "metadata": {},
   "outputs": [],
   "source": [
    "# Rename 'student_names.txt' file to 'names_of_students.txt'.\n",
    "import os\n",
    "os.rename('student_names.txt', 'names_of_students.txt')"
   ]
  },
  {
   "cell_type": "code",
   "execution_count": 30,
   "id": "695189e9",
   "metadata": {},
   "outputs": [
    {
     "data": {
      "text/plain": [
       "False"
      ]
     },
     "execution_count": 30,
     "metadata": {},
     "output_type": "execute_result"
    }
   ],
   "source": [
    "# Check if 'student_names.txt' file exists.\n",
    "import os\n",
    "os.path.exists('student_names.txt')"
   ]
  },
  {
   "cell_type": "code",
   "execution_count": 31,
   "id": "e9c2366e",
   "metadata": {},
   "outputs": [
    {
     "data": {
      "text/plain": [
       "True"
      ]
     },
     "execution_count": 31,
     "metadata": {},
     "output_type": "execute_result"
    }
   ],
   "source": [
    "# Check if 'names_of_students.txt' file exists.\n",
    "import os\n",
    "os.path.exists('names_of_students.txt')"
   ]
  },
  {
   "cell_type": "code",
   "execution_count": 32,
   "id": "50ea6936",
   "metadata": {},
   "outputs": [],
   "source": [
    "# Delete 'names_of_students.txt' file.\n",
    "import os\n",
    "os.remove('names_of_students.txt')"
   ]
  },
  {
   "cell_type": "code",
   "execution_count": 33,
   "id": "807ea9c7",
   "metadata": {},
   "outputs": [
    {
     "data": {
      "text/plain": [
       "False"
      ]
     },
     "execution_count": 33,
     "metadata": {},
     "output_type": "execute_result"
    }
   ],
   "source": [
    "# Check for 'names_of_students.txt' file again.\n",
    "import os\n",
    "os.path.exists('names_of_students.txt')"
   ]
  }
 ],
 "metadata": {
  "kernelspec": {
   "display_name": "Python 3 (ipykernel)",
   "language": "python",
   "name": "python3"
  },
  "language_info": {
   "codemirror_mode": {
    "name": "ipython",
    "version": 3
   },
   "file_extension": ".py",
   "mimetype": "text/x-python",
   "name": "python",
   "nbconvert_exporter": "python",
   "pygments_lexer": "ipython3",
   "version": "3.11.4"
  }
 },
 "nbformat": 4,
 "nbformat_minor": 5
}
