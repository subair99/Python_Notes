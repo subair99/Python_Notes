{
 "cells": [
  {
   "cell_type": "markdown",
   "id": "e4128187",
   "metadata": {},
   "source": [
    "# Python_Notes_009"
   ]
  },
  {
   "cell_type": "markdown",
   "id": "4949b5d9",
   "metadata": {},
   "source": [
    "## Conditionals"
   ]
  },
  {
   "cell_type": "code",
   "execution_count": 1,
   "id": "d7578ebb",
   "metadata": {},
   "outputs": [
    {
     "data": {
      "text/plain": [
       "'Greater than 5'"
      ]
     },
     "execution_count": 1,
     "metadata": {},
     "output_type": "execute_result"
    }
   ],
   "source": [
    "# Conditional expression is used for inline conditional expressions. It is best used in simple, concise operations.\n",
    "n = 7\n",
    "\"Greater than 5\" if n > 5 else \"Smaller than or equal to 5\""
   ]
  },
  {
   "cell_type": "code",
   "execution_count": 2,
   "id": "4c7635a0",
   "metadata": {},
   "outputs": [
    {
     "data": {
      "text/plain": [
       "'Good day'"
      ]
     },
     "execution_count": 2,
     "metadata": {},
     "output_type": "execute_result"
    }
   ],
   "source": [
    "# Conditional expression can also be nested.\n",
    "n = 7\n",
    "\"Hello\" if n > 11 else \"Goodbye\" if n > 7 else \"Good day\""
   ]
  },
  {
   "cell_type": "markdown",
   "id": "d36bf432",
   "metadata": {},
   "source": [
    "### Comparison operators\n",
    "Comparison operations compare some value or operand and produce a Boolean (True or False).\n",
    "* Less than (**<**)\n",
    "* Less than or equal to (**<=**)\n",
    "* Greater than (**>**)\n",
    "* Greater than or equal to (**>=**)\n",
    "* Equal to (**==**)\n",
    "* Not equal to (**!=**)"
   ]
  },
  {
   "cell_type": "code",
   "execution_count": 3,
   "id": "5a9db1af",
   "metadata": {},
   "outputs": [
    {
     "name": "stdout",
     "output_type": "stream",
     "text": [
      "True\n",
      "False\n"
     ]
    }
   ],
   "source": [
    "# Condition less than.\n",
    "pi = 3.1416\n",
    "print(pi < 4)\n",
    "print(pi < 3)"
   ]
  },
  {
   "cell_type": "code",
   "execution_count": 4,
   "id": "32e9b0dc",
   "metadata": {},
   "outputs": [
    {
     "name": "stdout",
     "output_type": "stream",
     "text": [
      "True\n",
      "False\n",
      "True\n"
     ]
    }
   ],
   "source": [
    "# Condition less than or equal to.\n",
    "print(pi <= 4)\n",
    "print(pi <= 3)\n",
    "print(pi <= 3.1416)"
   ]
  },
  {
   "cell_type": "code",
   "execution_count": 5,
   "id": "2a5cca8c",
   "metadata": {},
   "outputs": [
    {
     "name": "stdout",
     "output_type": "stream",
     "text": [
      "False\n",
      "True\n"
     ]
    }
   ],
   "source": [
    "# Condition greater than.\n",
    "pi = 3.1416\n",
    "print(pi > 4)\n",
    "print(pi > 3)"
   ]
  },
  {
   "cell_type": "code",
   "execution_count": 6,
   "id": "b1abfc0c",
   "metadata": {},
   "outputs": [
    {
     "name": "stdout",
     "output_type": "stream",
     "text": [
      "True\n",
      "False\n",
      "True\n"
     ]
    }
   ],
   "source": [
    "# Condition less greater or equal to.\n",
    "print(pi <= 4)\n",
    "print(pi <= 3)\n",
    "print(pi <= 3.1416)"
   ]
  },
  {
   "cell_type": "code",
   "execution_count": 7,
   "id": "da0d1c58",
   "metadata": {},
   "outputs": [
    {
     "name": "stdout",
     "output_type": "stream",
     "text": [
      "False\n",
      "False\n",
      "True\n"
     ]
    }
   ],
   "source": [
    "# Condition equal to.\n",
    "print(pi == 4)\n",
    "print(pi == 3)\n",
    "print(pi == 3.1416)"
   ]
  },
  {
   "cell_type": "code",
   "execution_count": 8,
   "id": "5bcacdf4",
   "metadata": {},
   "outputs": [
    {
     "name": "stdout",
     "output_type": "stream",
     "text": [
      "False\n",
      "True\n",
      "True\n",
      "False\n",
      "True\n",
      "False\n",
      "True\n",
      "False\n",
      "False\n"
     ]
    }
   ],
   "source": [
    "# Compare strings.\n",
    "print('Hello' == 'Python')\n",
    "print('Hello' != 'Python')\n",
    "print('Hello' <= 'Python')\n",
    "print('Hello' >= 'Python')\n",
    "print('Hello' < 'Python')\n",
    "print('Hello' > 'Python')\n",
    "print('B' > 'A')\n",
    "print('a' > 'b')\n",
    "print('CD' > 'DC')"
   ]
  },
  {
   "cell_type": "code",
   "execution_count": 9,
   "id": "8e6559d4",
   "metadata": {},
   "outputs": [
    {
     "name": "stdout",
     "output_type": "stream",
     "text": [
      "Pi 3.1416 is less than Tau 6.2832.\n"
     ]
    }
   ],
   "source": [
    "# The if statement.\n",
    "pi = 3.1416\n",
    "tau = 6.2832\n",
    "\n",
    "if pi < tau:\n",
    "    print(f'Pi {pi} is less than Tau {tau}.')"
   ]
  },
  {
   "cell_type": "code",
   "execution_count": 10,
   "id": "f743d423",
   "metadata": {},
   "outputs": [
    {
     "name": "stdout",
     "output_type": "stream",
     "text": [
      "Done!\n"
     ]
    }
   ],
   "source": [
    "# The same values with > will not print because the result is False.\n",
    "pi = 3.1416\n",
    "tau = 6.2832\n",
    "\n",
    "if pi > tau: # This is just testing whether the result True or False.\n",
    "    print(f'Pi {pi} is greater than Tau {tau}.')\n",
    "print('Done!') # This proofs the code was actually executed."
   ]
  },
  {
   "cell_type": "code",
   "execution_count": 11,
   "id": "6765bd7d",
   "metadata": {},
   "outputs": [
    {
     "name": "stdout",
     "output_type": "stream",
     "text": [
      "The result of 2 is True\n"
     ]
    }
   ],
   "source": [
    "# All numbers greater than 0 result in True.\n",
    "if 2:\n",
    "    print('The result of 2 is True')"
   ]
  },
  {
   "cell_type": "code",
   "execution_count": 12,
   "id": "2f97d06e",
   "metadata": {},
   "outputs": [
    {
     "name": "stdout",
     "output_type": "stream",
     "text": [
      "True cannot be False\n"
     ]
    }
   ],
   "source": [
    "# True surely results in True.\n",
    "if True:\n",
    "    print('True cannot be False')"
   ]
  },
  {
   "cell_type": "code",
   "execution_count": 13,
   "id": "ac2743ed",
   "metadata": {},
   "outputs": [
    {
     "name": "stdout",
     "output_type": "stream",
     "text": [
      "Pi 3.1416 is less than Tau 6.2832.\n"
     ]
    }
   ],
   "source": [
    "# The if, else statement.\n",
    "pi = 3.1416\n",
    "tau = 6.2832\n",
    "\n",
    "if pi < tau: # This condition will print the if statement because the result is True.\n",
    "    print(f'Pi {pi} is less than Tau {tau}.')\n",
    "else:\n",
    "    print(f'Tau {tau} is less than Pi {pi}.')"
   ]
  },
  {
   "cell_type": "code",
   "execution_count": 14,
   "id": "f914ffee",
   "metadata": {},
   "outputs": [
    {
     "name": "stdout",
     "output_type": "stream",
     "text": [
      "Tau 6.2832 is greater than Pi 3.1416.\n"
     ]
    }
   ],
   "source": [
    "# The if, else statement, change the condition to >.\n",
    "pi = 3.1416\n",
    "tau = 6.2832\n",
    "\n",
    "if pi > tau: # This condition will print the else statement because the result is False.\n",
    "    print(f'Pi {pi} is less than Tau {tau}.')\n",
    "else:\n",
    "    print(f'Tau {tau} is greater than Pi {pi}.')"
   ]
  },
  {
   "cell_type": "code",
   "execution_count": 15,
   "id": "4ac9ab82",
   "metadata": {},
   "outputs": [
    {
     "name": "stdout",
     "output_type": "stream",
     "text": [
      "This means Tom was not True\n"
     ]
    }
   ],
   "source": [
    "# Test the if statement with a False.\n",
    "Tom = False\n",
    "\n",
    "if Tom:\n",
    "    print('Tom was True!')\n",
    "else:\n",
    "    print('This means Tom was not True')"
   ]
  },
  {
   "cell_type": "markdown",
   "id": "2a7b3ca1",
   "metadata": {},
   "source": [
    "### Logical operators\n",
    "Logical operators are used to combine conditional statements.\n",
    "* **and**: Returns True, if **both statements** are True\n",
    "* **or**: Returns True, if **one of the statements** is True\n",
    "* **not**: Reverse the result, returns **False** if the result is **True**"
   ]
  },
  {
   "cell_type": "code",
   "execution_count": 16,
   "id": "26d2df49",
   "metadata": {},
   "outputs": [
    {
     "name": "stdout",
     "output_type": "stream",
     "text": [
      "You can be admitted into nusery school.\n"
     ]
    }
   ],
   "source": [
    "# The if, elif, else statement, if is printed.\n",
    "age = 5\n",
    "\n",
    "if age > 2 and age < 6: # This condition will print because the result is True.\n",
    "    print('You can be admitted into nusery school.')\n",
    "elif age > 5 and age < 11: # This condition will print because the result is True and False for the if statement.\n",
    "    print('You can be admitted into primary school.')\n",
    "else: # This condition will print because it is the only option left as the If and else staement are False.\n",
    "    print('You can be admitted into secondary school.')"
   ]
  },
  {
   "cell_type": "code",
   "execution_count": 17,
   "id": "70455161",
   "metadata": {},
   "outputs": [
    {
     "name": "stdout",
     "output_type": "stream",
     "text": [
      "You can be admitted into primary school.\n"
     ]
    }
   ],
   "source": [
    "# The if, elif, else statement, elif is printed.\n",
    "age = 9\n",
    "\n",
    "if age > 2 and age < 6: # This condition will print because the result is True.\n",
    "    print('You can be admitted into nusery school.')\n",
    "elif age > 5 and age < 11: # This condition will print because the result is True and False for the if statement.\n",
    "    print('You can be admitted into primary school.')\n",
    "else: # This condition will print because it is the only option left as the If and else staement are False.\n",
    "    print('You can be admitted into secondary school.')"
   ]
  },
  {
   "cell_type": "code",
   "execution_count": 18,
   "id": "3af27d67",
   "metadata": {},
   "outputs": [
    {
     "name": "stdout",
     "output_type": "stream",
     "text": [
      "You can be admitted into secondary school.\n"
     ]
    }
   ],
   "source": [
    "# The if, elif, else statement, else is printed.\n",
    "age = 13\n",
    "\n",
    "if age > 2 and age < 6: # This condition will print because the result is True.\n",
    "    print('You can be admitted into nusery school.')\n",
    "elif age > 5 and age < 11: # This condition will print because the result is True and False for the if statement.\n",
    "    print('You can be admitted into primary school.')\n",
    "else: # This condition will print because it is the only option left as the If and else staement are False.\n",
    "    print('You can be admitted into secondary school.')"
   ]
  },
  {
   "cell_type": "code",
   "execution_count": 19,
   "id": "34350a93",
   "metadata": {},
   "outputs": [
    {
     "name": "stdout",
     "output_type": "stream",
     "text": [
      "Enter your score: 87.9\n",
      "Your grade is BA.\n"
     ]
    }
   ],
   "source": [
    "# A much longerIf, elif, else statement.\n",
    "score = float(input('Enter your score: '))\n",
    "\n",
    "if score >= 90.0 and score <= 100.0:\n",
    "    print('Your grade is AA.')\n",
    "elif score >= 85.0 and score <= 89.9:\n",
    "    print('Your grade is BA.')\n",
    "elif score >= 80.0 and score <= 84.9:\n",
    "    print('Your grade is BB.')\n",
    "elif score >= 75.0 and score <= 79.9:\n",
    "    print('Your grade is CB.')\n",
    "elif score >= 70.0 and score <= 74.9:\n",
    "    print('Your grade is CC.')\n",
    "elif score >= 65.0 and score <= 69.9:\n",
    "    print('Your grade is DC.')\n",
    "elif score >= 60.0 and score <= 64.9:\n",
    "    print('Your grade is DD.')\n",
    "elif score >= 55.0 and score <= 59.9:\n",
    "    print('Your grade is ED.')\n",
    "elif score >= 50.0 and score <= 54.9:\n",
    "    print('Your grade is EE.')\n",
    "elif score >= 45.0 and score <= 49.9:\n",
    "    print('Your grade is FE.')\n",
    "else:\n",
    "    print('Your grade is FF.') # Note the last statement needs no condition."
   ]
  },
  {
   "cell_type": "code",
   "execution_count": 20,
   "id": "1224d202",
   "metadata": {},
   "outputs": [
    {
     "name": "stdout",
     "output_type": "stream",
     "text": [
      "Enter a number: 5271\n",
      "The entered number, 5271 is odd\n"
     ]
    }
   ],
   "source": [
    "# An if, else statement to classify an input into an even or odd number.\n",
    "number = int(input('Enter a number: '))\n",
    "\n",
    "if number % 2 == 0:\n",
    "    print(f'The entered number, {number} is even')\n",
    "else:\n",
    "    print(f'The entered number, {number} is odd')"
   ]
  },
  {
   "cell_type": "code",
   "execution_count": 21,
   "id": "772936cd",
   "metadata": {},
   "outputs": [
    {
     "name": "stdout",
     "output_type": "stream",
     "text": [
      "You were born between 1990 and 1994.\n"
     ]
    }
   ],
   "source": [
    "# The 'and' conditional.\n",
    "birth_year = 1990\n",
    "\n",
    "if birth_year > 1989 and birth_year < 1995:\n",
    "    print('You were born between 1990 and 1994.')"
   ]
  },
  {
   "cell_type": "code",
   "execution_count": 22,
   "id": "00fe3b94",
   "metadata": {},
   "outputs": [
    {
     "name": "stdout",
     "output_type": "stream",
     "text": [
      "Enter number A: 3\n",
      "Enter number B: 8\n",
      "Enter number C: 5\n",
      "The number B with 8 is the greatest number.\n"
     ]
    }
   ],
   "source": [
    "# Another 'and' example.\n",
    "A = int(input('Enter number A: '))\n",
    "B = int(input('Enter number B: '))\n",
    "C = int(input('Enter number C: '))\n",
    "\n",
    "if A > B and A > C:\n",
    "    print(f'The number A with {A} is the greatest number.')\n",
    "elif B > A and B > C:\n",
    "    print(f'The number B with {B} is the greatest number.')\n",
    "else:\n",
    "    print(f'The number C with {C} is the greatest number.')"
   ]
  },
  {
   "cell_type": "code",
   "execution_count": 23,
   "id": "d748cd4b",
   "metadata": {},
   "outputs": [
    {
     "name": "stdout",
     "output_type": "stream",
     "text": [
      "You were not born in the 1980s.\n"
     ]
    }
   ],
   "source": [
    "# The 'or' conditional.\n",
    "birth_year = 1979\n",
    "\n",
    "if birth_year < 1980 or birth_year > 1989:\n",
    "    print('You were not born in the 1980s.')\n",
    "else:\n",
    "    print('You were born in the 1980s.')"
   ]
  },
  {
   "cell_type": "code",
   "execution_count": 24,
   "id": "59a3be14",
   "metadata": {},
   "outputs": [
    {
     "name": "stdout",
     "output_type": "stream",
     "text": [
      "You were not born in the 1980s.\n"
     ]
    }
   ],
   "source": [
    "# The 'or' conditional, try 1990.\n",
    "birth_year = 1990\n",
    "\n",
    "if birth_year < 1980 or birth_year > 1989:\n",
    "    print('You were not born in the 1980s.')\n",
    "else:\n",
    "    print('You were born in the 1980s.')"
   ]
  },
  {
   "cell_type": "code",
   "execution_count": 25,
   "id": "d745d56f",
   "metadata": {},
   "outputs": [
    {
     "name": "stdout",
     "output_type": "stream",
     "text": [
      "You were not born in the 1980s.\n"
     ]
    }
   ],
   "source": [
    "# The 'or' conditional, try 1987.\n",
    "birth_year = 1990\n",
    "\n",
    "if birth_year < 1980 or birth_year > 1989:\n",
    "    print('You were not born in the 1980s.')\n",
    "else:\n",
    "    print('You were born in the 1980s.')"
   ]
  },
  {
   "cell_type": "code",
   "execution_count": 26,
   "id": "e648d82e",
   "metadata": {},
   "outputs": [
    {
     "name": "stdout",
     "output_type": "stream",
     "text": [
      "The year of birth is not 1991.\n"
     ]
    }
   ],
   "source": [
    "# The 'not' conditional.\n",
    "birth_year = 1990\n",
    "\n",
    "if not birth_year == 1991:\n",
    "    print('The year of birth is not 1991.')"
   ]
  },
  {
   "cell_type": "code",
   "execution_count": 27,
   "id": "abfe5a42",
   "metadata": {},
   "outputs": [
    {
     "name": "stdout",
     "output_type": "stream",
     "text": [
      "Pi 3.1416 is less than Tau 6.2832.\n"
     ]
    }
   ],
   "source": [
    "# The 'not' conditional, another examples 1.\n",
    "pi = 3.1416\n",
    "tau = 6.2832\n",
    "\n",
    "if not pi > tau:\n",
    "    print(f'Pi {pi} is less than Tau {tau}.')\n",
    "else:\n",
    "    print(f'Tau {tau} is greater than Pi {pi}.')"
   ]
  },
  {
   "cell_type": "code",
   "execution_count": 1,
   "id": "0c0ada14",
   "metadata": {},
   "outputs": [
    {
     "name": "stdout",
     "output_type": "stream",
     "text": [
      "Tau 6.2832 is greater than Pi 3.1416.\n"
     ]
    }
   ],
   "source": [
    "# The 'not' conditional, another examples 2.\n",
    "pi = 3.1416\n",
    "tau = 6.2832\n",
    "\n",
    "if not pi < tau:\n",
    "    print(f'Pi {pi} is less than Tau {tau}.')\n",
    "else:\n",
    "    print(f'Tau {tau} is greater than Pi {pi}.')"
   ]
  }
 ],
 "metadata": {
  "kernelspec": {
   "display_name": "Python 3 (ipykernel)",
   "language": "python",
   "name": "python3"
  },
  "language_info": {
   "codemirror_mode": {
    "name": "ipython",
    "version": 3
   },
   "file_extension": ".py",
   "mimetype": "text/x-python",
   "name": "python",
   "nbconvert_exporter": "python",
   "pygments_lexer": "ipython3",
   "version": "3.11.4"
  }
 },
 "nbformat": 4,
 "nbformat_minor": 5
}
