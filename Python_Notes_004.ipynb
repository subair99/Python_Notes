{
 "cells": [
  {
   "cell_type": "markdown",
   "id": "e4128187",
   "metadata": {},
   "source": [
    "# Python_Notes_004"
   ]
  },
  {
   "cell_type": "markdown",
   "id": "4949b5d9",
   "metadata": {},
   "source": [
    "## Lists"
   ]
  },
  {
   "cell_type": "code",
   "execution_count": 1,
   "id": "71ec1380",
   "metadata": {},
   "outputs": [
    {
     "name": "stdout",
     "output_type": "stream",
     "text": [
      "[2, 3, 4]\n"
     ]
    }
   ],
   "source": [
    "# Create a list.\n",
    "a_list = [2, 3, 4]\n",
    "print(a_list)"
   ]
  },
  {
   "cell_type": "code",
   "execution_count": 2,
   "id": "732b03e6",
   "metadata": {},
   "outputs": [
    {
     "data": {
      "text/plain": [
       "['A string', 47, 123.232, 'x']"
      ]
     },
     "execution_count": 2,
     "metadata": {},
     "output_type": "execute_result"
    }
   ],
   "source": [
    "# Lists can contain various items.\n",
    "a_list = ['A string', 47, 123.232, 'x']\n",
    "a_list"
   ]
  },
  {
   "cell_type": "code",
   "execution_count": 3,
   "id": "7d9a9aae",
   "metadata": {},
   "outputs": [
    {
     "data": {
      "text/plain": [
       "4"
      ]
     },
     "execution_count": 3,
     "metadata": {},
     "output_type": "execute_result"
    }
   ],
   "source": [
    "# The length of the list.\n",
    "len(a_list)"
   ]
  },
  {
   "cell_type": "code",
   "execution_count": 4,
   "id": "adfd29e9",
   "metadata": {},
   "outputs": [
    {
     "data": {
      "text/plain": [
       "'two'"
      ]
     },
     "execution_count": 4,
     "metadata": {},
     "output_type": "execute_result"
    }
   ],
   "source": [
    "# Slicing a list is similar to strings.\n",
    "a_list = ['one', 'two', 'three', 4, 5, 6]\n",
    "a_list[1]"
   ]
  },
  {
   "cell_type": "code",
   "execution_count": 5,
   "id": "aed83364",
   "metadata": {},
   "outputs": [
    {
     "data": {
      "text/plain": [
       "['two', 'three', 4, 5, 6]"
      ]
     },
     "execution_count": 5,
     "metadata": {},
     "output_type": "execute_result"
    }
   ],
   "source": [
    "# Select item 2 to the end.\n",
    "a_list[1:]"
   ]
  },
  {
   "cell_type": "code",
   "execution_count": 6,
   "id": "cefc7ea7",
   "metadata": {},
   "outputs": [
    {
     "data": {
      "text/plain": [
       "['one', 'two', 'three']"
      ]
     },
     "execution_count": 6,
     "metadata": {},
     "output_type": "execute_result"
    }
   ],
   "source": [
    "# Select items 1 to 3.\n",
    "a_list[:3]"
   ]
  },
  {
   "cell_type": "code",
   "execution_count": 7,
   "id": "39024adb-d7f2-4a34-a884-102e5d0dd625",
   "metadata": {},
   "outputs": [
    {
     "data": {
      "text/plain": [
       "['one', 'three', 5]"
      ]
     },
     "execution_count": 7,
     "metadata": {},
     "output_type": "execute_result"
    }
   ],
   "source": [
    "# Select all items in slice step of 2 (1, 3, 5 indices).\n",
    "a_list[::2]"
   ]
  },
  {
   "cell_type": "code",
   "execution_count": 8,
   "id": "f58390f4-9d87-4f27-8d8c-756d186e2e90",
   "metadata": {},
   "outputs": [
    {
     "ename": "ValueError",
     "evalue": "slice step cannot be zero",
     "output_type": "error",
     "traceback": [
      "\u001b[1;31m---------------------------------------------------------------------------\u001b[0m",
      "\u001b[1;31mValueError\u001b[0m                                Traceback (most recent call last)",
      "Cell \u001b[1;32mIn[8], line 2\u001b[0m\n\u001b[0;32m      1\u001b[0m \u001b[38;5;66;03m# Select all items in step size of 0 (Error, slice step must not be zero).\u001b[39;00m\n\u001b[1;32m----> 2\u001b[0m a_list[::\u001b[38;5;241m0\u001b[39m]\n",
      "\u001b[1;31mValueError\u001b[0m: slice step cannot be zero"
     ]
    }
   ],
   "source": [
    "# Select all items in step size of 0 (Error, slice step must not be zero).\n",
    "a_list[::0]"
   ]
  },
  {
   "cell_type": "code",
   "execution_count": 9,
   "id": "71ec4b3c-280d-42a5-9154-ce452eb4f36b",
   "metadata": {},
   "outputs": [
    {
     "data": {
      "text/plain": [
       "[6, 5, 4, 'three', 'two', 'one']"
      ]
     },
     "execution_count": 9,
     "metadata": {},
     "output_type": "execute_result"
    }
   ],
   "source": [
    "# Reverse a list (selecting from last to first item).\n",
    "a_list[::-1]"
   ]
  },
  {
   "cell_type": "code",
   "execution_count": 10,
   "id": "64563621",
   "metadata": {},
   "outputs": [
    {
     "data": {
      "text/plain": [
       "['one', 'two', 'three', 4, 5, 6, 'new']"
      ]
     },
     "execution_count": 10,
     "metadata": {},
     "output_type": "execute_result"
    }
   ],
   "source": [
    "# Concatenate lists.\n",
    "a_list + ['new']"
   ]
  },
  {
   "cell_type": "code",
   "execution_count": 11,
   "id": "e4d67308",
   "metadata": {},
   "outputs": [
    {
     "data": {
      "text/plain": [
       "['one', 'two', 'three', 4, 5, 6]"
      ]
     },
     "execution_count": 11,
     "metadata": {},
     "output_type": "execute_result"
    }
   ],
   "source": [
    "# Original list stays the same.\n",
    "a_list"
   ]
  },
  {
   "cell_type": "code",
   "execution_count": 12,
   "id": "402cfebe",
   "metadata": {},
   "outputs": [
    {
     "data": {
      "text/plain": [
       "['one', 'two', 'three', 4, 5, 6, 'permanet']"
      ]
     },
     "execution_count": 12,
     "metadata": {},
     "output_type": "execute_result"
    }
   ],
   "source": [
    "# Original list changes with reassignment.\n",
    "a_list = a_list + ['permanet']\n",
    "a_list"
   ]
  },
  {
   "cell_type": "code",
   "execution_count": 13,
   "id": "0e8de73a",
   "metadata": {},
   "outputs": [
    {
     "data": {
      "text/plain": [
       "['one',\n",
       " 'two',\n",
       " 'three',\n",
       " 4,\n",
       " 5,\n",
       " 6,\n",
       " 'permanet',\n",
       " 'one',\n",
       " 'two',\n",
       " 'three',\n",
       " 4,\n",
       " 5,\n",
       " 6,\n",
       " 'permanet']"
      ]
     },
     "execution_count": 13,
     "metadata": {},
     "output_type": "execute_result"
    }
   ],
   "source": [
    "# Double the list.\n",
    "a_list * 2"
   ]
  },
  {
   "cell_type": "code",
   "execution_count": 14,
   "id": "89e910ae",
   "metadata": {},
   "outputs": [
    {
     "data": {
      "text/plain": [
       "['one', 'two', 'three', 4, 5, 6, 'permanet']"
      ]
     },
     "execution_count": 14,
     "metadata": {},
     "output_type": "execute_result"
    }
   ],
   "source": [
    "# Doubling not permanent.\n",
    "a_list"
   ]
  },
  {
   "cell_type": "code",
   "execution_count": 15,
   "id": "81540535",
   "metadata": {},
   "outputs": [
    {
     "data": {
      "text/plain": [
       "['one', 'two', 'three', 4, 5, 'use append']"
      ]
     },
     "execution_count": 15,
     "metadata": {},
     "output_type": "execute_result"
    }
   ],
   "source": [
    "# The append() method adds an item permanetly to the end of the list.\n",
    "a_list = ['one', 'two', 'three', 4, 5]\n",
    "a_list.append('use append')\n",
    "a_list"
   ]
  },
  {
   "cell_type": "code",
   "execution_count": 16,
   "id": "402085c5",
   "metadata": {},
   "outputs": [
    {
     "data": {
      "text/plain": [
       "['one', 'two', 'three', 4, 5]"
      ]
     },
     "execution_count": 16,
     "metadata": {},
     "output_type": "execute_result"
    }
   ],
   "source": [
    "# The pop() method removes the item at the end of the list.\n",
    "a_list.pop()\n",
    "a_list"
   ]
  },
  {
   "cell_type": "code",
   "execution_count": 17,
   "id": "0c1db16d",
   "metadata": {},
   "outputs": [
    {
     "data": {
      "text/plain": [
       "['one', 'two', 4, 5]"
      ]
     },
     "execution_count": 17,
     "metadata": {},
     "output_type": "execute_result"
    }
   ],
   "source": [
    "# Remove item at index 2.\n",
    "a_list.pop(2)\n",
    "a_list"
   ]
  },
  {
   "cell_type": "code",
   "execution_count": 18,
   "id": "21ce0736",
   "metadata": {},
   "outputs": [
    {
     "data": {
      "text/plain": [
       "5"
      ]
     },
     "execution_count": 18,
     "metadata": {},
     "output_type": "execute_result"
    }
   ],
   "source": [
    "# Assign to get item popped\n",
    "item_popped = a_list.pop()\n",
    "item_popped"
   ]
  },
  {
   "cell_type": "code",
   "execution_count": 19,
   "id": "6aa253a6",
   "metadata": {},
   "outputs": [
    {
     "ename": "IndexError",
     "evalue": "pop index out of range",
     "output_type": "error",
     "traceback": [
      "\u001b[1;31m---------------------------------------------------------------------------\u001b[0m",
      "\u001b[1;31mIndexError\u001b[0m                                Traceback (most recent call last)",
      "Cell \u001b[1;32mIn[19], line 2\u001b[0m\n\u001b[0;32m      1\u001b[0m \u001b[38;5;66;03m# Error if index is exceeded.\u001b[39;00m\n\u001b[1;32m----> 2\u001b[0m a_list\u001b[38;5;241m.\u001b[39mpop(\u001b[38;5;241m3\u001b[39m)\n",
      "\u001b[1;31mIndexError\u001b[0m: pop index out of range"
     ]
    }
   ],
   "source": [
    "# Error if index is exceeded.\n",
    "a_list.pop(3)"
   ]
  },
  {
   "cell_type": "code",
   "execution_count": 20,
   "id": "30e3d80a",
   "metadata": {},
   "outputs": [
    {
     "data": {
      "text/plain": [
       "['a', 'c', 'd', 'b', 'e']"
      ]
     },
     "execution_count": 20,
     "metadata": {},
     "output_type": "execute_result"
    }
   ],
   "source": [
    "# remove() method removes the first occurence of an item.\n",
    "remove_list = ['a', 'b', 'c', 'd', 'b', 'e']\n",
    "remove_list.remove('b')\n",
    "remove_list"
   ]
  },
  {
   "cell_type": "code",
   "execution_count": 21,
   "id": "a22e2ca0",
   "metadata": {},
   "outputs": [
    {
     "data": {
      "text/plain": [
       "['a', 'b', 'c', 'x', 'y', 'z']"
      ]
     },
     "execution_count": 21,
     "metadata": {},
     "output_type": "execute_result"
    }
   ],
   "source": [
    "# The sort() method arranges the items sequentially (It is permanent).\n",
    "new_list = ['a', 'z', 'b', 'y', 'c', 'x']\n",
    "new_list.sort()\n",
    "new_list"
   ]
  },
  {
   "cell_type": "code",
   "execution_count": 22,
   "id": "c6fa2c39",
   "metadata": {},
   "outputs": [
    {
     "data": {
      "text/plain": [
       "['z', 'y', 'x', 'c', 'b', 'a']"
      ]
     },
     "execution_count": 22,
     "metadata": {},
     "output_type": "execute_result"
    }
   ],
   "source": [
    "# The reverse() method arranges sequentially from the last item (It is permanent).\n",
    "new_list.reverse()\n",
    "new_list"
   ]
  },
  {
   "cell_type": "code",
   "execution_count": 23,
   "id": "5551c653",
   "metadata": {},
   "outputs": [
    {
     "name": "stdout",
     "output_type": "stream",
     "text": [
      "Original list is: ['a', 'b', 'c', 'd', 'e']\n",
      "Reversed list is: ['e', 'd', 'c', 'b', 'a']\n"
     ]
    }
   ],
   "source": [
    "# The reversed() method creates a reversed copy of a list.\n",
    "new_list = ['a', 'b', 'c', 'd', 'e']\n",
    "reversed_list = reversed(new_list)\n",
    "print('Original list is:', new_list)\n",
    "print('Reversed list is:', list(reversed_list))"
   ]
  },
  {
   "cell_type": "code",
   "execution_count": 24,
   "id": "0c2618b7",
   "metadata": {},
   "outputs": [
    {
     "data": {
      "text/plain": [
       "4"
      ]
     },
     "execution_count": 24,
     "metadata": {},
     "output_type": "execute_result"
    }
   ],
   "source": [
    "# The count() method counts the number of times an item appears in a list.\n",
    "new_list = [1, 2, 4, 3, 4, 5, 4, 6, 7, 8, 9, 4]\n",
    "new_list.count(4)"
   ]
  },
  {
   "cell_type": "code",
   "execution_count": 25,
   "id": "f429686e",
   "metadata": {},
   "outputs": [
    {
     "data": {
      "text/plain": [
       "2"
      ]
     },
     "execution_count": 25,
     "metadata": {},
     "output_type": "execute_result"
    }
   ],
   "source": [
    "# The index() method gets the index of the first appearance of an item in a list.\n",
    "new_list.index(4)"
   ]
  },
  {
   "cell_type": "code",
   "execution_count": 26,
   "id": "513928e7",
   "metadata": {},
   "outputs": [
    {
     "data": {
      "text/plain": [
       "[1, 2, 4, 3, 4, 11, 5, 4, 6, 7, 8, 9, 4]"
      ]
     },
     "execution_count": 26,
     "metadata": {},
     "output_type": "execute_result"
    }
   ],
   "source": [
    "# The insert() method inputs an item at the specified index in a list.\n",
    "new_list.insert(5, 11)\n",
    "new_list"
   ]
  },
  {
   "cell_type": "code",
   "execution_count": 27,
   "id": "bf2ccff2",
   "metadata": {},
   "outputs": [
    {
     "data": {
      "text/plain": [
       "11"
      ]
     },
     "execution_count": 27,
     "metadata": {},
     "output_type": "execute_result"
    }
   ],
   "source": [
    "# The max() method find the largest item in the list.\n",
    "max(new_list)"
   ]
  },
  {
   "cell_type": "code",
   "execution_count": 28,
   "id": "c119a32a",
   "metadata": {},
   "outputs": [
    {
     "data": {
      "text/plain": [
       "1"
      ]
     },
     "execution_count": 28,
     "metadata": {},
     "output_type": "execute_result"
    }
   ],
   "source": [
    "# The min() method find the smallest item in the list.\n",
    "min(new_list)"
   ]
  },
  {
   "cell_type": "code",
   "execution_count": 29,
   "id": "3f5e57fd",
   "metadata": {},
   "outputs": [
    {
     "data": {
      "text/plain": [
       "68"
      ]
     },
     "execution_count": 29,
     "metadata": {},
     "output_type": "execute_result"
    }
   ],
   "source": [
    "# The sum() method adds all the items in the list.\n",
    "sum(new_list)"
   ]
  },
  {
   "cell_type": "code",
   "execution_count": 30,
   "id": "0de2b8bf",
   "metadata": {},
   "outputs": [
    {
     "data": {
      "text/plain": [
       "[1, 2, 4, 3, 4, 5, 4, 6, 7, 8, 9, 4]"
      ]
     },
     "execution_count": 30,
     "metadata": {},
     "output_type": "execute_result"
    }
   ],
   "source": [
    "# The del() method removes the item at the indicated index in the list.\n",
    "del(new_list[5])\n",
    "new_list"
   ]
  },
  {
   "cell_type": "code",
   "execution_count": 31,
   "id": "449eab05",
   "metadata": {},
   "outputs": [
    {
     "ename": "NameError",
     "evalue": "name 'new_list' is not defined",
     "output_type": "error",
     "traceback": [
      "\u001b[1;31m---------------------------------------------------------------------------\u001b[0m",
      "\u001b[1;31mNameError\u001b[0m                                 Traceback (most recent call last)",
      "Cell \u001b[1;32mIn[31], line 3\u001b[0m\n\u001b[0;32m      1\u001b[0m \u001b[38;5;66;03m# The whole list can be deleted\u001b[39;00m\n\u001b[0;32m      2\u001b[0m \u001b[38;5;28;01mdel\u001b[39;00m(new_list)\n\u001b[1;32m----> 3\u001b[0m new_list\n",
      "\u001b[1;31mNameError\u001b[0m: name 'new_list' is not defined"
     ]
    }
   ],
   "source": [
    "# The whole list can be deleted\n",
    "del(new_list)\n",
    "new_list"
   ]
  },
  {
   "cell_type": "code",
   "execution_count": 32,
   "id": "ad6e4036",
   "metadata": {},
   "outputs": [
    {
     "name": "stdin",
     "output_type": "stream",
     "text": [
      "Enter a string:  year\n"
     ]
    },
    {
     "name": "stdout",
     "output_type": "stream",
     "text": [
      "The text is year\n",
      "<class 'str'>\n"
     ]
    }
   ],
   "source": [
    "# The input() method prompts the user for an input.\n",
    "text = input('Enter a string: ')\n",
    "print('The text is', text)\n",
    "print(type(text))"
   ]
  },
  {
   "cell_type": "code",
   "execution_count": 33,
   "id": "5e54b646",
   "metadata": {},
   "outputs": [
    {
     "name": "stdout",
     "output_type": "stream",
     "text": [
      "a > b is: True\n"
     ]
    }
   ],
   "source": [
    "# Comparison operators.\n",
    "a = 3.14\n",
    "b = 1.72\n",
    "\n",
    "# Greater than (>).\n",
    "print('a > b is:', a > b)"
   ]
  },
  {
   "cell_type": "code",
   "execution_count": 34,
   "id": "4ff3e613",
   "metadata": {},
   "outputs": [
    {
     "name": "stdout",
     "output_type": "stream",
     "text": [
      "a < b is: False\n"
     ]
    }
   ],
   "source": [
    "# Less than (<).\n",
    "print('a < b is:', a < b)"
   ]
  },
  {
   "cell_type": "code",
   "execution_count": 35,
   "id": "83c5746d",
   "metadata": {},
   "outputs": [
    {
     "name": "stdout",
     "output_type": "stream",
     "text": [
      "a >= b is: True\n"
     ]
    }
   ],
   "source": [
    "# Greater than or equal (>=).\n",
    "print('a >= b is:', a >= b)"
   ]
  },
  {
   "cell_type": "code",
   "execution_count": 36,
   "id": "b8ee5b98",
   "metadata": {},
   "outputs": [
    {
     "name": "stdout",
     "output_type": "stream",
     "text": [
      "a <= b is: False\n"
     ]
    }
   ],
   "source": [
    "# less than or equal (<=).\n",
    "print('a <= b is:', a <= b)"
   ]
  },
  {
   "cell_type": "code",
   "execution_count": 37,
   "id": "19354e03",
   "metadata": {},
   "outputs": [
    {
     "name": "stdout",
     "output_type": "stream",
     "text": [
      "a == b is: False\n"
     ]
    }
   ],
   "source": [
    "# Equal (==).\n",
    "print('a == b is:', a == b)"
   ]
  },
  {
   "cell_type": "code",
   "execution_count": 38,
   "id": "abf64536",
   "metadata": {},
   "outputs": [
    {
     "name": "stdout",
     "output_type": "stream",
     "text": [
      "a != b is: True\n"
     ]
    }
   ],
   "source": [
    "# Not equal (!=).\n",
    "print('a != b is:', a != b)"
   ]
  },
  {
   "cell_type": "code",
   "execution_count": 39,
   "id": "a8b59d55",
   "metadata": {},
   "outputs": [
    {
     "name": "stdout",
     "output_type": "stream",
     "text": [
      "True\n",
      "False\n",
      "True\n",
      "True\n",
      "True\n"
     ]
    }
   ],
   "source": [
    "# Complex comparisons.\n",
    "a = 3.14\n",
    "b = 1.72\n",
    "c = 9\n",
    "d = 4\n",
    "print(a > b and c > a)\n",
    "print(b > c and d > a)\n",
    "print(b < c or d > a)\n",
    "print(not a == b)\n",
    "print(not a == d)"
   ]
  },
  {
   "cell_type": "code",
   "execution_count": 40,
   "id": "ba1fec7e",
   "metadata": {},
   "outputs": [
    {
     "data": {
      "text/plain": [
       "1"
      ]
     },
     "execution_count": 40,
     "metadata": {},
     "output_type": "execute_result"
    }
   ],
   "source": [
    "# Modulus (%) gets the remainder of a division.\n",
    "10 % 3"
   ]
  },
  {
   "cell_type": "code",
   "execution_count": 41,
   "id": "ea4217fc",
   "metadata": {},
   "outputs": [
    {
     "data": {
      "text/plain": [
       "3"
      ]
     },
     "execution_count": 41,
     "metadata": {},
     "output_type": "execute_result"
    }
   ],
   "source": [
    "# Floor division (//) discards the remainter after a division.\n",
    "10 // 3"
   ]
  },
  {
   "cell_type": "code",
   "execution_count": 42,
   "id": "d1cbfdfb",
   "metadata": {},
   "outputs": [
    {
     "data": {
      "text/plain": [
       "1000"
      ]
     },
     "execution_count": 42,
     "metadata": {},
     "output_type": "execute_result"
    }
   ],
   "source": [
    "# Exponentiation (**) raises an item to a number.\n",
    "10 ** 3"
   ]
  },
  {
   "cell_type": "code",
   "execution_count": 43,
   "id": "cf38387d",
   "metadata": {},
   "outputs": [
    {
     "data": {
      "text/plain": [
       "[[1, 2, 3], [4, 5, 6], [7, 8, 9]]"
      ]
     },
     "execution_count": 43,
     "metadata": {},
     "output_type": "execute_result"
    }
   ],
   "source": [
    "# Nesting lists.\n",
    "list1 = [1, 2, 3]\n",
    "list2 = [4, 5, 6]\n",
    "list3 = [7, 8, 9]\n",
    "\n",
    "# A list of lists creates a matrix\n",
    "matrix = [list1, list2, list3]\n",
    "matrix"
   ]
  },
  {
   "cell_type": "code",
   "execution_count": 44,
   "id": "18a6cdcc",
   "metadata": {},
   "outputs": [
    {
     "data": {
      "text/plain": [
       "[1, 2, 3]"
      ]
     },
     "execution_count": 44,
     "metadata": {},
     "output_type": "execute_result"
    }
   ],
   "source": [
    "# Select the first item.\n",
    "matrix[0]"
   ]
  },
  {
   "cell_type": "code",
   "execution_count": 45,
   "id": "e89de014",
   "metadata": {},
   "outputs": [
    {
     "data": {
      "text/plain": [
       "1"
      ]
     },
     "execution_count": 45,
     "metadata": {},
     "output_type": "execute_result"
    }
   ],
   "source": [
    "# Select first item of the first list in the matrix object.\n",
    "matrix[0][0]"
   ]
  }
 ],
 "metadata": {
  "kernelspec": {
   "display_name": "Python 3 (ipykernel)",
   "language": "python",
   "name": "python3"
  },
  "language_info": {
   "codemirror_mode": {
    "name": "ipython",
    "version": 3
   },
   "file_extension": ".py",
   "mimetype": "text/x-python",
   "name": "python",
   "nbconvert_exporter": "python",
   "pygments_lexer": "ipython3",
   "version": "3.11.5"
  }
 },
 "nbformat": 4,
 "nbformat_minor": 5
}
