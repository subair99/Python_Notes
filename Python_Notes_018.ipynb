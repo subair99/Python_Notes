{
 "cells": [
  {
   "cell_type": "markdown",
   "id": "e4128187",
   "metadata": {},
   "source": [
    "# Python_Notes_018"
   ]
  },
  {
   "cell_type": "markdown",
   "id": "6e77ff45-ea89-4ce4-a933-6d752dc12b61",
   "metadata": {},
   "source": [
    "## Date and Time\n",
    "On their own, Date and Time are not data types of their own but the **datetime** module which comes built into Python and does not need external  installation, can be used to work with them. Date and time objects may be categorized as “aware” or “naive” depending on whether or not they include timezone information.\n",
    "\n",
    "With sufficient knowledge of applicable algorithmic and political time adjustments, such as time zone and daylight saving time information, an **aware** object can locate itself relative to other aware objects. An aware object represents a specific moment in time that is not open to interpretation.\n",
    "\n",
    "A **naive** object does not contain enough information to unambiguously locate itself relative to other date/time objects. Whether a naive object represents Coordinated Universal Time (UTC), local time, or time in some other timezone is purely up to the program, just like it is up to the program whether a particular number represents metres, miles, or mass. Naive objects are easy to understand and to work with, at the cost of ignoring some aspects of reality.\n",
    "\n",
    "The datatime module is categorized into 6 main classes:\n",
    "1. class datetime.**date**\n",
    "1. class datetime.**time**\n",
    "1. class datetime.**datetime**\n",
    "1. class datetime.**deltatime**\n",
    "1. class datetime.**tzinfo**\n",
    "1. class datetime.**timezone**"
   ]
  },
  {
   "cell_type": "markdown",
   "id": "34dfb25c-955d-4ce3-b357-1b66a76dd39a",
   "metadata": {},
   "source": [
    "### date\n",
    "A date object represents a date in an idealized calendar, the current Gregorian calendar indefinitely extended in both directions.\n",
    "\n",
    "class datetime.**date**(year, month, day)\n",
    "\n",
    "All arguments are required. Arguments must be integers, in the following ranges:\n",
    "\n",
    "* `MINYEAR <= year <= MAXYEAR`\n",
    "* `1 <= month <= 12`\n",
    "* `1 <= day <= number of days in the given month and year`"
   ]
  },
  {
   "cell_type": "code",
   "execution_count": 1,
   "id": "4c7635a0",
   "metadata": {},
   "outputs": [],
   "source": [
    "# Import the datetime module.\n",
    "import datetime"
   ]
  },
  {
   "cell_type": "code",
   "execution_count": 2,
   "id": "41ee0191-d5e2-4c8a-a671-18ef5edbef03",
   "metadata": {},
   "outputs": [
    {
     "name": "stdout",
     "output_type": "stream",
     "text": [
      "Minimum year is: 1\n",
      "maximum year is: 9999\n"
     ]
    }
   ],
   "source": [
    "# Return MINYEAR and MAXYEAR.\n",
    "min_year = datetime.MINYEAR\n",
    "max_year = datetime.MAXYEAR\n",
    "\n",
    "print(f'Minimum year is: {min_year}')\n",
    "print(f'maximum year is: {max_year}')"
   ]
  },
  {
   "cell_type": "code",
   "execution_count": 3,
   "id": "5a9db1af",
   "metadata": {},
   "outputs": [
    {
     "name": "stdout",
     "output_type": "stream",
     "text": [
      "a_date: 2024-02-02\n"
     ]
    }
   ],
   "source": [
    "# Return a date.\n",
    "a_date = datetime.date(2024, 2, 2)\n",
    "print(f'a_date: {a_date}')"
   ]
  },
  {
   "cell_type": "code",
   "execution_count": 4,
   "id": "26d2df49",
   "metadata": {},
   "outputs": [
    {
     "ename": "TypeError",
     "evalue": "'float' object cannot be interpreted as an integer",
     "output_type": "error",
     "traceback": [
      "\u001b[1;31m---------------------------------------------------------------------------\u001b[0m",
      "\u001b[1;31mTypeError\u001b[0m                                 Traceback (most recent call last)",
      "Cell \u001b[1;32mIn[4], line 2\u001b[0m\n\u001b[0;32m      1\u001b[0m \u001b[38;5;66;03m# The input must be integers.\u001b[39;00m\n\u001b[1;32m----> 2\u001b[0m a_date \u001b[38;5;241m=\u001b[39m datetime\u001b[38;5;241m.\u001b[39mdate(\u001b[38;5;241m2024\u001b[39m, \u001b[38;5;241m2.1\u001b[39m, \u001b[38;5;241m2\u001b[39m)\n\u001b[0;32m      3\u001b[0m \u001b[38;5;28mprint\u001b[39m(\u001b[38;5;124mf\u001b[39m\u001b[38;5;124m'\u001b[39m\u001b[38;5;124ma_date: \u001b[39m\u001b[38;5;132;01m{\u001b[39;00ma_date\u001b[38;5;132;01m}\u001b[39;00m\u001b[38;5;124m'\u001b[39m)\n",
      "\u001b[1;31mTypeError\u001b[0m: 'float' object cannot be interpreted as an integer"
     ]
    }
   ],
   "source": [
    "# The input must be integers.\n",
    "a_date = datetime.date(2024, 2.1, 2)\n",
    "print(f'a_date: {a_date}')"
   ]
  },
  {
   "cell_type": "code",
   "execution_count": 5,
   "id": "e0fc3def-331a-41bd-98be-e39844c4f7e3",
   "metadata": {},
   "outputs": [
    {
     "ename": "SyntaxError",
     "evalue": "leading zeros in decimal integer literals are not permitted; use an 0o prefix for octal integers (1804216390.py, line 2)",
     "output_type": "error",
     "traceback": [
      "\u001b[1;36m  Cell \u001b[1;32mIn[5], line 2\u001b[1;36m\u001b[0m\n\u001b[1;33m    a_date = datetime.date(2024, 02, 02)\u001b[0m\n\u001b[1;37m                                 ^\u001b[0m\n\u001b[1;31mSyntaxError\u001b[0m\u001b[1;31m:\u001b[0m leading zeros in decimal integer literals are not permitted; use an 0o prefix for octal integers\n"
     ]
    }
   ],
   "source": [
    "# The input must not have Leading zero.\n",
    "a_date = datetime.date(2024, 02, 02)\n",
    "print(f'a_date: {a_date}')"
   ]
  },
  {
   "cell_type": "code",
   "execution_count": 6,
   "id": "dee40510-11d8-4c6d-9a28-7778b0e78204",
   "metadata": {},
   "outputs": [],
   "source": [
    "# For simplicity and if thats the only job, the date class can be exclusively imported.\n",
    "from datetime import date"
   ]
  },
  {
   "cell_type": "code",
   "execution_count": 7,
   "id": "60b28f82-6a96-4419-96af-084fd0e5108d",
   "metadata": {},
   "outputs": [
    {
     "name": "stdout",
     "output_type": "stream",
     "text": [
      "Date today is: 2024-02-28\n"
     ]
    }
   ],
   "source": [
    "# Return the current date.\n",
    "date_today = date.today()\n",
    "print(f'Date today is: {date_today}')"
   ]
  },
  {
   "cell_type": "code",
   "execution_count": 8,
   "id": "ad5c36d6-94ad-4ea3-904a-8dfe5c05d6de",
   "metadata": {},
   "outputs": [
    {
     "name": "stdout",
     "output_type": "stream",
     "text": [
      "Current year is: 2024\n"
     ]
    }
   ],
   "source": [
    "# Return the current year.\n",
    "current_year = date_today.year\n",
    "print(f\"Current year is: {current_year}\")"
   ]
  },
  {
   "cell_type": "code",
   "execution_count": 9,
   "id": "27880d48-20c7-4748-968d-bdea095da64f",
   "metadata": {},
   "outputs": [
    {
     "name": "stdout",
     "output_type": "stream",
     "text": [
      "Current month is: 2\n"
     ]
    }
   ],
   "source": [
    "# Return the current month.\n",
    "current_month = date_today.month\n",
    "print(f\"Current month is: {current_month}\")"
   ]
  },
  {
   "cell_type": "code",
   "execution_count": 10,
   "id": "5bb0251d-91c1-40ca-b55e-d451d26cb89d",
   "metadata": {},
   "outputs": [
    {
     "name": "stdout",
     "output_type": "stream",
     "text": [
      "Current day is: 28\n"
     ]
    }
   ],
   "source": [
    "# Return the current day.\n",
    "current_day = date_today.day\n",
    "print(f\"Current day is: {current_day}\")"
   ]
  },
  {
   "cell_type": "code",
   "execution_count": 11,
   "id": "ec7a8d58-e508-4337-9cf1-ec6766679f82",
   "metadata": {},
   "outputs": [
    {
     "name": "stdout",
     "output_type": "stream",
     "text": [
      "date_1 is: 2024-02-25\n",
      "date_2 is: 2024-02-25\n",
      "date_3 is: 2024-02-25\n"
     ]
    }
   ],
   "source": [
    "# Return date from isoformat.\n",
    "date_1 = date.fromisoformat('2024-02-25')\n",
    "date_2 = date.fromisoformat('20240225')\n",
    "date_3 = date.fromisoformat('2024-W08-7') # The last day in week 8 of 2024.\n",
    "\n",
    "print(f'date_1 is: {date_1}')\n",
    "print(f'date_2 is: {date_2}')\n",
    "print(f'date_3 is: {date_3}')"
   ]
  },
  {
   "cell_type": "code",
   "execution_count": 12,
   "id": "c71b9d19-428a-47ec-a71d-348f1ab2fad1",
   "metadata": {},
   "outputs": [
    {
     "ename": "ValueError",
     "evalue": "Invalid isoformat string: '2024-W8-7'",
     "output_type": "error",
     "traceback": [
      "\u001b[1;31m---------------------------------------------------------------------------\u001b[0m",
      "\u001b[1;31mValueError\u001b[0m                                Traceback (most recent call last)",
      "Cell \u001b[1;32mIn[12], line 2\u001b[0m\n\u001b[0;32m      1\u001b[0m \u001b[38;5;66;03m# There must be preceeding 0 in W for unit weeks.\u001b[39;00m\n\u001b[1;32m----> 2\u001b[0m iso_date1 \u001b[38;5;241m=\u001b[39m date\u001b[38;5;241m.\u001b[39mfromisoformat(\u001b[38;5;124m'\u001b[39m\u001b[38;5;124m2024-W8-7\u001b[39m\u001b[38;5;124m'\u001b[39m)\n\u001b[0;32m      3\u001b[0m \u001b[38;5;28mprint\u001b[39m(\u001b[38;5;124mf\u001b[39m\u001b[38;5;124m'\u001b[39m\u001b[38;5;124miso_date1 is: \u001b[39m\u001b[38;5;132;01m{\u001b[39;00miso_date1\u001b[38;5;132;01m}\u001b[39;00m\u001b[38;5;124m'\u001b[39m)\n",
      "\u001b[1;31mValueError\u001b[0m: Invalid isoformat string: '2024-W8-7'"
     ]
    }
   ],
   "source": [
    "# There must be preceeding 0 in W for unit weeks.\n",
    "iso_date1 = date.fromisoformat('2024-W8-7')\n",
    "print(f'iso_date1 is: {iso_date1}')"
   ]
  },
  {
   "cell_type": "code",
   "execution_count": 13,
   "id": "82cde199-e185-4628-bdf9-86116074a843",
   "metadata": {},
   "outputs": [
    {
     "ename": "ValueError",
     "evalue": "Invalid isoformat string: '2024-W08-8'",
     "output_type": "error",
     "traceback": [
      "\u001b[1;31m---------------------------------------------------------------------------\u001b[0m",
      "\u001b[1;31mValueError\u001b[0m                                Traceback (most recent call last)",
      "Cell \u001b[1;32mIn[13], line 2\u001b[0m\n\u001b[0;32m      1\u001b[0m \u001b[38;5;66;03m# The maximum of number after W is 7.\u001b[39;00m\n\u001b[1;32m----> 2\u001b[0m iso_date2 \u001b[38;5;241m=\u001b[39m date\u001b[38;5;241m.\u001b[39mfromisoformat(\u001b[38;5;124m'\u001b[39m\u001b[38;5;124m2024-W08-8\u001b[39m\u001b[38;5;124m'\u001b[39m)\n\u001b[0;32m      3\u001b[0m \u001b[38;5;28mprint\u001b[39m(\u001b[38;5;124mf\u001b[39m\u001b[38;5;124m'\u001b[39m\u001b[38;5;124miso_date2 is: \u001b[39m\u001b[38;5;132;01m{\u001b[39;00miso_date2\u001b[38;5;132;01m}\u001b[39;00m\u001b[38;5;124m'\u001b[39m)\n",
      "\u001b[1;31mValueError\u001b[0m: Invalid isoformat string: '2024-W08-8'"
     ]
    }
   ],
   "source": [
    "# The maximum of number after W is 7.\n",
    "iso_date2 = date.fromisoformat('2024-W08-8')\n",
    "print(f'iso_date2 is: {iso_date2}')"
   ]
  },
  {
   "cell_type": "code",
   "execution_count": 14,
   "id": "bf6aea10-2327-4640-a150-6e0880f79ef0",
   "metadata": {},
   "outputs": [
    {
     "name": "stdout",
     "output_type": "stream",
     "text": [
      "date_cal is: 2024-02-25\n"
     ]
    }
   ],
   "source": [
    "# Return a date corresponding to the ISO calendar date.\n",
    "date_cal = date.fromisocalendar(2024, 8, 7)\n",
    "print(f'date_cal is: {date_cal}')"
   ]
  },
  {
   "cell_type": "code",
   "execution_count": 15,
   "id": "69c8d693-f33e-4606-881f-737589b4f38d",
   "metadata": {},
   "outputs": [
    {
     "data": {
      "text/plain": [
       "datetime.date(2023, 2, 24)"
      ]
     },
     "execution_count": 15,
     "metadata": {},
     "output_type": "execute_result"
    }
   ],
   "source": [
    "# Replace the year in a date.\n",
    "date_1 = date(2024, 2, 24)\n",
    "date_1.replace(year=2023)"
   ]
  },
  {
   "cell_type": "code",
   "execution_count": 16,
   "id": "8bf1fb0e-1616-4987-a03b-ef5f7aea06b5",
   "metadata": {},
   "outputs": [
    {
     "data": {
      "text/plain": [
       "datetime.date(2024, 10, 24)"
      ]
     },
     "execution_count": 16,
     "metadata": {},
     "output_type": "execute_result"
    }
   ],
   "source": [
    "# Replace the month in a date.\n",
    "date_1 = date(2024, 2, 24)\n",
    "date_1.replace(month=10)"
   ]
  },
  {
   "cell_type": "code",
   "execution_count": 17,
   "id": "cb1cdfea-3952-49e9-8db8-59030577171c",
   "metadata": {},
   "outputs": [
    {
     "data": {
      "text/plain": [
       "datetime.date(2024, 2, 19)"
      ]
     },
     "execution_count": 17,
     "metadata": {},
     "output_type": "execute_result"
    }
   ],
   "source": [
    "# Replace the day in a date.\n",
    "date_1 = date(2024, 2, 24)\n",
    "date_1.replace(day=19)"
   ]
  },
  {
   "cell_type": "code",
   "execution_count": 18,
   "id": "a72f07b6-b928-437e-ba49-88ffbd98e5e1",
   "metadata": {},
   "outputs": [
    {
     "data": {
      "text/plain": [
       "datetime.date(2024, 8, 14)"
      ]
     },
     "execution_count": 18,
     "metadata": {},
     "output_type": "execute_result"
    }
   ],
   "source": [
    "# Replace the day and month in a date.\n",
    "date_1 = date(2024, 2, 24)\n",
    "date_1.replace(month=8, day=14)"
   ]
  },
  {
   "cell_type": "code",
   "execution_count": 19,
   "id": "83f6f5b9-36f1-4dd5-8b30-51e7ca1bad1d",
   "metadata": {},
   "outputs": [
    {
     "name": "stdout",
     "output_type": "stream",
     "text": [
      "The time interval is: 35 days, 0:00:00\n"
     ]
    }
   ],
   "source": [
    "# Return the difference between two dates.\n",
    "time_inter = abs(date(2024,1,20) - date(2024,2,24))\n",
    "print (f'The time interval is: {time_inter}')"
   ]
  },
  {
   "cell_type": "code",
   "execution_count": 20,
   "id": "7c897d63-d918-40ad-8139-c6d0b37ac51b",
   "metadata": {},
   "outputs": [
    {
     "name": "stdout",
     "output_type": "stream",
     "text": [
      "The days interval is: 35\n"
     ]
    }
   ],
   "source": [
    "# Return only the days interval.\n",
    "days_inter = time_inter.days\n",
    "print (f'The days interval is: {days_inter}')"
   ]
  },
  {
   "cell_type": "code",
   "execution_count": 21,
   "id": "5e728c2a-8264-404e-812c-c0df049c9e4e",
   "metadata": {},
   "outputs": [
    {
     "data": {
      "text/plain": [
       "time.struct_time(tm_year=2024, tm_mon=2, tm_mday=24, tm_hour=0, tm_min=0, tm_sec=0, tm_wday=5, tm_yday=55, tm_isdst=-1)"
      ]
     },
     "execution_count": 21,
     "metadata": {},
     "output_type": "execute_result"
    }
   ],
   "source": [
    "# Return the timetuple of a date.\n",
    "date_1.timetuple()"
   ]
  },
  {
   "cell_type": "code",
   "execution_count": 22,
   "id": "303a0f7f-be16-4e2c-93d9-82bfb03faa21",
   "metadata": {},
   "outputs": [
    {
     "data": {
      "text/plain": [
       "738940"
      ]
     },
     "execution_count": 22,
     "metadata": {},
     "output_type": "execute_result"
    }
   ],
   "source": [
    "# Return the ordinal of a date.\n",
    "date_1.toordinal()"
   ]
  },
  {
   "cell_type": "code",
   "execution_count": 23,
   "id": "b234128e-c73c-425d-8ee9-dfc71e8a930d",
   "metadata": {},
   "outputs": [
    {
     "data": {
      "text/plain": [
       "5"
      ]
     },
     "execution_count": 23,
     "metadata": {},
     "output_type": "execute_result"
    }
   ],
   "source": [
    "# Return the day of the week as an integer, where Monday is 0 and Sunday is 6\n",
    "date_1.weekday()"
   ]
  },
  {
   "cell_type": "code",
   "execution_count": 24,
   "id": "0cf0df84-a056-47df-8466-479fd4c74dc3",
   "metadata": {},
   "outputs": [
    {
     "data": {
      "text/plain": [
       "6"
      ]
     },
     "execution_count": 24,
     "metadata": {},
     "output_type": "execute_result"
    }
   ],
   "source": [
    "# Return the day of the week as an integer, where Monday is 1 and Sunday is 7.\n",
    "date_1.isoweekday()"
   ]
  },
  {
   "cell_type": "code",
   "execution_count": 25,
   "id": "9de35acb-4a75-4a06-93fb-99904e30e2c0",
   "metadata": {},
   "outputs": [
    {
     "data": {
      "text/plain": [
       "datetime.IsoCalendarDate(year=2024, week=8, weekday=6)"
      ]
     },
     "execution_count": 25,
     "metadata": {},
     "output_type": "execute_result"
    }
   ],
   "source": [
    "# Return a named tuple object with three components: year, week and weekday.\n",
    "date_1.isocalendar()"
   ]
  },
  {
   "cell_type": "code",
   "execution_count": 26,
   "id": "17cce210-d1d2-436f-9f09-e19d0387d569",
   "metadata": {},
   "outputs": [
    {
     "data": {
      "text/plain": [
       "'2024-02-24'"
      ]
     },
     "execution_count": 26,
     "metadata": {},
     "output_type": "execute_result"
    }
   ],
   "source": [
    "# Return a string representing the date in ISO 8601 format, YYYY-MM-DD.\n",
    "date_1.isoformat()"
   ]
  },
  {
   "cell_type": "code",
   "execution_count": 27,
   "id": "b7d45909-d35f-4537-89d8-f8cd4ff2ee2e",
   "metadata": {},
   "outputs": [
    {
     "data": {
      "text/plain": [
       "'2024-02-24'"
      ]
     },
     "execution_count": 27,
     "metadata": {},
     "output_type": "execute_result"
    }
   ],
   "source": [
    "# This is equivalent to .isoformat().\n",
    "date_1.__str__()"
   ]
  },
  {
   "cell_type": "code",
   "execution_count": 28,
   "id": "3b016c00-6654-4e44-9b1d-037108a5f657",
   "metadata": {},
   "outputs": [
    {
     "data": {
      "text/plain": [
       "'Sat Feb 24 00:00:00 2024'"
      ]
     },
     "execution_count": 28,
     "metadata": {},
     "output_type": "execute_result"
    }
   ],
   "source": [
    "# Return a string representing the date.\n",
    "date_1.ctime()"
   ]
  },
  {
   "cell_type": "code",
   "execution_count": 29,
   "id": "36c76f29-08c3-460b-a221-cb8f4f04d9e5",
   "metadata": {},
   "outputs": [],
   "source": [
    "# Define a date with time.\n",
    "date_2 = date(2024, 2, 24)"
   ]
  },
  {
   "cell_type": "code",
   "execution_count": 30,
   "id": "eeac4385-5a46-4717-a1e8-afd256281900",
   "metadata": {},
   "outputs": [
    {
     "name": "stdout",
     "output_type": "stream",
     "text": [
      "\"%d/%m/%y\" format is: 24/02/24\n",
      "\"%A %d. %B %Y\" format is: Saturday 24. February 2024p\n"
     ]
    }
   ],
   "source": [
    "# Return a string representing the date, controlled by an explicit format string.\n",
    "strf_1 = date_1.strftime(\"%d/%m/%y\")\n",
    "strf_2 = date_1.strftime(\"%A %d. %B %Yp\")\n",
    "\n",
    "print(f'\"%d/%m/%y\" format is: {strf_1}')\n",
    "print(f'\"%A %d. %B %Y\" format is: {strf_2}')"
   ]
  },
  {
   "cell_type": "code",
   "execution_count": 31,
   "id": "67bbf75a-d5dc-4fa0-be3b-45e081f3371b",
   "metadata": {},
   "outputs": [
    {
     "name": "stdout",
     "output_type": "stream",
     "text": [
      "\"%d/%m/%y\" format is: 24/02/24\n",
      "\"%A %d. %B %Y\" format is: Saturday 24. February 2024\n"
     ]
    }
   ],
   "source": [
    "# This can also be achieve with .__format__.\n",
    "format_1 = date_1.__format__(\"%d/%m/%y\")\n",
    "format_2 = date_1.__format__(\"%A %d. %B %Y\")\n",
    "\n",
    "print(f'\"%d/%m/%y\" format is: {format_1}')\n",
    "print(f'\"%A %d. %B %Y\" format is: {format_2}')"
   ]
  },
  {
   "attachments": {
    "b510b86f-f50d-452f-a771-b2260e0817c0.png": {
     "image/png": "[encoded data removed]"
    }
   },
   "cell_type": "markdown",
   "id": "b4310eea-181d-4215-8ce8-c426da7113eb",
   "metadata": {},
   "source": [
    "### Reference of all the legal format codes:\n",
    "![image.png](attachment:b510b86f-f50d-452f-a771-b2260e0817c0.png)"
   ]
  },
  {
   "cell_type": "markdown",
   "id": "b08891e3-efa3-4c67-9d74-d09ac72f3f2d",
   "metadata": {},
   "source": [
    "### time\n",
    "A time object represents a (local) time of day, independent of any particular day, and subject to adjustment via a tzinfo object.\n",
    "\n",
    "class datetime.**time**(hour=0, minute=0, second=0, microsecond=0, tzinfo=None, *, fold=0)\n",
    "\n",
    "All arguments are optional. tzinfo may be None, or an instance of a tzinfo subclass. The remaining arguments must be integers in the following ranges:\n",
    "\n",
    "* `0 <= hour < 24`\n",
    "* `0 <= minute < 60`\n",
    "* `0 <= second < 60`\n",
    "* `0 <= microsecond < 1000000`\n",
    "* `fold in [0, 1]`"
   ]
  },
  {
   "cell_type": "code",
   "execution_count": 32,
   "id": "adf7a7e4-7b7a-431e-aa43-72b6caadfe23",
   "metadata": {},
   "outputs": [
    {
     "name": "stdout",
     "output_type": "stream",
     "text": [
      "Minimum time is: 00:00:00\n",
      "maximum time is: 23:59:59.999999\n"
     ]
    }
   ],
   "source": [
    "# Return minimum and maximum time.\n",
    "min_time = datetime.time.min\n",
    "max_time = datetime.time.max\n",
    "\n",
    "print(f'Minimum time is: {min_time}')\n",
    "print(f'maximum time is: {max_time}')"
   ]
  },
  {
   "cell_type": "code",
   "execution_count": 33,
   "id": "a0d028c1-0ba8-4fdb-8031-c5b60b57c80a",
   "metadata": {},
   "outputs": [
    {
     "name": "stdout",
     "output_type": "stream",
     "text": [
      "a_time: 02:43:29.902051\n"
     ]
    }
   ],
   "source": [
    "# Return a time.\n",
    "a_time = datetime.time(2, 43, 29, 902051)\n",
    "print(f'a_time: {a_time}')"
   ]
  },
  {
   "cell_type": "code",
   "execution_count": 34,
   "id": "a463dc7a-2094-4674-ab1c-38a540ce3948",
   "metadata": {},
   "outputs": [],
   "source": [
    "# Import the time class.\n",
    "from datetime import time"
   ]
  },
  {
   "cell_type": "code",
   "execution_count": 35,
   "id": "cc34a600-623a-4e52-b6f1-a6dd7682ab9e",
   "metadata": {},
   "outputs": [
    {
     "name": "stdout",
     "output_type": "stream",
     "text": [
      "Current time is: 2024-02-28 15:40:55.890076\n"
     ]
    }
   ],
   "source": [
    "# Return the current date and time.\n",
    "time_now = datetime.datetime.now()\n",
    "print(f'Current time is: {time_now}')"
   ]
  },
  {
   "cell_type": "code",
   "execution_count": 36,
   "id": "a8fd1d99-e731-4fd1-af8d-a1c6345abebb",
   "metadata": {},
   "outputs": [
    {
     "name": "stdout",
     "output_type": "stream",
     "text": [
      "Current hour is: 15\n"
     ]
    }
   ],
   "source": [
    "# Return the current hour.\n",
    "current_hour = time_now.hour\n",
    "print(f\"Current hour is: {current_hour}\")"
   ]
  },
  {
   "cell_type": "code",
   "execution_count": 37,
   "id": "9b9e6bef-c9c0-4768-b6bd-ae07a6367df0",
   "metadata": {},
   "outputs": [
    {
     "name": "stdout",
     "output_type": "stream",
     "text": [
      "Current minute is: 40\n"
     ]
    }
   ],
   "source": [
    "# Return the current minute.\n",
    "current_minute = time_now.minute\n",
    "print(f\"Current minute is: {current_minute}\")"
   ]
  },
  {
   "cell_type": "code",
   "execution_count": 38,
   "id": "3f3f7e31-a4b2-443c-8d01-caa9fef6ad15",
   "metadata": {},
   "outputs": [
    {
     "name": "stdout",
     "output_type": "stream",
     "text": [
      "Current second is: 55\n"
     ]
    }
   ],
   "source": [
    "# Return the current second.\n",
    "current_second = time_now.second\n",
    "print(f\"Current second is: {current_second}\")"
   ]
  },
  {
   "cell_type": "code",
   "execution_count": 39,
   "id": "7bf18659-bb4e-4f04-ae24-bd3c47cf884d",
   "metadata": {},
   "outputs": [
    {
     "name": "stdout",
     "output_type": "stream",
     "text": [
      "Current microsecond is: 890076\n"
     ]
    }
   ],
   "source": [
    "# Return the current microsecond.\n",
    "current_microsecond = time_now.microsecond\n",
    "print(f\"Current microsecond is: {current_microsecond}\")"
   ]
  },
  {
   "cell_type": "code",
   "execution_count": 40,
   "id": "cba07304-ae09-471b-afbf-f27fc6dc7289",
   "metadata": {},
   "outputs": [
    {
     "name": "stdout",
     "output_type": "stream",
     "text": [
      "Current tzinfo is: None\n"
     ]
    }
   ],
   "source": [
    "# Return the current tzinfo.\n",
    "current_tzinfo = time_now.tzinfo\n",
    "print(f\"Current tzinfo is: {current_tzinfo}\")"
   ]
  },
  {
   "cell_type": "code",
   "execution_count": 41,
   "id": "efb120d1-988e-40f5-87d5-61516f59f356",
   "metadata": {},
   "outputs": [
    {
     "name": "stdout",
     "output_type": "stream",
     "text": [
      "Current fold is: 0\n"
     ]
    }
   ],
   "source": [
    "# Return the current fold.\n",
    "current_fold = time_now.fold\n",
    "print(f\"Current fold is: {current_fold}\")"
   ]
  },
  {
   "cell_type": "code",
   "execution_count": 42,
   "id": "6459598c-e952-46f8-895a-6861a44c2f45",
   "metadata": {},
   "outputs": [
    {
     "name": "stdout",
     "output_type": "stream",
     "text": [
      "time_1 is: 09:27:01\n",
      "time_2 is: 09:27:01\n",
      "time_3 is: 09:27:01\n",
      "time_4 is: 09:27:01.000384\n",
      "time_5 is: 09:27:01.000384\n",
      "time_6 is: 09:27:01+04:00\n",
      "time_7 is: 09:27:01+00:00\n",
      "time_8 is: 09:27:01+00:00\n"
     ]
    }
   ],
   "source": [
    "# Return time from isoformat.\n",
    "time_1 = time.fromisoformat('09:27:01')\n",
    "time_2 = time.fromisoformat('T09:27:01')\n",
    "time_3 = time.fromisoformat('T092701')\n",
    "time_4 = time.fromisoformat('09:27:01.000384')\n",
    "time_5 = time.fromisoformat('09:27:01,000384')\n",
    "time_6 = time.fromisoformat('09:27:01+04:00')\n",
    "time_7 = time.fromisoformat('09:27:01Z')\n",
    "time_8 = time.fromisoformat('09:27:01+00:00')\n",
    "\n",
    "print(f'time_1 is: {time_1}')\n",
    "print(f'time_2 is: {time_2}')\n",
    "print(f'time_3 is: {time_3}')\n",
    "print(f'time_4 is: {time_4}')\n",
    "print(f'time_5 is: {time_5}')\n",
    "print(f'time_6 is: {time_6}')\n",
    "print(f'time_7 is: {time_7}')\n",
    "print(f'time_8 is: {time_8}')"
   ]
  },
  {
   "cell_type": "code",
   "execution_count": 43,
   "id": "cd21b0c8-c559-4432-8050-46b23bf4231e",
   "metadata": {},
   "outputs": [
    {
     "name": "stdout",
     "output_type": "stream",
     "text": [
      "Total seconds in time duration is: 2700.0\n"
     ]
    }
   ],
   "source": [
    "# Return total seconds of a time duration, minutes.\n",
    "time_duration = datetime.timedelta(minutes = 45)\n",
    "seconds_total = time_duration.total_seconds()\n",
    "print(f'Total seconds in time duration is: {seconds_total}')"
   ]
  },
  {
   "cell_type": "code",
   "execution_count": 44,
   "id": "f7b27b84-fbb6-4149-a7a8-c31efb21e3b8",
   "metadata": {},
   "outputs": [
    {
     "name": "stdout",
     "output_type": "stream",
     "text": [
      "Total seconds in time duration is: 10800.0\n"
     ]
    }
   ],
   "source": [
    "# Return total seconds of a time duration, hours.\n",
    "time_duration = datetime.timedelta(hours = 3)\n",
    "seconds_total = time_duration.total_seconds()\n",
    "print(f'Total seconds in time duration is: {seconds_total}')"
   ]
  },
  {
   "cell_type": "code",
   "execution_count": 45,
   "id": "33878a71-5595-49c0-a0e8-fad8cd9ba709",
   "metadata": {},
   "outputs": [
    {
     "name": "stdout",
     "output_type": "stream",
     "text": [
      "Total seconds in time duration is: 185151.0\n"
     ]
    }
   ],
   "source": [
    "# Return total seconds of a time duration, days.\n",
    "time_duration = datetime.timedelta(days = 2,\n",
    "                                   hours = 3,\n",
    "                                   minutes = 25,\n",
    "                                   seconds = 51)\n",
    "\n",
    "seconds_total = time_duration.total_seconds()\n",
    "print(f'Total seconds in time duration is: {seconds_total}')"
   ]
  },
  {
   "cell_type": "code",
   "execution_count": 46,
   "id": "8abb1882-0fd9-4f8f-9f20-3d326e8d6d08",
   "metadata": {},
   "outputs": [
    {
     "data": {
      "text/plain": [
       "datetime.time(16, 21, 45)"
      ]
     },
     "execution_count": 46,
     "metadata": {},
     "output_type": "execute_result"
    }
   ],
   "source": [
    "# Define a time.\n",
    "time_1 = time(16, 21, 45)\n",
    "time_1"
   ]
  },
  {
   "cell_type": "code",
   "execution_count": 47,
   "id": "8a1596cd-7203-49b0-8806-e72da3877096",
   "metadata": {},
   "outputs": [
    {
     "name": "stdout",
     "output_type": "stream",
     "text": [
      "\"%d/%m/%y\" format is: 16:21:45\n",
      "\"%A %d. %B %Y\" format is: 04:21 PM\n"
     ]
    }
   ],
   "source": [
    "# Return a string representing the time, controlled by an explicit format string.\n",
    "strf_1 = time_1.strftime('%H:%M:%S')\n",
    "strf_2 = time_1.strftime('%I:%M %p')\n",
    "\n",
    "print(f'\"%d/%m/%y\" format is: {strf_1}')\n",
    "print(f'\"%A %d. %B %Y\" format is: {strf_2}')"
   ]
  },
  {
   "cell_type": "code",
   "execution_count": 48,
   "id": "99a518d8-f089-431b-8493-a0d6eee576ae",
   "metadata": {},
   "outputs": [
    {
     "name": "stdout",
     "output_type": "stream",
     "text": [
      "\"%d/%m/%y\" format is: 16:21:45\n",
      "\"%A %d. %B %Y\" format is: 04:21 PM\n"
     ]
    }
   ],
   "source": [
    "# This can also be achieve with .__format__.\n",
    "format_1 = time_1.__format__('%H:%M:%S')\n",
    "format_2 = time_1.__format__('%I:%M %p')\n",
    "\n",
    "print(f'\"%d/%m/%y\" format is: {format_1}')\n",
    "print(f'\"%A %d. %B %Y\" format is: {format_2}')"
   ]
  },
  {
   "cell_type": "markdown",
   "id": "2b338508-fc47-47c7-a99a-2df6fdf69d19",
   "metadata": {},
   "source": [
    "The .replace(), .__str__(), .strftime(format), .__format__(format) all works as shown in date."
   ]
  },
  {
   "cell_type": "markdown",
   "id": "627c3a5c-ffb3-4815-b8c8-2ebc3becbb3a",
   "metadata": {},
   "source": [
    "### datetime\n",
    "A datetime object is a single object containing all the information from a date object and a time object.\n",
    "\n",
    "Like a date object, datetime assumes the current Gregorian calendar extended in both directions; like a time object, datetime assumes there are exactly 3600*24 seconds in every day.\n",
    "\n",
    "class datetime.**datetime**(year, month, day, hour=0, minute=0, second=0, microsecond=0, tzinfo=None, *, fold=0)"
   ]
  },
  {
   "cell_type": "code",
   "execution_count": 49,
   "id": "d0206651-fe83-4699-88f7-5700599cb629",
   "metadata": {},
   "outputs": [],
   "source": [
    "# Import the datetime class.\n",
    "from datetime import datetime"
   ]
  },
  {
   "cell_type": "code",
   "execution_count": 50,
   "id": "bd630702-779b-4d75-8163-4ec27e7b5f38",
   "metadata": {},
   "outputs": [
    {
     "name": "stdout",
     "output_type": "stream",
     "text": [
      "Current date and time is: 2024-02-28 15:41:02.439224\n"
     ]
    }
   ],
   "source": [
    "# Return the current date and time.\n",
    "day_time_now = datetime.now()\n",
    "print(f'Current date and time is: {day_time_now}')"
   ]
  },
  {
   "cell_type": "code",
   "execution_count": 51,
   "id": "a4d0f20a-8ebb-49d9-b2d4-2c55ce4f6962",
   "metadata": {},
   "outputs": [
    {
     "name": "stdout",
     "output_type": "stream",
     "text": [
      "Current with no format: 2024-02-28 15:41:02.789141\n",
      "format_1: Wednesday 02 2024\n",
      "format_2: Wed 02 24\n",
      "format_3: 03 PM 02\n",
      "format_4: 15:41:02\n"
     ]
    }
   ],
   "source": [
    "# Return several versions of format.\n",
    "current = datetime.now()\n",
    "print(f'Current with no format: {current}')\n",
    " \n",
    "format_1 = current.strftime(\"%A %m %Y\")\n",
    "print(f'format_1: {format_1}')\n",
    " \n",
    "format_2 = current.strftime(\"%a %m %y\")\n",
    "print(f'format_2: {format_2}')\n",
    " \n",
    "format_3 = current.strftime(\"%I %p %S\")\n",
    "print(f'format_3: {format_3}')\n",
    " \n",
    "format_4 = current.strftime(\"%H:%M:%S\")\n",
    "print(f'format_4: {format_4}')"
   ]
  },
  {
   "cell_type": "code",
   "execution_count": 52,
   "id": "e0b11b20-e473-455f-b33c-499806bc2964",
   "metadata": {},
   "outputs": [
    {
     "name": "stdout",
     "output_type": "stream",
     "text": [
      "1999-05-25 02:35:08.023000\n",
      "2000-05-26 12:45:00.003000\n",
      "2010-05-27 07:35:05.523000\n",
      "2023-05-28 05:15:55.523000\n"
     ]
    }
   ],
   "source": [
    "# Return new format of with strptime.\n",
    "time_data = [\"25/05/99 02:35:8.023\", \n",
    "             \"26/05/00 12:45:0.003\",\n",
    "             \"27/05/10 07:35:5.523\", \n",
    "             \"28/05/23 05:15:55.523\"]\n",
    "  \n",
    "format_data = \"%d/%m/%y %H:%M:%S.%f\"\n",
    "  \n",
    "for data in time_data:\n",
    "    print(datetime.strptime(data, format_data))"
   ]
  },
  {
   "cell_type": "code",
   "execution_count": 53,
   "id": "8bbe50fd-b0a9-46eb-9cc7-2797d74310cc",
   "metadata": {},
   "outputs": [
    {
     "name": "stdout",
     "output_type": "stream",
     "text": [
      "2024-02-28 14:41:03 UTC+0000\n",
      "2024-02-28 15:41:03 WAT+0100\n",
      "2024-02-28 20:11:03 IST+0530\n",
      "2024-02-28 16:41:03 EET+0200\n",
      "2024-02-28 09:41:03 EST-0500\n"
     ]
    }
   ],
   "source": [
    "# Convert time in one timezone to another.\n",
    "from pytz import timezone\n",
    " \n",
    "format = \"%Y-%m-%d %H:%M:%S %Z%z\"\n",
    " \n",
    "current_utc = datetime.now(timezone('UTC'))\n",
    "print(current_utc.strftime(format))\n",
    " \n",
    "time_zones = ['Africa/Lagos', 'Asia/Kolkata', 'Europe/Kiev', 'America/New_York']\n",
    " \n",
    "for tzone in time_zones:\n",
    "    current_africa = current_utc.astimezone(timezone(tzone))\n",
    "    print(current_africa.strftime(format))"
   ]
  },
  {
   "cell_type": "markdown",
   "id": "9c4ad771-132c-4e2d-bb37-d6f39210befb",
   "metadata": {},
   "source": [
    "### timedelta\n",
    "A timedelta object represents a duration, the difference between two datetime or date instances.\n",
    "\n",
    "class datetime.**timedelta**(days=0, seconds=0, microseconds=0, milliseconds=0, minutes=0, hours=0, weeks=0)\n",
    "\n",
    "All arguments are optional and default to 0. Arguments may be integers or floats, and may be positive or negative.\n",
    "\n",
    "Only days, seconds and microseconds are stored internally. Arguments are converted to those units:\n",
    "* A millisecond is converted to 1000 microseconds.\n",
    "* A minute is converted to 60 seconds.\n",
    "* An hour is converted to 3600 seconds.\n",
    "* A week is converted to 7 days."
   ]
  },
  {
   "cell_type": "code",
   "execution_count": 54,
   "id": "adcb2581-20d8-421b-a5f7-2066b69a344a",
   "metadata": {},
   "outputs": [],
   "source": [
    "# Import timedelta. \n",
    "from datetime import timedelta"
   ]
  },
  {
   "cell_type": "code",
   "execution_count": 55,
   "id": "95fdee04-084e-450e-b53c-6ecab452b776",
   "metadata": {},
   "outputs": [
    {
     "name": "stdout",
     "output_type": "stream",
     "text": [
      "The timedelta is: 136 days, 6:25:11.000030\n"
     ]
    }
   ],
   "source": [
    "# Return delta time. \n",
    "delta = timedelta(\n",
    "    days=80,\n",
    "    seconds=59,\n",
    "    microseconds=30,\n",
    "    milliseconds=72000,\n",
    "    minutes=23,\n",
    "    hours=6,\n",
    "    weeks=8\n",
    ")\n",
    "\n",
    "print(f'The timedelta is: {delta}')"
   ]
  },
  {
   "cell_type": "code",
   "execution_count": 56,
   "id": "a895b019-cda7-463e-8263-385171be9d63",
   "metadata": {},
   "outputs": [
    {
     "name": "stdout",
     "output_type": "stream",
     "text": [
      "Minimum timedelta is: -999999999 days, 0:00:00\n",
      "Maximum timedelta is: 999999999 days, 23:59:59.999999\n",
      "Timedelta resolution is: 0:00:00.000001\n"
     ]
    }
   ],
   "source": [
    "# Return minimum, maximum and resolution of timedelta.\n",
    "min_timedelta = timedelta.min\n",
    "max_timedelta = timedelta.max\n",
    "res_timedelta = timedelta.resolution\n",
    "\n",
    "print(f'Minimum timedelta is: {min_timedelta}')\n",
    "print(f'Maximum timedelta is: {max_timedelta}')\n",
    "print(f'Timedelta resolution is: {res_timedelta}')"
   ]
  },
  {
   "cell_type": "code",
   "execution_count": 57,
   "id": "0c89f32d-bbe0-4ce0-9f4f-400cfed7bfcb",
   "metadata": {},
   "outputs": [
    {
     "name": "stdout",
     "output_type": "stream",
     "text": [
      "The resulting date is: 2024-02-14\n"
     ]
    }
   ],
   "source": [
    "# Add timedelta to a date.\n",
    "delta_date = date(2024, 1, 11)\n",
    "delta_interval = timedelta(days=6, weeks=4)\n",
    "delta_result = delta_date + delta_interval\n",
    "print(f'The resulting date is: {delta_result}')"
   ]
  },
  {
   "cell_type": "code",
   "execution_count": 58,
   "id": "73718d02-8890-43c3-845c-4e241482d6b3",
   "metadata": {},
   "outputs": [
    {
     "ename": "TypeError",
     "evalue": "unsupported operand type(s) for +: 'datetime.time' and 'datetime.timedelta'",
     "output_type": "error",
     "traceback": [
      "\u001b[1;31m---------------------------------------------------------------------------\u001b[0m",
      "\u001b[1;31mTypeError\u001b[0m                                 Traceback (most recent call last)",
      "Cell \u001b[1;32mIn[58], line 4\u001b[0m\n\u001b[0;32m      2\u001b[0m delta_time \u001b[38;5;241m=\u001b[39m time(\u001b[38;5;241m17\u001b[39m, \u001b[38;5;241m30\u001b[39m, \u001b[38;5;241m22\u001b[39m)\n\u001b[0;32m      3\u001b[0m delta_interval \u001b[38;5;241m=\u001b[39m timedelta(minutes\u001b[38;5;241m=\u001b[39m\u001b[38;5;241m15\u001b[39m, hours\u001b[38;5;241m=\u001b[39m\u001b[38;5;241m8\u001b[39m)\n\u001b[1;32m----> 4\u001b[0m delta_result \u001b[38;5;241m=\u001b[39m delta_time \u001b[38;5;241m+\u001b[39m delta_interval\n\u001b[0;32m      5\u001b[0m \u001b[38;5;28mprint\u001b[39m(\u001b[38;5;124mf\u001b[39m\u001b[38;5;124m'\u001b[39m\u001b[38;5;124mThe resulting time is: \u001b[39m\u001b[38;5;132;01m{\u001b[39;00mdelta_result\u001b[38;5;132;01m}\u001b[39;00m\u001b[38;5;124m'\u001b[39m)\n",
      "\u001b[1;31mTypeError\u001b[0m: unsupported operand type(s) for +: 'datetime.time' and 'datetime.timedelta'"
     ]
    }
   ],
   "source": [
    "# This does not work with time.\n",
    "delta_time = time(17, 30, 22)\n",
    "delta_interval = timedelta(minutes=15, hours=8)\n",
    "delta_result = delta_time + delta_interval\n",
    "print(f'The resulting time is: {delta_result}')"
   ]
  },
  {
   "cell_type": "code",
   "execution_count": 59,
   "id": "57230494-5538-47d2-8e6e-e259b46a7cdd",
   "metadata": {},
   "outputs": [
    {
     "name": "stdout",
     "output_type": "stream",
     "text": [
      "The resulting date is: 2024-01-12 00:02:22\n"
     ]
    }
   ],
   "source": [
    "# Add timedelta to a date close to midmight.\n",
    "delta_date = datetime(2024, 1, 11, 23, 47, 22)\n",
    "delta_interval = timedelta(minutes=15)\n",
    "delta_result = delta_date + delta_interval\n",
    "print(f'The resulting date is: {delta_result}')"
   ]
  },
  {
   "cell_type": "code",
   "execution_count": 60,
   "id": "4b38113f-a207-4cec-aee6-3c8bdbb6a5b7",
   "metadata": {},
   "outputs": [
    {
     "name": "stdout",
     "output_type": "stream",
     "text": [
      "The total seconds is: 2722915.111546\n"
     ]
    }
   ],
   "source": [
    "# Return total seconds in a duration.\n",
    "delta_interval = timedelta(days=3, seconds=55, microseconds=13546, milliseconds=98, minutes=21, hours=12, weeks=4)\n",
    "seconds_interval = delta_interval.total_seconds()\n",
    "print(f'The total seconds is: {seconds_interval}')"
   ]
  },
  {
   "cell_type": "markdown",
   "id": "4a278879-3a07-4e29-b903-58f5f15308e6",
   "metadata": {},
   "source": [
    "### tzinfo\n",
    "\n",
    "This is an abstract base class, meaning that it should not be instantiated directly. Define a subclass of tzinfo to capture information about a particular time zone. \n",
    "\n",
    "An instance of (a concrete subclass of) tzinfo can be passed to the constructors for datetime and time objects. The latter objects view their attributes as being in local time, and the tzinfo object supports methods revealing offset of local time from UTC, the name of the time zone, and DST offset, all relative to a date or time object passed to them.\n",
    "\n",
    "The datetime module provides timezone, a simple concrete subclass of tzinfo which can represent timezones with fixed offset from UTC such as UTC itself or North American EST and EDT."
   ]
  },
  {
   "cell_type": "code",
   "execution_count": 61,
   "id": "25540a3b-2a8c-4cf9-8a3b-a765e364eb15",
   "metadata": {},
   "outputs": [],
   "source": [
    "# Import the tzinfo class.\n",
    "from datetime import tzinfo"
   ]
  },
  {
   "cell_type": "code",
   "execution_count": 62,
   "id": "4d68aa63-e842-4f05-a036-60d9c2c6cbdf",
   "metadata": {},
   "outputs": [
    {
     "name": "stdout",
     "output_type": "stream",
     "text": [
      "utcoffset in current: None\n"
     ]
    }
   ],
   "source": [
    "# Return offset of local time without timezone.\n",
    "current = datetime.now()\n",
    "off_set = current.utcoffset()\n",
    "print(f'utcoffset in current: {off_set}')"
   ]
  },
  {
   "cell_type": "code",
   "execution_count": 63,
   "id": "25da9e33-315a-4584-a643-570637185435",
   "metadata": {},
   "outputs": [],
   "source": [
    "'''\n",
    "Import the pytz module. it brings the Olson tz database into Python. This library \n",
    "allows accurate and cross platform timezone calculations using Python 2.4 or higher.\n",
    "'''\n",
    "import pytz"
   ]
  },
  {
   "cell_type": "code",
   "execution_count": 64,
   "id": "47453b0d-767d-4e0d-938d-8b4fd8dbb346",
   "metadata": {},
   "outputs": [
    {
     "name": "stdout",
     "output_type": "stream",
     "text": [
      "Time in Lagos is ahead of UTC by: 1:00:00\n",
      "Time in Chicago is ahead of UTC by: -1 day, 18:00:00\n",
      "Time in Tokyo is ahead of UTC by: 9:00:00\n",
      "Time in Sydney is ahead of UTC by: 11:00:00\n"
     ]
    }
   ],
   "source": [
    "# Return utcoffset of the timezones in the timezone_list.\n",
    "current = datetime.now()\n",
    "timezone_list = ['Africa/Lagos', 'America/Chicago', 'Asia/Tokyo', 'Australia/Sydney']\n",
    "\n",
    "for city in timezone_list:\n",
    "    time_zone = pytz.timezone(city)\n",
    "    with_tz = time_zone.localize(current)\n",
    "    off_set = with_tz.utcoffset()\n",
    "    print(f'Time in {city.split(\"/\")[1]} is ahead of UTC by: {off_set}')"
   ]
  },
  {
   "cell_type": "code",
   "execution_count": 65,
   "id": "3416c48d-0c58-47fe-ba38-3dd83d0b6ac0",
   "metadata": {},
   "outputs": [
    {
     "name": "stdout",
     "output_type": "stream",
     "text": [
      "The timezone name of Lagos is: WAT\n",
      "The timezone name of Chicago is: CST\n",
      "The timezone name of Tokyo is: JST\n",
      "The timezone name of Sydney is: AEDT\n"
     ]
    }
   ],
   "source": [
    "# Return dst of the datetime.\n",
    "some_city = ['Africa/Lagos', 'America/Chicago', 'Asia/Tokyo', 'Australia/Sydney']\n",
    "some_time = datetime.now()\n",
    "\n",
    "for city in some_city:\n",
    "    time_zone = pytz.timezone(city)\n",
    "    some_zone = time_zone.localize(some_time) \n",
    "    some_name = some_zone.tzname()\n",
    "    print(f'The timezone name of {city.split(\"/\")[1]} is: {some_name}')"
   ]
  },
  {
   "cell_type": "markdown",
   "id": "dd5ef183-e4c2-4da1-af8e-35711d957918",
   "metadata": {},
   "source": [
    "### timezone\n",
    "\n",
    "The timezone class is a subclass of tzinfo, each instance of which represents a timezone defined by a fixed offset from UTC.\n",
    "\n",
    "Objects of this class cannot be used to represent timezone information in the locations where different offsets are used in different days of the year or where historical changes have been made to civil time.\n",
    "\n",
    "class datetime.**timezone**(offset, name=None)\n",
    "\n",
    "A datetime objects can be created with or without timezone and this determines if it is Naive or Aware. A datetime object is Aware if it holds the timezone(tz) value."
   ]
  },
  {
   "cell_type": "code",
   "execution_count": 66,
   "id": "6317b9fb-f7a8-4420-9587-e7ee692872ff",
   "metadata": {},
   "outputs": [],
   "source": [
    "# Import the timezone class.\n",
    "from datetime import timezone"
   ]
  },
  {
   "cell_type": "code",
   "execution_count": 67,
   "id": "e142181a-fdcf-4534-b52b-04dbf068d237",
   "metadata": {},
   "outputs": [],
   "source": [
    "# Function to check for Naive or Aware dataetime object.\n",
    "\n",
    "def check_tzinfo(object):\n",
    "    if object.tzinfo is None:\n",
    "      print(f'The datetime object is Naive')\n",
    "    else:\n",
    "      print(f'The datetime object is Aware')"
   ]
  },
  {
   "cell_type": "code",
   "execution_count": 68,
   "id": "90c51c2c-12c4-4378-bacd-916361ae3cc8",
   "metadata": {},
   "outputs": [
    {
     "name": "stdout",
     "output_type": "stream",
     "text": [
      "tzinfo_1: 2024-02-22 14:42:57\n",
      "tzinfo_2: 2024-02-22 14:42:57+00:14\n"
     ]
    }
   ],
   "source": [
    "# Define two datetime objects.\n",
    "tzinfo_1 = datetime(2024, 2, 22, hour=14, minute=42, second=57)\n",
    "tzinfo_2 = datetime(2024, 2, 22, hour=14, minute=42, second=57, tzinfo=pytz.timezone('Africa/Lagos'))\n",
    "\n",
    "print(f'tzinfo_1: {tzinfo_1}')\n",
    "print(f'tzinfo_2: {tzinfo_2}')"
   ]
  },
  {
   "cell_type": "code",
   "execution_count": 69,
   "id": "c3ba47b6-6933-4860-9535-63a5c0331af4",
   "metadata": {},
   "outputs": [
    {
     "name": "stdout",
     "output_type": "stream",
     "text": [
      "The datetime object is Naive\n"
     ]
    }
   ],
   "source": [
    "# Return status of tzinfo_1.\n",
    "check_tzinfo(tzinfo_1)"
   ]
  },
  {
   "cell_type": "code",
   "execution_count": 70,
   "id": "1f6c027d-0d1b-45e4-8f45-105b1334b5f5",
   "metadata": {},
   "outputs": [
    {
     "name": "stdout",
     "output_type": "stream",
     "text": [
      "The datetime object is Aware\n"
     ]
    }
   ],
   "source": [
    "# Return status of tzinfo_2.\n",
    "check_tzinfo(tzinfo_2)"
   ]
  },
  {
   "cell_type": "code",
   "execution_count": 71,
   "id": "d33e1945-ca28-4966-8038-f5494de13165",
   "metadata": {},
   "outputs": [
    {
     "ename": "TypeError",
     "evalue": "timezone() argument 1 must be datetime.timedelta, not str",
     "output_type": "error",
     "traceback": [
      "\u001b[1;31m---------------------------------------------------------------------------\u001b[0m",
      "\u001b[1;31mTypeError\u001b[0m                                 Traceback (most recent call last)",
      "Cell \u001b[1;32mIn[71], line 2\u001b[0m\n\u001b[0;32m      1\u001b[0m \u001b[38;5;66;03m# Note, this does not work.\u001b[39;00m\n\u001b[1;32m----> 2\u001b[0m datetime(\u001b[38;5;241m2024\u001b[39m, \u001b[38;5;241m2\u001b[39m, \u001b[38;5;241m22\u001b[39m, hour\u001b[38;5;241m=\u001b[39m\u001b[38;5;241m14\u001b[39m, minute\u001b[38;5;241m=\u001b[39m\u001b[38;5;241m42\u001b[39m, second\u001b[38;5;241m=\u001b[39m\u001b[38;5;241m57\u001b[39m, tzinfo\u001b[38;5;241m=\u001b[39mtimezone(\u001b[38;5;124m'\u001b[39m\u001b[38;5;124mAfrica/Lagos\u001b[39m\u001b[38;5;124m'\u001b[39m))\n",
      "\u001b[1;31mTypeError\u001b[0m: timezone() argument 1 must be datetime.timedelta, not str"
     ]
    }
   ],
   "source": [
    "# Note, this does not work.\n",
    "datetime(2024, 2, 22, hour=14, minute=42, second=57, tzinfo=timezone('Africa/Lagos'))"
   ]
  },
  {
   "cell_type": "code",
   "execution_count": 72,
   "id": "ae8c8a68-ec49-4e8c-a5a5-ef5d68b0f619",
   "metadata": {},
   "outputs": [
    {
     "data": {
      "text/plain": [
       "datetime.datetime(2024, 2, 22, 14, 42, 57, tzinfo=datetime.timezone(datetime.timedelta(seconds=3600), 'WAT'))"
      ]
     },
     "execution_count": 72,
     "metadata": {},
     "output_type": "execute_result"
    }
   ],
   "source": [
    "# But this will work.\n",
    "datetime(2024, 2, 22, hour=14, minute=42, second=57, tzinfo=timezone(offset=timedelta(hours=1), name='WAT'))"
   ]
  },
  {
   "cell_type": "code",
   "execution_count": 73,
   "id": "bf8950d6-1f22-4600-ba0c-737cd68791b1",
   "metadata": {},
   "outputs": [
    {
     "name": "stdout",
     "output_type": "stream",
     "text": [
      "GMT Africa datetime: 2024:02:28 14:41:28 GMT +0000\n",
      "West Africa datetime: 2024:02:28 15:41:28 WAT +0100\n",
      "Central Africa datetime: 2024:02:28 16:41:28 CAT +0200\n",
      "East Africa datetime: 2024:02:28 17:41:28 EAT +0300\n"
     ]
    }
   ],
   "source": [
    "# Return current date and time in the following timezones in Africa.\n",
    "Africa_GMT = datetime.now(pytz.timezone('Africa/Accra'))\n",
    "print(\"GMT Africa datetime:\", Africa_GMT.strftime(\"%Y:%m:%d %H:%M:%S %Z %z\"))\n",
    "\n",
    "Africa_WAT = datetime.now(pytz.timezone('Africa/Lagos'))\n",
    "print(\"West Africa datetime:\", Africa_WAT.strftime(\"%Y:%m:%d %H:%M:%S %Z %z\"))\n",
    "\n",
    "Africa_CAT = datetime.now(pytz.timezone('Africa/Lusaka'))\n",
    "print(\"Central Africa datetime:\", Africa_CAT.strftime(\"%Y:%m:%d %H:%M:%S %Z %z\"))\n",
    "\n",
    "Africa_EAT = datetime.now(pytz.timezone('Africa/Nairobi'))\n",
    "print(\"East Africa datetime:\", Africa_EAT.strftime(\"%Y:%m:%d %H:%M:%S %Z %z\"))"
   ]
  },
  {
   "cell_type": "code",
   "execution_count": 74,
   "id": "b1e5d2ac-d20c-476a-a577-9920b4553533",
   "metadata": {},
   "outputs": [
    {
     "name": "stdout",
     "output_type": "stream",
     "text": [
      "Japan, Tokyo datetime: 2024:02:28 23:41:40 JST +0900\n",
      "Brazil, Sao Paulo datetime: 2024:02:28 11:41:40 -03 -0300\n",
      "UK, London datetime: 2024:02:28 14:41:40 GMT +0000\n",
      "Germany, Berlin datetime: 2024:02:28 15:41:40 CET +0100\n",
      "Australia, Canberra datetime: 2024:02:29 01:41:40 AEDT +1100\n"
     ]
    }
   ],
   "source": [
    "# Return current date and time in other timezones in the world.\n",
    "Japan_Tokyo = datetime.now(pytz.timezone('Asia/Tokyo'))\n",
    "print(\"Japan, Tokyo datetime:\", Japan_Tokyo.strftime(\"%Y:%m:%d %H:%M:%S %Z %z\"))\n",
    "\n",
    "Brazil_Sao_Paulo = datetime.now(pytz.timezone('America/Sao_Paulo'))\n",
    "print(\"Brazil, Sao Paulo datetime:\", Brazil_Sao_Paulo.strftime(\"%Y:%m:%d %H:%M:%S %Z %z\"))\n",
    "\n",
    "UK_London = datetime.now(pytz.timezone('Europe/London'))\n",
    "print(\"UK, London datetime:\", UK_London.strftime(\"%Y:%m:%d %H:%M:%S %Z %z\"))\n",
    "\n",
    "Germany_Berlin = datetime.now(pytz.timezone('Europe/Berlin'))\n",
    "print(\"Germany, Berlin datetime:\", Germany_Berlin.strftime(\"%Y:%m:%d %H:%M:%S %Z %z\"))\n",
    "\n",
    "Australia_Canberra = datetime.now(pytz.timezone('Australia/Canberra'))\n",
    "print(\"Australia, Canberra datetime:\", Australia_Canberra.strftime(\"%Y:%m:%d %H:%M:%S %Z %z\"))"
   ]
  },
  {
   "cell_type": "code",
   "execution_count": 75,
   "id": "db1b4453-e9e1-4053-9b5d-ba026e0aa9a6",
   "metadata": {},
   "outputs": [
    {
     "name": "stdout",
     "output_type": "stream",
     "text": [
      "Datetime of Lagos, Nigeria: 2024:02:28 15:41:41 WAT +0100\n",
      "Timezone name of Lagos, Nigeria: WAT\n",
      "UTC Offset of Lagos, Nigeria: 1:00:00\n",
      "Daylight saving of Lagos, Nigeria: 0:00:00\n"
     ]
    }
   ],
   "source": [
    "# Return timezone information using tzinfo for Lagos, Nigeria.\n",
    "Lagos_Nigeria = datetime.now(pytz.timezone('Africa/Lagos'))\n",
    "\n",
    "print(f'Datetime of Lagos, Nigeria: {Lagos_Nigeria.strftime(\"%Y:%m:%d %H:%M:%S %Z %z\")}')\n",
    "print(f'Timezone name of Lagos, Nigeria: {Lagos_Nigeria.tzname()}')\n",
    "print(f'UTC Offset of Lagos, Nigeria: {Lagos_Nigeria.utcoffset()}')\n",
    "print(f'Daylight saving of Lagos, Nigeria: {Lagos_Nigeria.dst()}')"
   ]
  },
  {
   "cell_type": "code",
   "execution_count": 76,
   "id": "4460e741-18c2-424f-a383-a53ad39f85c7",
   "metadata": {},
   "outputs": [
    {
     "name": "stdout",
     "output_type": "stream",
     "text": [
      "Datetime of Hong Kong: 2024:02:28 22:41:43 HKT +0800\n",
      "Timezone name of Hong Kong: HKT\n",
      "UTC Offset of Hong Kong: 8:00:00\n",
      "Daylight saving of Hong Kong: 0:00:00\n"
     ]
    }
   ],
   "source": [
    "# Return timezone information using tzinfo for Hong Kong.\n",
    "Hong_Kong = datetime.now(pytz.timezone('Asia/Hong_Kong'))\n",
    "\n",
    "print(f'Datetime of Hong Kong: {Hong_Kong.strftime(\"%Y:%m:%d %H:%M:%S %Z %z\")}')\n",
    "print(f'Timezone name of Hong Kong: {Hong_Kong.tzname()}')\n",
    "print(f'UTC Offset of Hong Kong: {Hong_Kong.utcoffset()}')\n",
    "print(f'Daylight saving of Hong Kong: {Hong_Kong.dst()}')"
   ]
  },
  {
   "cell_type": "code",
   "execution_count": 77,
   "id": "4d377389-ec83-4288-a88f-7151b33c7747",
   "metadata": {},
   "outputs": [
    {
     "name": "stdout",
     "output_type": "stream",
     "text": [
      "Datetime of Toronto, Canada: 2024:02:28 09:41:44 EST -0500\n",
      "Timezone name of Toronto, Canada: EST\n",
      "UTC Offset of Toronto, Canada: -1 day, 19:00:00\n",
      "Daylight saving of Toronto, Canada: 0:00:00\n"
     ]
    }
   ],
   "source": [
    "# Return timezone information using tzinfo for Toronto, Canada.\n",
    "Toronto_Canada = datetime.now(pytz.timezone('America/Toronto'))\n",
    "\n",
    "print(f'Datetime of Toronto, Canada: {Toronto_Canada.strftime(\"%Y:%m:%d %H:%M:%S %Z %z\")}')\n",
    "print(f'Timezone name of Toronto, Canada: {Toronto_Canada.tzname()}')\n",
    "print(f'UTC Offset of Toronto, Canada: {Toronto_Canada.utcoffset()}')\n",
    "print(f'Daylight saving of Toronto, Canada: {Toronto_Canada.dst()}')"
   ]
  },
  {
   "cell_type": "code",
   "execution_count": 78,
   "id": "6b530b02-df8e-4267-a649-0bc3beadec57",
   "metadata": {},
   "outputs": [
    {
     "name": "stdout",
     "output_type": "stream",
     "text": [
      "UTC Local Datetime: 2024:02:28 14:41:44 UTC +0000\n",
      "WAY Local Datetime: 2024:02:28 15:41:44 WAT +0100\n",
      "US Central Datetime: 2024:02:28 08:41:44 CST -0600\n",
      "IST Local Datetime: 2024:02:28 20:11:44 IST +0530\n",
      "US Eastern Datetime: 2024:02:28 09:41:44 EST -0500\n"
     ]
    }
   ],
   "source": [
    "# Convert between timezones.\n",
    "UTC_Local = datetime.now(pytz.UTC)\n",
    "print(f'UTC Local Datetime: {UTC_Local.strftime(\"%Y:%m:%d %H:%M:%S %Z %z\")}')\n",
    "\n",
    "# Convert 'UTC' timezone to 'WAT'.\n",
    "WAT_Local = UTC_Local.astimezone(pytz.timezone('Africa/Lagos'))\n",
    "print(f'WAY Local Datetime: {WAT_Local.strftime(\"%Y:%m:%d %H:%M:%S %Z %z\")}')\n",
    "\n",
    "# Convert 'WAT' timezone to 'US/Central'.\n",
    "US_Central = WAT_Local.astimezone(pytz.timezone('US/Central'))\n",
    "print(f'US Central Datetime: {US_Central.strftime(\"%Y:%m:%d %H:%M:%S %Z %z\")}')\n",
    "\n",
    "# Convert 'US/Central' timezone to 'IST'.\n",
    "IST_Local = US_Central.astimezone(pytz.timezone('Asia/Kolkata'))\n",
    "print(f'IST Local Datetime: {IST_Local.strftime(\"%Y:%m:%d %H:%M:%S %Z %z\")}')\n",
    "\n",
    "# Convert 'IST' timezone to 'US_Eastern'.\n",
    "US_Eastern = IST_Local.astimezone(pytz.timezone('America/New_York'))\n",
    "print(f'US Eastern Datetime: {US_Eastern.strftime(\"%Y:%m:%d %H:%M:%S %Z %z\")}')\n"
   ]
  }
 ],
 "metadata": {
  "kernelspec": {
   "display_name": "Python 3 (ipykernel)",
   "language": "python",
   "name": "python3"
  },
  "language_info": {
   "codemirror_mode": {
    "name": "ipython",
    "version": 3
   },
   "file_extension": ".py",
   "mimetype": "text/x-python",
   "name": "python",
   "nbconvert_exporter": "python",
   "pygments_lexer": "ipython3",
   "version": "3.11.5"
  }
 },
 "nbformat": 4,
 "nbformat_minor": 5
}
