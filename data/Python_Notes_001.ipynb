{
 "cells": [
  {
   "cell_type": "markdown",
   "id": "e4128187",
   "metadata": {},
   "source": [
    "# Python_Notes_001"
   ]
  },
  {
   "cell_type": "markdown",
   "id": "bf47e7ed",
   "metadata": {},
   "source": [
    "Python is an interpreted, object-oriented, high-level programming language with dynamic semantics. It was conceived in the late 1980s, and implementation was started in December 1989 by Guido van Rossum.It is used for Back End Development, Data Science and App development. Companies that use python include YouTube, Quora, Reddit, Instagram, and Spotify. A very easy way to install python is by using Anaconda which can be downloaded from: https://www.anaconda.com/download and a very good code editor is Visual Studio Code which can be downloaded from: https://code.visualstudio.com/"
   ]
  },
  {
   "cell_type": "markdown",
   "id": "6d3b657f",
   "metadata": {},
   "source": [
    "## Introduction"
   ]
  },
  {
   "cell_type": "code",
   "execution_count": 1,
   "id": "d75c8574",
   "metadata": {},
   "outputs": [
    {
     "name": "stdout",
     "output_type": "stream",
     "text": [
      "Hello, World\n"
     ]
    }
   ],
   "source": [
    "# Hello, World in Python\n",
    "print(\"Hello, World\")"
   ]
  },
  {
   "cell_type": "markdown",
   "id": "d3f28f54",
   "metadata": {},
   "source": [
    "## Data Types"
   ]
  },
  {
   "cell_type": "code",
   "execution_count": null,
   "id": "78b4a258",
   "metadata": {},
   "outputs": [
    {
     "name": "stdout",
     "output_type": "stream",
     "text": [
      "5\n"
     ]
    }
   ],
   "source": [
    "# Integer\n",
    "num = 5\n",
    "print(num)"
   ]
  },
  {
   "cell_type": "code",
   "execution_count": null,
   "id": "f2e5333d",
   "metadata": {},
   "outputs": [
    {
     "name": "stdout",
     "output_type": "stream",
     "text": [
      "3.14\n"
     ]
    }
   ],
   "source": [
    "# Float\n",
    "pi = 3.14\n",
    "print(pi)"
   ]
  },
  {
   "cell_type": "code",
   "execution_count": null,
   "id": "57d289ef",
   "metadata": {},
   "outputs": [
    {
     "name": "stdout",
     "output_type": "stream",
     "text": [
      "Jane Doe\n"
     ]
    }
   ],
   "source": [
    "# String\n",
    "name = 'Jim'\n",
    "print(name)"
   ]
  },
  {
   "cell_type": "code",
   "execution_count": 5,
   "id": "6aac745f",
   "metadata": {},
   "outputs": [
    {
     "name": "stdout",
     "output_type": "stream",
     "text": [
      "True\n"
     ]
    }
   ],
   "source": [
    "# Boolean\n",
    "yes = True\n",
    "print(yes)"
   ]
  },
  {
   "cell_type": "markdown",
   "id": "26c86595",
   "metadata": {},
   "source": [
    "## Convert To Integer"
   ]
  },
  {
   "cell_type": "code",
   "execution_count": null,
   "id": "1ffaa2fa",
   "metadata": {},
   "outputs": [
    {
     "name": "stdout",
     "output_type": "stream",
     "text": [
      "3\n"
     ]
    }
   ],
   "source": [
    "# Corvert float to integer\n",
    "pi = 3.14\n",
    "print(int(pi))"
   ]
  },
  {
   "cell_type": "code",
   "execution_count": null,
   "id": "b35d3ab4",
   "metadata": {},
   "outputs": [
    {
     "ename": "SyntaxError",
     "evalue": "invalid syntax (673805002.py, line 3)",
     "output_type": "error",
     "traceback": [
      "\u001b[1;36m  Cell \u001b[1;32mIn[35], line 3\u001b[1;36m\u001b[0m\n\u001b[1;33m    print(int\"Jim\")\u001b[0m\n\u001b[1;37m             ^\u001b[0m\n\u001b[1;31mSyntaxError\u001b[0m\u001b[1;31m:\u001b[0m invalid syntax\n"
     ]
    }
   ],
   "source": [
    "# Corvert string to integer\n",
    "pi = 3.14\n",
    "print(int\"Jim\")"
   ]
  },
  {
   "cell_type": "code",
   "execution_count": null,
   "id": "dd5c84b5",
   "metadata": {},
   "outputs": [],
   "source": [
    "# Corvert booleon to integer\n",
    "yes = True\n",
    "print(int(yes))"
   ]
  },
  {
   "cell_type": "markdown",
   "id": "d17e5ddd",
   "metadata": {},
   "source": [
    "## Convert To String"
   ]
  },
  {
   "cell_type": "code",
   "execution_count": 38,
   "id": "af3f719e",
   "metadata": {},
   "outputs": [
    {
     "name": "stdout",
     "output_type": "stream",
     "text": [
      "5\n"
     ]
    }
   ],
   "source": [
    "# Corvert integer to string\n",
    "num = 5\n",
    "print(str(num))"
   ]
  },
  {
   "cell_type": "code",
   "execution_count": 40,
   "id": "416781d5",
   "metadata": {},
   "outputs": [
    {
     "name": "stdout",
     "output_type": "stream",
     "text": [
      "3.14\n"
     ]
    }
   ],
   "source": [
    "# Corvert float to string\n",
    "pi = 3.14\n",
    "print(str(pi))"
   ]
  },
  {
   "cell_type": "code",
   "execution_count": 41,
   "id": "ce85fae1",
   "metadata": {},
   "outputs": [
    {
     "name": "stdout",
     "output_type": "stream",
     "text": [
      "True\n"
     ]
    }
   ],
   "source": [
    "# Corvert booleon to string\n",
    "yes = True\n",
    "print(str(yes))"
   ]
  },
  {
   "cell_type": "markdown",
   "id": "4f2c29f0",
   "metadata": {},
   "source": [
    "## Arithmetic Operators"
   ]
  },
  {
   "cell_type": "code",
   "execution_count": 7,
   "id": "3268c03d",
   "metadata": {},
   "outputs": [
    {
     "name": "stdout",
     "output_type": "stream",
     "text": [
      "5\n"
     ]
    }
   ],
   "source": [
    "# Addition (+)\n",
    "add_ope = 2 + 3\n",
    "print(add_ope)"
   ]
  },
  {
   "cell_type": "code",
   "execution_count": 8,
   "id": "226b3b47",
   "metadata": {},
   "outputs": [
    {
     "name": "stdout",
     "output_type": "stream",
     "text": [
      "3\n"
     ]
    }
   ],
   "source": [
    "# Subtraction (-)\n",
    "sub_ope = 5 - 2\n",
    "print(sub_ope)"
   ]
  },
  {
   "cell_type": "code",
   "execution_count": 9,
   "id": "d600ef5f",
   "metadata": {},
   "outputs": [
    {
     "name": "stdout",
     "output_type": "stream",
     "text": [
      "6\n"
     ]
    }
   ],
   "source": [
    "# Multiplication (*)\n",
    "mul_ope = 2 * 3\n",
    "print(mul_ope)"
   ]
  },
  {
   "cell_type": "code",
   "execution_count": 10,
   "id": "fa92e313",
   "metadata": {},
   "outputs": [
    {
     "name": "stdout",
     "output_type": "stream",
     "text": [
      "3.0\n"
     ]
    }
   ],
   "source": [
    "# Division (/)\n",
    "div_ope = 6 / 2\n",
    "print(div_ope)"
   ]
  },
  {
   "cell_type": "code",
   "execution_count": 11,
   "id": "6ab1792b",
   "metadata": {},
   "outputs": [
    {
     "name": "stdout",
     "output_type": "stream",
     "text": [
      "1\n"
     ]
    }
   ],
   "source": [
    "# Modulus (%)\n",
    "mod_ope = 5 % 2\n",
    "print(mod_ope)"
   ]
  },
  {
   "cell_type": "code",
   "execution_count": 12,
   "id": "701f55e0",
   "metadata": {},
   "outputs": [
    {
     "name": "stdout",
     "output_type": "stream",
     "text": [
      "9\n"
     ]
    }
   ],
   "source": [
    "# Exponentiation (**)\n",
    "exp_ope = 3 ** 2\n",
    "print(exp_ope)"
   ]
  },
  {
   "cell_type": "code",
   "execution_count": 13,
   "id": "0079c1a4",
   "metadata": {},
   "outputs": [
    {
     "name": "stdout",
     "output_type": "stream",
     "text": [
      "2\n"
     ]
    }
   ],
   "source": [
    "# Floor (//)\n",
    "flo_ope = 5 // 2\n",
    "print(flo_ope)"
   ]
  },
  {
   "cell_type": "markdown",
   "id": "921944e0",
   "metadata": {},
   "source": [
    "## Assignment Operators"
   ]
  },
  {
   "cell_type": "code",
   "execution_count": 14,
   "id": "86450c75",
   "metadata": {},
   "outputs": [
    {
     "name": "stdout",
     "output_type": "stream",
     "text": [
      "2\n"
     ]
    }
   ],
   "source": [
    "# Equal (=)\n",
    "num = 2\n",
    "print(num)"
   ]
  },
  {
   "cell_type": "code",
   "execution_count": 22,
   "id": "1d921895",
   "metadata": {},
   "outputs": [
    {
     "name": "stdout",
     "output_type": "stream",
     "text": [
      "5\n",
      "5\n"
     ]
    }
   ],
   "source": [
    "# Addition-Equal (+=)\n",
    "num = 2\n",
    "num += 3\n",
    "print(num)\n",
    "print(2 + 3)\n"
   ]
  },
  {
   "cell_type": "code",
   "execution_count": 23,
   "id": "96e8941f",
   "metadata": {},
   "outputs": [
    {
     "name": "stdout",
     "output_type": "stream",
     "text": [
      "2\n",
      "2\n"
     ]
    }
   ],
   "source": [
    "# Subtract-Equal (-=)\n",
    "num = 5\n",
    "num -= 3\n",
    "print(num)\n",
    "print(5 - 3)"
   ]
  },
  {
   "cell_type": "code",
   "execution_count": 24,
   "id": "4b8d78d8",
   "metadata": {},
   "outputs": [
    {
     "name": "stdout",
     "output_type": "stream",
     "text": [
      "6\n",
      "6\n"
     ]
    }
   ],
   "source": [
    "# Multiply-Equal (*=)\n",
    "num = 2\n",
    "num *= 3\n",
    "print(num)\n",
    "print(2 * 3)"
   ]
  },
  {
   "cell_type": "code",
   "execution_count": 25,
   "id": "2d4c714b",
   "metadata": {},
   "outputs": [
    {
     "name": "stdout",
     "output_type": "stream",
     "text": [
      "2.0\n",
      "2.0\n"
     ]
    }
   ],
   "source": [
    "# Division-Equal (/=)\n",
    "num = 6\n",
    "num /= 3\n",
    "print(num)\n",
    "print(6 / 3)"
   ]
  },
  {
   "cell_type": "code",
   "execution_count": 28,
   "id": "74a381ab",
   "metadata": {},
   "outputs": [
    {
     "name": "stdout",
     "output_type": "stream",
     "text": [
      "1\n",
      "1\n"
     ]
    }
   ],
   "source": [
    "# Modulus-Equal (%=)\n",
    "num = 7\n",
    "num %= 3\n",
    "print(num)\n",
    "print(7 % 3)"
   ]
  },
  {
   "cell_type": "code",
   "execution_count": 31,
   "id": "a81eff4f",
   "metadata": {},
   "outputs": [
    {
     "name": "stdout",
     "output_type": "stream",
     "text": [
      "3\n",
      "3\n"
     ]
    }
   ],
   "source": [
    "# Floor-Equal (//=)\n",
    "num = 9\n",
    "num //= 3\n",
    "print(num)\n",
    "print(9 // 3)"
   ]
  },
  {
   "cell_type": "code",
   "execution_count": 33,
   "id": "b4eebc23",
   "metadata": {},
   "outputs": [
    {
     "name": "stdout",
     "output_type": "stream",
     "text": [
      "9\n",
      "9\n"
     ]
    }
   ],
   "source": [
    "# Power-Equal (**=)\n",
    "num = 3\n",
    "num **= 2\n",
    "print(num)\n",
    "print(3 ** 2)"
   ]
  },
  {
   "cell_type": "markdown",
   "id": "d7f1ffdc",
   "metadata": {},
   "source": [
    "## Comparison Operators"
   ]
  },
  {
   "cell_type": "code",
   "execution_count": null,
   "id": "83584186",
   "metadata": {},
   "outputs": [],
   "source": [
    "# Equal (==)\n",
    "print(2 == 3)"
   ]
  },
  {
   "cell_type": "code",
   "execution_count": null,
   "id": "e98e726c",
   "metadata": {},
   "outputs": [],
   "source": [
    "# Not equal (!=)\n",
    "print(2 != 3)"
   ]
  },
  {
   "cell_type": "code",
   "execution_count": null,
   "id": "f2ed3911",
   "metadata": {},
   "outputs": [],
   "source": [
    "# Greater than (>)\n",
    "print(2 > 3)"
   ]
  },
  {
   "cell_type": "code",
   "execution_count": null,
   "id": "f3801bc1",
   "metadata": {},
   "outputs": [],
   "source": [
    "# Less than (<)\n",
    "print(2 < 3)"
   ]
  },
  {
   "cell_type": "code",
   "execution_count": null,
   "id": "2cdfa82c",
   "metadata": {},
   "outputs": [],
   "source": [
    "# Greater than or equal to (>=)\n",
    "print(2 >= 3)"
   ]
  },
  {
   "cell_type": "code",
   "execution_count": null,
   "id": "b5d6558d",
   "metadata": {},
   "outputs": [],
   "source": [
    "# Less than or equal to (<=)\n",
    "print(2 <= 3)"
   ]
  },
  {
   "cell_type": "markdown",
   "id": "ec88cdfa",
   "metadata": {},
   "source": [
    "## Logical Operators"
   ]
  },
  {
   "cell_type": "code",
   "execution_count": null,
   "id": "e13d0b88",
   "metadata": {},
   "outputs": [],
   "source": [
    "# and (Returns True if both statements are true)\n",
    "print(2 < 5 and 7 > 10)"
   ]
  },
  {
   "cell_type": "code",
   "execution_count": null,
   "id": "04b33c23",
   "metadata": {},
   "outputs": [],
   "source": [
    "# or (Returns True if one of the statements is true)\n",
    "print(2 < 5 or 7 > 10)"
   ]
  },
  {
   "cell_type": "code",
   "execution_count": null,
   "id": "51f91620",
   "metadata": {},
   "outputs": [],
   "source": [
    "# not (Reverses the result, returns False if the result is true)\n",
    "print(not(2 < 5 and 7 > 10))"
   ]
  },
  {
   "cell_type": "markdown",
   "id": "58b579c2",
   "metadata": {},
   "source": [
    "## The Zen of Python\n",
    "Long time Pythoneer Tim Peters succinctly channels the BDFL’s guiding principles \n",
    "for Python’s design into 20 aphorisms, only 19 of which have been written down.\n",
    "\n",
    "* Beautiful is better than ugly.\n",
    "* Explicit is better than implicit.\n",
    "* Simple is better than complex.\n",
    "* Complex is better than complicated.\n",
    "* Flat is better than nested.\n",
    "* Sparse is better than dense.\n",
    "* Readability counts.\n",
    "* Special cases aren't special enough to break the rules.\n",
    "* Although practicality beats purity.\n",
    "* Errors should never pass silently.\n",
    "* Unless explicitly silenced.\n",
    "* In the face of ambiguity, refuse the temptation to guess.\n",
    "* There should be one-- and preferably only one --obvious way to do it.\n",
    "* Although that way may not be obvious at first unless you're Dutch.\n",
    "* Now is better than never.\n",
    "* Although never is often better than *right* now.\n",
    "* If the implementation is hard to explain, it's a bad idea.\n",
    "* If the implementation is easy to explain, it may be a good idea.\n",
    "* Namespaces are one honking great idea -- let's do more of those!"
   ]
  },
  {
   "cell_type": "markdown",
   "id": "0b71dafc",
   "metadata": {},
   "source": []
  }
 ],
 "metadata": {
  "kernelspec": {
   "display_name": "base",
   "language": "python",
   "name": "python3"
  },
  "language_info": {
   "codemirror_mode": {
    "name": "ipython",
    "version": 3
   },
   "file_extension": ".py",
   "mimetype": "text/x-python",
   "name": "python",
   "nbconvert_exporter": "python",
   "pygments_lexer": "ipython3",
   "version": "3.12.7"
  }
 },
 "nbformat": 4,
 "nbformat_minor": 5
}
