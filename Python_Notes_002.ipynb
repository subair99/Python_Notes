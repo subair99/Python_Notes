{
 "cells": [
  {
   "cell_type": "markdown",
   "id": "e4128187",
   "metadata": {},
   "source": [
    "# Python_Notes_002"
   ]
  },
  {
   "cell_type": "markdown",
   "id": "4949b5d9",
   "metadata": {},
   "source": [
    "## Variable Assignment"
   ]
  },
  {
   "cell_type": "code",
   "execution_count": 1,
   "id": "71ec1380",
   "metadata": {},
   "outputs": [
    {
     "ename": "SyntaxError",
     "evalue": "cannot assign to literal here. Maybe you meant '==' instead of '='? (3335046871.py, line 2)",
     "output_type": "error",
     "traceback": [
      "\u001b[1;36m  Cell \u001b[1;32mIn[1], line 2\u001b[1;36m\u001b[0m\n\u001b[1;33m    2 = x\u001b[0m\n\u001b[1;37m    ^\u001b[0m\n\u001b[1;31mSyntaxError\u001b[0m\u001b[1;31m:\u001b[0m cannot assign to literal here. Maybe you meant '==' instead of '='?\n"
     ]
    }
   ],
   "source": [
    "# Variable assignment works from left to right.\n",
    "2 = x"
   ]
  },
  {
   "cell_type": "code",
   "execution_count": 2,
   "id": "7a605bdc",
   "metadata": {},
   "outputs": [],
   "source": [
    "# Variables names must start with a letter or an underscore.\n",
    "x = True\n",
    "_y = False # No output means no error"
   ]
  },
  {
   "cell_type": "code",
   "execution_count": 3,
   "id": "202c7eba",
   "metadata": {},
   "outputs": [],
   "source": [
    "# remainder of your variable name may consist of letters, numbers and underscores.\n",
    "has_0_in_it = \"Still Valid\""
   ]
  },
  {
   "cell_type": "code",
   "execution_count": 4,
   "id": "c0cfe2a4",
   "metadata": {},
   "outputs": [
    {
     "ename": "NameError",
     "evalue": "name 'X' is not defined",
     "output_type": "error",
     "traceback": [
      "\u001b[1;31m---------------------------------------------------------------------------\u001b[0m",
      "\u001b[1;31mNameError\u001b[0m                                 Traceback (most recent call last)",
      "Cell \u001b[1;32mIn[4], line 3\u001b[0m\n\u001b[0;32m      1\u001b[0m \u001b[38;5;66;03m# Names are case sensitive.\u001b[39;00m\n\u001b[0;32m      2\u001b[0m x \u001b[38;5;241m=\u001b[39m \u001b[38;5;241m7\u001b[39m\n\u001b[1;32m----> 3\u001b[0m y \u001b[38;5;241m=\u001b[39m X\u001b[38;5;241m*\u001b[39m\u001b[38;5;241m8\u001b[39m\n",
      "\u001b[1;31mNameError\u001b[0m: name 'X' is not defined"
     ]
    }
   ],
   "source": [
    "# Names are case sensitive.\n",
    "x = 7\n",
    "y = X*8"
   ]
  },
  {
   "cell_type": "code",
   "execution_count": 5,
   "id": "879ba873",
   "metadata": {},
   "outputs": [
    {
     "name": "stdout",
     "output_type": "stream",
     "text": [
      "<class 'int'>\n",
      "<class 'float'>\n",
      "<class 'str'>\n",
      "<class 'bool'>\n",
      "<class 'NoneType'>\n"
     ]
    }
   ],
   "source": [
    "# There's no need to specify a data type.\n",
    "num_1 = 2\n",
    "print(type(num_1))\n",
    "\n",
    "pi_1 = 3.14\n",
    "print(type(pi_1))\n",
    "\n",
    "name_1 = 'Jane Doe'\n",
    "print(type(name_1))\n",
    "\n",
    "bool_1 = False\n",
    "print(type(bool_1))\n",
    "\n",
    "non_1 = None\n",
    "print(type(non_1))"
   ]
  },
  {
   "cell_type": "code",
   "execution_count": 6,
   "id": "b2920689",
   "metadata": {},
   "outputs": [
    {
     "name": "stdout",
     "output_type": "stream",
     "text": [
      "1 2 3\n"
     ]
    }
   ],
   "source": [
    "# You can assign multiple values to multiple variables.\n",
    "a, b, c = 1, 2, 3\n",
    "print(a, b, c)"
   ]
  },
  {
   "cell_type": "code",
   "execution_count": 7,
   "id": "3df5ad8f",
   "metadata": {},
   "outputs": [
    {
     "name": "stdout",
     "output_type": "stream",
     "text": [
      "1 2\n"
     ]
    }
   ],
   "source": [
    "# Dummy variable (_) can have any name,\n",
    "a, b, _ = 1, 2, 3\n",
    "print(a, b)"
   ]
  },
  {
   "cell_type": "code",
   "execution_count": 12,
   "id": "fac638de",
   "metadata": {},
   "outputs": [
    {
     "ename": "ValueError",
     "evalue": "too many values to unpack (expected 3)",
     "output_type": "error",
     "traceback": [
      "\u001b[1;31m---------------------------------------------------------------------------\u001b[0m",
      "\u001b[1;31mValueError\u001b[0m                                Traceback (most recent call last)",
      "Cell \u001b[1;32mIn[12], line 2\u001b[0m\n\u001b[0;32m      1\u001b[0m \u001b[38;5;66;03m# the number of _ and number of remaining values must be equal.\u001b[39;00m\n\u001b[1;32m----> 2\u001b[0m a, b, _ \u001b[38;5;241m=\u001b[39m \u001b[38;5;241m1\u001b[39m,\u001b[38;5;241m2\u001b[39m,\u001b[38;5;241m3\u001b[39m,\u001b[38;5;241m4\u001b[39m\n",
      "\u001b[1;31mValueError\u001b[0m: too many values to unpack (expected 3)"
     ]
    }
   ],
   "source": [
    "# the number of _ and number of remaining values must be equal.\n",
    "a, b, _ = 1, 2, 3, 4"
   ]
  },
  {
   "cell_type": "code",
   "execution_count": 8,
   "id": "df166e60",
   "metadata": {},
   "outputs": [
    {
     "name": "stdout",
     "output_type": "stream",
     "text": [
      "1 1 1\n"
     ]
    }
   ],
   "source": [
    "# You can also assign a single value to several variables simultaneously.\n",
    "a = b = c = 1\n",
    "print(a, b, c)"
   ]
  },
  {
   "cell_type": "code",
   "execution_count": 9,
   "id": "a2d5e3fc",
   "metadata": {},
   "outputs": [
    {
     "name": "stdout",
     "output_type": "stream",
     "text": [
      "[13, 8, 9]\n"
     ]
    }
   ],
   "source": [
    "# The above is also true for mutable types (like list, dict, etc.)\n",
    "x = y = [7, 8, 9] # x and y are two different names for the same list object just created, [7, 8, 9]\n",
    "x[0] = 13 # we are updating the value of the list [7, 8, 9] through one of its names, x in this case\n",
    "print(y) # printing the value of the list using its other name"
   ]
  },
  {
   "cell_type": "code",
   "execution_count": 10,
   "id": "e6a61fce",
   "metadata": {},
   "outputs": [
    {
     "name": "stdout",
     "output_type": "stream",
     "text": [
      "[3, 4, 5]\n",
      "4\n"
     ]
    }
   ],
   "source": [
    "# Nested lists are also valid in python.\n",
    "x = [1, 2, [3, 4, 5], 6, 7] # this is nested list\n",
    "print(x[2])\n",
    "print(x[2][1])"
   ]
  },
  {
   "cell_type": "code",
   "execution_count": 11,
   "id": "95a7379a",
   "metadata": {},
   "outputs": [
    {
     "name": "stdout",
     "output_type": "stream",
     "text": [
      "2\n",
      "New value\n"
     ]
    }
   ],
   "source": [
    "# Variables in Python do not have to stay the same type as which they were first defined\n",
    "a = 2\n",
    "print(a)\n",
    "\n",
    "a = \"New value\"\n",
    "print(a)"
   ]
  }
 ],
 "metadata": {
  "kernelspec": {
   "display_name": "Python 3 (ipykernel)",
   "language": "python",
   "name": "python3"
  },
  "language_info": {
   "codemirror_mode": {
    "name": "ipython",
    "version": 3
   },
   "file_extension": ".py",
   "mimetype": "text/x-python",
   "name": "python",
   "nbconvert_exporter": "python",
   "pygments_lexer": "ipython3",
   "version": "3.11.4"
  }
 },
 "nbformat": 4,
 "nbformat_minor": 5
}
