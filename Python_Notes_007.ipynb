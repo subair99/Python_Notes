{
 "cells": [
  {
   "cell_type": "markdown",
   "id": "e4128187",
   "metadata": {},
   "source": [
    "# Python_Notes_007"
   ]
  },
  {
   "cell_type": "markdown",
   "id": "4949b5d9",
   "metadata": {},
   "source": [
    "## Dictionaries"
   ]
  },
  {
   "cell_type": "code",
   "execution_count": 1,
   "id": "96ea49ba",
   "metadata": {},
   "outputs": [
    {
     "data": {
      "text/plain": [
       "{'key1': 'value1', 'key2': 'value2', 'key3': 'value3'}"
      ]
     },
     "execution_count": 1,
     "metadata": {},
     "output_type": "execute_result"
    }
   ],
   "source": [
    "# Create a dictionary using {}.\n",
    "a_dict = {'key1':'value1', 'key2':'value2', 'key3':'value3'}\n",
    "a_dict"
   ]
  },
  {
   "cell_type": "code",
   "execution_count": 2,
   "id": "840b94f8",
   "metadata": {},
   "outputs": [
    {
     "data": {
      "text/plain": [
       "'value3'"
      ]
     },
     "execution_count": 2,
     "metadata": {},
     "output_type": "execute_result"
    }
   ],
   "source": [
    "# Call values by their key.\n",
    "a_dict['key3']"
   ]
  },
  {
   "cell_type": "code",
   "execution_count": 3,
   "id": "e424fd97",
   "metadata": {},
   "outputs": [
    {
     "data": {
      "text/plain": [
       "{'key1': 234, 'key2': [22, 33, 44], 'key3': ['Ben', 'Cain', 'Dan']}"
      ]
     },
     "execution_count": 3,
     "metadata": {},
     "output_type": "execute_result"
    }
   ],
   "source": [
    "# Dictionaries can contain various data types.\n",
    "a_dict = {'key1':234, 'key2':[22,33,44], 'key3':['Ben','Cain','Dan']}\n",
    "a_dict"
   ]
  },
  {
   "cell_type": "code",
   "execution_count": 4,
   "id": "5505869a",
   "metadata": {},
   "outputs": [
    {
     "data": {
      "text/plain": [
       "['Ben', 'Cain', 'Dan']"
      ]
     },
     "execution_count": 4,
     "metadata": {},
     "output_type": "execute_result"
    }
   ],
   "source": [
    "# Retrieve key3 value again.\n",
    "a_dict['key3']"
   ]
  },
  {
   "cell_type": "code",
   "execution_count": 5,
   "id": "d04c9658",
   "metadata": {},
   "outputs": [
    {
     "data": {
      "text/plain": [
       "'Cain'"
      ]
     },
     "execution_count": 5,
     "metadata": {},
     "output_type": "execute_result"
    }
   ],
   "source": [
    "# Retrieve second item of key3 value.\n",
    "a_dict['key3'][1]"
   ]
  },
  {
   "cell_type": "code",
   "execution_count": 6,
   "id": "2e2132cf",
   "metadata": {},
   "outputs": [
    {
     "data": {
      "text/plain": [
       "'CAIN'"
      ]
     },
     "execution_count": 6,
     "metadata": {},
     "output_type": "execute_result"
    }
   ],
   "source": [
    "# Just like lists, methods can be called on the retrieved value.\n",
    "a_dict['key3'][1].upper()"
   ]
  },
  {
   "cell_type": "code",
   "execution_count": 7,
   "id": "a6ee4d84",
   "metadata": {},
   "outputs": [
    {
     "data": {
      "text/plain": [
       "{'key1': 345, 'key2': [22, 33, 44], 'key3': ['Ben', 'Cain', 'Dan']}"
      ]
     },
     "execution_count": 7,
     "metadata": {},
     "output_type": "execute_result"
    }
   ],
   "source": [
    "# Dictionaries are mutable, replace key1 value.\n",
    "a_dict['key1'] = 345\n",
    "a_dict"
   ]
  },
  {
   "cell_type": "code",
   "execution_count": 8,
   "id": "74d0e594",
   "metadata": {},
   "outputs": [
    {
     "data": {
      "text/plain": [
       "{}"
      ]
     },
     "execution_count": 8,
     "metadata": {},
     "output_type": "execute_result"
    }
   ],
   "source": [
    "# Create an empty dictionary.\n",
    "e_dict = {}\n",
    "e_dict"
   ]
  },
  {
   "cell_type": "code",
   "execution_count": 9,
   "id": "46b39e25",
   "metadata": {},
   "outputs": [
    {
     "data": {
      "text/plain": [
       "{'Name': 'Sam'}"
      ]
     },
     "execution_count": 9,
     "metadata": {},
     "output_type": "execute_result"
    }
   ],
   "source": [
    "# Populate first key\n",
    "e_dict['Name'] = 'Sam'\n",
    "e_dict"
   ]
  },
  {
   "cell_type": "code",
   "execution_count": 10,
   "id": "bdeab6b4",
   "metadata": {},
   "outputs": [
    {
     "data": {
      "text/plain": [
       "{'Name': 'Sam', 'Age': 22}"
      ]
     },
     "execution_count": 10,
     "metadata": {},
     "output_type": "execute_result"
    }
   ],
   "source": [
    "# Populate second key\n",
    "e_dict['Age'] = 22\n",
    "e_dict"
   ]
  },
  {
   "cell_type": "code",
   "execution_count": 11,
   "id": "0d695dd3",
   "metadata": {},
   "outputs": [
    {
     "data": {
      "text/plain": [
       "{'Name': 'Sam', 'Age': 22, 'Position': 'Attack'}"
      ]
     },
     "execution_count": 11,
     "metadata": {},
     "output_type": "execute_result"
    }
   ],
   "source": [
    "# Populate third key\n",
    "e_dict['Position'] = 'Attack'\n",
    "e_dict"
   ]
  },
  {
   "cell_type": "code",
   "execution_count": 12,
   "id": "a3fc190d",
   "metadata": {},
   "outputs": [
    {
     "data": {
      "text/plain": [
       "dict_keys(['Name', 'Age', 'Position'])"
      ]
     },
     "execution_count": 12,
     "metadata": {},
     "output_type": "execute_result"
    }
   ],
   "source": [
    "# The method .keys returns a list of all keys in the dictionary.\n",
    "e_dict.keys()"
   ]
  },
  {
   "cell_type": "code",
   "execution_count": 13,
   "id": "4312eb98",
   "metadata": {},
   "outputs": [
    {
     "data": {
      "text/plain": [
       "dict_values(['Sam', 22, 'Attack'])"
      ]
     },
     "execution_count": 13,
     "metadata": {},
     "output_type": "execute_result"
    }
   ],
   "source": [
    "# The method .values returns a list of all values in the dictionary.\n",
    "e_dict.values()"
   ]
  },
  {
   "cell_type": "code",
   "execution_count": 14,
   "id": "0ac31145",
   "metadata": {},
   "outputs": [
    {
     "data": {
      "text/plain": [
       "dict_items([('Name', 'Sam'), ('Age', 22), ('Position', 'Attack')])"
      ]
     },
     "execution_count": 14,
     "metadata": {},
     "output_type": "execute_result"
    }
   ],
   "source": [
    "# The method .items returns tuples of all items in the dictionary.\n",
    "# Tuples is a list that starts with '(' and end with ')'\n",
    "e_dict.items()"
   ]
  },
  {
   "cell_type": "code",
   "execution_count": 15,
   "id": "ac775c5f",
   "metadata": {},
   "outputs": [
    {
     "data": {
      "text/plain": [
       "{'Name': 'Sam', 'Position': 'Attack'}"
      ]
     },
     "execution_count": 15,
     "metadata": {},
     "output_type": "execute_result"
    }
   ],
   "source": [
    "# The del() method delets a key value pair in the dictionary.\n",
    "del(e_dict['Age'])\n",
    "e_dict"
   ]
  },
  {
   "cell_type": "code",
   "execution_count": 16,
   "id": "36bf08d2",
   "metadata": {},
   "outputs": [
    {
     "ename": "NameError",
     "evalue": "name 'e_dict' is not defined",
     "output_type": "error",
     "traceback": [
      "\u001b[1;31m---------------------------------------------------------------------------\u001b[0m",
      "\u001b[1;31mNameError\u001b[0m                                 Traceback (most recent call last)",
      "Cell \u001b[1;32mIn[16], line 3\u001b[0m\n\u001b[0;32m      1\u001b[0m \u001b[38;5;66;03m# It can also delete the whole dictionary.\u001b[39;00m\n\u001b[0;32m      2\u001b[0m \u001b[38;5;28;01mdel\u001b[39;00m(e_dict)\n\u001b[1;32m----> 3\u001b[0m e_dict\n",
      "\u001b[1;31mNameError\u001b[0m: name 'e_dict' is not defined"
     ]
    }
   ],
   "source": [
    "# It can also delete the whole dictionary.\n",
    "del(e_dict)\n",
    "e_dict"
   ]
  },
  {
   "cell_type": "code",
   "execution_count": 17,
   "id": "327e9cf9",
   "metadata": {},
   "outputs": [
    {
     "name": "stdout",
     "output_type": "stream",
     "text": [
      "True\n",
      "False\n"
     ]
    }
   ],
   "source": [
    "# Verification of keys using 'in' or 'not in'.\n",
    "e_dict = {'Name': 'Sam', 'Age': 22, 'Position': 'Attack'}\n",
    "print('Name' in e_dict)\n",
    "print('Name' not in e_dict)"
   ]
  },
  {
   "cell_type": "code",
   "execution_count": 18,
   "id": "637d17cf",
   "metadata": {},
   "outputs": [
    {
     "data": {
      "text/plain": [
       "{'Name': 'Sam', 'Age': 22, 'Position': 'Attack'}"
      ]
     },
     "execution_count": 18,
     "metadata": {},
     "output_type": "execute_result"
    }
   ],
   "source": [
    "# The dict() function can also be used to create a dictionary\n",
    "# Here the keys need no '' and the : is replaced with =\n",
    "e_dict = dict(Name = 'Sam', Age = 22, Position = 'Attack')\n",
    "e_dict"
   ]
  },
  {
   "cell_type": "code",
   "execution_count": 19,
   "id": "02fccc1a",
   "metadata": {},
   "outputs": [
    {
     "ename": "KeyError",
     "evalue": "1",
     "output_type": "error",
     "traceback": [
      "\u001b[1;31m---------------------------------------------------------------------------\u001b[0m",
      "\u001b[1;31mKeyError\u001b[0m                                  Traceback (most recent call last)",
      "Cell \u001b[1;32mIn[19], line 2\u001b[0m\n\u001b[0;32m      1\u001b[0m \u001b[38;5;66;03m# Dictionaries do not take numerical index to retrieve the values.\u001b[39;00m\n\u001b[1;32m----> 2\u001b[0m e_dict[\u001b[38;5;241m1\u001b[39m]\n",
      "\u001b[1;31mKeyError\u001b[0m: 1"
     ]
    }
   ],
   "source": [
    "# Dictionaries do not take numerical index to retrieve the values.\n",
    "e_dict[1]"
   ]
  },
  {
   "cell_type": "code",
   "execution_count": 20,
   "id": "97a89fcb",
   "metadata": {},
   "outputs": [
    {
     "data": {
      "text/plain": [
       "{}"
      ]
     },
     "execution_count": 20,
     "metadata": {},
     "output_type": "execute_result"
    }
   ],
   "source": [
    "# The clear() method removes all items in the dictionary returning an empty one.\n",
    "e_dict.clear()\n",
    "e_dict"
   ]
  },
  {
   "cell_type": "code",
   "execution_count": 21,
   "id": "e04e2096",
   "metadata": {},
   "outputs": [
    {
     "name": "stdout",
     "output_type": "stream",
     "text": [
      "{'Name': 'Sam', 'Age': 22, 'Position': 'Attack'}\n",
      "{'Name': 'Sam', 'Age': 22, 'Position': 'Attack'}\n"
     ]
    }
   ],
   "source": [
    "# The copy() method returns a shadow copy of the original dictionary.\n",
    "e_dict = dict(Name = 'Sam', Age = 22, Position = 'Attack')\n",
    "e_dict_copy = e_dict.copy()\n",
    "print(e_dict)\n",
    "print(e_dict_copy)"
   ]
  },
  {
   "cell_type": "code",
   "execution_count": 22,
   "id": "f3492fde",
   "metadata": {},
   "outputs": [
    {
     "name": "stdout",
     "output_type": "stream",
     "text": [
      "('Position', 'Attack')\n",
      "{'Name': 'Sam', 'Age': 22}\n"
     ]
    }
   ],
   "source": [
    "# The popitem() method removes the abitrary items from the dictionary and returns as a tuple.\n",
    "e_dict = dict(Name = 'Sam', Age = 22, Position = 'Attack')\n",
    "print(e_dict.popitem())\n",
    "print(e_dict)"
   ]
  },
  {
   "cell_type": "code",
   "execution_count": 23,
   "id": "537582cd",
   "metadata": {},
   "outputs": [
    {
     "ename": "TypeError",
     "evalue": "dict.popitem() takes no arguments (1 given)",
     "output_type": "error",
     "traceback": [
      "\u001b[1;31m---------------------------------------------------------------------------\u001b[0m",
      "\u001b[1;31mTypeError\u001b[0m                                 Traceback (most recent call last)",
      "Cell \u001b[1;32mIn[23], line 3\u001b[0m\n\u001b[0;32m      1\u001b[0m \u001b[38;5;66;03m# Note, the popitem() method takes no input.\u001b[39;00m\n\u001b[0;32m      2\u001b[0m e_dict \u001b[38;5;241m=\u001b[39m \u001b[38;5;28mdict\u001b[39m(Name \u001b[38;5;241m=\u001b[39m \u001b[38;5;124m'\u001b[39m\u001b[38;5;124mSam\u001b[39m\u001b[38;5;124m'\u001b[39m, Age \u001b[38;5;241m=\u001b[39m \u001b[38;5;241m22\u001b[39m, Position \u001b[38;5;241m=\u001b[39m \u001b[38;5;124m'\u001b[39m\u001b[38;5;124mAttack\u001b[39m\u001b[38;5;124m'\u001b[39m)\n\u001b[1;32m----> 3\u001b[0m \u001b[38;5;28mprint\u001b[39m(e_dict\u001b[38;5;241m.\u001b[39mpopitem(\u001b[38;5;241m2\u001b[39m))\n\u001b[0;32m      4\u001b[0m \u001b[38;5;28mprint\u001b[39m(e_dict)\n",
      "\u001b[1;31mTypeError\u001b[0m: dict.popitem() takes no arguments (1 given)"
     ]
    }
   ],
   "source": [
    "# Note, the popitem() method takes no input.\n",
    "e_dict = dict(Name = 'Sam', Age = 22, Position = 'Attack')\n",
    "print(e_dict.popitem(2))\n",
    "print(e_dict)"
   ]
  },
  {
   "cell_type": "code",
   "execution_count": 24,
   "id": "336048c9",
   "metadata": {},
   "outputs": [
    {
     "name": "stdout",
     "output_type": "stream",
     "text": [
      "Attack\n"
     ]
    }
   ],
   "source": [
    "# The get() method returns the value for the specified key if it is available in the dictionary.\n",
    "e_dict = dict(Name = 'Sam', Age = 22, Position = 'Attack')\n",
    "print(e_dict.get('Position'))"
   ]
  },
  {
   "cell_type": "code",
   "execution_count": 25,
   "id": "5e48743b",
   "metadata": {},
   "outputs": [
    {
     "name": "stdout",
     "output_type": "stream",
     "text": [
      "None\n"
     ]
    }
   ],
   "source": [
    "# If the key is not available, get() method returns None.\n",
    "e_dict = dict(Name = 'Sam', Age = 22, Position = 'Attack')\n",
    "print(e_dict.get('Goals'))"
   ]
  },
  {
   "cell_type": "code",
   "execution_count": 26,
   "id": "255d7e01",
   "metadata": {},
   "outputs": [
    {
     "name": "stdout",
     "output_type": "stream",
     "text": [
      "{'Position': None, 'Name': None, 'Age': None}\n"
     ]
    }
   ],
   "source": [
    "# The fromkeys() method returns a new dictionary with the certain sequence of the items as the keys \n",
    "# of the dictionary and the values are assigned with None.\n",
    "keys = {'Name', 'Age', 'Position'}\n",
    "new_dict = dict.fromkeys(keys)\n",
    "print(new_dict)"
   ]
  },
  {
   "cell_type": "code",
   "execution_count": 27,
   "id": "478f93e1",
   "metadata": {
    "scrolled": true
   },
   "outputs": [
    {
     "name": "stdout",
     "output_type": "stream",
     "text": [
      "{'key1': 'value1', 'key2': 'value2', 'key3': 'value3', 'Name': 'Sam', 'Age': 22, 'Position': 'Attack'}\n"
     ]
    }
   ],
   "source": [
    "# The update() method integrates a dictionary with another dictionary or with an iterable of key:value pairs.\n",
    "a_dict = {'key1':'value1', 'key2':'value2', 'key3':'value3'}\n",
    "e_dict = dict(Name = 'Sam', Age = 22, Position = 'Attack')\n",
    "a_dict.update(e_dict)\n",
    "print(a_dict)"
   ]
  }
 ],
 "metadata": {
  "kernelspec": {
   "display_name": "Python 3 (ipykernel)",
   "language": "python",
   "name": "python3"
  },
  "language_info": {
   "codemirror_mode": {
    "name": "ipython",
    "version": 3
   },
   "file_extension": ".py",
   "mimetype": "text/x-python",
   "name": "python",
   "nbconvert_exporter": "python",
   "pygments_lexer": "ipython3",
   "version": "3.11.4"
  }
 },
 "nbformat": 4,
 "nbformat_minor": 5
}
