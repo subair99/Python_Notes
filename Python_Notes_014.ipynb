{
 "cells": [
  {
   "cell_type": "markdown",
   "id": "e4128187",
   "metadata": {},
   "source": [
    "# Python_Notes_014"
   ]
  },
  {
   "cell_type": "markdown",
   "id": "4949b5d9",
   "metadata": {},
   "source": [
    "## Functional Programming"
   ]
  },
  {
   "cell_type": "markdown",
   "id": "11907cc3",
   "metadata": {},
   "source": [
    "### Lambda Function\n",
    "This is an anonymous, inlined function defined with lambda. The parameters of the lambda are defined to the left of the colon. The function body is defined to the right of the colon. The result of running the function body is (implicitly) returned."
   ]
  },
  {
   "cell_type": "code",
   "execution_count": 1,
   "id": "d7578ebb",
   "metadata": {},
   "outputs": [
    {
     "data": {
      "text/plain": [
       "9"
      ]
     },
     "execution_count": 1,
     "metadata": {},
     "output_type": "execute_result"
    }
   ],
   "source": [
    "# Lambda function, square.\n",
    "square = lambda x: x*x\n",
    "square(3)"
   ]
  },
  {
   "cell_type": "code",
   "execution_count": 2,
   "id": "4c7635a0",
   "metadata": {},
   "outputs": [
    {
     "data": {
      "text/plain": [
       "3.0"
      ]
     },
     "execution_count": 2,
     "metadata": {},
     "output_type": "execute_result"
    }
   ],
   "source": [
    "# Lambda function, root.\n",
    "root = lambda x: x**0.5\n",
    "root(9)"
   ]
  },
  {
   "cell_type": "code",
   "execution_count": 3,
   "id": "a36047af",
   "metadata": {},
   "outputs": [
    {
     "data": {
      "text/plain": [
       "7"
      ]
     },
     "execution_count": 3,
     "metadata": {},
     "output_type": "execute_result"
    }
   ],
   "source": [
    "# Lambda function, add.\n",
    "add = lambda x, y: x + y\n",
    "add(3, 4)"
   ]
  },
  {
   "cell_type": "code",
   "execution_count": 4,
   "id": "18edfca3",
   "metadata": {},
   "outputs": [
    {
     "data": {
      "text/plain": [
       "5"
      ]
     },
     "execution_count": 4,
     "metadata": {},
     "output_type": "execute_result"
    }
   ],
   "source": [
    "# Lambda function, subtract.\n",
    "add = lambda x, y: y - x\n",
    "add(4, 9)"
   ]
  },
  {
   "cell_type": "code",
   "execution_count": 5,
   "id": "766e83ba",
   "metadata": {},
   "outputs": [
    {
     "name": "stdout",
     "output_type": "stream",
     "text": [
      "Length of the hypotenous, c: 3\n"
     ]
    }
   ],
   "source": [
    "# Lambda function reuse pythagoras theorem.\n",
    "c = root(add(square(3), square(4)))\n",
    "print(f'Length of the hypotenous, c: {round(c)}')"
   ]
  },
  {
   "cell_type": "markdown",
   "id": "c7292900",
   "metadata": {},
   "source": [
    "### Map Function\n",
    "This takes a function and a collection of items. It makes a new, empty collection, runs the function on each item in the original collection and inserts each return value into the new collection and returns it."
   ]
  },
  {
   "cell_type": "code",
   "execution_count": 6,
   "id": "26d2df49",
   "metadata": {},
   "outputs": [
    {
     "name": "stdout",
     "output_type": "stream",
     "text": [
      "<map object at 0x000001F5CB0D5F60>\n"
     ]
    }
   ],
   "source": [
    "# Map function, find length\n",
    "name_list = [\"Michael\", \"Elizabeth\", \"John\"]\n",
    "name_lengths = map(len, name_list)\n",
    "print(name_lengths) # This will generate a map object."
   ]
  },
  {
   "cell_type": "code",
   "execution_count": 7,
   "id": "4a44b558",
   "metadata": {},
   "outputs": [
    {
     "name": "stdout",
     "output_type": "stream",
     "text": [
      "[7, 9, 4]\n"
     ]
    }
   ],
   "source": [
    "# To get a readable object introduce list method.\n",
    "print(list(name_lengths))"
   ]
  },
  {
   "cell_type": "code",
   "execution_count": 8,
   "id": "021fecfe",
   "metadata": {},
   "outputs": [
    {
     "name": "stdout",
     "output_type": "stream",
     "text": [
      "()\n"
     ]
    }
   ],
   "source": [
    "# Or a tuple method, but the stored mapobject can only be used once.\n",
    "print(tuple(name_lengths))"
   ]
  },
  {
   "cell_type": "code",
   "execution_count": 9,
   "id": "314a590d",
   "metadata": {},
   "outputs": [
    {
     "name": "stdout",
     "output_type": "stream",
     "text": [
      "(7, 9, 4)\n"
     ]
    }
   ],
   "source": [
    "# To get use the tuple method, the map function has to be run again.\n",
    "name_lengths = map(len, name_list)\n",
    "print(tuple(name_lengths))"
   ]
  },
  {
   "cell_type": "code",
   "execution_count": 10,
   "id": "868edc20",
   "metadata": {},
   "outputs": [
    {
     "name": "stdout",
     "output_type": "stream",
     "text": [
      "The cubes roots of the numbers in cubes are: [2, 3, 4, 5, 6]\n"
     ]
    }
   ],
   "source": [
    "# Map function, find cube root.\n",
    "cubes = [8, 27, 64, 125, 216]\n",
    "func1 = lambda x: round(x**(1/3))\n",
    "cube_roots = map(func1, cubes)\n",
    "print(f'The cubes roots of the numbers in cubes are: {list(cube_roots)}')"
   ]
  },
  {
   "cell_type": "markdown",
   "id": "82279d0a",
   "metadata": {},
   "source": [
    "### Reduce Function\n",
    "This takes a function and a collection of items. It returns a value that is created by combining the items. it needs to be imported from functools."
   ]
  },
  {
   "cell_type": "code",
   "execution_count": 11,
   "id": "b4c4c6aa",
   "metadata": {},
   "outputs": [
    {
     "name": "stdout",
     "output_type": "stream",
     "text": [
      "The sum of items in numbers is: 21\n"
     ]
    }
   ],
   "source": [
    "# Reduce function, find sum.\n",
    "from functools import reduce\n",
    "numbers = [1, 2, 3, 4, 5, 6]\n",
    "func2 = lambda a, b: a + b\n",
    "addition = reduce(func2, numbers)\n",
    "print(f'The sum of items in numbers is: {addition}')"
   ]
  },
  {
   "cell_type": "code",
   "execution_count": 12,
   "id": "493d268b",
   "metadata": {},
   "outputs": [
    {
     "name": "stdout",
     "output_type": "stream",
     "text": [
      "The maximum item in numbers is: 6\n"
     ]
    }
   ],
   "source": [
    "# Reduce function, find maximum.\n",
    "from functools import reduce\n",
    "numbers = [1, 2, 3, 4, 5, 6]\n",
    "func3 = lambda a, b: a if a > b else b\n",
    "maximum = reduce(func3, numbers)\n",
    "print(f'The maximum item in numbers is: {maximum}')"
   ]
  },
  {
   "cell_type": "code",
   "execution_count": 13,
   "id": "12becb66",
   "metadata": {},
   "outputs": [
    {
     "name": "stdout",
     "output_type": "stream",
     "text": [
      "The minimum item in numbers is: 1\n"
     ]
    }
   ],
   "source": [
    "# Reduce function, find minimum.\n",
    "from functools import reduce\n",
    "numbers = [1, 2, 3, 4, 5, 6]\n",
    "func4 = lambda a, b: b if a > b else a\n",
    "minimum = reduce(func4, numbers)\n",
    "print(f'The minimum item in numbers is: {minimum}')"
   ]
  },
  {
   "cell_type": "markdown",
   "id": "1d40bc0d",
   "metadata": {},
   "source": [
    "### Filter Function\n",
    "This takes a function and a collection and returns a collection of every item for which the function returned True."
   ]
  },
  {
   "cell_type": "code",
   "execution_count": 14,
   "id": "1fc2b8b0",
   "metadata": {},
   "outputs": [
    {
     "name": "stdout",
     "output_type": "stream",
     "text": [
      "The filtered elements are: [5, 6]\n"
     ]
    }
   ],
   "source": [
    "# Filter function.\n",
    "numbers = [1, 2, 3, 4, 5, 6]\n",
    "func5 = lambda x: x > 4\n",
    "result = filter(func5, numbers)\n",
    "print(f'The filtered elements are: {list(result)}')"
   ]
  },
  {
   "cell_type": "code",
   "execution_count": 15,
   "id": "4343592e",
   "metadata": {},
   "outputs": [
    {
     "name": "stdout",
     "output_type": "stream",
     "text": [
      "The vowels in word are: ['o', 'i', 'a', 'e', 'a', 'o', 'a', 'i', 'a', 'u', 'a', 'e']\n"
     ]
    }
   ],
   "source": [
    "# Filter function, select vowels.\n",
    "vowels = ['a', 'e', 'i', 'o', 'u']\n",
    "word = 'python is a great programming language'\n",
    "expand = [x for x in word]\n",
    "func6 = lambda x: x in vowels\n",
    "select = filter(func6, expand)\n",
    "print(f'The vowels in word are: {list(select)}')"
   ]
  },
  {
   "cell_type": "code",
   "execution_count": 16,
   "id": "130ced19",
   "metadata": {},
   "outputs": [
    {
     "name": "stdout",
     "output_type": "stream",
     "text": [
      "The even number in the range are: [2, 4, 6, 8, 10, 12, 14, 16, 18, 20]\n"
     ]
    }
   ],
   "source": [
    "# Filter function, select even numbers.\n",
    "numbers = range(1,21)\n",
    "func7 = lambda x: x if x % 2 == 0 else None\n",
    "even = filter(func7, numbers)\n",
    "print(f'The even number in the range are: {list(even)}')"
   ]
  }
 ],
 "metadata": {
  "kernelspec": {
   "display_name": "Python 3 (ipykernel)",
   "language": "python",
   "name": "python3"
  },
  "language_info": {
   "codemirror_mode": {
    "name": "ipython",
    "version": 3
   },
   "file_extension": ".py",
   "mimetype": "text/x-python",
   "name": "python",
   "nbconvert_exporter": "python",
   "pygments_lexer": "ipython3",
   "version": "3.11.4"
  }
 },
 "nbformat": 4,
 "nbformat_minor": 5
}
