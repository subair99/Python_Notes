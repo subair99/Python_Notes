{
 "cells": [
  {
   "cell_type": "markdown",
   "id": "e4128187",
   "metadata": {},
   "source": [
    "# Python_Notes_016"
   ]
  },
  {
   "cell_type": "markdown",
   "id": "4949b5d9",
   "metadata": {},
   "source": [
    "## Classes\n",
    "Python is also an object oriented programming language and classes provide a means of bundling data and functionality together. The action of creating concrete objects from an existing class is known as **instantiation**. Creating a new class creates a new type of object, allowing new instances of that type to be made. Each class instance can have attributes attached to it for maintaining its state. "
   ]
  },
  {
   "cell_type": "code",
   "execution_count": 1,
   "id": "766e83ba",
   "metadata": {},
   "outputs": [],
   "source": [
    "# Define a sinple class.\n",
    "class Shape:\n",
    "    def __init__(self, length, height): # The .__init__() method initializes, defines and  \n",
    "        self.length = length           # sets the initial values for the attributes.\n",
    "        self.height = height\n",
    "\n",
    "    def area(self):\n",
    "        return self.length * self.height"
   ]
  },
  {
   "cell_type": "code",
   "execution_count": 2,
   "id": "70cb83a7",
   "metadata": {},
   "outputs": [
    {
     "name": "stdout",
     "output_type": "stream",
     "text": [
      "length of sha1 is: 7\n",
      "height of sha1 is: 2\n"
     ]
    }
   ],
   "source": [
    "# Test the simple class with length=5 and height=2.\n",
    "sha1 = Shape(7, 2)\n",
    "print(f'length of sha1 is: {sha1.length}')\n",
    "print(f'height of sha1 is: {sha1.height}')"
   ]
  },
  {
   "cell_type": "code",
   "execution_count": 5,
   "id": "cd4b5009",
   "metadata": {},
   "outputs": [
    {
     "name": "stdout",
     "output_type": "stream",
     "text": [
      "Area of sha1 is: 14\n"
     ]
    }
   ],
   "source": [
    "# Calculate area.\n",
    "sha1_area = sha1.area()\n",
    "print(f'Area of sha1 is: {sha1_area}')"
   ]
  },
  {
   "cell_type": "code",
   "execution_count": 6,
   "id": "1f635c5a",
   "metadata": {},
   "outputs": [
    {
     "name": "stdout",
     "output_type": "stream",
     "text": [
      "Area of sha2 is: 18\n"
     ]
    }
   ],
   "source": [
    "# Recap, to calculate area define the shape and use the area method.\n",
    "sha2 = Shape(6, 3)\n",
    "print(f'Area of sha2 is: {sha2.area()}')"
   ]
  },
  {
   "cell_type": "markdown",
   "id": "a9533661",
   "metadata": {},
   "source": [
    "### Inheritance\n",
    "This allows a class to be defined to inherit all the methods and properties from another class. The parent class is the class being inherited from, and also called base class. Child class is the class that inherits from another class, also called derived class."
   ]
  },
  {
   "cell_type": "code",
   "execution_count": 75,
   "id": "0854643b",
   "metadata": {},
   "outputs": [],
   "source": [
    "# inherit the from sinple class.\n",
    "class Shape:\n",
    "    def __init__(self, length, height, base, radius): \n",
    "        self.length = length\n",
    "        self.height = height\n",
    "        self.height = base\n",
    "        self.radius = radius\n",
    "        \n",
    "    def Rectangle_area(self, length, height):\n",
    "        return self.length * self.height\n",
    "    \n"
   ]
  },
  {
   "cell_type": "code",
   "execution_count": 76,
   "id": "514f35ee",
   "metadata": {},
   "outputs": [
    {
     "ename": "TypeError",
     "evalue": "Shape.__init__() missing 2 required positional arguments: 'base' and 'radius'",
     "output_type": "error",
     "traceback": [
      "\u001b[1;31m---------------------------------------------------------------------------\u001b[0m",
      "\u001b[1;31mTypeError\u001b[0m                                 Traceback (most recent call last)",
      "Cell \u001b[1;32mIn[76], line 2\u001b[0m\n\u001b[0;32m      1\u001b[0m \u001b[38;5;66;03m# Test Rectangle inheritance.\u001b[39;00m\n\u001b[1;32m----> 2\u001b[0m rec \u001b[38;5;241m=\u001b[39m Rectangle(\u001b[38;5;241m4\u001b[39m, \u001b[38;5;241m3\u001b[39m)\n\u001b[0;32m      3\u001b[0m \u001b[38;5;28mprint\u001b[39m(\u001b[38;5;124mf\u001b[39m\u001b[38;5;124m'\u001b[39m\u001b[38;5;124mArea of rec is: \u001b[39m\u001b[38;5;132;01m{\u001b[39;00mrec\u001b[38;5;241m.\u001b[39mRectangle_area()\u001b[38;5;132;01m}\u001b[39;00m\u001b[38;5;124m'\u001b[39m)\n",
      "\u001b[1;31mTypeError\u001b[0m: Shape.__init__() missing 2 required positional arguments: 'base' and 'radius'"
     ]
    }
   ],
   "source": [
    "# Test Rectangle inheritance.\n",
    "rec = Rectangle(4, 3)\n",
    "print(f'Area of rec is: {rec.Rectangle_area()}')"
   ]
  },
  {
   "cell_type": "code",
   "execution_count": null,
   "id": "fd2dd1ec",
   "metadata": {},
   "outputs": [],
   "source": []
  },
  {
   "cell_type": "code",
   "execution_count": null,
   "id": "0511722f",
   "metadata": {},
   "outputs": [],
   "source": []
  },
  {
   "cell_type": "code",
   "execution_count": null,
   "id": "8b38bdf5",
   "metadata": {},
   "outputs": [],
   "source": [
    "class Rectangle(Shape):\n",
    "    def Rectangle_area(self):\n",
    "        return self.length**2\n",
    "    \n",
    "class Triangle(Shape)\n",
    "    def Triangle_area(self):\n",
    "        return 0.5 * self.base * self.height"
   ]
  },
  {
   "cell_type": "code",
   "execution_count": null,
   "id": "06c32401",
   "metadata": {},
   "outputs": [],
   "source": []
  },
  {
   "cell_type": "code",
   "execution_count": 56,
   "id": "68d597bd",
   "metadata": {},
   "outputs": [
    {
     "ename": "AttributeError",
     "evalue": "'Rectangle' object has no attribute 'Square_area'",
     "output_type": "error",
     "traceback": [
      "\u001b[1;31m---------------------------------------------------------------------------\u001b[0m",
      "\u001b[1;31mAttributeError\u001b[0m                            Traceback (most recent call last)",
      "Cell \u001b[1;32mIn[56], line 3\u001b[0m\n\u001b[0;32m      1\u001b[0m \u001b[38;5;66;03m# Test Square inheritance.\u001b[39;00m\n\u001b[0;32m      2\u001b[0m sqr \u001b[38;5;241m=\u001b[39m Rectangle(\u001b[38;5;241m4\u001b[39m, \u001b[38;5;241m1\u001b[39m)\n\u001b[1;32m----> 3\u001b[0m \u001b[38;5;28mprint\u001b[39m(\u001b[38;5;124mf\u001b[39m\u001b[38;5;124m'\u001b[39m\u001b[38;5;124mArea of sqr is: \u001b[39m\u001b[38;5;132;01m{\u001b[39;00msqr\u001b[38;5;241m.\u001b[39mSquare_area()\u001b[38;5;132;01m}\u001b[39;00m\u001b[38;5;124m'\u001b[39m)\n",
      "\u001b[1;31mAttributeError\u001b[0m: 'Rectangle' object has no attribute 'Square_area'"
     ]
    }
   ],
   "source": [
    "# Test Square inheritance.\n",
    "sqr = Rectangle(4, 1)\n",
    "print(f'Area of sqr is: {sqr.Square_area()}')"
   ]
  },
  {
   "cell_type": "code",
   "execution_count": null,
   "id": "3d8b442f",
   "metadata": {},
   "outputs": [],
   "source": []
  },
  {
   "cell_type": "code",
   "execution_count": null,
   "id": "63eba81f",
   "metadata": {},
   "outputs": [],
   "source": []
  },
  {
   "cell_type": "code",
   "execution_count": null,
   "id": "477f950b",
   "metadata": {},
   "outputs": [],
   "source": []
  },
  {
   "cell_type": "code",
   "execution_count": 20,
   "id": "26d2df49",
   "metadata": {},
   "outputs": [
    {
     "name": "stdout",
     "output_type": "stream",
     "text": [
      "The Car Make is Volkswagen\n",
      "The Car Model is Golf\n",
      "The Car Year is 2010\n",
      "The Car Weight is 1,164 Kg\n",
      "NeedsMaintenance is False \n",
      "TripsSinceMaintenance is 69\n",
      "\n",
      "The Car Make is Toyota\n",
      "The Car Model is Corolla\n",
      "The Car Year is 2019\n",
      "The Car Weight is 1,280 Kg\n",
      "NeedsMaintenance is True \n",
      "TripsSinceMaintenance is 108\n",
      "\n",
      "The Car Make is Mercedes-Benz\n",
      "The Car Model is E350\n",
      "The Car Year is 2017\n",
      "The Car Weight is 2,048 Kg\n",
      "NeedsMaintenance is False \n",
      "TripsSinceMaintenance is 95\n",
      "\n",
      "The Plane Make is Boeing\n",
      "The Plane Model is 737-MAX\n",
      "The Plane Year is 2020\n",
      "The Plane Weight is 224,156 Kg\n",
      "NeedsMaintenance is True \n",
      "TripsSinceMaintenance is 100\n",
      "\n",
      "The Plane Make is Airbus\n",
      "The Plane Model is A380\n",
      "The Plane Year is 2021\n",
      "The Plane Weight is 575,124 Kg\n",
      "NeedsMaintenance is False \n",
      "TripsSinceMaintenance is 89\n",
      "\n"
     ]
    }
   ],
   "source": [
    "\n",
    "import random\n",
    "\n",
    "\n",
    "class Vehicle:\n",
    "    \n",
    "    def __init__(self, Make, Model, Year, Weight):\n",
    "        self.Make = Make\n",
    "        self.Model = Model\n",
    "        self.Year = Year\n",
    "        self.Weight = Weight\n",
    "        self.NeedsMaintenance = False\n",
    "        self.TripsSinceMaintenance = 0\n",
    "\n",
    "        \n",
    "    def getMaintenanceStatus(self):\n",
    "        return self.NeedsMaintenance\n",
    "\n",
    "    \n",
    "    def getTripsSinceMaintenance(self):\n",
    "        return self.TripsSinceMaintenance\n",
    "\n",
    "    \n",
    "    def startTrip(self):\n",
    "        self.TripsSinceMaintenance += 1\n",
    "        if self.TripsSinceMaintenance >= 100:\n",
    "            self.NeedsMaintenance = True\n",
    "\n",
    "            \n",
    "    def Repair(self):\n",
    "        if self.NeedsMaintenance:\n",
    "            self.TripsSinceMaintenance = 0\n",
    "            self.NeedsMaintenance = False\n",
    "            return True\n",
    "        else:\n",
    "            return False\n",
    "\n",
    "\n",
    "        \n",
    "class Cars(Vehicle):\n",
    "    \n",
    "    def __init__(self, Make, Model, Year, Weight):\n",
    "        Vehicle.__init__(self, Make, Model, Year, Weight)\n",
    "        self.isDriving = False\n",
    "\n",
    "        \n",
    "    def Drive(self):\n",
    "        if not self.isDriving:\n",
    "            self.isDriving = True\n",
    "            return True\n",
    "        else:\n",
    "            return False\n",
    "\n",
    "        \n",
    "    def Stop(self):\n",
    "        if self.isDriving:\n",
    "            self.isDriving = False\n",
    "            self.startTrip()\n",
    "            return True\n",
    "        else:\n",
    "            return False\n",
    "\n",
    "                \n",
    "    def __str__(self):\n",
    "        return \"The Car Make is \" + self.Make + \\\n",
    "                \"\\n\" + \"The Car Model is \" + self.Model + \\\n",
    "                \"\\n\" + \"The Car Year is \" + str(self.Year) + \\\n",
    "                \"\\n\" + \"The Car Weight is \" + str(self.Weight) + \\\n",
    "                (\"\\n\" + \"NeedsMaintenance is True \" if self.NeedsMaintenance \n",
    "                else \"\\n\" + \"NeedsMaintenance is False \") + \"\\n\" + \\\n",
    "                \"TripsSinceMaintenance is \" + str(self.TripsSinceMaintenance) + \"\\n\"\n",
    "                \n",
    "                \n",
    "class Plane(Vehicle):\n",
    "\n",
    "    def __init__(self, Make, Model, Year, Weight):\n",
    "        Vehicle.__init__(self, Make, Model, Year, Weight)\n",
    "        self.isFlying = False\n",
    "\n",
    "        \n",
    "    def Fly(self):\n",
    "        if not self.getMaintenanceStatus():\n",
    "            if not self.isFlying:\n",
    "                self.isFlying = True\n",
    "                return True\n",
    "            else:\n",
    "                return False\n",
    "\n",
    "            \n",
    "    def Land(self):\n",
    "        if self.isFlying:\n",
    "            self.isFlying = False\n",
    "            self.startTrip()\n",
    "            return True\n",
    "        else:\n",
    "            return False\n",
    "\n",
    "    \n",
    "    def __str__(self):\n",
    "        return \"The Plane Make is \" + self.Make + \\\n",
    "                \"\\n\" + \"The Plane Model is \" + self.Model + \\\n",
    "                \"\\n\" + \"The Plane Year is \" + str(self.Year) + \\\n",
    "                \"\\n\" + \"The Plane Weight is \" + str(self.Weight) + \\\n",
    "                (\"\\n\" + \"NeedsMaintenance is True \" if self.NeedsMaintenance \n",
    "                else \"\\n\" + \"NeedsMaintenance is False \") + \"\\n\" + \\\n",
    "                \"TripsSinceMaintenance is \" + str(self.TripsSinceMaintenance) + \"\\n\" \n",
    "                \n",
    "\n",
    "Car_1 = Cars(\"Volkswagen\", \"Golf\", 2010, \"1,164 Kg\")\n",
    "Car_2 = Cars(\"Toyota\", \"Corolla\", 2019, \"1,280 Kg\")\n",
    "Car_3 = Cars(\"Mercedes-Benz\", \"E350\", 2017, \"2,048 Kg\")\n",
    "Plane_1 = Plane(\"Boeing\", \"737-MAX\", 2020, \"224,156 Kg\")\n",
    "Plane_2 = Plane(\"Airbus\", \"A380\", 2021, \"575,124 Kg\")\n",
    "\n",
    "\n",
    "for num in range(random.randrange(200)):\n",
    "    Car_1.Drive()\n",
    "    Car_1.Stop()\n",
    "\n",
    "    \n",
    "for num in range(random.randrange(200)):\n",
    "    Car_2.Drive()\n",
    "    Car_2.Stop()\n",
    "\n",
    "    \n",
    "for num in range(random.randrange(200)):\n",
    "    Car_3.Drive()\n",
    "    Car_3.Stop()\n",
    "\n",
    "    \n",
    "for num in range(random.randrange(200)):\n",
    "    Plane_1.Fly()\n",
    "    Plane_1.Land()\n",
    "    \n",
    "\n",
    "for num in range(random.randrange(200)):\n",
    "    Plane_2.Fly()\n",
    "    Plane_2.Land()\n",
    "\n",
    "\n",
    "\n",
    "print(Car_1)\n",
    "print(Car_2)\n",
    "print(Car_3)\n",
    "print(Plane_1)\n",
    "print(Plane_2)"
   ]
  },
  {
   "cell_type": "code",
   "execution_count": null,
   "id": "44969a1d",
   "metadata": {},
   "outputs": [],
   "source": []
  },
  {
   "cell_type": "code",
   "execution_count": null,
   "id": "87d76c6f",
   "metadata": {},
   "outputs": [],
   "source": []
  },
  {
   "cell_type": "markdown",
   "id": "1631fe5e",
   "metadata": {},
   "source": [
    "### Understanding the Benefits of Using Classes in Python\n",
    "Is it worth using classes in Python? Absolutely! Classes are the building blocks of object-oriented programming in Python. They allow you to leverage the power of Python while writing and organizing your code. By learning about classes, you’ll be able to take advantage of all the benefits that they provide. With classes, you can:\n",
    "\n",
    "Model and solve complex real-world problems: You’ll find many situations where the objects in your code map to real-world objects. This can help you think about complex problems, which will result in better solutions to your programming problems.\n",
    "\n",
    "Reuse code and avoid repetition: You can define hierarchies of related classes. The base classes at the top of a hierarchy provide common functionality that you can reuse later in the subclasses down the hierarchy. This allows you to reduce code duplication and promote code reuse.\n",
    "\n",
    "Encapsulate related data and behaviors in a single entity: You can use Python classes to bundle together related attributes and methods in a single entity, the object. This helps you better organize your code using modular and autonomous entities that you can even reuse across multiple projects.\n",
    "\n",
    "Abstract away the implementation details of concepts and objects: You can use classes to abstract away the implementation details of core concepts and objects. This will help you provide your users with intuitive interfaces (APIs) to process complex data and behaviors.\n",
    "\n",
    "Unlock polymorphism with common interfaces: You can implement a particular interface in several slightly different classes and use them interchangeably in your code. This will make your code more flexible and adaptable."
   ]
  },
  {
   "cell_type": "markdown",
   "id": "a9b6fb38",
   "metadata": {},
   "source": [
    "classes aren’t necessary when you’re working with:\n",
    "\n",
    "A small and simple program or script that doesn’t require complex data structures or logic. In this case, using classes may be overkill.\n",
    "\n",
    "A performance-critical program. Classes add overhead to your program, especially when you need to create many objects. This may affect your code’s general performance.\n",
    "\n",
    "A legacy codebase. If an existing codebase doesn’t use classes, then you shouldn’t introduce them. This will break the current coding style and disrupt the code’s consistency.\n",
    "\n",
    "A team with a different coding style. If your current team doesn’t use classes, then stick with their coding style. This will ensure consistency across the project.\n",
    "\n",
    "A codebase that uses functional programming. If a given codebase is currently written with a functional approach, then you shouldn’t introduce classes. This will break the underlying coding paradigm."
   ]
  },
  {
   "cell_type": "code",
   "execution_count": null,
   "id": "05a15dd8",
   "metadata": {},
   "outputs": [],
   "source": []
  },
  {
   "cell_type": "code",
   "execution_count": null,
   "id": "ece72205",
   "metadata": {},
   "outputs": [],
   "source": []
  },
  {
   "cell_type": "code",
   "execution_count": null,
   "id": "0dfb89f7",
   "metadata": {},
   "outputs": [],
   "source": []
  },
  {
   "cell_type": "code",
   "execution_count": null,
   "id": "8359afaf",
   "metadata": {},
   "outputs": [],
   "source": []
  },
  {
   "cell_type": "code",
   "execution_count": null,
   "id": "6c6e184c",
   "metadata": {},
   "outputs": [],
   "source": []
  }
 ],
 "metadata": {
  "kernelspec": {
   "display_name": "Python 3 (ipykernel)",
   "language": "python",
   "name": "python3"
  },
  "language_info": {
   "codemirror_mode": {
    "name": "ipython",
    "version": 3
   },
   "file_extension": ".py",
   "mimetype": "text/x-python",
   "name": "python",
   "nbconvert_exporter": "python",
   "pygments_lexer": "ipython3",
   "version": "3.11.4"
  }
 },
 "nbformat": 4,
 "nbformat_minor": 5
}
