{
 "cells": [
  {
   "cell_type": "markdown",
   "id": "e4128187",
   "metadata": {},
   "source": [
    "# Python_Notes_016"
   ]
  },
  {
   "cell_type": "markdown",
   "id": "4949b5d9",
   "metadata": {},
   "source": [
    "## Classes\n",
    "Python is also an object oriented programming language and classes provide a means of bundling data and functionality together. The action of creating concrete objects from an existing class is known as **instantiation**. Creating a new class creates a new type of object, allowing new instances of that type to be made. Each class instance can have attributes attached to it for maintaining its state. "
   ]
  },
  {
   "cell_type": "markdown",
   "id": "355fe011",
   "metadata": {},
   "source": [
    "### Types of Classes in Python\n",
    "When Python 3 was introduced, the terms class and type for Python native objects became identical such that x.class and type(x) are equal."
   ]
  },
  {
   "cell_type": "code",
   "execution_count": 1,
   "id": "fa51d4ce",
   "metadata": {},
   "outputs": [
    {
     "name": "stdout",
     "output_type": "stream",
     "text": [
      "True\n",
      "True\n",
      "True\n"
     ]
    }
   ],
   "source": [
    "# Check if x.class and type(x) are equal.\n",
    "x = 7\n",
    "y = 'Python 3'\n",
    "z = [3, 4, 5]\n",
    "\n",
    "for var in x, y, z:\n",
    "    print(var.__class__ == type(var))"
   ]
  },
  {
   "cell_type": "code",
   "execution_count": 2,
   "id": "2f847f7a",
   "metadata": {},
   "outputs": [
    {
     "name": "stdout",
     "output_type": "stream",
     "text": [
      "<class 'int'>\n",
      "<class 'float'>\n",
      "<class 'str'>\n",
      "<class 'list'>\n",
      "<class 'tuple'>\n",
      "<class 'dict'>\n",
      "<class 'bool'>\n",
      "<class 'range'>\n",
      "<class 'complex'>\n"
     ]
    }
   ],
   "source": [
    "# Built-in classes (data types) in Python.\n",
    "a = 2\n",
    "b = 3.1\n",
    "c = 'Python 3'\n",
    "d = [2, 3, 4]\n",
    "e = (5, 6, 7)\n",
    "f = {1: 'apple', 2: 'banana', 3: 'carrot'}\n",
    "g = True\n",
    "h = range(3)\n",
    "i = complex(3, -2)\n",
    "\n",
    "for var in a, b, c, d, e, f, g, h, i: # a, b, c is the same as (a, b, c)\n",
    "    print(var.__class__)"
   ]
  },
  {
   "cell_type": "code",
   "execution_count": 3,
   "id": "ca114e7c",
   "metadata": {},
   "outputs": [
    {
     "name": "stdout",
     "output_type": "stream",
     "text": [
      "<__main__.Rectangle object at 0x000001B7D750B710>\n",
      "<__main__.Rectangle object at 0x000001B7D750AED0>\n"
     ]
    }
   ],
   "source": [
    "# Create a simple Employee class.\n",
    "class Rectangle:\n",
    "    pass\n",
    "\n",
    "# Create instance variables of the simple Employee class manually.\n",
    "shape_1 = Rectangle()\n",
    "shape_2 = Rectangle()\n",
    "\n",
    "# Print the location in memory\n",
    "print(shape_1)\n",
    "print(shape_2)"
   ]
  },
  {
   "cell_type": "code",
   "execution_count": 4,
   "id": "12d454a5",
   "metadata": {},
   "outputs": [
    {
     "name": "stdout",
     "output_type": "stream",
     "text": [
      "length of shape_1 is: 7\n",
      "width of shape_1 is: 4\n",
      "length of shape_2 is: 6\n",
      "width of shape_2 is: 5\n"
     ]
    }
   ],
   "source": [
    "# Create attributes of the instances manually.\n",
    "shape_1.length = 7\n",
    "shape_1.width = 4\n",
    "\n",
    "shape_2.length = 6\n",
    "shape_2.width = 5\n",
    "\n",
    "print(f'length of shape_1 is: {shape_1.length}')\n",
    "print(f'width of shape_1 is: {shape_1.width}')\n",
    "print(f'length of shape_2 is: {shape_2.length}')\n",
    "print(f'width of shape_2 is: {shape_2.width}')"
   ]
  },
  {
   "cell_type": "markdown",
   "id": "81249f70",
   "metadata": {},
   "source": [
    "### Classes and Instances"
   ]
  },
  {
   "cell_type": "code",
   "execution_count": 5,
   "id": "e127e3e1",
   "metadata": {},
   "outputs": [
    {
     "name": "stdout",
     "output_type": "stream",
     "text": [
      "Ben\n",
      "Dean\n",
      "40000\n",
      "ben.dean@subit.com\n",
      "Ben Dean\n"
     ]
    }
   ],
   "source": [
    "# Now, create the class with __init__, enabling better instance creation,\n",
    "\n",
    "class Employee:\n",
    "    \n",
    "    def __init__(self, first, last, pay): # The .__init__() method initializes, defines and... \n",
    "        self.first = first                # ...sets the initial values for the attributes.\n",
    "        self.last = last\n",
    "        self.pay = pay\n",
    "        self.email = f'{self.first}.{self.last}@Subit.com'.lower # Derived from the other instances.\n",
    "        self.fullname = f'{self.first} {self.last}'\n",
    "        \n",
    "emp_1 = Employee('Ben', 'Dean', 40000)\n",
    "\n",
    "print(emp_1.first)\n",
    "print(emp_1.last)\n",
    "print(emp_1.pay)\n",
    "print(emp_1.email())  # email() because the .lower has converted it to a method.\n",
    "print(emp_1.fullname)"
   ]
  },
  {
   "cell_type": "markdown",
   "id": "f46d09ac",
   "metadata": {},
   "source": [
    "### Encapsulation\n",
    "This is the process of preventing clients from accessing certain properties, which can only be accessed through specific methods."
   ]
  },
  {
   "cell_type": "code",
   "execution_count": 6,
   "id": "eaff5ce0",
   "metadata": {},
   "outputs": [
    {
     "name": "stdout",
     "output_type": "stream",
     "text": [
      "Ben\n",
      "Dean\n",
      "40000\n"
     ]
    },
    {
     "ename": "AttributeError",
     "evalue": "'Employee' object has no attribute '__raise'",
     "output_type": "error",
     "traceback": [
      "\u001b[1;31m---------------------------------------------------------------------------\u001b[0m",
      "\u001b[1;31mAttributeError\u001b[0m                            Traceback (most recent call last)",
      "Cell \u001b[1;32mIn[6], line 18\u001b[0m\n\u001b[0;32m     16\u001b[0m \u001b[38;5;28mprint\u001b[39m(emp_1\u001b[38;5;241m.\u001b[39mlast)\n\u001b[0;32m     17\u001b[0m \u001b[38;5;28mprint\u001b[39m(emp_1\u001b[38;5;241m.\u001b[39mpay)\n\u001b[1;32m---> 18\u001b[0m \u001b[38;5;28mprint\u001b[39m(emp_1\u001b[38;5;241m.\u001b[39m__raise)\n",
      "\u001b[1;31mAttributeError\u001b[0m: 'Employee' object has no attribute '__raise'"
     ]
    }
   ],
   "source": [
    "# Instantiate a private attribute __raise.\n",
    "\n",
    "class Employee:\n",
    "    \n",
    "    def __init__(self, first, last, pay):\n",
    "        self.first = first\n",
    "        self.last = last\n",
    "        self.pay = pay\n",
    "        self.email = f'{self.first}.{self.last}@Subit.com'.lower\n",
    "        self.fullname = f'{self.first} {self.last}'\n",
    "        self.__raise = 1.04 # Private attribute\n",
    "        \n",
    "emp_1 = Employee('Ben', 'Dean', 40000)\n",
    "\n",
    "print(emp_1.first)\n",
    "print(emp_1.last)\n",
    "print(emp_1.pay)\n",
    "print(emp_1.__raise)"
   ]
  },
  {
   "cell_type": "markdown",
   "id": "3ea84aa1",
   "metadata": {},
   "source": [
    "All the attributes were printed except the private attribute __raise, to access it the getter and setter methods are required."
   ]
  },
  {
   "cell_type": "code",
   "execution_count": 7,
   "id": "1573b1d8",
   "metadata": {},
   "outputs": [
    {
     "name": "stdout",
     "output_type": "stream",
     "text": [
      "42000\n",
      "52500\n"
     ]
    }
   ],
   "source": [
    "# Instantiate a private attribute __raise.\n",
    "\n",
    "class Employee:\n",
    "    \n",
    "    def __init__(self, first, last, pay):\n",
    "        self.first = first\n",
    "        self.last = last\n",
    "        self.pay = pay\n",
    "        self.email = f'{self.first}.{self.last}@Subit.com'.lower\n",
    "        self.fullname = f'{self.first} {self.last}'\n",
    "        self.__raise = None\n",
    "        \n",
    "    def set_raise(self, __raise):\n",
    "        self.__raise = __raise\n",
    "\n",
    "    def get_pay(self):\n",
    "        if self.__raise:\n",
    "            return round(self.pay * (1 + self.__raise))\n",
    "        else:\n",
    "            return self.pay\n",
    "        \n",
    "emp_1 = Employee('Ben', 'Dean', 40000)\n",
    "emp_1.set_raise(0.05)\n",
    "\n",
    "emp_2 = Employee('Jane', 'Jones', 50000)\n",
    "emp_2.set_raise(0.05)\n",
    "\n",
    "print(emp_1.get_pay())\n",
    "print(emp_2.get_pay())"
   ]
  },
  {
   "cell_type": "markdown",
   "id": "e71bb14a",
   "metadata": {},
   "source": [
    "### @classmethod\n",
    "The @classmethod decorator is used to declare a method in the class as a class method that can be called and also be called using an object of the class. It is an alternative of the classmethod() function and it is recommended to use the decorator instead of the function."
   ]
  },
  {
   "cell_type": "code",
   "execution_count": 8,
   "id": "464d5786",
   "metadata": {},
   "outputs": [
    {
     "name": "stdout",
     "output_type": "stream",
     "text": [
      "0.05\n",
      "0.05\n",
      "0.05\n"
     ]
    }
   ],
   "source": [
    "# Create @classmethod method with object raise_amount.\n",
    "\n",
    "class Employee:\n",
    "    \n",
    "    raise_amount = 0.05     \n",
    "    \n",
    "    def __init__(self, first, last, pay):\n",
    "        self.first = first\n",
    "        self.last = last\n",
    "        self.pay = pay\n",
    "        self.email = f'{self.first}.{self.last}@Subit.com'.lower\n",
    "        self.fullname = f'{self.first} {self.last}'\n",
    "        \n",
    "    def new_pay(self):\n",
    "        return round(self.pay * (1 + self.raise_amount), 2)\n",
    "    \n",
    "    def pro_pay(self):\n",
    "        return round(self.pay * (1 + self.raise_amount * self.frac_time()), 2)\n",
    "    \n",
    "    \n",
    "    @classmethod\n",
    "    def set_raise_amount(cls, the_raise): # The cls statement is mandatory.\n",
    "        cls.raise_amount = the_raise\n",
    "\n",
    "        \n",
    "emp_1 = Employee('Ben', 'Dean', 40000)\n",
    "emp_2 = Employee('Jane', 'Jones', 50000)\n",
    "\n",
    "print(Employee.raise_amount)\n",
    "print(emp_1.raise_amount)\n",
    "print(emp_2.raise_amount)"
   ]
  },
  {
   "cell_type": "code",
   "execution_count": 9,
   "id": "5f605111",
   "metadata": {},
   "outputs": [
    {
     "name": "stdout",
     "output_type": "stream",
     "text": [
      "0.06\n",
      "0.06\n",
      "0.06\n"
     ]
    }
   ],
   "source": [
    "# Now use the @classmethod to change the raise_amount to 0.07.\n",
    "Employee.set_raise_amount(0.06)\n",
    "\n",
    "print(Employee.raise_amount)\n",
    "print(emp_1.raise_amount)\n",
    "print(emp_2.raise_amount)"
   ]
  },
  {
   "cell_type": "code",
   "execution_count": 10,
   "id": "992dd09b",
   "metadata": {},
   "outputs": [
    {
     "name": "stdout",
     "output_type": "stream",
     "text": [
      "0.05\n",
      "0.05\n",
      "0.05\n"
     ]
    }
   ],
   "source": [
    "# The class variable can also be used to change the raise_amount back to 0.05.\n",
    "emp_1.set_raise_amount(0.05)\n",
    "\n",
    "print(Employee.raise_amount)\n",
    "print(emp_1.raise_amount)\n",
    "print(emp_2.raise_amount)"
   ]
  },
  {
   "cell_type": "code",
   "execution_count": 11,
   "id": "53b9650b",
   "metadata": {},
   "outputs": [
    {
     "name": "stdout",
     "output_type": "stream",
     "text": [
      "42000.0\n",
      "52500.0\n"
     ]
    }
   ],
   "source": [
    "# The new pay can then be calculated.\n",
    "print(emp_1.new_pay())\n",
    "print(emp_2.new_pay())"
   ]
  },
  {
   "cell_type": "code",
   "execution_count": 12,
   "id": "678333bd",
   "metadata": {},
   "outputs": [
    {
     "name": "stdout",
     "output_type": "stream",
     "text": [
      "ben.dean@subit.com\n",
      "40000\n",
      "Ben Dean\n",
      "42000.0\n"
     ]
    }
   ],
   "source": [
    "# Use @classmethod as alternative constructor.\n",
    "\n",
    "class Employee:\n",
    "    \n",
    "    raise_amount = 0.05     \n",
    "    \n",
    "    def __init__(self, first, last, pay):\n",
    "        self.first = first\n",
    "        self.last = last\n",
    "        self.pay = pay\n",
    "        self.email = f'{self.first}.{self.last}@Subit.com'.lower\n",
    "        self.fullname = f'{self.first} {self.last}'\n",
    "        \n",
    "    def new_pay(self):\n",
    "        return round(float(self.pay) * (1 + self.raise_amount), 2)\n",
    "    \n",
    "    \n",
    "    @classmethod\n",
    "    def set_raise_amount(cls, the_raise):\n",
    "        cls.raise_amount = the_raise\n",
    "        \n",
    "\n",
    "    @classmethod\n",
    "    def from_string(cls, worker_str): # The from is a convention.\n",
    "        first, last, pay = worker_str.split(',')\n",
    "        return cls(first, last, pay)\n",
    "\n",
    "\n",
    "# Say the analyst gets the worker details as a comma seperated string.\n",
    "emp_1_string = 'Ben,Dean,40000'\n",
    "\n",
    "new_emp_1 = Employee.from_string(emp_1_string)\n",
    "\n",
    "print(new_emp_1.email())\n",
    "print(new_emp_1.pay)\n",
    "print(new_emp_1.fullname)\n",
    "print(new_emp_1.new_pay())"
   ]
  },
  {
   "cell_type": "markdown",
   "id": "7ebd58f7",
   "metadata": {},
   "source": [
    "### @staticmethod\n",
    "The @staticmethod is a built-in decorator that defines a static method in the class which doesn't receive any reference argument whether it is called by an instance of a class or by the class itself."
   ]
  },
  {
   "cell_type": "code",
   "execution_count": 13,
   "id": "c9e0c5cf",
   "metadata": {},
   "outputs": [
    {
     "name": "stdout",
     "output_type": "stream",
     "text": [
      "False\n",
      "True\n"
     ]
    }
   ],
   "source": [
    "# Add @staticmethod.\n",
    "\n",
    "class Employee:\n",
    "    \n",
    "    raise_amount = 0.05     \n",
    "    \n",
    "    def __init__(self, first, last, pay):\n",
    "        self.first = first\n",
    "        self.last = last\n",
    "        self.pay = pay\n",
    "        self.fullname = f'{self.first} {self.last}'\n",
    "        \n",
    "    def new_pay(self):\n",
    "        return round(self.pay * (1 + self.raise_amount), 2)\n",
    "    \n",
    "    \n",
    "    @classmethod\n",
    "    def set_raise_amount(cls, the_raise):\n",
    "        cls.raise_amount = the_raise\n",
    "        \n",
    "\n",
    "    @classmethod\n",
    "    def from_string(cls, worker_str): # The from is a convention.\n",
    "        first, last, time, pay = worker_str.split(',')\n",
    "        return cls(first, last, time, pay)\n",
    "    \n",
    "    \n",
    "    @staticmethod\n",
    "    def is_workday(day):\n",
    "        if day.weekday() in (5, 6):\n",
    "            return False\n",
    "        else:\n",
    "            return True\n",
    "    \n",
    "\n",
    "import datetime\n",
    "date_1 = datetime.date(2023, 11, 18)\n",
    "date_2 = datetime.date(2023, 11, 22)\n",
    "\n",
    "emp_1 = Employee('Ben', 'Dean', 40000)\n",
    "emp_2 = Employee('Jane', 'Jones', 50000)\n",
    "\n",
    "print(Employee.is_workday(date_1))\n",
    "print(Employee.is_workday(date_2))"
   ]
  },
  {
   "cell_type": "markdown",
   "id": "a9533661",
   "metadata": {},
   "source": [
    "### Inheritance\n",
    "This allows a class to be defined to inherit all the methods and properties from another class. The parent class is the class being inherited from, and also called base class. Child class is the class that inherits from another class, also called derived class."
   ]
  },
  {
   "cell_type": "code",
   "execution_count": 14,
   "id": "7aad39d8",
   "metadata": {},
   "outputs": [
    {
     "name": "stdout",
     "output_type": "stream",
     "text": [
      "mike.cole@subit.com\n",
      "sue.black@subit.com\n",
      "\n",
      "\n",
      "Help on class Developer in module __main__:\n",
      "\n",
      "class Developer(Employee)\n",
      " |  Developer(first, last, pay)\n",
      " |  \n",
      " |  Method resolution order:\n",
      " |      Developer\n",
      " |      Employee\n",
      " |      builtins.object\n",
      " |  \n",
      " |  Methods inherited from Employee:\n",
      " |  \n",
      " |  __init__(self, first, last, pay)\n",
      " |      Initialize self.  See help(type(self)) for accurate signature.\n",
      " |  \n",
      " |  new_pay(self)\n",
      " |  \n",
      " |  ----------------------------------------------------------------------\n",
      " |  Data descriptors inherited from Employee:\n",
      " |  \n",
      " |  __dict__\n",
      " |      dictionary for instance variables (if defined)\n",
      " |  \n",
      " |  __weakref__\n",
      " |      list of weak references to the object (if defined)\n",
      " |  \n",
      " |  ----------------------------------------------------------------------\n",
      " |  Data and other attributes inherited from Employee:\n",
      " |  \n",
      " |  raise_amount = 0.05\n",
      "\n",
      "None\n"
     ]
    }
   ],
   "source": [
    "# Create a Developer child class and demonstrate inheritance.\n",
    "\n",
    "class Employee:\n",
    "    \n",
    "    raise_amount = 0.05     \n",
    "    \n",
    "    def __init__(self, first, last, pay):\n",
    "        self.first = first\n",
    "        self.last = last\n",
    "        self.pay = pay\n",
    "        self.email = f'{self.first}.{self.last}@Subit.com'.lower\n",
    "        self.fullname = f'{self.first} {self.last}'\n",
    "        \n",
    "    def new_pay(self):\n",
    "        self.pay = round(self.pay * (1 + self.raise_amount), 2)\n",
    "\n",
    "    \n",
    "class Developer(Employee):\n",
    "    pass\n",
    "    \n",
    "\n",
    "dev_1 = Developer('Mike', 'Cole', 60000)\n",
    "dev_2 = Developer('Sue', 'Black', 70000)\n",
    "\n",
    "print(dev_1.email())\n",
    "print(dev_2.email())\n",
    "print('\\n')\n",
    "print(help(Developer))"
   ]
  },
  {
   "cell_type": "code",
   "execution_count": 15,
   "id": "7dc1060a",
   "metadata": {},
   "outputs": [
    {
     "name": "stdout",
     "output_type": "stream",
     "text": [
      "60000\n",
      "63000.0\n"
     ]
    }
   ],
   "source": [
    "# Check if the Developer class also use the pay functions.\n",
    "dev_1 = Developer('Mike', 'Cole', 60000)\n",
    "dev_2 = Developer('Sue', 'Black', 70000)\n",
    "\n",
    "print(dev_1.pay)\n",
    "dev_1.new_pay()\n",
    "print(dev_1.pay)"
   ]
  },
  {
   "cell_type": "code",
   "execution_count": 16,
   "id": "fc0c8367",
   "metadata": {},
   "outputs": [
    {
     "name": "stdout",
     "output_type": "stream",
     "text": [
      "60000\n",
      "64800.0\n"
     ]
    }
   ],
   "source": [
    "# Create a new raise_amount for the Developer class.\n",
    "\n",
    "class Employee:\n",
    "    \n",
    "    raise_amount = 0.05     \n",
    "    \n",
    "    def __init__(self, first, last, pay):\n",
    "        self.first = first\n",
    "        self.last = last\n",
    "        self.pay = pay\n",
    "        self.email = f'{self.first}.{self.last}@Subit.com'.lower\n",
    "        self.fullname = f'{self.first} {self.last}'\n",
    "        \n",
    "    def new_pay(self):\n",
    "        self.pay = round(self.pay * (1 + self.raise_amount), 2)\n",
    "        \n",
    "\n",
    "class Developer(Employee):\n",
    "    raise_amount = 0.08 \n",
    "    \n",
    "\n",
    "dev_1 = Developer('Mike', 'Cole', 60000)\n",
    "dev_2 = Developer('Sue', 'Black', 70000)\n",
    "\n",
    "print(dev_1.pay)\n",
    "dev_1.new_pay()\n",
    "print(dev_1.pay)"
   ]
  },
  {
   "cell_type": "code",
   "execution_count": 17,
   "id": "7adedbcb",
   "metadata": {},
   "outputs": [
    {
     "name": "stdout",
     "output_type": "stream",
     "text": [
      "60000\n",
      "63000.0\n"
     ]
    }
   ],
   "source": [
    "# Check the raise_amount for the Employer class.\n",
    "dev_1 = Employee('Mike', 'Cole', 60000)\n",
    "dev_2 = Developer('Sue', 'Black', 70000)\n",
    "\n",
    "print(dev_1.pay)\n",
    "dev_1.new_pay()\n",
    "print(dev_1.pay)"
   ]
  },
  {
   "cell_type": "code",
   "execution_count": 18,
   "id": "e21f7dfc",
   "metadata": {},
   "outputs": [
    {
     "name": "stdout",
     "output_type": "stream",
     "text": [
      "mike.cole@subit.com\n",
      "Python\n"
     ]
    }
   ],
   "source": [
    "# Create __init__ for Developer class and use super() to extend its instances.\n",
    "\n",
    "class Employee:\n",
    "    \n",
    "    raise_amount = 0.05     \n",
    "    \n",
    "    def __init__(self, first, last, pay):\n",
    "        self.first = first\n",
    "        self.last = last\n",
    "        self.pay = pay\n",
    "        self.email = f'{self.first}.{self.last}@Subit.com'.lower\n",
    "        self.fullname = f'{self.first} {self.last}'\n",
    "        \n",
    "    def new_pay(self):\n",
    "        self.pay = round(self.pay * (1 + self.raise_amount), 2)\n",
    "        \n",
    "\n",
    "class Developer(Employee):\n",
    "    raise_amount = 0.08\n",
    "    \n",
    "    def __init__(self, first, last, pay, language): # Programming Language of developer introduced.\n",
    "        super().__init__(first, last, pay) # This makes it possible for the Employee instances to be available here.\n",
    "                                            # Employee.__init__(self, first, last, pay) also works.\n",
    "        self.language = language\n",
    "    \n",
    "\n",
    "dev_1 = Developer('Mike', 'Cole', 60000, 'Python')\n",
    "dev_2 = Developer('Sue', 'Black', 70000, 'Java')\n",
    "\n",
    "print(dev_1.email())\n",
    "print(dev_1.language)"
   ]
  },
  {
   "cell_type": "code",
   "execution_count": 19,
   "id": "d723dfd8",
   "metadata": {},
   "outputs": [
    {
     "name": "stdout",
     "output_type": "stream",
     "text": [
      "david.john@subit.com\n",
      "Mike Cole\n"
     ]
    }
   ],
   "source": [
    "# Create another child class Manager.\n",
    "\n",
    "class Employee:\n",
    "    \n",
    "    raise_amount = 0.05     \n",
    "    \n",
    "    def __init__(self, first, last, pay):\n",
    "        self.first = first\n",
    "        self.last = last\n",
    "        self.pay = pay\n",
    "        self.email = f'{self.first}.{self.last}@Subit.com'.lower\n",
    "        self.fullname = f'{self.first} {self.last}'\n",
    "        \n",
    "    def new_pay(self):\n",
    "        self.pay = round(self.pay * (1 + self.raise_amount), 2)\n",
    "        \n",
    "\n",
    "class Developer(Employee):\n",
    "    raise_amount = 0.08\n",
    "    \n",
    "    def __init__(self, first, last, pay, language):\n",
    "        super().__init__(first, last, pay)\n",
    "        self.language = language\n",
    "    \n",
    "\n",
    "class Manager(Employee):\n",
    "    raise_amount = 0.08\n",
    "    \n",
    "    def __init__(self, first, last, pay, employees=None): # List of employees under the manager.\n",
    "        super().__init__(first, last, pay)\n",
    "        if employees is None:\n",
    "            self.employees = []\n",
    "        else:\n",
    "            self.employees = employees\n",
    "            \n",
    "    def plus_emp(self, emp):\n",
    "        if emp not in self.employees:\n",
    "            self.employees.append(emp)\n",
    "            \n",
    "    def minus_emp(self, emp):\n",
    "        if emp in self.employees:\n",
    "            self.employees.remove(emp)\n",
    "            \n",
    "    def show_emps(self):\n",
    "        for emp in self.employees:\n",
    "            print(emp.fullname)\n",
    "    \n",
    "\n",
    "dev_1 = Developer('Mike', 'Cole', 60000, 'Python')\n",
    "dev_2 = Developer('Sue', 'Black', 70000, 'Java')\n",
    "\n",
    "man_1 = Manager('David', 'John', 80000, [dev_1])\n",
    "\n",
    "\n",
    "print(man_1.email())\n",
    "man_1.show_emps()"
   ]
  },
  {
   "cell_type": "code",
   "execution_count": 20,
   "id": "c8b168bc",
   "metadata": {},
   "outputs": [
    {
     "name": "stdout",
     "output_type": "stream",
     "text": [
      "david.john@subit.com\n",
      "--> Mike Cole\n"
     ]
    }
   ],
   "source": [
    "# Create another child class Manager.\n",
    "\n",
    "class Employee:\n",
    "    \n",
    "    raise_amount = 0.05     \n",
    "    \n",
    "    def __init__(self, first, last, pay):\n",
    "        self.first = first\n",
    "        self.last = last\n",
    "        self.pay = pay\n",
    "        self.email = f'{self.first}.{self.last}@Subit.com'.lower\n",
    "        self.fullname = f'{self.first} {self.last}'\n",
    "        \n",
    "    def new_pay(self):\n",
    "        self.pay = round(self.pay * (1 + self.raise_amount), 2)\n",
    "        \n",
    "\n",
    "class Developer(Employee):\n",
    "    raise_amount = 0.08\n",
    "    \n",
    "    def __init__(self, first, last, pay, language):\n",
    "        super().__init__(first, last, pay)\n",
    "        self.language = language\n",
    "    \n",
    "\n",
    "class Manager(Employee):\n",
    "    raise_amount = 0.08\n",
    "    \n",
    "    def __init__(self, first, last, pay, employees=None): # List of employees under the manager.\n",
    "        super().__init__(first, last, pay)\n",
    "        if employees is None:\n",
    "            self.employees = []\n",
    "        else:\n",
    "            self.employees = employees\n",
    "            \n",
    "    def plus_emp(self, emp):\n",
    "        if emp not in self.employees:\n",
    "            self.employees.append(emp)\n",
    "            \n",
    "    def minus_emp(self, emp):\n",
    "        if emp in self.employees:\n",
    "            self.employees.remove(emp)\n",
    "            \n",
    "    def show_emps(self):\n",
    "        for emp in self.employees:\n",
    "            print(f'--> {emp.fullname}')\n",
    "    \n",
    "\n",
    "dev_1 = Developer('Mike', 'Cole', 60000, 'Python')\n",
    "dev_2 = Developer('Sue', 'Black', 70000, 'Java')\n",
    "\n",
    "man_1 = Manager('David', 'John', 80000, [dev_1])\n",
    "\n",
    "\n",
    "print(man_1.email())\n",
    "man_1.show_emps()"
   ]
  },
  {
   "cell_type": "code",
   "execution_count": 21,
   "id": "82c76b2d",
   "metadata": {},
   "outputs": [
    {
     "name": "stdout",
     "output_type": "stream",
     "text": [
      "--> Mike Cole\n",
      "-------------\n",
      "--> Mike Cole\n",
      "--> Sue Black\n"
     ]
    }
   ],
   "source": [
    "# Add dev_2 and show man_1.\n",
    "man_1.show_emps()\n",
    "print('-------------')\n",
    "man_1.plus_emp(dev_2)\n",
    "man_1.show_emps()"
   ]
  },
  {
   "cell_type": "code",
   "execution_count": 22,
   "id": "4c07eac4",
   "metadata": {},
   "outputs": [
    {
     "name": "stdout",
     "output_type": "stream",
     "text": [
      "--> Mike Cole\n",
      "--> Sue Black\n",
      "-----------\n",
      "--> Sue Black\n"
     ]
    }
   ],
   "source": [
    "# Remove dev_1 and show man_1.\n",
    "man_1.show_emps()\n",
    "print('-----------')\n",
    "man_1.minus_emp(dev_1)\n",
    "man_1.show_emps()"
   ]
  },
  {
   "cell_type": "code",
   "execution_count": 23,
   "id": "4300bc30",
   "metadata": {},
   "outputs": [
    {
     "name": "stdout",
     "output_type": "stream",
     "text": [
      "True\n",
      "True\n",
      "False\n",
      "-----\n",
      "True\n",
      "True\n",
      "False\n"
     ]
    }
   ],
   "source": [
    "# Use isinstance() and issubclass() to confirm relationships.\n",
    "print(isinstance(man_1, Manager))\n",
    "print(isinstance(man_1, Employee))\n",
    "print(isinstance(man_1, Developer))\n",
    "print('-----')\n",
    "print(issubclass(Developer, Employee))\n",
    "print(issubclass(Manager, Employee))\n",
    "print(issubclass(Manager, Developer))"
   ]
  },
  {
   "cell_type": "markdown",
   "id": "bdd949f4",
   "metadata": {},
   "source": [
    "### Special (Magic/Dunder) Methods.\n",
    "Magic methods in Python are the special methods that start and end with the double underscores. They are also called dunder methods. Magic methods are not meant to be invoked directly, but the invocation happens internally from the class on a certain action."
   ]
  },
  {
   "cell_type": "code",
   "execution_count": 24,
   "id": "2381bbb6",
   "metadata": {},
   "outputs": [
    {
     "name": "stdout",
     "output_type": "stream",
     "text": [
      "<__main__.Employee object at 0x000001B7D8272010>\n",
      "ben.dean@subit.com\n"
     ]
    }
   ],
   "source": [
    "\n",
    "    \n",
    "    def __init__(self, first, last, pay):\n",
    "        self.first = first\n",
    "        self.last = last\n",
    "        self.pay = pay\n",
    "        self.email = f'{self.first}.{self.last}@Subit.com'.lower\n",
    "        self.fullname = f'{self.first} {self.last}'\n",
    "        \n",
    "    \n",
    "    def __repr__(self):\n",
    "        return f\"Employee('{self.first}', '{self.last}', {self.pay})\"\n",
    "        \n",
    "    def fullname(self):\n",
    "        return f'{self.first} {self.last}'\n",
    "\n",
    "    def apply_raise(self):\n",
    "        self.pay = int(self.pay * self.raise_amt)\n",
    "\n",
    "    def __repr__(self):\n",
    "        return \"\".format(self.first, self.last, self.pay)\n",
    "\n",
    "    def __str__(self):\n",
    "        return '{} - {}'.format(self.fullname(), self.email)\n",
    "\n",
    "    def __add__(self, other):\n",
    "        return self.pay + other.pay\n",
    "\n",
    "    def __len__(self):\n",
    "        return len(self.fullname())    \n",
    "        \n",
    "emp_1 = Employee('Ben', 'Dean', 40000)\n",
    "\n",
    "print(emp_1)\n",
    "print(emp_1.email())"
   ]
  },
  {
   "cell_type": "code",
   "execution_count": 25,
   "id": "060c3116",
   "metadata": {},
   "outputs": [
    {
     "name": "stdout",
     "output_type": "stream",
     "text": [
      "['__class__', '__delattr__', '__dict__', '__dir__', '__doc__', '__eq__', '__format__', '__ge__', '__getattribute__', '__getstate__', '__gt__', '__hash__', '__init__', '__init_subclass__', '__le__', '__lt__', '__module__', '__ne__', '__new__', '__reduce__', '__reduce_ex__', '__repr__', '__setattr__', '__sizeof__', '__str__', '__subclasshook__', '__weakref__']\n"
     ]
    }
   ],
   "source": [
    "# The dir() method lists all the attributes and methods defined in the class.\n",
    "\n",
    "class Employee:\n",
    "    pass\n",
    "        \n",
    "print(dir(Employee))"
   ]
  },
  {
   "cell_type": "code",
   "execution_count": 26,
   "id": "18a96acd",
   "metadata": {},
   "outputs": [
    {
     "name": "stdout",
     "output_type": "stream",
     "text": [
      "['__abs__', '__add__', '__and__', '__bool__', '__ceil__', '__class__', '__delattr__', '__dir__', '__divmod__', '__doc__', '__eq__', '__float__', '__floor__', '__floordiv__', '__format__', '__ge__', '__getattribute__', '__getnewargs__', '__getstate__', '__gt__', '__hash__', '__index__', '__init__', '__init_subclass__', '__int__', '__invert__', '__le__', '__lshift__', '__lt__', '__mod__', '__mul__', '__ne__', '__neg__', '__new__', '__or__', '__pos__', '__pow__', '__radd__', '__rand__', '__rdivmod__', '__reduce__', '__reduce_ex__', '__repr__', '__rfloordiv__', '__rlshift__', '__rmod__', '__rmul__', '__ror__', '__round__', '__rpow__', '__rrshift__', '__rshift__', '__rsub__', '__rtruediv__', '__rxor__', '__setattr__', '__sizeof__', '__str__', '__sub__', '__subclasshook__', '__truediv__', '__trunc__', '__xor__', 'as_integer_ratio', 'bit_count', 'bit_length', 'conjugate', 'denominator', 'from_bytes', 'imag', 'numerator', 'real', 'to_bytes']\n"
     ]
    }
   ],
   "source": [
    "# These are the methods for an integer.\n",
    "print(dir(int))"
   ]
  },
  {
   "cell_type": "code",
   "execution_count": 27,
   "id": "f21dc956",
   "metadata": {},
   "outputs": [
    {
     "name": "stdout",
     "output_type": "stream",
     "text": [
      "['__add__', '__class__', '__contains__', '__delattr__', '__dir__', '__doc__', '__eq__', '__format__', '__ge__', '__getattribute__', '__getitem__', '__getnewargs__', '__getstate__', '__gt__', '__hash__', '__init__', '__init_subclass__', '__iter__', '__le__', '__len__', '__lt__', '__mod__', '__mul__', '__ne__', '__new__', '__reduce__', '__reduce_ex__', '__repr__', '__rmod__', '__rmul__', '__setattr__', '__sizeof__', '__str__', '__subclasshook__', 'capitalize', 'casefold', 'center', 'count', 'encode', 'endswith', 'expandtabs', 'find', 'format', 'format_map', 'index', 'isalnum', 'isalpha', 'isascii', 'isdecimal', 'isdigit', 'isidentifier', 'islower', 'isnumeric', 'isprintable', 'isspace', 'istitle', 'isupper', 'join', 'ljust', 'lower', 'lstrip', 'maketrans', 'partition', 'removeprefix', 'removesuffix', 'replace', 'rfind', 'rindex', 'rjust', 'rpartition', 'rsplit', 'rstrip', 'split', 'splitlines', 'startswith', 'strip', 'swapcase', 'title', 'translate', 'upper', 'zfill']\n"
     ]
    }
   ],
   "source": [
    "# And for a string.\n",
    "print(dir(str))"
   ]
  },
  {
   "cell_type": "code",
   "execution_count": 28,
   "id": "d5169e85",
   "metadata": {},
   "outputs": [
    {
     "name": "stdout",
     "output_type": "stream",
     "text": [
      "This is an Employee class of the company known as Subit Corp.\n"
     ]
    }
   ],
   "source": [
    "# Back to classes, the '__doc__' attribute is used to publish the docstring of the class.\n",
    "\n",
    "class Employee:\n",
    "    \n",
    "    '''This is an Employee class of the company known as Subit Corp.'''\n",
    "\n",
    "print(Employee.__doc__)"
   ]
  },
  {
   "cell_type": "code",
   "execution_count": 29,
   "id": "a1295e8c",
   "metadata": {},
   "outputs": [
    {
     "name": "stdout",
     "output_type": "stream",
     "text": [
      "Ben\n",
      "Dean\n",
      "ben.dean@subit.com\n",
      "50000\n",
      "Jane Jones\n"
     ]
    }
   ],
   "source": [
    "# Back to classes, the '__init__' attribute is used to initialise the instances.\n",
    "\n",
    "class Employee:\n",
    "    \n",
    "    '''This is an Employee class of the company known as Subit Corp.'''\n",
    "    \n",
    "    def __init__(self, first, last, pay):\n",
    "        self.first = first\n",
    "        self.last = last\n",
    "        self.pay = pay\n",
    "        self.email = f'{self.first}.{self.last}@Subit.com'.lower\n",
    "        self.fullname = f'{self.first} {self.last}'\n",
    "\n",
    "        \n",
    "emp_1 = Employee('Ben', 'Dean', 40000)\n",
    "emp_2 = Employee('Jane', 'Jones', 50000)\n",
    "\n",
    "print(emp_1.first)\n",
    "print(emp_1.last)\n",
    "print(emp_1.email())\n",
    "print(emp_2.pay)\n",
    "print(emp_2.fullname)"
   ]
  },
  {
   "cell_type": "code",
   "execution_count": 30,
   "id": "238a9317",
   "metadata": {},
   "outputs": [
    {
     "name": "stdout",
     "output_type": "stream",
     "text": [
      "<__main__.Employee object at 0x000001B7D760B890>\n",
      "<__main__.Employee object at 0x000001B7D754F690>\n"
     ]
    }
   ],
   "source": [
    "# Try printing emp_1 and emp_2.\n",
    "\n",
    "class Employee:\n",
    "    \n",
    "    '''This is an Employee class of the company known as Subit Corp.'''\n",
    "    \n",
    "    def __init__(self, first, last, pay):\n",
    "        self.first = first\n",
    "        self.last = last\n",
    "        self.pay = pay\n",
    "        self.email = f'{self.first}.{self.last}@Subit.com'.lower\n",
    "        self.fullname = f'{self.first} {self.last}'\n",
    "\n",
    "        \n",
    "emp_1 = Employee('Ben', 'Dean', 40000)\n",
    "emp_2 = Employee('Jane', 'Jones', 50000)\n",
    "\n",
    "print(emp_1)\n",
    "print(emp_2)"
   ]
  },
  {
   "cell_type": "code",
   "execution_count": 31,
   "id": "794d6cd5",
   "metadata": {},
   "outputs": [
    {
     "name": "stdout",
     "output_type": "stream",
     "text": [
      "Employee(Ben, Dean, 40000)\n",
      "Employee(Jane, Jones, 50000)\n"
     ]
    }
   ],
   "source": [
    "# This can be achieved by using the __repr__ method.\n",
    "\n",
    "class Employee:\n",
    "    \n",
    "    '''This is an Employee class of the company known as Subit Corp.'''\n",
    "    \n",
    "    def __init__(self, first, last, pay):\n",
    "        self.first = first\n",
    "        self.last = last\n",
    "        self.pay = pay\n",
    "        self.email = f'{self.first}.{self.last}@Subit.com'.lower\n",
    "        self.fullname = f'{self.first} {self.last}'\n",
    "        \n",
    "    def __repr__(self):\n",
    "        return f'Employee({self.first}, {self.last}, {self.pay})' # It is usually used to return the input data.\n",
    "\n",
    "        \n",
    "emp_1 = Employee('Ben', 'Dean', 40000)\n",
    "emp_2 = Employee('Jane', 'Jones', 50000)\n",
    "\n",
    "print(emp_1)\n",
    "print(emp_2)"
   ]
  },
  {
   "cell_type": "code",
   "execution_count": 32,
   "id": "98726ed6",
   "metadata": {},
   "outputs": [
    {
     "name": "stdout",
     "output_type": "stream",
     "text": [
      "Ben Dean - ben.dean@subit.com)\n",
      "Jane Jones - jane.jones@subit.com)\n"
     ]
    }
   ],
   "source": [
    "# The __str__ attribute is used to publish strings like 'fullname - email'\n",
    "\n",
    "class Employee:\n",
    "    \n",
    "    '''This is an Employee class of the company known as Subit Corp.'''\n",
    "    \n",
    "    def __init__(self, first, last, pay):\n",
    "        self.first = first\n",
    "        self.last = last\n",
    "        self.pay = pay\n",
    "        self.email = f'{self.first}.{self.last}@Subit.com'.lower\n",
    "        self.fullname = f'{self.first} {self.last}'\n",
    "        \n",
    "    def __repr__(self):\n",
    "        return f'Employee({self.first}, {self.last}, {self.pay})'\n",
    "    \n",
    "    def __str__(self):\n",
    "        return f'{self.fullname} - {self.email()})' # Recal email is a method.\n",
    "\n",
    "        \n",
    "emp_1 = Employee('Ben', 'Dean', 40000)\n",
    "emp_2 = Employee('Jane', 'Jones', 50000)\n",
    "\n",
    "print(emp_1) # It prints the last of the magic methods\n",
    "print(emp_2)"
   ]
  },
  {
   "cell_type": "code",
   "execution_count": 33,
   "id": "e1ded47f",
   "metadata": {},
   "outputs": [
    {
     "name": "stdout",
     "output_type": "stream",
     "text": [
      "Employee(Ben, Dean, 40000)\n",
      "Jane Jones - jane.jones@subit.com)\n"
     ]
    }
   ],
   "source": [
    "# This is how to specify the attribute to publish.\n",
    "print(repr(emp_1))\n",
    "print(str(emp_2))"
   ]
  },
  {
   "cell_type": "code",
   "execution_count": 34,
   "id": "0432e547",
   "metadata": {},
   "outputs": [
    {
     "name": "stdout",
     "output_type": "stream",
     "text": [
      "Employee(Ben, Dean, 40000)\n",
      "Jane Jones - jane.jones@subit.com)\n"
     ]
    }
   ],
   "source": [
    "# It can also be published as shown below.\n",
    "print(emp_1.__repr__())\n",
    "print(emp_2.__str__())"
   ]
  },
  {
   "cell_type": "code",
   "execution_count": 35,
   "id": "f8132559",
   "metadata": {},
   "outputs": [
    {
     "name": "stdout",
     "output_type": "stream",
     "text": [
      "{'first': 'Ben', 'last': 'Dean', 'pay': 40000, 'email': <built-in method lower of str object at 0x000001B7D7713C80>, 'fullname': 'Ben Dean'}\n",
      "\n",
      "\n",
      "{'first': 'Jane', 'last': 'Jones', 'pay': 50000, 'email': <built-in method lower of str object at 0x000001B7D827EFB0>, 'fullname': 'Jane Jones'}\n",
      "\n",
      "\n",
      "{'__module__': '__main__', '__doc__': 'This is an Employee class of the company known as Subit Corp.', '__init__': <function Employee.__init__ at 0x000001B7D824F060>, '__repr__': <function Employee.__repr__ at 0x000001B7D824F100>, '__str__': <function Employee.__str__ at 0x000001B7D824F2E0>, '__dict__': <attribute '__dict__' of 'Employee' objects>, '__weakref__': <attribute '__weakref__' of 'Employee' objects>}\n"
     ]
    }
   ],
   "source": [
    "# The __dict__ attribute can be used to publish the instances in dictionary form.\n",
    "\n",
    "class Employee:\n",
    "    \n",
    "    '''This is an Employee class of the company known as Subit Corp.'''\n",
    "    \n",
    "    def __init__(self, first, last, pay):\n",
    "        self.first = first\n",
    "        self.last = last\n",
    "        self.pay = pay\n",
    "        self.email = f'{self.first}.{self.last}@Subit.com'.lower\n",
    "        self.fullname = f'{self.first} {self.last}'\n",
    "        \n",
    "    def __repr__(self):\n",
    "        return f'Employee({self.first}, {self.last}, {self.pay})'\n",
    "    \n",
    "    def __str__(self):\n",
    "        return f'{self.fullname} - {self.email()})' # Recal email is a method.\n",
    "\n",
    "        \n",
    "emp_1 = Employee('Ben', 'Dean', 40000)\n",
    "emp_2 = Employee('Jane', 'Jones', 50000)\n",
    "\n",
    "print(emp_1.__dict__) # The dict is mandatory because there are more than one attributes in the class.\n",
    "print('\\n')\n",
    "print(emp_2.__dict__)\n",
    "print('\\n')\n",
    "print(Employee.__dict__)"
   ]
  },
  {
   "cell_type": "code",
   "execution_count": 36,
   "id": "413b7975",
   "metadata": {},
   "outputs": [
    {
     "name": "stdout",
     "output_type": "stream",
     "text": [
      "90000\n",
      "90000\n",
      "\n",
      "\n",
      "90000\n"
     ]
    }
   ],
   "source": [
    "# The __add__ attribute is used to test equality.\n",
    "\n",
    "class Employee:\n",
    "    \n",
    "    '''This is an Employee class of the company known as Subit Corp.'''\n",
    "    \n",
    "    def __init__(self, first, last, pay):\n",
    "        self.first = first\n",
    "        self.last = last\n",
    "        self.pay = pay\n",
    "        self.email = f'{self.first}.{self.last}@Subit.com'.lower\n",
    "        self.fullname = f'{self.first} {self.last}'\n",
    "        \n",
    "    def __repr__(self):\n",
    "        return f'Employee({self.first}, {self.last}, {self.pay})'\n",
    "    \n",
    "    def __str__(self):\n",
    "        return f'{self.fullname} - {self.email()})' # Recal email is a method.\n",
    "    \n",
    "    def __add__(self, other):\n",
    "        return self.pay + other.pay\n",
    "\n",
    "        \n",
    "emp_1 = Employee('Ben', 'Dean', 40000)\n",
    "emp_2 = Employee('Jane', 'Jones', 50000)\n",
    "\n",
    "print(emp_1 + emp_2)\n",
    "print(emp_1.pay + emp_2.pay)\n",
    "print('\\n')\n",
    "print(emp_1.__add__(emp_2))"
   ]
  },
  {
   "cell_type": "code",
   "execution_count": 37,
   "id": "7c6f2c7d",
   "metadata": {},
   "outputs": [
    {
     "name": "stdout",
     "output_type": "stream",
     "text": [
      "False\n",
      "False\n",
      "\n",
      "\n",
      "False\n"
     ]
    }
   ],
   "source": [
    "# The __eq__ attribute is used to test equality.\n",
    "\n",
    "class Employee:\n",
    "    \n",
    "    '''This is an Employee class of the company known as Subit Corp.'''\n",
    "    \n",
    "    def __init__(self, first, last, pay):\n",
    "        self.first = first\n",
    "        self.last = last\n",
    "        self.pay = pay\n",
    "        self.email = f'{self.first}.{self.last}@Subit.com'.lower\n",
    "        self.fullname = f'{self.first} {self.last}'\n",
    "        \n",
    "    def __repr__(self):\n",
    "        return f'Employee({self.first}, {self.last}, {self.pay})'\n",
    "    \n",
    "    def __str__(self):\n",
    "        return f'{self.fullname} - {self.email()})' # Recal email is a method.\n",
    "    \n",
    "    def __add__(self, other):\n",
    "        return self.pay + other.pay\n",
    "    \n",
    "    def __eq__(self, other):\n",
    "        return self.pay == other.pay\n",
    "\n",
    "        \n",
    "emp_1 = Employee('Ben', 'Dean', 40000)\n",
    "emp_2 = Employee('Jane', 'Jones', 50000)\n",
    "\n",
    "print(emp_1 == emp_2)\n",
    "print(emp_1.pay == emp_2.pay)\n",
    "print('\\n')\n",
    "print(emp_1.__eq__(emp_2))"
   ]
  },
  {
   "cell_type": "code",
   "execution_count": 38,
   "id": "68af7524",
   "metadata": {},
   "outputs": [
    {
     "name": "stdout",
     "output_type": "stream",
     "text": [
      "7\n",
      "9\n",
      "\n",
      "\n",
      "7\n",
      "9\n"
     ]
    }
   ],
   "source": [
    "# The __len__ attribute is used to find the length of a string.\n",
    "\n",
    "class Employee:\n",
    "    \n",
    "    '''This is an Employee class of the company known as Subit Corp.'''\n",
    "    \n",
    "    def __init__(self, first, last, pay):\n",
    "        self.first = first\n",
    "        self.last = last\n",
    "        self.pay = pay\n",
    "        self.email = f'{self.first}.{self.last}@Subit.com'.lower\n",
    "        self.fullname = f'{self.first} {self.last}'\n",
    "        \n",
    "    def __repr__(self):\n",
    "        return f'Employee({self.first}, {self.last}, {self.pay})'\n",
    "    \n",
    "    def __str__(self):\n",
    "        return f'{self.fullname} - {self.email()})' # Recal email is a method.\n",
    "    \n",
    "    def __add__(self, other):\n",
    "        return self.pay + other.pay\n",
    "    \n",
    "    def __eq__(self, other):\n",
    "        return self.pay == other.pay\n",
    "    \n",
    "    def __len__(self):\n",
    "        return len(self.fullname) - 1\n",
    "\n",
    "        \n",
    "emp_1 = Employee('Ben', 'Dean', 40000)\n",
    "emp_2 = Employee('Jane', 'Jones', 50000)\n",
    "\n",
    "print(len(emp_1))\n",
    "print(len(emp_2))\n",
    "print('\\n')\n",
    "print(emp_1.__len__())\n",
    "print(emp_2.__len__())"
   ]
  },
  {
   "cell_type": "markdown",
   "id": "c0cd5126",
   "metadata": {},
   "source": [
    "### Properties, Getters, Setters, and Deleters\n",
    "* A **property** is regarded as the \"Pythonic\" way of working with attributes.\n",
    "* A **getter** is a method that allows you to retrieve the value of an attribute.\n",
    "* A **setter** is a method that allows you to set the value of an attribute.\n",
    "* A **deleter** is a method that allows you to delete an attribute."
   ]
  },
  {
   "cell_type": "code",
   "execution_count": 39,
   "id": "e01e45ee",
   "metadata": {},
   "outputs": [
    {
     "name": "stdout",
     "output_type": "stream",
     "text": [
      "Ben\n",
      "ben.dean@subit.com\n",
      "Ben Dean\n"
     ]
    }
   ],
   "source": [
    "# Here is a stripped down version of the code.\n",
    "\n",
    "class Employee:\n",
    "    \n",
    "    def __init__(self, first, last):\n",
    "        self.first = first\n",
    "        self.last = last\n",
    "        self.email = f'{self.first}.{self.last}@Subit.com'.lower\n",
    "        \n",
    "    def fullname(self):\n",
    "         return f'{self.first} {self.last}'\n",
    "        \n",
    "        \n",
    "emp_1 = Employee('Ben', 'Dean')\n",
    "\n",
    "print(emp_1.first)\n",
    "print(emp_1.email())\n",
    "print(emp_1.fullname())"
   ]
  },
  {
   "cell_type": "code",
   "execution_count": 40,
   "id": "7ad7b4a7",
   "metadata": {},
   "outputs": [
    {
     "name": "stdout",
     "output_type": "stream",
     "text": [
      "Dan\n",
      "ben.dean@subit.com\n",
      "Dan Dean\n"
     ]
    }
   ],
   "source": [
    "# now change the first name to Dan.\n",
    "\n",
    "emp_1.first = 'Dan'\n",
    "\n",
    "print(emp_1.first)\n",
    "print(emp_1.email())\n",
    "print(emp_1.fullname())"
   ]
  },
  {
   "cell_type": "markdown",
   "id": "bd8d5e71",
   "metadata": {},
   "source": [
    "Notice that the email remains **ben.dean@subit.com**"
   ]
  },
  {
   "cell_type": "code",
   "execution_count": 41,
   "id": "b10d6236",
   "metadata": {},
   "outputs": [
    {
     "name": "stdout",
     "output_type": "stream",
     "text": [
      "Ben\n",
      "<built-in method lower of str object at 0x000001B7D82802B0>\n",
      "Ben Dean\n"
     ]
    }
   ],
   "source": [
    "# Change the email instance to a method.\n",
    "\n",
    "class Employee:\n",
    "    \n",
    "    def __init__(self, first, last):\n",
    "        self.first = first\n",
    "        self.last = last\n",
    "        \n",
    "    def email(self):\n",
    "         return f'{self.first}.{self.last}@Subit.com'.lower\n",
    "    \n",
    "    def fullname(self):\n",
    "         return f'{self.first} {self.last}'\n",
    "        \n",
    "        \n",
    "emp_1 = Employee('Ben', 'Dean')\n",
    "\n",
    "print(emp_1.first)\n",
    "print(emp_1.email())\n",
    "print(emp_1.fullname())"
   ]
  },
  {
   "cell_type": "markdown",
   "id": "f3127e88",
   "metadata": {},
   "source": [
    "Now, the email cannot be accessed as usual."
   ]
  },
  {
   "cell_type": "code",
   "execution_count": 42,
   "id": "cb630235",
   "metadata": {},
   "outputs": [
    {
     "name": "stdout",
     "output_type": "stream",
     "text": [
      "Ben\n",
      "ben.dean@subit.com\n",
      "Ben Dean\n"
     ]
    }
   ],
   "source": [
    "# By introducing @property, the method can be accesed as usual.\n",
    "\n",
    "class Employee:\n",
    "    \n",
    "    def __init__(self, first, last):\n",
    "        self.first = first\n",
    "        self.last = last\n",
    "    \n",
    "    @property\n",
    "    def email(self):\n",
    "         return f'{self.first}.{self.last}@Subit.com'.lower\n",
    "    \n",
    "    @property\n",
    "    def fullname(self):\n",
    "         return f'{self.first} {self.last}'\n",
    "        \n",
    "        \n",
    "emp_1 = Employee('Ben', 'Dean')\n",
    "\n",
    "print(emp_1.first)\n",
    "print(emp_1.email())\n",
    "print(emp_1.fullname)"
   ]
  },
  {
   "cell_type": "code",
   "execution_count": 43,
   "id": "f5088ef8",
   "metadata": {},
   "outputs": [
    {
     "ename": "AttributeError",
     "evalue": "property 'fullname' of 'Employee' object has no setter",
     "output_type": "error",
     "traceback": [
      "\u001b[1;31m---------------------------------------------------------------------------\u001b[0m",
      "\u001b[1;31mAttributeError\u001b[0m                            Traceback (most recent call last)",
      "Cell \u001b[1;32mIn[43], line 19\u001b[0m\n\u001b[0;32m     15\u001b[0m          \u001b[38;5;28;01mreturn\u001b[39;00m \u001b[38;5;124mf\u001b[39m\u001b[38;5;124m'\u001b[39m\u001b[38;5;132;01m{\u001b[39;00m\u001b[38;5;28mself\u001b[39m\u001b[38;5;241m.\u001b[39mfirst\u001b[38;5;132;01m}\u001b[39;00m\u001b[38;5;124m \u001b[39m\u001b[38;5;132;01m{\u001b[39;00m\u001b[38;5;28mself\u001b[39m\u001b[38;5;241m.\u001b[39mlast\u001b[38;5;132;01m}\u001b[39;00m\u001b[38;5;124m'\u001b[39m\n\u001b[0;32m     18\u001b[0m emp_1 \u001b[38;5;241m=\u001b[39m Employee(\u001b[38;5;124m'\u001b[39m\u001b[38;5;124mBen\u001b[39m\u001b[38;5;124m'\u001b[39m, \u001b[38;5;124m'\u001b[39m\u001b[38;5;124mDean\u001b[39m\u001b[38;5;124m'\u001b[39m)\n\u001b[1;32m---> 19\u001b[0m emp_1\u001b[38;5;241m.\u001b[39mfullname \u001b[38;5;241m=\u001b[39m \u001b[38;5;124m'\u001b[39m\u001b[38;5;124mVick Bloom\u001b[39m\u001b[38;5;124m'\u001b[39m\n\u001b[0;32m     21\u001b[0m \u001b[38;5;28mprint\u001b[39m(emp_1\u001b[38;5;241m.\u001b[39mfirst)\n\u001b[0;32m     22\u001b[0m \u001b[38;5;28mprint\u001b[39m(emp_1\u001b[38;5;241m.\u001b[39memail())\n",
      "\u001b[1;31mAttributeError\u001b[0m: property 'fullname' of 'Employee' object has no setter"
     ]
    }
   ],
   "source": [
    "# Try using emp_2.fullname to create fullname.\n",
    "\n",
    "class Employee:\n",
    "    \n",
    "    def __init__(self, first, last):\n",
    "        self.first = first\n",
    "        self.last = last\n",
    "    \n",
    "    @property\n",
    "    def email(self):\n",
    "         return f'{self.first}.{self.last}@Subit.com'.lower\n",
    "    \n",
    "    @property\n",
    "    def fullname(self):\n",
    "         return f'{self.first} {self.last}'\n",
    "        \n",
    "\n",
    "emp_1 = Employee('Ben', 'Dean')\n",
    "emp_1.fullname = 'Vick Bloom'\n",
    "\n",
    "print(emp_1.first)\n",
    "print(emp_1.email())\n",
    "print(emp_1.fullname)"
   ]
  },
  {
   "cell_type": "code",
   "execution_count": 44,
   "id": "22ad6b41",
   "metadata": {},
   "outputs": [
    {
     "name": "stdout",
     "output_type": "stream",
     "text": [
      "Joe\n",
      "joe.dykes@subit.com\n",
      "Joe Dykes\n"
     ]
    }
   ],
   "source": [
    "# Now, create a setter for the fullname property using emp_3.\n",
    "\n",
    "class Employee:\n",
    "    \n",
    "    def __init__(self, first, last):\n",
    "        self.first = first\n",
    "        self.last = last\n",
    "    \n",
    "    @property\n",
    "    def email(self):\n",
    "         return f'{self.first}.{self.last}@Subit.com'.lower\n",
    "    \n",
    "    @property\n",
    "    def fullname(self):\n",
    "         return f'{self.first} {self.last}'\n",
    "        \n",
    "    @fullname.setter  # This will replace and existing name.\n",
    "    def fullname(self, name):\n",
    "        first, last = name.split(' ')\n",
    "        self.first = first\n",
    "        self.last = last\n",
    "        \n",
    "emp_1 = Employee('Ben', 'Dean')\n",
    "emp_1.fullname = 'Joe Dykes'\n",
    "\n",
    "print(emp_1.first)\n",
    "print(emp_1.email())\n",
    "print(emp_1.fullname)"
   ]
  },
  {
   "cell_type": "code",
   "execution_count": 45,
   "id": "7d210324",
   "metadata": {},
   "outputs": [
    {
     "name": "stdout",
     "output_type": "stream",
     "text": [
      "Rick\n",
      "rick.brown@subit.com\n",
      "Rick Brown\n",
      "Name Deleted!\n",
      "None None\n"
     ]
    }
   ],
   "source": [
    "# Create a deleter to use as cleanup code.\n",
    "\n",
    "class Employee:\n",
    "    \n",
    "    def __init__(self, first, last):\n",
    "        self.first = first\n",
    "        self.last = last\n",
    "    \n",
    "    @property\n",
    "    def email(self):\n",
    "         return f'{self.first}.{self.last}@Subit.com'.lower\n",
    "    \n",
    "    @property\n",
    "    def fullname(self):\n",
    "         return f'{self.first} {self.last}'\n",
    "        \n",
    "    @fullname.setter\n",
    "    def fullname(self, name):\n",
    "        first, last = name.split(' ')\n",
    "        self.first = first\n",
    "        self.last = last\n",
    "        \n",
    "    @fullname.deleter   # This will delete and existing name.\n",
    "    def fullname(self):\n",
    "        print('Name Deleted!')\n",
    "        self.first = None\n",
    "        self.last = None\n",
    "        \n",
    "        \n",
    "emp_1 = Employee('Ben', 'Dean')\n",
    "emp_1.fullname = 'Rick Brown'\n",
    "\n",
    "print(emp_1.first)\n",
    "print(emp_1.email())\n",
    "print(emp_1.fullname)\n",
    "\n",
    "del emp_1.fullname\n",
    "\n",
    "print(emp_1.fullname)"
   ]
  },
  {
   "cell_type": "code",
   "execution_count": 46,
   "id": "32812527",
   "metadata": {},
   "outputs": [
    {
     "name": "stdout",
     "output_type": "stream",
     "text": [
      "ben.dean@subit.com\n",
      "40000\n",
      "Ben Dean\n",
      "42000.0\n"
     ]
    }
   ],
   "source": [
    "# Use @property as alternative constructor.\n",
    "\n",
    "class Employee:\n",
    "    \n",
    "    raise_amount = 0.05     \n",
    "    \n",
    "    def __init__(self, first, last, pay):\n",
    "        self.first = first\n",
    "        self.last = last\n",
    "        self.pay = pay\n",
    "        \n",
    "    @property\n",
    "    def fullname(self):\n",
    "        return f'{self.first} {self.last}'\n",
    "        \n",
    "    @property\n",
    "    def email(self):\n",
    "        return f'{self.first}.{self.last}@Subit.com'.lower\n",
    "    \n",
    "    @property\n",
    "    def new_pay(self):\n",
    "        return float(self.pay) * (1 + self.raise_amount)\n",
    "    \n",
    "    @classmethod\n",
    "    def set_raise_amount(cls, the_raise):\n",
    "        cls.raise_amount = the_raise        \n",
    "\n",
    "    @classmethod\n",
    "    def from_string(cls, worker_str): # The from is a convention.\n",
    "        first, last, pay = worker_str.split('_')\n",
    "        return cls(first, last, pay)\n",
    "\n",
    "\n",
    "# Say the analyst gets the worker details as an underscore seperated string.\n",
    "emp_1_string = 'Ben_Dean_40000'\n",
    "\n",
    "new_emp_1 = Employee.from_string(emp_1_string)\n",
    "\n",
    "print(new_emp_1.email())\n",
    "print(new_emp_1.pay)\n",
    "print(new_emp_1.fullname)\n",
    "print(new_emp_1.new_pay)"
   ]
  },
  {
   "cell_type": "markdown",
   "id": "1631fe5e",
   "metadata": {},
   "source": [
    "### Understanding the Benefits of Using Classes in Python\n",
    "* Is it worth using classes in Python? Absolutely! Classes are the building blocks of object-oriented programming in Python. They allow you to leverage the power of Python while writing and organizing your code. By learning about classes, you’ll be able to take advantage of all the benefits that they provide. With classes, you can:\n",
    "\n",
    "* Model and solve complex real-world problems: You’ll find many situations where the objects in your code map to real-world objects. This can help you think about complex problems, which will result in better solutions to your programming problems.\n",
    "\n",
    "* Reuse code and avoid repetition: You can define hierarchies of related classes. The base classes at the top of a hierarchy provide common functionality that you can reuse later in the subclasses down the hierarchy. This allows you to reduce code duplication and promote code reuse.\n",
    "\n",
    "* Encapsulate related data and behaviors in a single entity: You can use Python classes to bundle together related attributes and methods in a single entity, the object. This helps you better organize your code using modular and autonomous entities that you can even reuse across multiple projects.\n",
    "\n",
    "* Abstract away the implementation details of concepts and objects: You can use classes to abstract away the implementation details of core concepts and objects. This will help you provide your users with intuitive interfaces (APIs) to process complex data and behaviors.\n",
    "\n",
    "* Unlock polymorphism with common interfaces: You can implement a particular interface in several slightly different classes and use them interchangeably in your code. This will make your code more flexible and adaptable."
   ]
  },
  {
   "cell_type": "markdown",
   "id": "a9b6fb38",
   "metadata": {},
   "source": [
    "### Classes Are Not Necessary When You’re Working With\n",
    "\n",
    "* A small and simple program or script that doesn’t require complex data structures or logic. In this case, using classes may be overkill.\n",
    "\n",
    "* A performance-critical program. Classes add overhead to your program, especially when you need to create many objects. This may affect your code’s general performance.\n",
    "\n",
    "* A legacy codebase. If an existing codebase doesn’t use classes, then you shouldn’t introduce them. This will break the current coding style and disrupt the code’s consistency.\n",
    "\n",
    "* A team with a different coding style. If your current team doesn’t use classes, then stick with their coding style. This will ensure consistency across the project.\n",
    "\n",
    "* A codebase that uses functional programming. If a given codebase is currently written with a functional approach, then you shouldn’t introduce classes. This will break the underlying coding paradigm."
   ]
  }
 ],
 "metadata": {
  "kernelspec": {
   "display_name": "Python 3 (ipykernel)",
   "language": "python",
   "name": "python3"
  },
  "language_info": {
   "codemirror_mode": {
    "name": "ipython",
    "version": 3
   },
   "file_extension": ".py",
   "mimetype": "text/x-python",
   "name": "python",
   "nbconvert_exporter": "python",
   "pygments_lexer": "ipython3",
   "version": "3.11.4"
  }
 },
 "nbformat": 4,
 "nbformat_minor": 5
}
