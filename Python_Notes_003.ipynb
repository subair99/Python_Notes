{
 "cells": [
  {
   "cell_type": "markdown",
   "id": "e4128187",
   "metadata": {},
   "source": [
    "# Python_Notes_003"
   ]
  },
  {
   "cell_type": "markdown",
   "id": "4949b5d9",
   "metadata": {},
   "source": [
    "## Strings"
   ]
  },
  {
   "cell_type": "code",
   "execution_count": 1,
   "id": "71ec1380",
   "metadata": {},
   "outputs": [
    {
     "data": {
      "text/plain": [
       "'world'"
      ]
     },
     "execution_count": 1,
     "metadata": {},
     "output_type": "execute_result"
    }
   ],
   "source": [
    "# A word.\n",
    "'world'"
   ]
  },
  {
   "cell_type": "code",
   "execution_count": 2,
   "id": "7a605bdc",
   "metadata": {},
   "outputs": [
    {
     "data": {
      "text/plain": [
       "'This string is more than one word'"
      ]
     },
     "execution_count": 2,
     "metadata": {},
     "output_type": "execute_result"
    }
   ],
   "source": [
    "# A phrase.\n",
    "'This string is more than one word'"
   ]
  },
  {
   "cell_type": "code",
   "execution_count": 3,
   "id": "430e5064",
   "metadata": {},
   "outputs": [
    {
     "data": {
      "text/plain": [
       "'Double quotes also permitted'"
      ]
     },
     "execution_count": 3,
     "metadata": {},
     "output_type": "execute_result"
    }
   ],
   "source": [
    "# Double quotes also permitted.\n",
    "\"Double quotes also permitted\""
   ]
  },
  {
   "cell_type": "code",
   "execution_count": 4,
   "id": "ce97c57a",
   "metadata": {},
   "outputs": [
    {
     "ename": "SyntaxError",
     "evalue": "unterminated string literal (detected at line 2) (1176816119.py, line 2)",
     "output_type": "error",
     "traceback": [
      "\u001b[1;36m  Cell \u001b[1;32mIn[4], line 2\u001b[1;36m\u001b[0m\n\u001b[1;33m    'Don't use single quotes when apostrophe is present'\u001b[0m\n\u001b[1;37m                                                       ^\u001b[0m\n\u001b[1;31mSyntaxError\u001b[0m\u001b[1;31m:\u001b[0m unterminated string literal (detected at line 2)\n"
     ]
    }
   ],
   "source": [
    "# Don't use single quotes when apostrophe is present in string.\n",
    "'Don't use single quotes when apostrophe is present'"
   ]
  },
  {
   "cell_type": "code",
   "execution_count": 5,
   "id": "9522343b",
   "metadata": {},
   "outputs": [
    {
     "data": {
      "text/plain": [
       "\"Don't use single quotes when apostrophe is present\""
      ]
     },
     "execution_count": 5,
     "metadata": {},
     "output_type": "execute_result"
    }
   ],
   "source": [
    "# This is now correct (can be used when apostrophe is present in string).\n",
    "\"Don't use single quotes when apostrophe is present\""
   ]
  },
  {
   "cell_type": "code",
   "execution_count": 6,
   "id": "a4aeaaf6",
   "metadata": {},
   "outputs": [
    {
     "data": {
      "text/plain": [
       "'Hello World'"
      ]
     },
     "execution_count": 6,
     "metadata": {},
     "output_type": "execute_result"
    }
   ],
   "source": [
    "# Jupyter notebook always prints the last item.\n",
    "'Hello World'"
   ]
  },
  {
   "cell_type": "code",
   "execution_count": 7,
   "id": "c7bef745",
   "metadata": {},
   "outputs": [
    {
     "data": {
      "text/plain": [
       "'Hello World Second'"
      ]
     },
     "execution_count": 7,
     "metadata": {},
     "output_type": "execute_result"
    }
   ],
   "source": [
    "# Only the last string will be printed.\n",
    "'Hello World First'\n",
    "'Hello World Second'"
   ]
  },
  {
   "cell_type": "code",
   "execution_count": 8,
   "id": "7fa35ce6",
   "metadata": {},
   "outputs": [
    {
     "name": "stdout",
     "output_type": "stream",
     "text": [
      "Hello World First\n"
     ]
    },
    {
     "data": {
      "text/plain": [
       "'Hello World Second'"
      ]
     },
     "execution_count": 8,
     "metadata": {},
     "output_type": "execute_result"
    }
   ],
   "source": [
    "# To print both srings.\n",
    "print('Hello World First')\n",
    "'Hello World Second'"
   ]
  },
  {
   "cell_type": "code",
   "execution_count": 9,
   "id": "045d6f42",
   "metadata": {},
   "outputs": [
    {
     "name": "stdout",
     "output_type": "stream",
     "text": [
      "Hello World First\n",
      "Hello World Second\n",
      "The \n",
      " prints on a new line\n",
      "\n",
      "\n",
      "That is it\n"
     ]
    }
   ],
   "source": [
    "# A new line in a string.\n",
    "print('Hello World First')\n",
    "print('Hello World Second')\n",
    "print('The \\n prints on a new line')\n",
    "print('\\n')\n",
    "print('That is it')"
   ]
  },
  {
   "cell_type": "code",
   "execution_count": 10,
   "id": "7326b014",
   "metadata": {},
   "outputs": [
    {
     "name": "stdout",
     "output_type": "stream",
     "text": [
      "Hello World!\tHow how are you?\n"
     ]
    }
   ],
   "source": [
    "# A tab in a string.\n",
    "print('Hello World!\\tHow how are you?')"
   ]
  },
  {
   "cell_type": "code",
   "execution_count": 11,
   "id": "e36f797f",
   "metadata": {},
   "outputs": [
    {
     "name": "stdout",
     "output_type": "stream",
     "text": [
      "Hello World! \\ How how are you?\n"
     ]
    }
   ],
   "source": [
    "# A back slash in a string.\n",
    "print('Hello World! \\\\ How how are you?')"
   ]
  },
  {
   "cell_type": "code",
   "execution_count": 12,
   "id": "97d3713e",
   "metadata": {},
   "outputs": [
    {
     "data": {
      "text/plain": [
       "11"
      ]
     },
     "execution_count": 12,
     "metadata": {},
     "output_type": "execute_result"
    }
   ],
   "source": [
    "# length of a string (Space is part of the string).\n",
    "len('Hello World')"
   ]
  },
  {
   "cell_type": "code",
   "execution_count": 13,
   "id": "4d1c17d1",
   "metadata": {},
   "outputs": [],
   "source": [
    "# Assign word as a string.\n",
    "word = 'Hello World'"
   ]
  },
  {
   "cell_type": "code",
   "execution_count": 14,
   "id": "96713c88",
   "metadata": {},
   "outputs": [
    {
     "data": {
      "text/plain": [
       "'H'"
      ]
     },
     "execution_count": 14,
     "metadata": {},
     "output_type": "execute_result"
    }
   ],
   "source": [
    "# Get the first element.\n",
    "word[0]"
   ]
  },
  {
   "cell_type": "code",
   "execution_count": 15,
   "id": "2eb4b915",
   "metadata": {},
   "outputs": [
    {
     "data": {
      "text/plain": [
       "('H', 'e', 'l', 'l', 'o', ' ', 'W', 'o', 'r', 'l', 'd')"
      ]
     },
     "execution_count": 15,
     "metadata": {},
     "output_type": "execute_result"
    }
   ],
   "source": [
    "# Get all the item.\n",
    "word[0], word[1], word[2], word[3], word[4], word[5], word[6], word[7], word[8], word[9], word[10]"
   ]
  },
  {
   "cell_type": "code",
   "execution_count": 16,
   "id": "e70d28bd",
   "metadata": {},
   "outputs": [
    {
     "data": {
      "text/plain": [
       "'ello World'"
      ]
     },
     "execution_count": 16,
     "metadata": {},
     "output_type": "execute_result"
    }
   ],
   "source": [
    "# Select from the second to the last item (index 1 to index 10).\n",
    "word[1:]"
   ]
  },
  {
   "cell_type": "code",
   "execution_count": 17,
   "id": "86ccb10a",
   "metadata": {},
   "outputs": [
    {
     "data": {
      "text/plain": [
       "'Hello World'"
      ]
     },
     "execution_count": 17,
     "metadata": {},
     "output_type": "execute_result"
    }
   ],
   "source": [
    "# The original remains the same.\n",
    "word"
   ]
  },
  {
   "cell_type": "code",
   "execution_count": 18,
   "id": "273414a8",
   "metadata": {},
   "outputs": [
    {
     "data": {
      "text/plain": [
       "'Hello W'"
      ]
     },
     "execution_count": 18,
     "metadata": {},
     "output_type": "execute_result"
    }
   ],
   "source": [
    "# Select from the first to the sixth item (index 0 to index 6).\n",
    "word[:7]"
   ]
  },
  {
   "cell_type": "code",
   "execution_count": 19,
   "id": "225a3c76",
   "metadata": {},
   "outputs": [
    {
     "data": {
      "text/plain": [
       "'Hello Worl'"
      ]
     },
     "execution_count": 19,
     "metadata": {},
     "output_type": "execute_result"
    }
   ],
   "source": [
    "# Select from the first to the tenth item (index 0 to index 9).\n",
    "word[:10]"
   ]
  },
  {
   "cell_type": "code",
   "execution_count": 20,
   "id": "4c410fc3",
   "metadata": {},
   "outputs": [
    {
     "data": {
      "text/plain": [
       "'Hello World'"
      ]
     },
     "execution_count": 20,
     "metadata": {},
     "output_type": "execute_result"
    }
   ],
   "source": [
    "# Select all items (index 0 to index 10).\n",
    "word[:]"
   ]
  },
  {
   "cell_type": "code",
   "execution_count": 21,
   "id": "8cf43b6a",
   "metadata": {},
   "outputs": [
    {
     "data": {
      "text/plain": [
       "'d'"
      ]
     },
     "execution_count": 21,
     "metadata": {},
     "output_type": "execute_result"
    }
   ],
   "source": [
    "# Select the last items (index 10).\n",
    "word[-1]"
   ]
  },
  {
   "cell_type": "code",
   "execution_count": 22,
   "id": "1a41cf66",
   "metadata": {},
   "outputs": [
    {
     "data": {
      "text/plain": [
       "'Hello Worl'"
      ]
     },
     "execution_count": 22,
     "metadata": {},
     "output_type": "execute_result"
    }
   ],
   "source": [
    "# Select all items except the last.\n",
    "word[:-1]"
   ]
  },
  {
   "cell_type": "code",
   "execution_count": 23,
   "id": "4a494587",
   "metadata": {},
   "outputs": [
    {
     "data": {
      "text/plain": [
       "True"
      ]
     },
     "execution_count": 23,
     "metadata": {},
     "output_type": "execute_result"
    }
   ],
   "source": [
    "# Check if w[:10] is equal w[:-1] (True means Yes).\n",
    "word[:10] == word[:-1]"
   ]
  },
  {
   "cell_type": "code",
   "execution_count": 24,
   "id": "4424b3fc",
   "metadata": {},
   "outputs": [
    {
     "data": {
      "text/plain": [
       "'HloWrd'"
      ]
     },
     "execution_count": 24,
     "metadata": {},
     "output_type": "execute_result"
    }
   ],
   "source": [
    "# Select all items in slice step of 2 (1, 3, 5, 7, 9, 11 indices).\n",
    "word[::2]"
   ]
  },
  {
   "cell_type": "code",
   "execution_count": 25,
   "id": "7e0a64e5",
   "metadata": {},
   "outputs": [
    {
     "data": {
      "text/plain": [
       "'dlroW olleH'"
      ]
     },
     "execution_count": 25,
     "metadata": {},
     "output_type": "execute_result"
    }
   ],
   "source": [
    "# This will reverse the string (selecting from last to first item).\n",
    "word[::-1]"
   ]
  },
  {
   "cell_type": "code",
   "execution_count": 26,
   "id": "e9bfabe1",
   "metadata": {},
   "outputs": [
    {
     "ename": "TypeError",
     "evalue": "'str' object does not support item assignment",
     "output_type": "error",
     "traceback": [
      "\u001b[1;31m---------------------------------------------------------------------------\u001b[0m",
      "\u001b[1;31mTypeError\u001b[0m                                 Traceback (most recent call last)",
      "Cell \u001b[1;32mIn[26], line 2\u001b[0m\n\u001b[0;32m      1\u001b[0m \u001b[38;5;66;03m# Srings are immutable (its items cannot be replaced).\u001b[39;00m\n\u001b[1;32m----> 2\u001b[0m word[\u001b[38;5;241m0\u001b[39m] \u001b[38;5;241m=\u001b[39m \u001b[38;5;124m'\u001b[39m\u001b[38;5;124my\u001b[39m\u001b[38;5;124m'\u001b[39m\n",
      "\u001b[1;31mTypeError\u001b[0m: 'str' object does not support item assignment"
     ]
    }
   ],
   "source": [
    "# Srings are immutable (its items cannot be replaced).\n",
    "word[0] = 'y'"
   ]
  },
  {
   "cell_type": "code",
   "execution_count": null,
   "id": "b571dbb0",
   "metadata": {},
   "outputs": [],
   "source": [
    "# Concatenate strings (add an item to the end).\n",
    "word + ' Add Me'"
   ]
  },
  {
   "cell_type": "code",
   "execution_count": null,
   "id": "1de71554",
   "metadata": {},
   "outputs": [],
   "source": [
    "# Multiplication increases the number of x by the multiplier.\n",
    "alpha = 'x'\n",
    "alpha * 5"
   ]
  },
  {
   "cell_type": "code",
   "execution_count": 27,
   "id": "791ccdad",
   "metadata": {},
   "outputs": [
    {
     "data": {
      "text/plain": [
       "'HELLO WORLD'"
      ]
     },
     "execution_count": 27,
     "metadata": {},
     "output_type": "execute_result"
    }
   ],
   "source": [
    "# The upper() method changes a string to an upper case.\n",
    "word.upper()"
   ]
  },
  {
   "cell_type": "code",
   "execution_count": 28,
   "id": "e6749025",
   "metadata": {},
   "outputs": [
    {
     "data": {
      "text/plain": [
       "'Hello World'"
      ]
     },
     "execution_count": 28,
     "metadata": {},
     "output_type": "execute_result"
    }
   ],
   "source": [
    "# Check original word.\n",
    "word"
   ]
  },
  {
   "cell_type": "code",
   "execution_count": 29,
   "id": "62aca56b",
   "metadata": {},
   "outputs": [
    {
     "data": {
      "text/plain": [
       "'hello world'"
      ]
     },
     "execution_count": 29,
     "metadata": {},
     "output_type": "execute_result"
    }
   ],
   "source": [
    "# The lower() method changes a string to a lower case.\n",
    "word.lower()"
   ]
  },
  {
   "cell_type": "code",
   "execution_count": 30,
   "id": "93f925af",
   "metadata": {},
   "outputs": [
    {
     "data": {
      "text/plain": [
       "'Hello World'"
      ]
     },
     "execution_count": 30,
     "metadata": {},
     "output_type": "execute_result"
    }
   ],
   "source": [
    "# The title() method changes a string to a title case.\n",
    "word.title()"
   ]
  },
  {
   "cell_type": "code",
   "execution_count": 31,
   "id": "8c8aaa50",
   "metadata": {},
   "outputs": [
    {
     "data": {
      "text/plain": [
       "['Hello', 'World']"
      ]
     },
     "execution_count": 31,
     "metadata": {},
     "output_type": "execute_result"
    }
   ],
   "source": [
    "# The split() method seperates a string to a list with blank space (its the default).\n",
    "word.split()"
   ]
  },
  {
   "cell_type": "code",
   "execution_count": 32,
   "id": "a23b0503",
   "metadata": {},
   "outputs": [
    {
     "data": {
      "text/plain": [
       "['Imaginativeness']"
      ]
     },
     "execution_count": 32,
     "metadata": {},
     "output_type": "execute_result"
    }
   ],
   "source": [
    "# If there is no space, the string is retured as a single list.\n",
    "word_1 = 'Imaginativeness'\n",
    "word_1.split()"
   ]
  },
  {
   "cell_type": "code",
   "execution_count": 33,
   "id": "d2b91272",
   "metadata": {},
   "outputs": [
    {
     "data": {
      "text/plain": [
       "['He', '', 'o Wor', 'd']"
      ]
     },
     "execution_count": 33,
     "metadata": {},
     "output_type": "execute_result"
    }
   ],
   "source": [
    "# The split() method seperates the string to a list by a specific element (the element will not be included).\n",
    "word.split('l')"
   ]
  },
  {
   "cell_type": "code",
   "execution_count": 34,
   "id": "e34dc52e",
   "metadata": {},
   "outputs": [
    {
     "data": {
      "text/plain": [
       "'Hi World'"
      ]
     },
     "execution_count": 34,
     "metadata": {},
     "output_type": "execute_result"
    }
   ],
   "source": [
    "# The replace() method changes 'World' to 'Hi'.\n",
    "word.replace('Hello', 'Hi')"
   ]
  },
  {
   "cell_type": "code",
   "execution_count": 35,
   "id": "db4025c6",
   "metadata": {},
   "outputs": [
    {
     "data": {
      "text/plain": [
       "6"
      ]
     },
     "execution_count": 35,
     "metadata": {},
     "output_type": "execute_result"
    }
   ],
   "source": [
    "# The find() gives the begining index of substring to find.\n",
    "word.find('Wo')"
   ]
  },
  {
   "cell_type": "code",
   "execution_count": 36,
   "id": "3a7d08d0",
   "metadata": {},
   "outputs": [
    {
     "data": {
      "text/plain": [
       "103"
      ]
     },
     "execution_count": 36,
     "metadata": {},
     "output_type": "execute_result"
    }
   ],
   "source": [
    "# The find() method prints the first index of the substring 'possessive'.\n",
    "text = '''The apostrophe is used in English to indicate what is, for historical reasons, misleadingly called the possessive\n",
    "case in the English language. This case was called the genitive until the 18th century and, like the genitive case\n",
    "in other languages, expresses relationships other than possession.'''\n",
    "\n",
    "text.find('possessive')"
   ]
  },
  {
   "cell_type": "code",
   "execution_count": 37,
   "id": "484e0a02-91ed-4ab0-aba6-8d006c6fcd40",
   "metadata": {},
   "outputs": [
    {
     "name": "stdout",
     "output_type": "stream",
     "text": [
      "Cars that start with 'P' are: ['Porsche', 'Polestar']\n"
     ]
    }
   ],
   "source": [
    "# Return cars that start with 'P' using startswith().\n",
    "the_cars = ['Porsche', 'Polestar', 'Tesla', 'Subaru', 'Kia', 'Mazda', 'Benz', 'Volkswagen']\n",
    "list_1 = [car for car in the_cars if car.startswith('P')]\n",
    "print(f\"Cars that start with 'P' are: {list_1}\")"
   ]
  },
  {
   "cell_type": "code",
   "execution_count": 38,
   "id": "e96809d6-6d4d-46de-a858-2440094cb660",
   "metadata": {},
   "outputs": [
    {
     "name": "stdout",
     "output_type": "stream",
     "text": [
      "Cars that end with 'a' are: ['Tesla', 'Kia', 'Mazda']\n"
     ]
    }
   ],
   "source": [
    "# Return cars that end with 'a' using endswith().\n",
    "list_2 = [car for car in the_cars if car.endswith('a')]\n",
    "print(f\"Cars that end with 'a' are: {list_2}\")"
   ]
  },
  {
   "cell_type": "code",
   "execution_count": 39,
   "id": "d06eb7c0-e3f0-4617-b15a-1aac428659e3",
   "metadata": {},
   "outputs": [
    {
     "name": "stdout",
     "output_type": "stream",
     "text": [
      "True\n"
     ]
    }
   ],
   "source": [
    "# Use startswith() for string affirmation.\n",
    "my_string = 'Hello, welcome to my world.'\n",
    "string_affirmation = my_string.startswith('Hello')\n",
    "print(string_affirmation)"
   ]
  },
  {
   "cell_type": "code",
   "execution_count": 40,
   "id": "76faa306-2f84-4994-b82f-655314b3fa2b",
   "metadata": {},
   "outputs": [
    {
     "name": "stdout",
     "output_type": "stream",
     "text": [
      "True\n"
     ]
    }
   ],
   "source": [
    "# Use endswith() for string affirmation.\n",
    "my_string = 'Hello, welcome to my world.'\n",
    "string_affirmation = my_string.endswith('world.')\n",
    "print(string_affirmation)"
   ]
  },
  {
   "cell_type": "code",
   "execution_count": 41,
   "id": "ff6b932b",
   "metadata": {},
   "outputs": [
    {
     "data": {
      "text/plain": [
       "'the apostrophe is used in english to indicate what is, for historical reasons, misleadingly called the possessive\\ncase in the english language. this case was called the genitive until the 18th century and, like the genitive case\\nin other languages, expresses relationships other than possession.'"
      ]
     },
     "execution_count": 41,
     "metadata": {},
     "output_type": "execute_result"
    }
   ],
   "source": [
    "# The casefold() method returns a string where all the characters are in lower case.\n",
    "text.casefold()"
   ]
  },
  {
   "cell_type": "code",
   "execution_count": 42,
   "id": "2f6ca987",
   "metadata": {},
   "outputs": [
    {
     "data": {
      "text/plain": [
       "'----Hallo World!----'"
      ]
     },
     "execution_count": 42,
     "metadata": {},
     "output_type": "execute_result"
    }
   ],
   "source": [
    "# The center() method will center align the string, using a specified character (space is the default) as the fill character.\n",
    "message = 'Hallo World!'\n",
    "message.center(20, '-')"
   ]
  },
  {
   "cell_type": "code",
   "execution_count": 43,
   "id": "cfd224b9",
   "metadata": {},
   "outputs": [
    {
     "data": {
      "text/plain": [
       "5"
      ]
     },
     "execution_count": 43,
     "metadata": {},
     "output_type": "execute_result"
    }
   ],
   "source": [
    "# The count() method returns the number of elements with the specified value.\n",
    "text.count('in')"
   ]
  },
  {
   "cell_type": "code",
   "execution_count": 44,
   "id": "bfc21d07",
   "metadata": {},
   "outputs": [
    {
     "data": {
      "text/plain": [
       "'Hello World!'"
      ]
     },
     "execution_count": 44,
     "metadata": {},
     "output_type": "execute_result"
    }
   ],
   "source": [
    "# The format() method formats the specified value(s) and insert them inside the string's placeholder.\n",
    "# The placeholder is defined using curly brackets: {}.\n",
    "message1 = \"Hello {word}\"\n",
    "message1.format(word = 'World!')"
   ]
  },
  {
   "cell_type": "code",
   "execution_count": 45,
   "id": "9fbd7b32",
   "metadata": {},
   "outputs": [
    {
     "name": "stdout",
     "output_type": "stream",
     "text": [
      "Hi, My name is Bob and I am 36 years old.\n"
     ]
    }
   ],
   "source": [
    "message2 = 'Hi, My name is {} and I am {} years old.'\n",
    "print(message2.format('Bob', 36))"
   ]
  },
  {
   "cell_type": "code",
   "execution_count": 46,
   "id": "8ee9b646",
   "metadata": {},
   "outputs": [
    {
     "name": "stdout",
     "output_type": "stream",
     "text": [
      "Hi, My name is Bob and I am 36 years old.\n"
     ]
    }
   ],
   "source": [
    "message3 = 'Hi, My name is {name} and I am {number} years old.'\n",
    "print(message3.format(name ='Bob', number = 36))"
   ]
  },
  {
   "cell_type": "code",
   "execution_count": 47,
   "id": "c9a79d24",
   "metadata": {},
   "outputs": [
    {
     "name": "stdout",
     "output_type": "stream",
     "text": [
      "Hi, My name is Bob and I am 36 years old.\n"
     ]
    }
   ],
   "source": [
    "message4 = 'Hi, My name is {0} and I am {1} years old.'\n",
    "print(message4.format('Bob', 36))"
   ]
  },
  {
   "cell_type": "code",
   "execution_count": 48,
   "id": "cefbc4a5",
   "metadata": {},
   "outputs": [
    {
     "name": "stdout",
     "output_type": "stream",
     "text": [
      "My name is Ben.\n"
     ]
    }
   ],
   "source": [
    "# Formatted String Literals (f-strings).\n",
    "call = 'Ben'\n",
    "print(f\"My name is {call}.\")"
   ]
  },
  {
   "cell_type": "code",
   "execution_count": 49,
   "id": "838d4239",
   "metadata": {},
   "outputs": [
    {
     "name": "stdout",
     "output_type": "stream",
     "text": [
      "My name is 'Ben'\n"
     ]
    }
   ],
   "source": [
    "# Get the string representation by pass !r.\n",
    "print(f\"My name is {call!r}\")"
   ]
  },
  {
   "cell_type": "code",
   "execution_count": 50,
   "id": "f4d09a27",
   "metadata": {},
   "outputs": [
    {
     "name": "stdout",
     "output_type": "stream",
     "text": [
      "A 10 character, four decimal number is:   35.1568\n",
      "A 10 character, four decimal number is:   35.1568\n"
     ]
    }
   ],
   "source": [
    "# Compare .format() and f-string.\n",
    "num = 35.1568\n",
    "print(\"A 10 character, four decimal number is:{0:10.4f}\".format(num))\n",
    "print(f\"A 10 character, four decimal number is:{num:{10}.{6}}\")"
   ]
  },
  {
   "cell_type": "code",
   "execution_count": 51,
   "id": "25d4a438",
   "metadata": {},
   "outputs": [
    {
     "name": "stdout",
     "output_type": "stream",
     "text": [
      "A 10 character, four decimal number is:   23.4500\n",
      "A 10 character, four decimal number is:     23.45\n"
     ]
    }
   ],
   "source": [
    "# f-strings does not pad the right of the decimal\n",
    "num = 23.45\n",
    "print(\"A 10 character, four decimal number is:{0:10.4f}\".format(num))\n",
    "print(f\"A 10 character, four decimal number is:{num:{10}.{6}}\")"
   ]
  },
  {
   "cell_type": "code",
   "execution_count": 52,
   "id": "59579719",
   "metadata": {},
   "outputs": [
    {
     "name": "stdout",
     "output_type": "stream",
     "text": [
      "A 10 character, four decimal number is:   23.4500\n",
      "A 10 character, four decimal number is:   23.4500\n"
     ]
    }
   ],
   "source": [
    "# If important, .format() method can be used inside f-string.\n",
    "num = 23.45\n",
    "print(\"A 10 character, four decimal number is:{0:10.4f}\".format(num))\n",
    "print(f\"A 10 character, four decimal number is:{num:10.4f}\")"
   ]
  }
 ],
 "metadata": {
  "kernelspec": {
   "display_name": "Python 3 (ipykernel)",
   "language": "python",
   "name": "python3"
  },
  "language_info": {
   "codemirror_mode": {
    "name": "ipython",
    "version": 3
   },
   "file_extension": ".py",
   "mimetype": "text/x-python",
   "name": "python",
   "nbconvert_exporter": "python",
   "pygments_lexer": "ipython3",
   "version": "3.11.5"
  }
 },
 "nbformat": 4,
 "nbformat_minor": 5
}
