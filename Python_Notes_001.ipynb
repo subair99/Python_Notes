{
 "cells": [
  {
   "cell_type": "markdown",
   "id": "e4128187",
   "metadata": {},
   "source": [
    "# Python_Notes_001"
   ]
  },
  {
   "cell_type": "markdown",
   "id": "bf47e7ed",
   "metadata": {},
   "source": [
    "Python is an interpreted, object-oriented, high-level programming language with **dynamic semantics**. It was conceived in the late 1980s, and implementation was started in December 1989 by **Guido van Rossum**. It is used for Back End Development, Data Science and App development. Companies that use python include YouTube, Quora, Reddit, Instagram, and Spotify. A very easy way to install python is by using Anaconda which can be downloaded from: https://www.anaconda.com/download"
   ]
  },
  {
   "cell_type": "markdown",
   "id": "6d3b657f",
   "metadata": {},
   "source": [
    "## Python Hello World"
   ]
  },
  {
   "cell_type": "code",
   "execution_count": 1,
   "id": "d75c8574",
   "metadata": {},
   "outputs": [
    {
     "name": "stdout",
     "output_type": "stream",
     "text": [
      "Hello, World\n"
     ]
    }
   ],
   "source": [
    "# Hello, World in Python\n",
    "print(\"Hello, World\") # print()"
   ]
  },
  {
   "cell_type": "code",
   "execution_count": 3,
   "id": "1dbe0803-31db-44cb-bbc0-9132122f5e7e",
   "metadata": {},
   "outputs": [
    {
     "data": {
      "text/plain": [
       "'Hello, World'"
      ]
     },
     "execution_count": 3,
     "metadata": {},
     "output_type": "execute_result"
    }
   ],
   "source": [
    "# This is the printout without the print function\n",
    "\"Hello, World\""
   ]
  },
  {
   "cell_type": "code",
   "execution_count": 5,
   "id": "33204956-b08e-4418-afeb-277e581553d9",
   "metadata": {},
   "outputs": [
    {
     "data": {
      "text/plain": [
       "'Hi all'"
      ]
     },
     "execution_count": 5,
     "metadata": {},
     "output_type": "execute_result"
    }
   ],
   "source": [
    "# Jupyter notebook always prints the last statement\n",
    "\"Hello, World\"\n",
    "'Hi all'"
   ]
  },
  {
   "cell_type": "markdown",
   "id": "d3f28f54",
   "metadata": {},
   "source": [
    "## Data Types"
   ]
  },
  {
   "cell_type": "code",
   "execution_count": 8,
   "id": "78b4a258",
   "metadata": {},
   "outputs": [
    {
     "name": "stdout",
     "output_type": "stream",
     "text": [
      "5\n",
      "<class 'int'>\n"
     ]
    }
   ],
   "source": [
    "# Integer\n",
    "num = 5\n",
    "print(num)\n",
    "print(type(num))"
   ]
  },
  {
   "cell_type": "code",
   "execution_count": 10,
   "id": "f2e5333d",
   "metadata": {},
   "outputs": [
    {
     "name": "stdout",
     "output_type": "stream",
     "text": [
      "3.14\n",
      "<class 'float'>\n"
     ]
    }
   ],
   "source": [
    "# Float\n",
    "pi = 3.14\n",
    "print(pi)\n",
    "print(type(pi))"
   ]
  },
  {
   "cell_type": "code",
   "execution_count": 12,
   "id": "57d289ef",
   "metadata": {},
   "outputs": [
    {
     "name": "stdout",
     "output_type": "stream",
     "text": [
      "Jim\n",
      "<class 'str'>\n"
     ]
    }
   ],
   "source": [
    "# String\n",
    "name = 'Jim'\n",
    "print(name)\n",
    "print(type(name))"
   ]
  },
  {
   "cell_type": "code",
   "execution_count": 14,
   "id": "6aac745f",
   "metadata": {},
   "outputs": [
    {
     "name": "stdout",
     "output_type": "stream",
     "text": [
      "True\n",
      "<class 'bool'>\n"
     ]
    }
   ],
   "source": [
    "# Boolean\n",
    "yes = True\n",
    "print(yes)\n",
    "print(type(yes))"
   ]
  },
  {
   "cell_type": "code",
   "execution_count": 16,
   "id": "552e9874",
   "metadata": {},
   "outputs": [
    {
     "name": "stdout",
     "output_type": "stream",
     "text": [
      "None\n",
      "<class 'NoneType'>\n"
     ]
    }
   ],
   "source": [
    "# Empty value or null data type\n",
    "value = None\n",
    "print(value)\n",
    "print(type(value))"
   ]
  },
  {
   "cell_type": "markdown",
   "id": "caecfedc",
   "metadata": {},
   "source": [
    "## Convert To Integer"
   ]
  },
  {
   "cell_type": "code",
   "execution_count": 19,
   "id": "8589d21c",
   "metadata": {},
   "outputs": [
    {
     "name": "stdout",
     "output_type": "stream",
     "text": [
      "3\n"
     ]
    }
   ],
   "source": [
    "# Convert to integer from float\n",
    "pi = 3.14\n",
    "print(int(pi))"
   ]
  },
  {
   "cell_type": "code",
   "execution_count": 21,
   "id": "9ba42b77",
   "metadata": {},
   "outputs": [
    {
     "ename": "ValueError",
     "evalue": "invalid literal for int() with base 10: 'Jim'",
     "output_type": "error",
     "traceback": [
      "\u001b[1;31m---------------------------------------------------------------------------\u001b[0m",
      "\u001b[1;31mValueError\u001b[0m                                Traceback (most recent call last)",
      "Cell \u001b[1;32mIn[21], line 3\u001b[0m\n\u001b[0;32m      1\u001b[0m \u001b[38;5;66;03m# Convert to integer from string (Not possible)\u001b[39;00m\n\u001b[0;32m      2\u001b[0m name \u001b[38;5;241m=\u001b[39m \u001b[38;5;124m'\u001b[39m\u001b[38;5;124mJim\u001b[39m\u001b[38;5;124m'\u001b[39m\n\u001b[1;32m----> 3\u001b[0m \u001b[38;5;28mprint\u001b[39m(\u001b[38;5;28mint\u001b[39m(name))\n",
      "\u001b[1;31mValueError\u001b[0m: invalid literal for int() with base 10: 'Jim'"
     ]
    }
   ],
   "source": [
    "# Convert to integer from string (Not possible)\n",
    "name = 'Jim'\n",
    "print(int(name))"
   ]
  },
  {
   "cell_type": "code",
   "execution_count": 23,
   "id": "a4c566b2",
   "metadata": {},
   "outputs": [
    {
     "name": "stdout",
     "output_type": "stream",
     "text": [
      "1\n"
     ]
    }
   ],
   "source": [
    "# Convert to integer from boolean\n",
    "yes = True\n",
    "print(int(yes))"
   ]
  },
  {
   "cell_type": "markdown",
   "id": "56c9264c",
   "metadata": {},
   "source": [
    "## Convert To String"
   ]
  },
  {
   "cell_type": "code",
   "execution_count": 26,
   "id": "ac2450e2",
   "metadata": {},
   "outputs": [
    {
     "name": "stdout",
     "output_type": "stream",
     "text": [
      "5\n"
     ]
    }
   ],
   "source": [
    "# Convert to string from integer\n",
    "num = 5\n",
    "print(str(num))"
   ]
  },
  {
   "cell_type": "code",
   "execution_count": 28,
   "id": "fb80e334-7e54-4b19-80fc-17753a57de50",
   "metadata": {},
   "outputs": [
    {
     "data": {
      "text/plain": [
       "'5'"
      ]
     },
     "execution_count": 28,
     "metadata": {},
     "output_type": "execute_result"
    }
   ],
   "source": [
    "# This is the output without print\n",
    "str(num)"
   ]
  },
  {
   "cell_type": "code",
   "execution_count": 30,
   "id": "205c00f7",
   "metadata": {},
   "outputs": [
    {
     "name": "stdout",
     "output_type": "stream",
     "text": [
      "3.14\n"
     ]
    }
   ],
   "source": [
    "# Convert to string from float\n",
    "pi = 3.14\n",
    "print(str(pi))"
   ]
  },
  {
   "cell_type": "code",
   "execution_count": 32,
   "id": "91d95c60-d5bb-415a-be95-995dbb07236e",
   "metadata": {},
   "outputs": [
    {
     "data": {
      "text/plain": [
       "'3.14'"
      ]
     },
     "execution_count": 32,
     "metadata": {},
     "output_type": "execute_result"
    }
   ],
   "source": [
    "# This is the output without print\n",
    "str(pi)"
   ]
  },
  {
   "cell_type": "code",
   "execution_count": 34,
   "id": "a2ec93b4",
   "metadata": {},
   "outputs": [
    {
     "name": "stdout",
     "output_type": "stream",
     "text": [
      "True\n"
     ]
    }
   ],
   "source": [
    "# Convert to string from Boolean\n",
    "yes = True\n",
    "print(str(yes))"
   ]
  },
  {
   "cell_type": "code",
   "execution_count": 36,
   "id": "786d9ef0-80e9-4919-94f2-4fa55071e40f",
   "metadata": {},
   "outputs": [
    {
     "data": {
      "text/plain": [
       "'True'"
      ]
     },
     "execution_count": 36,
     "metadata": {},
     "output_type": "execute_result"
    }
   ],
   "source": [
    "# This is the output without print\n",
    "str(yes)"
   ]
  },
  {
   "cell_type": "markdown",
   "id": "4f2c29f0",
   "metadata": {},
   "source": [
    "## Arithmetic Operators"
   ]
  },
  {
   "cell_type": "code",
   "execution_count": 39,
   "id": "3268c03d",
   "metadata": {},
   "outputs": [
    {
     "name": "stdout",
     "output_type": "stream",
     "text": [
      "5\n"
     ]
    }
   ],
   "source": [
    "# Addition (+)\n",
    "add_ope = 2 + 3\n",
    "print(add_ope)"
   ]
  },
  {
   "cell_type": "code",
   "execution_count": 41,
   "id": "226b3b47",
   "metadata": {},
   "outputs": [
    {
     "name": "stdout",
     "output_type": "stream",
     "text": [
      "3\n"
     ]
    }
   ],
   "source": [
    "# Subtraction (-)\n",
    "sub_ope = 5 - 2\n",
    "print(sub_ope)"
   ]
  },
  {
   "cell_type": "code",
   "execution_count": 43,
   "id": "d600ef5f",
   "metadata": {},
   "outputs": [
    {
     "name": "stdout",
     "output_type": "stream",
     "text": [
      "6\n"
     ]
    }
   ],
   "source": [
    "# Multiplication (*)\n",
    "mul_ope = 2 * 3\n",
    "print(mul_ope)"
   ]
  },
  {
   "cell_type": "code",
   "execution_count": 45,
   "id": "fa92e313",
   "metadata": {},
   "outputs": [
    {
     "name": "stdout",
     "output_type": "stream",
     "text": [
      "3.0\n"
     ]
    }
   ],
   "source": [
    "# Division (/)\n",
    "div_ope = 6 / 2\n",
    "print(div_ope)"
   ]
  },
  {
   "cell_type": "code",
   "execution_count": 47,
   "id": "9fc0eb2a-7b60-4b09-935e-11b3feecb469",
   "metadata": {},
   "outputs": [
    {
     "name": "stdout",
     "output_type": "stream",
     "text": [
      "3\n"
     ]
    }
   ],
   "source": [
    "# Use int function to get integer output\n",
    "print(int(div_ope))"
   ]
  },
  {
   "cell_type": "code",
   "execution_count": 49,
   "id": "6ab1792b",
   "metadata": {},
   "outputs": [
    {
     "name": "stdout",
     "output_type": "stream",
     "text": [
      "1\n"
     ]
    }
   ],
   "source": [
    "# Modulus (%) # Shows only the remainder\n",
    "mod_ope = 5 % 2\n",
    "print(mod_ope)"
   ]
  },
  {
   "cell_type": "code",
   "execution_count": 51,
   "id": "701f55e0",
   "metadata": {},
   "outputs": [
    {
     "name": "stdout",
     "output_type": "stream",
     "text": [
      "9\n"
     ]
    }
   ],
   "source": [
    "# Exponentiation (**)\n",
    "exp_ope = 3 ** 2\n",
    "print(exp_ope)"
   ]
  },
  {
   "cell_type": "code",
   "execution_count": 53,
   "id": "0079c1a4",
   "metadata": {},
   "outputs": [
    {
     "name": "stdout",
     "output_type": "stream",
     "text": [
      "2\n"
     ]
    }
   ],
   "source": [
    "# Floor (//) # Gives division\n",
    "flo_ope = 5 // 2\n",
    "print(flo_ope)"
   ]
  },
  {
   "cell_type": "markdown",
   "id": "0c1a9ef8",
   "metadata": {},
   "source": [
    "## Assignment Operators"
   ]
  },
  {
   "cell_type": "code",
   "execution_count": 56,
   "id": "2a8d7bd8",
   "metadata": {},
   "outputs": [
    {
     "name": "stdout",
     "output_type": "stream",
     "text": [
      "2\n"
     ]
    }
   ],
   "source": [
    "# Equal (=)\n",
    "equ = 2\n",
    "print(equ)"
   ]
  },
  {
   "cell_type": "code",
   "execution_count": 58,
   "id": "6b1d9deb",
   "metadata": {},
   "outputs": [
    {
     "name": "stdout",
     "output_type": "stream",
     "text": [
      "5\n",
      "5\n"
     ]
    }
   ],
   "source": [
    "# Addition-Equal (+=)\n",
    "num = 2\n",
    "num += 3\n",
    "print(num)\n",
    "num = 2 # Redefine num\n",
    "print(num + 3) # Equivelent"
   ]
  },
  {
   "cell_type": "code",
   "execution_count": 60,
   "id": "aa6898b2",
   "metadata": {},
   "outputs": [
    {
     "name": "stdout",
     "output_type": "stream",
     "text": [
      "2\n",
      "2\n"
     ]
    }
   ],
   "source": [
    "# Subtract-Equal (-=)\n",
    "num = 5\n",
    "num -= 3\n",
    "print(num)\n",
    "num = 5 # Redefine num\n",
    "print(num - 3) # Equivelent"
   ]
  },
  {
   "cell_type": "code",
   "execution_count": 62,
   "id": "6aebad32",
   "metadata": {},
   "outputs": [
    {
     "name": "stdout",
     "output_type": "stream",
     "text": [
      "6\n",
      "6\n"
     ]
    }
   ],
   "source": [
    "# Multiply-Equal (*=)\n",
    "num = 2\n",
    "num *= 3\n",
    "print(num)\n",
    "num = 2 # Redefine num\n",
    "print(num * 3) # Equivelent"
   ]
  },
  {
   "cell_type": "code",
   "execution_count": 64,
   "id": "e1cf5b22",
   "metadata": {},
   "outputs": [
    {
     "name": "stdout",
     "output_type": "stream",
     "text": [
      "3.0\n",
      "3.0\n"
     ]
    }
   ],
   "source": [
    "# Divide-Equal (/=)\n",
    "num = 9\n",
    "num /= 3\n",
    "print(num)\n",
    "num = 9 # Redefine num\n",
    "print(num / 3) # Equivelent"
   ]
  },
  {
   "cell_type": "markdown",
   "id": "d7f1ffdc",
   "metadata": {},
   "source": [
    "## Comparison Operators"
   ]
  },
  {
   "cell_type": "code",
   "execution_count": 67,
   "id": "83584186",
   "metadata": {},
   "outputs": [
    {
     "name": "stdout",
     "output_type": "stream",
     "text": [
      "False\n"
     ]
    }
   ],
   "source": [
    "# Equal (==)\n",
    "print(2 == 3)"
   ]
  },
  {
   "cell_type": "code",
   "execution_count": 69,
   "id": "e98e726c",
   "metadata": {},
   "outputs": [
    {
     "name": "stdout",
     "output_type": "stream",
     "text": [
      "True\n"
     ]
    }
   ],
   "source": [
    "# Not equal (!=)\n",
    "print(2 != 3)"
   ]
  },
  {
   "cell_type": "code",
   "execution_count": 71,
   "id": "f2ed3911",
   "metadata": {},
   "outputs": [
    {
     "name": "stdout",
     "output_type": "stream",
     "text": [
      "False\n"
     ]
    }
   ],
   "source": [
    "# Greater than (>)\n",
    "print(2 > 3)"
   ]
  },
  {
   "cell_type": "code",
   "execution_count": 73,
   "id": "f3801bc1",
   "metadata": {},
   "outputs": [
    {
     "name": "stdout",
     "output_type": "stream",
     "text": [
      "True\n"
     ]
    }
   ],
   "source": [
    "# Less than (<)\n",
    "print(2 < 3)"
   ]
  },
  {
   "cell_type": "code",
   "execution_count": 75,
   "id": "2cdfa82c",
   "metadata": {},
   "outputs": [
    {
     "name": "stdout",
     "output_type": "stream",
     "text": [
      "False\n"
     ]
    }
   ],
   "source": [
    "# Greater than or equal to (>=)\n",
    "print(2 >= 3)"
   ]
  },
  {
   "cell_type": "code",
   "execution_count": 77,
   "id": "b5d6558d",
   "metadata": {},
   "outputs": [
    {
     "name": "stdout",
     "output_type": "stream",
     "text": [
      "True\n"
     ]
    }
   ],
   "source": [
    "# Less than or equal to (<=)\n",
    "print(2 <= 3)"
   ]
  },
  {
   "cell_type": "markdown",
   "id": "ec88cdfa",
   "metadata": {},
   "source": [
    "### Logical Operators"
   ]
  },
  {
   "cell_type": "code",
   "execution_count": 80,
   "id": "e13d0b88",
   "metadata": {},
   "outputs": [
    {
     "name": "stdout",
     "output_type": "stream",
     "text": [
      "False\n"
     ]
    }
   ],
   "source": [
    "# and (Returns True if both statements are true)\n",
    "print(2 < 5 and 2 > 10)"
   ]
  },
  {
   "cell_type": "code",
   "execution_count": 82,
   "id": "04b33c23",
   "metadata": {},
   "outputs": [
    {
     "name": "stdout",
     "output_type": "stream",
     "text": [
      "True\n"
     ]
    }
   ],
   "source": [
    "# or (Returns True if one of the statements is true)\n",
    "print(2 < 5 or 2 > 10)"
   ]
  },
  {
   "cell_type": "code",
   "execution_count": 84,
   "id": "51f91620",
   "metadata": {},
   "outputs": [
    {
     "name": "stdout",
     "output_type": "stream",
     "text": [
      "True\n"
     ]
    }
   ],
   "source": [
    "# not (Reverses the result, returns False if the result is true)\n",
    "print(not(2 < 5 and 2 > 10))"
   ]
  },
  {
   "cell_type": "markdown",
   "id": "58b579c2",
   "metadata": {},
   "source": [
    "### The Zen of Python\n",
    "Long time Pythoneer Tim Peters succinctly channels the BDFL’s guiding principles \n",
    "for Python’s design into 20 aphorisms, only 19 of which have been written down.\n",
    "\n",
    "1. Beautiful is better than ugly.\n",
    "2. Explicit is better than implicit.\n",
    "3. Simple is better than complex.\n",
    "4. Complex is better than complicated.\n",
    "5. Flat is better than nested.\n",
    "6. Sparse is better than dense.\n",
    "7. Readability counts.\n",
    "8. Special cases aren't special enough to break the rules.\n",
    "9. Although practicality beats purity.\n",
    "10. Errors should never pass silently.\n",
    "11. Unless explicitly silenced.\n",
    "12. In the face of ambiguity, refuse the temptation to guess.\n",
    "13. There should be one-- and preferably only one --obvious way to do it.\n",
    "14. Although that way may not be obvious at first unless you're Dutch.\n",
    "15. Now is better than never.\n",
    "16. Although never is often better than *right* now.\n",
    "17. If the implementation is hard to explain, it's a bad idea.\n",
    "18. If the implementation is easy to explain, it may be a good idea.\n",
    "19. Namespaces are one honking great idea -- let's do more of those!"
   ]
  },
  {
   "cell_type": "markdown",
   "id": "357472a6",
   "metadata": {},
   "source": []
  }
 ],
 "metadata": {
  "kernelspec": {
   "display_name": "Python [conda env:base] *",
   "language": "python",
   "name": "conda-base-py"
  },
  "language_info": {
   "codemirror_mode": {
    "name": "ipython",
    "version": 3
   },
   "file_extension": ".py",
   "mimetype": "text/x-python",
   "name": "python",
   "nbconvert_exporter": "python",
   "pygments_lexer": "ipython3",
   "version": "3.12.7"
  }
 },
 "nbformat": 4,
 "nbformat_minor": 5
}
