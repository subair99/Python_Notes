{
 "cells": [
  {
   "cell_type": "markdown",
   "id": "e4128187",
   "metadata": {},
   "source": [
    "# Python_Notes_001"
   ]
  },
  {
   "cell_type": "markdown",
   "id": "bf47e7ed",
   "metadata": {},
   "source": [
    "Python is an interpreted, object-oriented, high-level programming language with dynamic semantics. It was conceived in the late 1980s, and implementation was started in December 1989 by Guido van Rossum.It is used for Back End Development, Data Science and App development. Companies that use python include YouTube, Quora, Reddit, Instagram, and Spotify. A very easy way to install python is by using Anaconda which can be downloaded from: https://www.anaconda.com/download and a very good code editor is Visual Studio Code which can be downloaded from: https://code.visualstudio.com/"
   ]
  },
  {
   "cell_type": "markdown",
   "id": "6d3b657f",
   "metadata": {},
   "source": [
    "## Introduction"
   ]
  },
  {
   "cell_type": "code",
   "execution_count": 25,
   "id": "d75c8574",
   "metadata": {},
   "outputs": [
    {
     "name": "stdout",
     "output_type": "stream",
     "text": [
      "Hello, World\n"
     ]
    }
   ],
   "source": [
    "# Hello, World in Python\n",
    "print(\"Hello, World\")"
   ]
  },
  {
   "cell_type": "markdown",
   "id": "d3f28f54",
   "metadata": {},
   "source": [
    "### Data Types"
   ]
  },
  {
   "cell_type": "code",
   "execution_count": 26,
   "id": "78b4a258",
   "metadata": {},
   "outputs": [
    {
     "name": "stdout",
     "output_type": "stream",
     "text": [
      "5\n"
     ]
    }
   ],
   "source": [
    "# Integer\n",
    "a = 5\n",
    "print(a)"
   ]
  },
  {
   "cell_type": "code",
   "execution_count": 27,
   "id": "f2e5333d",
   "metadata": {},
   "outputs": [
    {
     "name": "stdout",
     "output_type": "stream",
     "text": [
      "3.14\n"
     ]
    }
   ],
   "source": [
    "# Floating point\n",
    "pi = 3.14\n",
    "print(pi)"
   ]
  },
  {
   "cell_type": "code",
   "execution_count": 28,
   "id": "57d289ef",
   "metadata": {},
   "outputs": [
    {
     "name": "stdout",
     "output_type": "stream",
     "text": [
      "Jane Doe\n"
     ]
    }
   ],
   "source": [
    "# String\n",
    "name = 'Jane Doe'\n",
    "print(name)"
   ]
  },
  {
   "cell_type": "code",
   "execution_count": 29,
   "id": "6aac745f",
   "metadata": {},
   "outputs": [
    {
     "name": "stdout",
     "output_type": "stream",
     "text": [
      "True\n"
     ]
    }
   ],
   "source": [
    "# Boolean\n",
    "yes = True\n",
    "print(yes)"
   ]
  },
  {
   "cell_type": "code",
   "execution_count": 30,
   "id": "552e9874",
   "metadata": {},
   "outputs": [
    {
     "name": "stdout",
     "output_type": "stream",
     "text": [
      "None\n"
     ]
    }
   ],
   "source": [
    "# Empty value or null data type\n",
    "x = None\n",
    "print(x)"
   ]
  },
  {
   "cell_type": "markdown",
   "id": "4f2c29f0",
   "metadata": {},
   "source": [
    "### Arithmetic Operators"
   ]
  },
  {
   "cell_type": "code",
   "execution_count": 31,
   "id": "3268c03d",
   "metadata": {},
   "outputs": [
    {
     "name": "stdout",
     "output_type": "stream",
     "text": [
      "5\n"
     ]
    }
   ],
   "source": [
    "# Addition (+)\n",
    "add_ope = 2 + 3\n",
    "print(add_ope)"
   ]
  },
  {
   "cell_type": "code",
   "execution_count": 32,
   "id": "226b3b47",
   "metadata": {},
   "outputs": [
    {
     "name": "stdout",
     "output_type": "stream",
     "text": [
      "3\n"
     ]
    }
   ],
   "source": [
    "# Subtraction (-)\n",
    "sub_ope = 5 - 2\n",
    "print(sub_ope)"
   ]
  },
  {
   "cell_type": "code",
   "execution_count": 33,
   "id": "d600ef5f",
   "metadata": {},
   "outputs": [
    {
     "name": "stdout",
     "output_type": "stream",
     "text": [
      "6\n"
     ]
    }
   ],
   "source": [
    "# Multiplication (*)\n",
    "mul_ope = 2 * 3\n",
    "print(mul_ope)"
   ]
  },
  {
   "cell_type": "code",
   "execution_count": 34,
   "id": "fa92e313",
   "metadata": {},
   "outputs": [
    {
     "name": "stdout",
     "output_type": "stream",
     "text": [
      "3.0\n"
     ]
    }
   ],
   "source": [
    "# Division (/)\n",
    "div_ope = 6 / 2\n",
    "print(div_ope)"
   ]
  },
  {
   "cell_type": "code",
   "execution_count": 35,
   "id": "6ab1792b",
   "metadata": {},
   "outputs": [
    {
     "name": "stdout",
     "output_type": "stream",
     "text": [
      "1\n"
     ]
    }
   ],
   "source": [
    "# Modulus (%)\n",
    "mod_ope = 5 % 2\n",
    "print(mod_ope)"
   ]
  },
  {
   "cell_type": "code",
   "execution_count": 36,
   "id": "701f55e0",
   "metadata": {},
   "outputs": [
    {
     "name": "stdout",
     "output_type": "stream",
     "text": [
      "9\n"
     ]
    }
   ],
   "source": [
    "# Exponentiation (**)\n",
    "exp_ope = 3 ** 2\n",
    "print(exp_ope)"
   ]
  },
  {
   "cell_type": "code",
   "execution_count": 37,
   "id": "0079c1a4",
   "metadata": {},
   "outputs": [
    {
     "name": "stdout",
     "output_type": "stream",
     "text": [
      "2\n"
     ]
    }
   ],
   "source": [
    "# Floor division (//)\n",
    "flo_ope = 5 // 2\n",
    "print(flo_ope)"
   ]
  },
  {
   "cell_type": "markdown",
   "id": "d7f1ffdc",
   "metadata": {},
   "source": [
    "### Comparison Operators"
   ]
  },
  {
   "cell_type": "code",
   "execution_count": 38,
   "id": "83584186",
   "metadata": {},
   "outputs": [
    {
     "name": "stdout",
     "output_type": "stream",
     "text": [
      "False\n"
     ]
    }
   ],
   "source": [
    "# Equal (==)\n",
    "print(2 == 3)"
   ]
  },
  {
   "cell_type": "code",
   "execution_count": 39,
   "id": "e98e726c",
   "metadata": {},
   "outputs": [
    {
     "name": "stdout",
     "output_type": "stream",
     "text": [
      "True\n"
     ]
    }
   ],
   "source": [
    "# Not equal (!=)\n",
    "print(2 != 3)"
   ]
  },
  {
   "cell_type": "code",
   "execution_count": 40,
   "id": "f2ed3911",
   "metadata": {},
   "outputs": [
    {
     "name": "stdout",
     "output_type": "stream",
     "text": [
      "False\n"
     ]
    }
   ],
   "source": [
    "# Greater than (>)\n",
    "print(2 > 3)"
   ]
  },
  {
   "cell_type": "code",
   "execution_count": 41,
   "id": "f3801bc1",
   "metadata": {},
   "outputs": [
    {
     "name": "stdout",
     "output_type": "stream",
     "text": [
      "True\n"
     ]
    }
   ],
   "source": [
    "# Less than (<)\n",
    "print(2 < 3)"
   ]
  },
  {
   "cell_type": "code",
   "execution_count": 42,
   "id": "2cdfa82c",
   "metadata": {},
   "outputs": [
    {
     "name": "stdout",
     "output_type": "stream",
     "text": [
      "False\n"
     ]
    }
   ],
   "source": [
    "# Greater than or equal to (>=)\n",
    "print(2 >= 3)"
   ]
  },
  {
   "cell_type": "code",
   "execution_count": 43,
   "id": "b5d6558d",
   "metadata": {},
   "outputs": [
    {
     "name": "stdout",
     "output_type": "stream",
     "text": [
      "True\n"
     ]
    }
   ],
   "source": [
    "# Less than or equal to (<=)\n",
    "print(2 <= 3)"
   ]
  },
  {
   "cell_type": "markdown",
   "id": "ec88cdfa",
   "metadata": {},
   "source": [
    "### Logical Operators"
   ]
  },
  {
   "cell_type": "code",
   "execution_count": 44,
   "id": "e13d0b88",
   "metadata": {},
   "outputs": [
    {
     "name": "stdout",
     "output_type": "stream",
     "text": [
      "False\n"
     ]
    }
   ],
   "source": [
    "# and (Returns True if both statements are true)\n",
    "print(2 < 5 and 2 > 10)"
   ]
  },
  {
   "cell_type": "code",
   "execution_count": 45,
   "id": "04b33c23",
   "metadata": {},
   "outputs": [
    {
     "name": "stdout",
     "output_type": "stream",
     "text": [
      "False\n"
     ]
    }
   ],
   "source": [
    "# or (Returns True if one of the statements is true)\n",
    "print(2 < 5 and 2 > 10)"
   ]
  },
  {
   "cell_type": "code",
   "execution_count": 46,
   "id": "51f91620",
   "metadata": {},
   "outputs": [
    {
     "name": "stdout",
     "output_type": "stream",
     "text": [
      "True\n"
     ]
    }
   ],
   "source": [
    "# not (Reverses the result, returns False if the result is true)\n",
    "print(not(2 < 5 and 2 > 10))"
   ]
  },
  {
   "cell_type": "markdown",
   "id": "58b579c2",
   "metadata": {},
   "source": [
    "### The Zen of Python\n",
    "Long time Pythoneer Tim Peters succinctly channels the BDFL’s guiding principles \n",
    "for Python’s design into 20 aphorisms, only 19 of which have been written down.\n",
    "\n",
    "* Beautiful is better than ugly.\n",
    "* Explicit is better than implicit.\n",
    "* Simple is better than complex.\n",
    "* Complex is better than complicated.\n",
    "* Flat is better than nested.\n",
    "* Sparse is better than dense.\n",
    "* Readability counts.\n",
    "* Special cases aren't special enough to break the rules.\n",
    "* Although practicality beats purity.\n",
    "* Errors should never pass silently.\n",
    "* Unless explicitly silenced.\n",
    "* In the face of ambiguity, refuse the temptation to guess.\n",
    "* There should be one-- and preferably only one --obvious way to do it.\n",
    "* Although that way may not be obvious at first unless you're Dutch.\n",
    "* Now is better than never.\n",
    "* Although never is often better than *right* now.\n",
    "* If the implementation is hard to explain, it's a bad idea.\n",
    "* If the implementation is easy to explain, it may be a good idea.\n",
    "* Namespaces are one honking great idea -- let's do more of those!"
   ]
  },
  {
   "cell_type": "markdown",
   "id": "357472a6",
   "metadata": {},
   "source": []
  }
 ],
 "metadata": {
  "kernelspec": {
   "display_name": "base",
   "language": "python",
   "name": "python3"
  },
  "language_info": {
   "codemirror_mode": {
    "name": "ipython",
    "version": 3
   },
   "file_extension": ".py",
   "mimetype": "text/x-python",
   "name": "python",
   "nbconvert_exporter": "python",
   "pygments_lexer": "ipython3",
   "version": "3.12.7"
  }
 },
 "nbformat": 4,
 "nbformat_minor": 5
}
