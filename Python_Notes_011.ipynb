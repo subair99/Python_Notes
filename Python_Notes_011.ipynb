{
 "cells": [
  {
   "cell_type": "markdown",
   "id": "e4128187",
   "metadata": {},
   "source": [
    "# Python_Notes_011"
   ]
  },
  {
   "cell_type": "markdown",
   "id": "4949b5d9",
   "metadata": {},
   "source": [
    "## Functions\n",
    "A function is a useful device that groups together a set of statements so they can be run more than once. It can also allow the specification of parameters which serves as inputs to the functions."
   ]
  },
  {
   "cell_type": "code",
   "execution_count": 1,
   "id": "4c7635a0",
   "metadata": {},
   "outputs": [],
   "source": [
    "# A simple function.\n",
    "def greet():\n",
    "    print('Hello')"
   ]
  },
  {
   "cell_type": "code",
   "execution_count": 2,
   "id": "766e83ba",
   "metadata": {},
   "outputs": [
    {
     "name": "stdout",
     "output_type": "stream",
     "text": [
      "Hello\n"
     ]
    }
   ],
   "source": [
    "# Function will run.\n",
    "greet()"
   ]
  },
  {
   "cell_type": "code",
   "execution_count": 3,
   "id": "96e2658a",
   "metadata": {},
   "outputs": [],
   "source": [
    "# A better way is to use return.\n",
    "def greet():\n",
    "    return 'Hello'"
   ]
  },
  {
   "cell_type": "code",
   "execution_count": 4,
   "id": "df4789cb",
   "metadata": {},
   "outputs": [
    {
     "data": {
      "text/plain": [
       "'Hello'"
      ]
     },
     "execution_count": 4,
     "metadata": {},
     "output_type": "execute_result"
    }
   ],
   "source": [
    "# It gives the same result.\n",
    "greet()"
   ]
  },
  {
   "cell_type": "code",
   "execution_count": 5,
   "id": "26d2df49",
   "metadata": {},
   "outputs": [
    {
     "name": "stdout",
     "output_type": "stream",
     "text": [
      "Hello\n"
     ]
    }
   ],
   "source": [
    "# It has the additional advantage of being assigned to a variable.\n",
    "greeting = greet()\n",
    "print(greeting)"
   ]
  },
  {
   "cell_type": "code",
   "execution_count": 6,
   "id": "b33fcb87",
   "metadata": {},
   "outputs": [],
   "source": [
    "# A function with an argument.\n",
    "def greet_person(name):\n",
    "    return f'Hello {name}.'"
   ]
  },
  {
   "cell_type": "code",
   "execution_count": 7,
   "id": "6b4c178f",
   "metadata": {},
   "outputs": [
    {
     "name": "stdout",
     "output_type": "stream",
     "text": [
      "Hello Ben.\n"
     ]
    }
   ],
   "source": [
    "# Run greet_person function with name Ben.\n",
    "greeting_person = greet_person('Ben')\n",
    "print(greeting_person)"
   ]
  },
  {
   "cell_type": "code",
   "execution_count": 8,
   "id": "ad64fa07",
   "metadata": {},
   "outputs": [],
   "source": [
    "# The function argument can also be set to a default value.\n",
    "def greet_set(name='Sam'):\n",
    "    return f'Hello {name}.'"
   ]
  },
  {
   "cell_type": "code",
   "execution_count": 9,
   "id": "2f84c70a",
   "metadata": {},
   "outputs": [
    {
     "name": "stdout",
     "output_type": "stream",
     "text": [
      "Hello Sam.\n"
     ]
    }
   ],
   "source": [
    "# If the name is not changed, the default is used.\n",
    "greeting_set = greet_set()\n",
    "print(greeting_set)"
   ]
  },
  {
   "cell_type": "code",
   "execution_count": 10,
   "id": "5d34dada",
   "metadata": {},
   "outputs": [
    {
     "name": "stdout",
     "output_type": "stream",
     "text": [
      "Hello Dave.\n"
     ]
    }
   ],
   "source": [
    "# Now use Dave.\n",
    "greeting_set = greet_set('Dave')\n",
    "print(greeting_set)"
   ]
  },
  {
   "cell_type": "code",
   "execution_count": 11,
   "id": "0ce0ca39",
   "metadata": {},
   "outputs": [],
   "source": [
    "# Using conditions and loops in functions.\n",
    "def prime_num(num):\n",
    "    '''\n",
    "    A method to check for prime numbers.\n",
    "    The input is an integer.\n",
    "    The output is a boolean.\n",
    "    '''\n",
    "    if num % 2 == 0 and num > 2:\n",
    "        return False\n",
    "    for i in range(3, int(num**0.5) + 1, 2):\n",
    "        if num % i == 0:\n",
    "            return False\n",
    "    return True"
   ]
  },
  {
   "cell_type": "code",
   "execution_count": 12,
   "id": "dbb6f9ca",
   "metadata": {},
   "outputs": [
    {
     "name": "stdout",
     "output_type": "stream",
     "text": [
      "19 is a prime number.\n",
      "20 is not a prime number.\n",
      "21 is not a prime number.\n",
      "22 is not a prime number.\n",
      "23 is a prime number.\n",
      "24 is not a prime number.\n",
      "25 is not a prime number.\n",
      "26 is not a prime number.\n",
      "27 is not a prime number.\n",
      "28 is not a prime number.\n",
      "29 is a prime number.\n",
      "30 is not a prime number.\n",
      "31 is a prime number.\n"
     ]
    }
   ],
   "source": [
    "# Define a list and use for loop to check for prime numbers.\n",
    "list_num = [19, 20, 21, 22, 23, 24, 25, 26, 27, 28, 29, 30, 31]\n",
    "\n",
    "for item in list_num: # The function makes it possible to run repeatedly.\n",
    "    if prime_num(item) == True:\n",
    "        print(f'{item} is a prime number.')\n",
    "    else:\n",
    "        print(f'{item} is not a prime number.')"
   ]
  },
  {
   "cell_type": "code",
   "execution_count": 13,
   "id": "e66d67ce",
   "metadata": {},
   "outputs": [],
   "source": [
    "# Functions with unknown number of arguments (*args).\n",
    "def unknown_args(*args):\n",
    "    print(f'Number of items is: {len(args)}\\n')\n",
    "    for item in args:\n",
    "        print(item)"
   ]
  },
  {
   "cell_type": "code",
   "execution_count": 14,
   "id": "7466da07",
   "metadata": {},
   "outputs": [
    {
     "name": "stdout",
     "output_type": "stream",
     "text": [
      "Number of items is: 7\n",
      "\n",
      "Monday\n",
      "Tuesday\n",
      "Wednesday\n",
      "Thursday\n",
      "Friday\n",
      "Saturday\n",
      "Sunday\n"
     ]
    }
   ],
   "source": [
    "# Use unknown_args to process days of the week.\n",
    "unknown_args('Monday', 'Tuesday', 'Wednesday', 'Thursday', 'Friday', 'Saturday', 'Sunday')"
   ]
  },
  {
   "cell_type": "code",
   "execution_count": 15,
   "id": "40ebb699",
   "metadata": {},
   "outputs": [],
   "source": [
    "# Another example of (*args).\n",
    "def total_args(*args):\n",
    "    total = 0\n",
    "    for num in args:\n",
    "        total += num\n",
    "    return total"
   ]
  },
  {
   "cell_type": "code",
   "execution_count": 16,
   "id": "d5f45113",
   "metadata": {},
   "outputs": [
    {
     "name": "stdout",
     "output_type": "stream",
     "text": [
      "The total of the numbers is: 24.78\n"
     ]
    }
   ],
   "source": [
    "# Use total_args to process some numbers.\n",
    "print(f'The total of the numbers is: {total_args(0.75, 3.44, 5.72, 2.18, 1.73, 4.91, 6.05)}')"
   ]
  },
  {
   "cell_type": "code",
   "execution_count": 17,
   "id": "2f23f8b5",
   "metadata": {},
   "outputs": [],
   "source": [
    "# Functions with unknown number of keyword arguments (**kwargs), which simply means a dictionary.\n",
    "def unknown_kwargs(**kwargs):\n",
    "    for key in kwargs:\n",
    "        print(kwargs[key], 'is', key)"
   ]
  },
  {
   "cell_type": "code",
   "execution_count": 18,
   "id": "c7fc6fe4",
   "metadata": {},
   "outputs": [
    {
     "name": "stdout",
     "output_type": "stream",
     "text": [
      "1 is Monday\n",
      "2 is Tuesday\n",
      "3 is Wednesday\n",
      "4 is Thursday\n",
      "5 is Friday\n",
      "6 is Saturday\n",
      "7 is Sunday\n"
     ]
    }
   ],
   "source": [
    "# Use total_args to process dictionary of days.\n",
    "unknown_kwargs(Monday=1, Tuesday=2, Wednesday=3, Thursday=4, Friday=5, Saturday=6, Sunday=7)"
   ]
  },
  {
   "cell_type": "markdown",
   "id": "608d6632",
   "metadata": {},
   "source": [
    "####  Function Docstring\n",
    "A function docstring is a string used to document it, so that what it does can be understood without having to read the details of its implementation."
   ]
  },
  {
   "cell_type": "code",
   "execution_count": 19,
   "id": "ae1e4aac",
   "metadata": {},
   "outputs": [],
   "source": [
    "# Back to the prime_num function.\n",
    "def prime_num(num):\n",
    "    '''\n",
    "    A method to check for prime numbers.\n",
    "    The input is an integer.\n",
    "    The output is a boolean.\n",
    "    '''\n",
    "    if num % 2 == 0 and num > 2:\n",
    "        return False\n",
    "    for i in range(3, int(num**0.5) + 1, 2):\n",
    "        if num % i == 0:\n",
    "            return False\n",
    "    return True"
   ]
  },
  {
   "cell_type": "code",
   "execution_count": 20,
   "id": "744995ea",
   "metadata": {},
   "outputs": [
    {
     "name": "stdout",
     "output_type": "stream",
     "text": [
      "Help on function prime_num in module __main__:\n",
      "\n",
      "prime_num(num)\n",
      "    A method to check for prime numbers.\n",
      "    The input is an integer.\n",
      "    The output is a boolean.\n",
      "\n"
     ]
    }
   ],
   "source": [
    "# Help reveals the details of the funtion.\n",
    "help(prime_num)"
   ]
  },
  {
   "cell_type": "code",
   "execution_count": 21,
   "id": "b6ef2398",
   "metadata": {},
   "outputs": [
    {
     "name": "stdout",
     "output_type": "stream",
     "text": [
      "\n",
      "    A method to check for prime numbers.\n",
      "    The input is an integer.\n",
      "    The output is a boolean.\n",
      "    \n"
     ]
    }
   ],
   "source": [
    "# The .__doc__ reveals only the docstring.\n",
    "print(prime_num.__doc__)"
   ]
  }
 ],
 "metadata": {
  "kernelspec": {
   "display_name": "Python 3 (ipykernel)",
   "language": "python",
   "name": "python3"
  },
  "language_info": {
   "codemirror_mode": {
    "name": "ipython",
    "version": 3
   },
   "file_extension": ".py",
   "mimetype": "text/x-python",
   "name": "python",
   "nbconvert_exporter": "python",
   "pygments_lexer": "ipython3",
   "version": "3.11.4"
  }
 },
 "nbformat": 4,
 "nbformat_minor": 5
}
