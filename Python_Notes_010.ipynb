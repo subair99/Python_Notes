{
 "cells": [
  {
   "cell_type": "markdown",
   "id": "e4128187",
   "metadata": {},
   "source": [
    "## Python_Notes_010"
   ]
  },
  {
   "cell_type": "markdown",
   "id": "4949b5d9",
   "metadata": {},
   "source": [
    "### Loops"
   ]
  },
  {
   "cell_type": "markdown",
   "id": "49c854e0",
   "metadata": {},
   "source": [
    "#### For loops\n",
    "A for loop is used to iterate over a sequence (such as list, tuple, string, set, or dictionary), does not require an indexing variable to set beforehand."
   ]
  },
  {
   "cell_type": "code",
   "execution_count": 1,
   "id": "4c7635a0",
   "metadata": {},
   "outputs": [
    {
     "name": "stdout",
     "output_type": "stream",
     "text": [
      "one\n",
      "two\n",
      "three\n",
      "four\n",
      "five\n"
     ]
    }
   ],
   "source": [
    "# Iterate over a list.\n",
    "list1 = ['one', 'two', 'three', 'four', 'five']\n",
    "\n",
    "for word in list1: # word could be any string or alphabet\n",
    "    print(word)"
   ]
  },
  {
   "cell_type": "code",
   "execution_count": 2,
   "id": "766e83ba",
   "metadata": {},
   "outputs": [
    {
     "name": "stdout",
     "output_type": "stream",
     "text": [
      "p\n",
      "y\n",
      "t\n",
      "h\n",
      "o\n",
      "n\n",
      " \n",
      "i\n",
      "s\n",
      " \n",
      "g\n",
      "o\n",
      "o\n",
      "d\n"
     ]
    }
   ],
   "source": [
    "# Iterate over a string.\n",
    "string1 = 'python is good'\n",
    "\n",
    "for alphabet in string1: # the space is part of the string\n",
    "    print(alphabet)"
   ]
  },
  {
   "cell_type": "code",
   "execution_count": 3,
   "id": "5a9db1af",
   "metadata": {},
   "outputs": [
    {
     "data": {
      "text/plain": [
       "range(0, 10)"
      ]
     },
     "execution_count": 3,
     "metadata": {},
     "output_type": "execute_result"
    }
   ],
   "source": [
    "# Define a range.\n",
    "range(10) # lists numbers 0 to 9."
   ]
  },
  {
   "cell_type": "code",
   "execution_count": 4,
   "id": "26d2df49",
   "metadata": {},
   "outputs": [
    {
     "name": "stdout",
     "output_type": "stream",
     "text": [
      "0\n",
      "1\n",
      "2\n",
      "3\n",
      "4\n",
      "5\n",
      "6\n",
      "7\n",
      "8\n",
      "9\n"
     ]
    }
   ],
   "source": [
    "# Iterate over the range to discover its contents.\n",
    "for item in range(0, 10):\n",
    "    print(item)"
   ]
  },
  {
   "cell_type": "code",
   "execution_count": 5,
   "id": "31588763",
   "metadata": {},
   "outputs": [
    {
     "name": "stdout",
     "output_type": "stream",
     "text": [
      "3\n",
      "4\n",
      "5\n",
      "6\n",
      "7\n",
      "8\n",
      "9\n",
      "10\n"
     ]
    }
   ],
   "source": [
    "# Another example with range.\n",
    "for item in range(3, 11):\n",
    "    print(item)"
   ]
  },
  {
   "cell_type": "code",
   "execution_count": 6,
   "id": "18b9b332",
   "metadata": {},
   "outputs": [
    {
     "name": "stdout",
     "output_type": "stream",
     "text": [
      "2\n",
      "4\n",
      "6\n",
      "8\n",
      "10\n"
     ]
    }
   ],
   "source": [
    "# This will print the even numbers in the range.\n",
    "for num in range(1, 11):\n",
    "    if num % 2 == 0:\n",
    "        print(num)"
   ]
  },
  {
   "cell_type": "code",
   "execution_count": 7,
   "id": "0af2a0a8",
   "metadata": {},
   "outputs": [
    {
     "name": "stdout",
     "output_type": "stream",
     "text": [
      "1\n",
      "3\n",
      "5\n",
      "7\n",
      "9\n"
     ]
    }
   ],
   "source": [
    "# This will print the odd numbers in the range.\n",
    "for num in range(1, 11):\n",
    "    if num % 2 != 0:\n",
    "        print(num)"
   ]
  },
  {
   "cell_type": "code",
   "execution_count": 8,
   "id": "17cfc59f",
   "metadata": {},
   "outputs": [
    {
     "name": "stdout",
     "output_type": "stream",
     "text": [
      "55\n"
     ]
    }
   ],
   "source": [
    "# This will sum the numbers in a sequence, numbers 1 to 10.\n",
    "# Start sum at zero\n",
    "list_sum = 0\n",
    "\n",
    "for num in range(1, 11):\n",
    "    list_sum = list_sum + num\n",
    "print(list_sum)"
   ]
  },
  {
   "cell_type": "code",
   "execution_count": 9,
   "id": "a1ee81cd",
   "metadata": {},
   "outputs": [
    {
     "name": "stdout",
     "output_type": "stream",
     "text": [
      "(2, 3)\n",
      "(4, 5)\n",
      "(6, 7)\n",
      "(8, 9)\n"
     ]
    }
   ],
   "source": [
    "# Iterate over a list of tuples.\n",
    "list2 = [(2, 3), (4, 5), (6, 7), (8, 9)]\n",
    "\n",
    "for tup in list2:\n",
    "    print(tup)"
   ]
  },
  {
   "cell_type": "code",
   "execution_count": 10,
   "id": "ad72e1aa",
   "metadata": {},
   "outputs": [
    {
     "name": "stdout",
     "output_type": "stream",
     "text": [
      "2\n",
      "4\n",
      "6\n",
      "8\n"
     ]
    }
   ],
   "source": [
    "# This will unpack the tuple, by getting the first item of each.\n",
    "for (t1, t2) in list2:\n",
    "    print(t1)"
   ]
  },
  {
   "cell_type": "code",
   "execution_count": 11,
   "id": "ea427ce8",
   "metadata": {},
   "outputs": [
    {
     "name": "stdout",
     "output_type": "stream",
     "text": [
      "3\n",
      "5\n",
      "7\n",
      "9\n"
     ]
    }
   ],
   "source": [
    "# This will upack the tuple, by getting the second item of each.\n",
    "for t1, t2 in list2: # (t1, t2) is same as t1, t2\n",
    "    print(t2)"
   ]
  },
  {
   "cell_type": "code",
   "execution_count": 12,
   "id": "b51a0400",
   "metadata": {},
   "outputs": [
    {
     "name": "stdout",
     "output_type": "stream",
     "text": [
      "k1\n",
      "k2\n",
      "k3\n"
     ]
    }
   ],
   "source": [
    "# Iterate over a dictionary, get keys.\n",
    "dict1 = {'k1': 1, 'k2': 2, 'k3': 3}\n",
    "\n",
    "for key in dict1.keys():\n",
    "    print(key)"
   ]
  },
  {
   "cell_type": "code",
   "execution_count": 13,
   "id": "096dbd4a",
   "metadata": {},
   "outputs": [
    {
     "name": "stdout",
     "output_type": "stream",
     "text": [
      "1\n",
      "2\n",
      "3\n"
     ]
    }
   ],
   "source": [
    "# Iterate over a dictionary, get values.\n",
    "dict1 = {'k1': 1, 'k2': 2, 'k3': 3}\n",
    "\n",
    "for value in dict1.values():\n",
    "    print(value)"
   ]
  },
  {
   "cell_type": "code",
   "execution_count": 14,
   "id": "694b37fe",
   "metadata": {},
   "outputs": [
    {
     "name": "stdout",
     "output_type": "stream",
     "text": [
      "k1\n",
      "1\n",
      "k2\n",
      "2\n",
      "k3\n",
      "3\n"
     ]
    }
   ],
   "source": [
    "# Dictionary unpacking.\n",
    "for k, v in dict1.items():\n",
    "    print(k)\n",
    "    print(v)"
   ]
  },
  {
   "cell_type": "code",
   "execution_count": 15,
   "id": "4f7526c4",
   "metadata": {},
   "outputs": [
    {
     "name": "stdout",
     "output_type": "stream",
     "text": [
      "Enter a number: 11\n",
      "\n",
      "+\n",
      "++\n",
      "+++\n",
      "++++\n",
      "+++++\n",
      "++++++\n",
      "+++++++\n",
      "++++++++\n",
      "+++++++++\n",
      "++++++++++\n",
      "+++++++++++"
     ]
    }
   ],
   "source": [
    "# Nested for loop.\n",
    "number = int(input('Enter a number: '))\n",
    "\n",
    "for i in range(0, number):\n",
    "    print()\n",
    "    for j in range(0, i+1):\n",
    "        print('+', end='') # note the end= parameter"
   ]
  },
  {
   "cell_type": "code",
   "execution_count": 16,
   "id": "704c634d",
   "metadata": {},
   "outputs": [
    {
     "name": "stdout",
     "output_type": "stream",
     "text": [
      "0\n",
      "1\n",
      "2\n",
      "3\n",
      "4\n",
      "5\n",
      "6\n",
      "7\n",
      "8\n",
      "9\n"
     ]
    }
   ],
   "source": [
    "# Demonstration of the end= parameter, normal print.\n",
    "for i in range(10):\n",
    "    print(i) # the print function ends with a newline"
   ]
  },
  {
   "cell_type": "code",
   "execution_count": 17,
   "id": "2e8a6388",
   "metadata": {},
   "outputs": [
    {
     "name": "stdout",
     "output_type": "stream",
     "text": [
      "0123456789"
     ]
    }
   ],
   "source": [
    "# Demonstration of the end='' parameter, use end 1.\n",
    "for i in range(10):\n",
    "    print(i, end='') # the print function ends with no space"
   ]
  },
  {
   "cell_type": "code",
   "execution_count": 18,
   "id": "d94ddd59",
   "metadata": {},
   "outputs": [
    {
     "name": "stdout",
     "output_type": "stream",
     "text": [
      "0,1,2,3,4,5,6,7,8,9,"
     ]
    }
   ],
   "source": [
    "# Demonstration of the end='' statement, use end 2.\n",
    "for i in range(10):\n",
    "    print(i, end=',') # the print function ends with comma"
   ]
  },
  {
   "cell_type": "code",
   "execution_count": 19,
   "id": "d0743886",
   "metadata": {},
   "outputs": [
    {
     "name": "stdout",
     "output_type": "stream",
     "text": [
      "0, 1, 2, 3, 4, 5, 6, 7, 8, 9, "
     ]
    }
   ],
   "source": [
    "# Demonstration of the end='' statement, use end 3.\n",
    "for i in range(10):\n",
    "    print(i, end=', ') # the print function ends with comma and space"
   ]
  },
  {
   "cell_type": "markdown",
   "id": "14a26866",
   "metadata": {},
   "source": [
    "#### While loops\n",
    "A while loop is used to repeatedly execute a single statement or group of statements as long as the condition is true, it is very useful when there is no onject to iterate over."
   ]
  },
  {
   "cell_type": "code",
   "execution_count": 20,
   "id": "e7577b1f",
   "metadata": {},
   "outputs": [
    {
     "name": "stdout",
     "output_type": "stream",
     "text": [
      "The current value of counter is: 0\n",
      "counter is still less than 10, so 1 will be added to it\n",
      "\n",
      "The current value of counter is: 1\n",
      "counter is still less than 10, so 1 will be added to it\n",
      "\n",
      "The current value of counter is: 2\n",
      "counter is still less than 10, so 1 will be added to it\n",
      "\n",
      "The current value of counter is: 3\n",
      "counter is still less than 10, so 1 will be added to it\n",
      "\n",
      "The current value of counter is: 4\n",
      "counter is still less than 10, so 1 will be added to it\n",
      "\n",
      "The current value of counter is: 5\n",
      "counter is still less than 10, so 1 will be added to it\n",
      "\n",
      "The current value of counter is: 6\n",
      "counter is still less than 10, so 1 will be added to it\n",
      "\n",
      "The current value of counter is: 7\n",
      "counter is still less than 10, so 1 will be added to it\n",
      "\n",
      "The current value of counter is: 8\n",
      "counter is still less than 10, so 1 will be added to it\n",
      "\n",
      "The current value of counter is: 9\n",
      "counter is still less than 10, so 1 will be added to it\n",
      "\n"
     ]
    }
   ],
   "source": [
    "# A simple while loop.\n",
    "counter = 0 # This must be initiated.\n",
    "\n",
    "while counter < 10:\n",
    "    print(f'The current value of counter is: {counter}')\n",
    "    print('counter is still less than 10, so 1 will be added to it\\n')\n",
    "    counter+=1"
   ]
  },
  {
   "cell_type": "code",
   "execution_count": 21,
   "id": "0a56ab0e",
   "metadata": {},
   "outputs": [
    {
     "name": "stdout",
     "output_type": "stream",
     "text": [
      "The current value of counter is: 0\n",
      "counter is still less than 10, so 1 will be added to it\n",
      "\n",
      "The current value of counter is: 1\n",
      "counter is still less than 10, so 1 will be added to it\n",
      "\n",
      "The current value of counter is: 2\n",
      "counter is still less than 10, so 1 will be added to it\n",
      "\n",
      "The current value of counter is: 3\n",
      "counter is still less than 10, so 1 will be added to it\n",
      "\n",
      "The current value of counter is: 4\n",
      "counter is still less than 10, so 1 will be added to it\n",
      "\n",
      "The current value of counter is: 5\n",
      "counter is still less than 10, so 1 will be added to it\n",
      "\n",
      "The current value of counter is: 6\n",
      "counter is still less than 10, so 1 will be added to it\n",
      "\n",
      "The current value of counter is: 7\n",
      "counter is still less than 10, so 1 will be added to it\n",
      "\n",
      "The current value of counter is: 8\n",
      "counter is still less than 10, so 1 will be added to it\n",
      "\n",
      "The current value of counter is: 9\n",
      "counter is still less than 10, so 1 will be added to it\n",
      "\n",
      "Task completed!\n"
     ]
    }
   ],
   "source": [
    "# A while loop with else statement.\n",
    "counter = 0\n",
    "\n",
    "while counter < 10:\n",
    "    print(f'The current value of counter is: {counter}')\n",
    "    print('counter is still less than 10, so 1 will be added to it\\n')\n",
    "    counter+=1\n",
    "    \n",
    "else:\n",
    "    print('Task completed!')"
   ]
  },
  {
   "cell_type": "code",
   "execution_count": 22,
   "id": "334c190d",
   "metadata": {},
   "outputs": [
    {
     "name": "stdout",
     "output_type": "stream",
     "text": [
      "The current value of counter is: 0\n",
      "counter is still less than 10, so 1 will be added to it\n",
      "\n",
      "continuing...\n",
      "\n",
      "The current value of counter is: 1\n",
      "counter is still less than 10, so 1 will be added to it\n",
      "\n",
      "continuing...\n",
      "\n",
      "The current value of counter is: 2\n",
      "counter is still less than 10, so 1 will be added to it\n",
      "\n",
      "Breaking because counter == 3\n"
     ]
    }
   ],
   "source": [
    "# A while loop with if, else, break and continue statements.\n",
    "counter = 0\n",
    "\n",
    "while counter < 10:\n",
    "    print(f'The current value of counter is: {counter}')\n",
    "    print('counter is still less than 10, so 1 will be added to it\\n')\n",
    "    counter+=1\n",
    "\n",
    "    if counter == 3:\n",
    "        print('Breaking because counter == 3')\n",
    "        break\n",
    "    \n",
    "    else:\n",
    "        print('continuing...\\n')\n",
    "        continue"
   ]
  },
  {
   "cell_type": "raw",
   "id": "f14aa338",
   "metadata": {},
   "source": [
    "# AVOID RUNINNG THE CODE BELOW!!!!\n",
    "while True:\n",
    "    print(\"An infinite loop has been created!\")"
   ]
  },
  {
   "cell_type": "code",
   "execution_count": 23,
   "id": "4fcbcd15",
   "metadata": {},
   "outputs": [
    {
     "name": "stdout",
     "output_type": "stream",
     "text": [
      "Enter a number less than 11: 7\n",
      "Enter a number less than 11: 8\n",
      "The entered numbers are 7 and 8.\n",
      "7 x 0 = 0 , 8 x 0 = 0\n",
      "7 x 1 = 7 , 8 x 1 = 8\n",
      "7 x 2 = 14 , 8 x 2 = 16\n",
      "7 x 3 = 21 , 8 x 3 = 24\n",
      "7 x 4 = 28 , 8 x 4 = 32\n",
      "7 x 5 = 35 , 8 x 5 = 40\n",
      "7 x 6 = 42 , 8 x 6 = 48\n",
      "7 x 7 = 49 , 8 x 7 = 56\n",
      "7 x 8 = 56 , 8 x 8 = 64\n",
      "7 x 9 = 63 , 8 x 9 = 72\n",
      "7 x 10 = 70 , 8 x 10 = 80\n"
     ]
    }
   ],
   "source": [
    "# An interesting while loop\n",
    "number1 = int(input('Enter a number less than 11: '))\n",
    "number2 = int(input('Enter a number less than 11: '))\n",
    "print(f'The entered numbers are {number1} and {number2}.')\n",
    "\n",
    "i = 0\n",
    "while i <= 10:\n",
    "    print(('%d x %d = %d' %(number1, i, number1*i)), ',', ('%d x %d = %d' %(number2, i, number2*i )))\n",
    "    i+=1"
   ]
  },
  {
   "cell_type": "markdown",
   "id": "091508e7",
   "metadata": {},
   "source": [
    "#### The pass statement\n",
    "The pass is a null statement for when a statement is required by Python syntax to avoid error"
   ]
  },
  {
   "cell_type": "code",
   "execution_count": 24,
   "id": "446c58c6",
   "metadata": {},
   "outputs": [
    {
     "ename": "SyntaxError",
     "evalue": "incomplete input (1796302180.py, line 3)",
     "output_type": "error",
     "traceback": [
      "\u001b[1;36m  Cell \u001b[1;32mIn[24], line 3\u001b[1;36m\u001b[0m\n\u001b[1;33m    \u001b[0m\n\u001b[1;37m    ^\u001b[0m\n\u001b[1;31mSyntaxError\u001b[0m\u001b[1;31m:\u001b[0m incomplete input\n"
     ]
    }
   ],
   "source": [
    "# A statement requiring additional input.\n",
    "for num in range(10):\n",
    "    "
   ]
  },
  {
   "cell_type": "code",
   "execution_count": 26,
   "id": "26246280",
   "metadata": {},
   "outputs": [],
   "source": [
    "# A statement requiring additional input, by using pass.\n",
    "for num in range(10):\n",
    "    pass  # this will solve the error until it is completed.\n"
   ]
  },
  {
   "cell_type": "markdown",
   "id": "7fb97310",
   "metadata": {},
   "source": [
    "####  The break statement\n",
    "When a break statement executes inside a loop, control flow \"breaks\" out of the loop immediately."
   ]
  },
  {
   "cell_type": "code",
   "execution_count": 27,
   "id": "93ea0051",
   "metadata": {},
   "outputs": [
    {
     "name": "stdout",
     "output_type": "stream",
     "text": [
      "1\n",
      "2\n",
      "3\n",
      "4\n"
     ]
    }
   ],
   "source": [
    "# Demonstartion of break statement.\n",
    "for i in range(1, 11):\n",
    "    if i == 5:\n",
    "        break # the break is before the print hence 5 will not be printed.\n",
    "    print(i)"
   ]
  },
  {
   "cell_type": "markdown",
   "id": "87f59a76",
   "metadata": {},
   "source": [
    "####  The continue statement\n",
    "When a continue statement executes inside a loop, control flow skips to the next iteration of the loop bypassing the rest of the current block."
   ]
  },
  {
   "cell_type": "code",
   "execution_count": 28,
   "id": "87f83207",
   "metadata": {},
   "outputs": [
    {
     "name": "stdout",
     "output_type": "stream",
     "text": [
      "1\n",
      "2\n",
      "3\n",
      "5\n",
      "7\n",
      "9\n",
      "10\n"
     ]
    }
   ],
   "source": [
    "for i in range(1, 11):\n",
    "    if i == 4 or i == 6 or i == 8:\n",
    "        continue # 4, 6, 8 will be omitted.\n",
    "    print(i)"
   ]
  },
  {
   "cell_type": "markdown",
   "id": "895ffec0",
   "metadata": {},
   "source": [
    "#### The in operator.\n",
    "This is used to quickly check if an object is in a sequential object."
   ]
  },
  {
   "cell_type": "code",
   "execution_count": 29,
   "id": "c9b1d3de",
   "metadata": {},
   "outputs": [
    {
     "data": {
      "text/plain": [
       "True"
      ]
     },
     "execution_count": 29,
     "metadata": {},
     "output_type": "execute_result"
    }
   ],
   "source": [
    "# Using the in operator.\n",
    "'b' in ('a', 'b', 'c')"
   ]
  },
  {
   "cell_type": "markdown",
   "id": "eaa4e5fc",
   "metadata": {},
   "source": [
    "#### The not in operator.\n",
    "This is used to quickly check if an object is not in a sequential object."
   ]
  },
  {
   "cell_type": "code",
   "execution_count": 30,
   "id": "05854b89",
   "metadata": {},
   "outputs": [
    {
     "data": {
      "text/plain": [
       "True"
      ]
     },
     "execution_count": 30,
     "metadata": {},
     "output_type": "execute_result"
    }
   ],
   "source": [
    "# Using the not in operator.\n",
    "'d' not in ('a', 'b', 'c')"
   ]
  }
 ],
 "metadata": {
  "kernelspec": {
   "display_name": "Python 3 (ipykernel)",
   "language": "python",
   "name": "python3"
  },
  "language_info": {
   "codemirror_mode": {
    "name": "ipython",
    "version": 3
   },
   "file_extension": ".py",
   "mimetype": "text/x-python",
   "name": "python",
   "nbconvert_exporter": "python",
   "pygments_lexer": "ipython3",
   "version": "3.11.4"
  }
 },
 "nbformat": 4,
 "nbformat_minor": 5
}
