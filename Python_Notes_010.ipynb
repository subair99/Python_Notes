{
 "cells": [
  {
   "cell_type": "markdown",
   "id": "e4128187",
   "metadata": {},
   "source": [
    "# Python_Notes_010"
   ]
  },
  {
   "cell_type": "markdown",
   "id": "4949b5d9",
   "metadata": {},
   "source": [
    "## Loops"
   ]
  },
  {
   "cell_type": "markdown",
   "id": "49c854e0",
   "metadata": {},
   "source": [
    "#### For loops\n",
    "A for loop is used to iterate over a sequence (such as list, tuple, string, set, or dictionary), does not require an indexing variable to set beforehand."
   ]
  },
  {
   "cell_type": "code",
   "execution_count": null,
   "id": "4c7635a0",
   "metadata": {},
   "outputs": [],
   "source": [
    "# Iterate over a list.\n",
    "list1 = ['one', 'two', 'three', 'four', 'five']\n",
    "\n",
    "for word in list1: # word could be any string or alphabet\n",
    "    print(word)"
   ]
  },
  {
   "cell_type": "code",
   "execution_count": null,
   "id": "766e83ba",
   "metadata": {},
   "outputs": [],
   "source": [
    "# Iterate over a string.\n",
    "string1 = 'python is good'\n",
    "\n",
    "for alphabet in string1: # the space is part of the string\n",
    "    print(alphabet)"
   ]
  },
  {
   "cell_type": "code",
   "execution_count": null,
   "id": "5a9db1af",
   "metadata": {},
   "outputs": [],
   "source": [
    "# Define a range.\n",
    "range(10) # lists numbers 0 to 9."
   ]
  },
  {
   "cell_type": "code",
   "execution_count": null,
   "id": "26d2df49",
   "metadata": {},
   "outputs": [],
   "source": [
    "# Iterate over the range to discover its contents.\n",
    "for item in range(0, 10):\n",
    "    print(item)"
   ]
  },
  {
   "cell_type": "code",
   "execution_count": null,
   "id": "31588763",
   "metadata": {},
   "outputs": [],
   "source": [
    "# Another example with range.\n",
    "for item in range(3, 11):\n",
    "    print(item)"
   ]
  },
  {
   "cell_type": "code",
   "execution_count": null,
   "id": "18b9b332",
   "metadata": {},
   "outputs": [],
   "source": [
    "# This will print the even numbers in the range.\n",
    "for num in range(1, 11):\n",
    "    if num % 2 == 0:\n",
    "        print(num)"
   ]
  },
  {
   "cell_type": "code",
   "execution_count": null,
   "id": "0af2a0a8",
   "metadata": {},
   "outputs": [],
   "source": [
    "# This will print the odd numbers in the range.\n",
    "for num in range(1, 11):\n",
    "    if num % 2 != 0:\n",
    "        print(num)"
   ]
  },
  {
   "cell_type": "code",
   "execution_count": null,
   "id": "17cfc59f",
   "metadata": {},
   "outputs": [],
   "source": [
    "# This will sum the numbers in a sequence, numbers 1 to 10.\n",
    "# Start sum at zero\n",
    "list_sum = 0\n",
    "\n",
    "for num in range(1, 11):\n",
    "    list_sum = list_sum + num\n",
    "print(list_sum)"
   ]
  },
  {
   "cell_type": "code",
   "execution_count": null,
   "id": "a1ee81cd",
   "metadata": {},
   "outputs": [],
   "source": [
    "# Iterate over a list of tuples.\n",
    "list2 = [(2, 3), (4, 5), (6, 7), (8, 9)]\n",
    "\n",
    "for tup in list2:\n",
    "    print(tup)"
   ]
  },
  {
   "cell_type": "code",
   "execution_count": null,
   "id": "ad72e1aa",
   "metadata": {},
   "outputs": [],
   "source": [
    "# This will unpack the tuple, by getting the first item of each.\n",
    "for (t1, t2) in list2:\n",
    "    print(t1)"
   ]
  },
  {
   "cell_type": "code",
   "execution_count": null,
   "id": "ea427ce8",
   "metadata": {},
   "outputs": [],
   "source": [
    "# This will upack the tuple, by getting the second item of each.\n",
    "for t1, t2 in list2: # (t1, t2) is same as t1, t2\n",
    "    print(t2)"
   ]
  },
  {
   "cell_type": "code",
   "execution_count": null,
   "id": "b51a0400",
   "metadata": {},
   "outputs": [],
   "source": [
    "# Iterate over a dictionary, get keys.\n",
    "dict1 = {'k1': 1, 'k2': 2, 'k3': 3}\n",
    "\n",
    "for key in dict1.keys():\n",
    "    print(key)"
   ]
  },
  {
   "cell_type": "code",
   "execution_count": null,
   "id": "096dbd4a",
   "metadata": {},
   "outputs": [],
   "source": [
    "# Iterate over a dictionary, get values.\n",
    "dict1 = {'k1': 1, 'k2': 2, 'k3': 3}\n",
    "\n",
    "for value in dict1.values():\n",
    "    print(value)"
   ]
  },
  {
   "cell_type": "code",
   "execution_count": null,
   "id": "694b37fe",
   "metadata": {},
   "outputs": [],
   "source": [
    "# Dictionary unpacking.\n",
    "for k, v in dict1.items():\n",
    "    print(k)\n",
    "    print(v)"
   ]
  },
  {
   "cell_type": "code",
   "execution_count": null,
   "id": "4f7526c4",
   "metadata": {},
   "outputs": [],
   "source": [
    "# Nested for loop.\n",
    "number = int(input('Enter a number: '))\n",
    "\n",
    "for i in range(0, number):\n",
    "    print()\n",
    "    for j in range(0, i+1):\n",
    "        print('+', end='') # note the end= parameter"
   ]
  },
  {
   "cell_type": "code",
   "execution_count": null,
   "id": "704c634d",
   "metadata": {},
   "outputs": [],
   "source": [
    "# Demonstration of the end= parameter, normal print.\n",
    "for i in range(10):\n",
    "    print(i) # the print function ends with a newline"
   ]
  },
  {
   "cell_type": "code",
   "execution_count": null,
   "id": "2e8a6388",
   "metadata": {},
   "outputs": [],
   "source": [
    "# Demonstration of the end='' parameter, use end 1.\n",
    "for i in range(10):\n",
    "    print(i, end='') # the print function ends with no space"
   ]
  },
  {
   "cell_type": "code",
   "execution_count": null,
   "id": "d94ddd59",
   "metadata": {},
   "outputs": [],
   "source": [
    "# Demonstration of the end='' statement, use end 2.\n",
    "for i in range(10):\n",
    "    print(i, end=',') # the print function ends with comma"
   ]
  },
  {
   "cell_type": "code",
   "execution_count": null,
   "id": "d0743886",
   "metadata": {},
   "outputs": [],
   "source": [
    "# Demonstration of the end='' statement, use end 3.\n",
    "for i in range(10):\n",
    "    print(i, end=', ') # the print function ends with comma and space"
   ]
  },
  {
   "cell_type": "markdown",
   "id": "14a26866",
   "metadata": {},
   "source": [
    "#### While loops\n",
    "A while loop is used to repeatedly execute a single statement or group of statements as long as the condition is true, it is very useful when there is no onject to iterate over."
   ]
  },
  {
   "cell_type": "code",
   "execution_count": null,
   "id": "e7577b1f",
   "metadata": {},
   "outputs": [],
   "source": [
    "# A simple while loop.\n",
    "counter = 0 # This must be initiated.\n",
    "\n",
    "while counter < 7:\n",
    "    print(f'The current value of counter is: {counter}')\n",
    "    print('counter is still less than 7, so 1 will be added to it\\n')\n",
    "    counter+=1"
   ]
  },
  {
   "cell_type": "code",
   "execution_count": null,
   "id": "0a56ab0e",
   "metadata": {},
   "outputs": [],
   "source": [
    "# A while loop with else statement.\n",
    "counter = 0\n",
    "\n",
    "while counter < 7:\n",
    "    print(f'The current value of counter is: {counter}')\n",
    "    print('counter is still less than 7, so 1 will be added to it\\n')\n",
    "    counter+=1\n",
    "    \n",
    "else:\n",
    "    print('Task completed!')"
   ]
  },
  {
   "cell_type": "code",
   "execution_count": null,
   "id": "334c190d",
   "metadata": {},
   "outputs": [],
   "source": [
    "# A while loop with if, else, break and continue statements.\n",
    "counter = 0\n",
    "\n",
    "while counter < 10:\n",
    "    print(f'The current value of counter is: {counter}')\n",
    "    print('counter is still less than 10, so 1 will be added to it\\n')\n",
    "    counter+=1\n",
    "\n",
    "    if counter == 3:\n",
    "        print('Breaking because counter == 3')\n",
    "        break\n",
    "    \n",
    "    else:\n",
    "        print('continuing...\\n')\n",
    "        continue"
   ]
  },
  {
   "cell_type": "raw",
   "id": "f14aa338",
   "metadata": {},
   "source": [
    "# AVOID RUNINNG THE CODE BELOW!!!!\n",
    "while True:\n",
    "    print(\"An infinite loop has been created!\")"
   ]
  },
  {
   "cell_type": "code",
   "execution_count": null,
   "id": "4fcbcd15",
   "metadata": {},
   "outputs": [],
   "source": [
    "# An interesting while loop\n",
    "number1 = int(input('Enter a number less than 11: '))\n",
    "number2 = int(input('Enter a number less than 11: '))\n",
    "print(f'The entered numbers are {number1} and {number2}.')\n",
    "\n",
    "i = 0\n",
    "while i <= 10:\n",
    "    print(('%d x %d = %d' %(number1, i, number1*i)), ',', ('%d x %d = %d' %(number2, i, number2*i )))\n",
    "    i+=1"
   ]
  },
  {
   "cell_type": "markdown",
   "id": "82900ee7",
   "metadata": {},
   "source": [
    "#### Match Case\n",
    "This was not present in Python until Python 3.10, and is usally simulatted with if, elif and else as shown below."
   ]
  },
  {
   "cell_type": "code",
   "execution_count": null,
   "id": "6fd49cd3",
   "metadata": {},
   "outputs": [],
   "source": [
    "# A much longer If, elif, else statement.\n",
    "score = int(input('Enter your score: '))\n",
    "print(f'Your score is {score}')\n",
    "\n",
    "if score >= 90 and score <= 100:\n",
    "    print('Your grade is AA.')\n",
    "elif score >= 85 and score <= 89:\n",
    "    print('Your grade is BA.')\n",
    "elif score >= 80 and score <= 84:\n",
    "    print('Your grade is BB.')\n",
    "elif score >= 75 and score <= 79:\n",
    "    print('Your grade is CB.')\n",
    "elif score >= 70 and score <= 74:\n",
    "    print('Your grade is CC.')\n",
    "elif score >= 65 and score <= 69:\n",
    "    print('Your grade is DC.')\n",
    "elif score >= 60 and score <= 64:\n",
    "    print('Your grade is DD.')\n",
    "elif score >= 55 and score <= 59:\n",
    "    print('Your grade is ED.')\n",
    "elif score >= 50 and score <= 54:\n",
    "    print('Your grade is EE.')\n",
    "elif score >= 45 and score <= 49:\n",
    "    print('Your grade is FE.')\n",
    "else:\n",
    "    print('Your grade is FF.') # Note the last statement needs no condition."
   ]
  },
  {
   "cell_type": "code",
   "execution_count": null,
   "id": "5203596c",
   "metadata": {},
   "outputs": [],
   "source": [
    "# This is exucuted using match case.\n",
    "score = int(input('Enter your score: '))\n",
    "print(f'Your score is {score}')\n",
    "\n",
    "match score:\n",
    "    case score if score >= 90 and score <= 100:\n",
    "        print('Your grade is AA.')\n",
    "    case score if score >= 85 and score <= 89:\n",
    "        print('Your grade is BA.')\n",
    "    case score if score >= 80 and score <= 84:\n",
    "        print('Your grade is BB.')\n",
    "    case score if score >= 75 and score <= 79:\n",
    "        print('Your grade is CB.')\n",
    "    case score if score >= 70 and score <= 74:\n",
    "        print('Your grade is CC.')\n",
    "    case score if score >= 65 and score <= 69:\n",
    "        print('Your grade is DC.')\n",
    "    case score if score >= 60 and score <= 64:\n",
    "        print('Your grade is DD.')\n",
    "    case score if score >= 55 and score <= 59:\n",
    "        print('Your grade is ED.')\n",
    "    case score if score >= 50 and score <= 54:\n",
    "        print('Your grade is EE.')\n",
    "    case score if score >= 45 and score <= 49:\n",
    "        print('Your grade is FE.')\n",
    "    case _:\n",
    "        print('Your grade is FF.') # Note the last statement needs no condition."
   ]
  },
  {
   "cell_type": "code",
   "execution_count": null,
   "id": "0684094e",
   "metadata": {},
   "outputs": [],
   "source": [
    "# This is exucuted using match case with range.\n",
    "score = int(input('Enter your score: '))\n",
    "print(f'Your score is {score}')\n",
    "\n",
    "match score:\n",
    "    case score if score in range(90, 100):\n",
    "        print('Your grade is AA.')\n",
    "    case score if score in range(85, 89):\n",
    "        print('Your grade is BA.')\n",
    "    case score if score in range(80, 84):\n",
    "        print('Your grade is BB.')\n",
    "    case score if score in range(75, 79):\n",
    "        print('Your grade is CB.')\n",
    "    case score if score in range(70, 74):\n",
    "        print('Your grade is CC.')\n",
    "    case score if score in range(65, 69):\n",
    "        print('Your grade is DC.')\n",
    "    case score if score in range(60, 64):\n",
    "        print('Your grade is DD.')\n",
    "    case score if score in range(55, 59):\n",
    "        print('Your grade is ED.')\n",
    "    case score if score in range(50, 54):\n",
    "        print('Your grade is EE.')\n",
    "    case score if score in range(45, 49):\n",
    "        print('Your grade is FE.')\n",
    "    case _:\n",
    "        print('Your grade is FF.') # Note the last statement needs no condition."
   ]
  },
  {
   "cell_type": "markdown",
   "id": "091508e7",
   "metadata": {},
   "source": [
    "#### The pass statement\n",
    "The pass is a null statement for when a statement is required by Python syntax to avoid error"
   ]
  },
  {
   "cell_type": "code",
   "execution_count": null,
   "id": "446c58c6",
   "metadata": {},
   "outputs": [],
   "source": [
    "# A statement requiring additional input.\n",
    "for num in range(10):\n",
    "    "
   ]
  },
  {
   "cell_type": "code",
   "execution_count": null,
   "id": "26246280",
   "metadata": {},
   "outputs": [],
   "source": [
    "# A statement requiring additional input, by using pass.\n",
    "for num in range(10):\n",
    "    pass  # this will solve the error until it is completed.\n"
   ]
  },
  {
   "cell_type": "markdown",
   "id": "7fb97310",
   "metadata": {},
   "source": [
    "####  The break statement\n",
    "When a break statement executes inside a loop, control flow \"breaks\" out of the loop immediately."
   ]
  },
  {
   "cell_type": "code",
   "execution_count": null,
   "id": "93ea0051",
   "metadata": {},
   "outputs": [],
   "source": [
    "# Demonstartion of break statement.\n",
    "for i in range(1, 11):\n",
    "    if i == 5:\n",
    "        break # the break is before the print hence 5 will not be printed.\n",
    "    print(i)"
   ]
  },
  {
   "cell_type": "markdown",
   "id": "87f59a76",
   "metadata": {},
   "source": [
    "####  The continue statement\n",
    "When a continue statement executes inside a loop, control flow skips to the next iteration of the loop bypassing the rest of the current block."
   ]
  },
  {
   "cell_type": "code",
   "execution_count": null,
   "id": "87f83207",
   "metadata": {},
   "outputs": [],
   "source": [
    "for i in range(1, 11):\n",
    "    if i == 4 or i == 6 or i == 8:\n",
    "        continue # 4, 6, 8 will be omitted.\n",
    "    print(i)"
   ]
  },
  {
   "cell_type": "markdown",
   "id": "895ffec0",
   "metadata": {},
   "source": [
    "#### The in operator.\n",
    "This is used to quickly check if an object is in a sequential object."
   ]
  },
  {
   "cell_type": "code",
   "execution_count": null,
   "id": "c9b1d3de",
   "metadata": {},
   "outputs": [],
   "source": [
    "# Using the in operator.\n",
    "'b' in ('a', 'b', 'c')"
   ]
  },
  {
   "cell_type": "markdown",
   "id": "eaa4e5fc",
   "metadata": {},
   "source": [
    "#### The not in operator.\n",
    "This is used to quickly check if an object is not in a sequential object."
   ]
  },
  {
   "cell_type": "code",
   "execution_count": null,
   "id": "05854b89",
   "metadata": {},
   "outputs": [],
   "source": [
    "# Using the not in operator.\n",
    "'d' not in ('a', 'b', 'c')"
   ]
  }
 ],
 "metadata": {
  "kernelspec": {
   "display_name": "Python 3 (ipykernel)",
   "language": "python",
   "name": "python3"
  },
  "language_info": {
   "codemirror_mode": {
    "name": "ipython",
    "version": 3
   },
   "file_extension": ".py",
   "mimetype": "text/x-python",
   "name": "python",
   "nbconvert_exporter": "python",
   "pygments_lexer": "ipython3",
   "version": "3.11.9"
  }
 },
 "nbformat": 4,
 "nbformat_minor": 5
}
