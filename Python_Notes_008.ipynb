{
 "cells": [
  {
   "cell_type": "markdown",
   "id": "e4128187",
   "metadata": {},
   "source": [
    "# Python_Notes_008"
   ]
  },
  {
   "cell_type": "markdown",
   "id": "4949b5d9",
   "metadata": {},
   "source": [
    "## Built-in Modules"
   ]
  },
  {
   "cell_type": "code",
   "execution_count": 1,
   "id": "d7578ebb",
   "metadata": {},
   "outputs": [
    {
     "name": "stdout",
     "output_type": "stream",
     "text": [
      "The absolute value of -9.75 is: 9.75\n"
     ]
    }
   ],
   "source": [
    "# The abs() method returns the absolute value of a number.\n",
    "number = -9.75\n",
    "abs_num = abs(number)\n",
    "print('The absolute value of -9.75 is:', abs_num)"
   ]
  },
  {
   "cell_type": "code",
   "execution_count": 2,
   "id": "4c7635a0",
   "metadata": {},
   "outputs": [
    {
     "name": "stdout",
     "output_type": "stream",
     "text": [
      "All items in list_bool are true: True\n"
     ]
    }
   ],
   "source": [
    "# The all() method returns True if all items in an iterable object are true.\n",
    "list_bool = [True, True, True, True]\n",
    "all_bool = all(list_bool)\n",
    "print('All items in list_bool are true:', all_bool)"
   ]
  },
  {
   "cell_type": "code",
   "execution_count": 3,
   "id": "766e83ba",
   "metadata": {},
   "outputs": [
    {
     "name": "stdout",
     "output_type": "stream",
     "text": [
      "Any item in list_bool is true: True\n"
     ]
    }
   ],
   "source": [
    "# The any() method returns True if any item in an iterable object is true.\n",
    "list_bool = [False, True, False, False]\n",
    "any_bool = any(list_bool)\n",
    "print('Any item in list_bool is true:', any_bool)"
   ]
  },
  {
   "cell_type": "code",
   "execution_count": 4,
   "id": "5a9db1af",
   "metadata": {},
   "outputs": [
    {
     "name": "stdout",
     "output_type": "stream",
     "text": [
      "The ascii output of text is: 'My name is Le\\xf3n'\n"
     ]
    }
   ],
   "source": [
    "# The ascii() method returns a readable version of an object, replacing none-ascii characters with escape character.\n",
    "text = \"My name is León\"\n",
    "ascii_text = (ascii(text))\n",
    "print('The ascii output of text is:', ascii_text)"
   ]
  },
  {
   "cell_type": "code",
   "execution_count": 5,
   "id": "26d2df49",
   "metadata": {},
   "outputs": [
    {
     "name": "stdout",
     "output_type": "stream",
     "text": [
      "The binary version of number is: 0b110100\n"
     ]
    }
   ],
   "source": [
    "# The bin() method returns the binary version of a number.\n",
    "number = 52\n",
    "bin_number = bin(number)\n",
    "print('The binary version of number is:', bin_number)"
   ]
  },
  {
   "cell_type": "code",
   "execution_count": 6,
   "id": "60a41c51",
   "metadata": {},
   "outputs": [
    {
     "name": "stdout",
     "output_type": "stream",
     "text": [
      "The boolean value of 0 is: False\n",
      "The boolean value of 1 is: True\n",
      "The boolean value of 2 is: True\n",
      "The boolean value of 3 is: True\n",
      "The boolean value of 4 is: True\n"
     ]
    }
   ],
   "source": [
    "# The bool() method returns the boolean value of the specified object.\n",
    "print('The boolean value of 0 is:', bool(0))\n",
    "print('The boolean value of 1 is:', bool(1))\n",
    "print('The boolean value of 2 is:', bool(2))\n",
    "print('The boolean value of 3 is:', bool(3))\n",
    "print('The boolean value of 4 is:', bool(4))"
   ]
  },
  {
   "cell_type": "code",
   "execution_count": 7,
   "id": "f6e9bde7",
   "metadata": {},
   "outputs": [
    {
     "name": "stdout",
     "output_type": "stream",
     "text": [
      "The array of bytes of number is: bytearray(b'\\x00\\x00\\x00\\x00\\x00')\n"
     ]
    }
   ],
   "source": [
    "# The bytearray() method returns an array of bytes.\n",
    "number = 5\n",
    "byte_array = bytearray(number)\n",
    "print('The array of bytes of number is:', byte_array)"
   ]
  },
  {
   "cell_type": "code",
   "execution_count": 8,
   "id": "04649fed",
   "metadata": {},
   "outputs": [
    {
     "name": "stdout",
     "output_type": "stream",
     "text": [
      "b'\\x00\\x00\\x00\\x00\\x00'\n"
     ]
    }
   ],
   "source": [
    "# The bytes() method returns an array of bytes.\n",
    "number = 5\n",
    "print(bytes(number))"
   ]
  },
  {
   "cell_type": "code",
   "execution_count": 9,
   "id": "a80a6eb2",
   "metadata": {},
   "outputs": [
    {
     "name": "stdout",
     "output_type": "stream",
     "text": [
      "Is x callable: True\n"
     ]
    }
   ],
   "source": [
    "# The callable() method returns True if the specified object is callable, otherwise False.\n",
    "def x():\n",
    "  y = 5\n",
    "\n",
    "print('Is x callable:', callable(x))"
   ]
  },
  {
   "cell_type": "code",
   "execution_count": 10,
   "id": "9eb03496",
   "metadata": {},
   "outputs": [
    {
     "name": "stdout",
     "output_type": "stream",
     "text": [
      "The character of integer is: R\n"
     ]
    }
   ],
   "source": [
    "# The chr() method returns a character from the specified Unicode code.\n",
    "integer = 82\n",
    "chr_int = chr(integer)\n",
    "print('The character of integer is:', chr_int)"
   ]
  },
  {
   "cell_type": "code",
   "execution_count": 11,
   "id": "a92ad264",
   "metadata": {},
   "outputs": [
    {
     "name": "stdout",
     "output_type": "stream",
     "text": [
      "The marks obtained is: 88\n"
     ]
    }
   ],
   "source": [
    "# The classmethod() method returns a class method for the given function.\n",
    "class Student:\n",
    "    marks = 0\n",
    "    \n",
    "    def compute_marks(self, obtained_marks):\n",
    "        marks = obtained_marks\n",
    "        print('The marks obtained is:', marks)\n",
    "\n",
    "# convert compute_marks() to class method\n",
    "Student.print_marks = classmethod(Student.compute_marks)\n",
    "Student.print_marks(88)"
   ]
  },
  {
   "cell_type": "code",
   "execution_count": 12,
   "id": "cf0a1a37",
   "metadata": {},
   "outputs": [
    {
     "name": "stdout",
     "output_type": "stream",
     "text": [
      "sum_it = 15\n",
      "None\n"
     ]
    }
   ],
   "source": [
    "# The compile() method computes the Python code from a source object and returns it.\n",
    "code_string = 'a = 8\\nb=7\\nsum_it=a+b\\nprint(\"sum_it =\", sum_it)'\n",
    "code_object = compile(code_string, 'sumstring', 'exec')\n",
    "print(exec(code_object))"
   ]
  },
  {
   "cell_type": "code",
   "execution_count": 13,
   "id": "95d1e552",
   "metadata": {},
   "outputs": [
    {
     "name": "stdout",
     "output_type": "stream",
     "text": [
      "The complex number obtained is: (4+7j)\n"
     ]
    }
   ],
   "source": [
    "# The complex() method returns a complex number.\n",
    "num_1 = 4\n",
    "num_2 = 7\n",
    "complex_nums = complex(num_1, num_2)\n",
    "print('The complex number obtained is:', complex_nums)"
   ]
  },
  {
   "cell_type": "code",
   "execution_count": 14,
   "id": "b89c9758",
   "metadata": {},
   "outputs": [
    {
     "ename": "AttributeError",
     "evalue": "type object 'Person' has no attribute 'country'",
     "output_type": "error",
     "traceback": [
      "\u001b[1;31m---------------------------------------------------------------------------\u001b[0m",
      "\u001b[1;31mAttributeError\u001b[0m                            Traceback (most recent call last)",
      "Cell \u001b[1;32mIn[14], line 9\u001b[0m\n\u001b[0;32m      5\u001b[0m     country \u001b[38;5;241m=\u001b[39m \u001b[38;5;124m\"\u001b[39m\u001b[38;5;124mEngland\u001b[39m\u001b[38;5;124m\"\u001b[39m\n\u001b[0;32m      7\u001b[0m \u001b[38;5;28mdelattr\u001b[39m(Person, \u001b[38;5;124m'\u001b[39m\u001b[38;5;124mcountry\u001b[39m\u001b[38;5;124m'\u001b[39m)\n\u001b[1;32m----> 9\u001b[0m \u001b[38;5;28mprint\u001b[39m(\u001b[38;5;28mgetattr\u001b[39m(Person, \u001b[38;5;124m'\u001b[39m\u001b[38;5;124mcountry\u001b[39m\u001b[38;5;124m'\u001b[39m))\n",
      "\u001b[1;31mAttributeError\u001b[0m: type object 'Person' has no attribute 'country'"
     ]
    }
   ],
   "source": [
    "# The delattr() method deletes the specified attribute (property or method) from the specified object.\n",
    "class Person:\n",
    "    name = \"Mark\"\n",
    "    age = 52\n",
    "    country = \"England\"\n",
    "\n",
    "delattr(Person, 'country')\n",
    "\n",
    "print(getattr(Person, 'country')) # This is used to confirm the delete"
   ]
  },
  {
   "cell_type": "code",
   "execution_count": null,
   "id": "1c60fa2b",
   "metadata": {},
   "outputs": [],
   "source": [
    "# The dict() method creates a dictionary.\n",
    "expression = dict(name = \"Mark\", age = 52, country = \"England\")\n",
    "print('The dictionary created is:', expression)"
   ]
  },
  {
   "cell_type": "code",
   "execution_count": null,
   "id": "ad0be39d",
   "metadata": {},
   "outputs": [],
   "source": [
    "# The dir() method returns all properties and methods of the specified object.\n",
    "class Person:\n",
    "    name = \"Mark\"\n",
    "    age = 52\n",
    "    country = \"England\"\n",
    "\n",
    "dir_person = dir(Person)\n",
    "\n",
    "print('All the properties and methods of Person are:\\n\\n', dir_person)"
   ]
  },
  {
   "cell_type": "code",
   "execution_count": 15,
   "id": "4e25d8ed",
   "metadata": {},
   "outputs": [
    {
     "name": "stdout",
     "output_type": "stream",
     "text": [
      "The quotient and remainder when 7 is divided by 4 is: (1, 3)\n"
     ]
    }
   ],
   "source": [
    "# The divmod() method returns the quotient and remainder when argument1 is divided by argument2.\n",
    "arg_1 = 7\n",
    "arg_2 = 4\n",
    "arg_div = divmod(arg_1, arg_2)\n",
    "print('The quotient and remainder when 7 is divided by 4 is:', arg_div)"
   ]
  },
  {
   "cell_type": "code",
   "execution_count": 16,
   "id": "737032b5",
   "metadata": {},
   "outputs": [
    {
     "name": "stdout",
     "output_type": "stream",
     "text": [
      "The enumerated object is:\n",
      "(0, 'apple')\n",
      "(1, 'banana')\n",
      "(2, 'cherry')\n"
     ]
    }
   ],
   "source": [
    "# The enumerate() method takes a collection and returns it as an enumerate object.\n",
    "tup = ('apple', 'banana', 'cherry')\n",
    "enum = enumerate(tup)\n",
    "\n",
    "print('The enumerated object is:')\n",
    "for item in enum: # Use to extract the items in enum\n",
    "    print(item)"
   ]
  },
  {
   "cell_type": "code",
   "execution_count": 17,
   "id": "468794ba",
   "metadata": {},
   "outputs": [
    {
     "name": "stdout",
     "output_type": "stream",
     "text": [
      "Peter\n",
      "None\n"
     ]
    }
   ],
   "source": [
    "# The exec() method executes the specified code (or object).\n",
    "expression = 'name = \"Peter\"\\nprint(name)'\n",
    "print(exec(expression))"
   ]
  },
  {
   "cell_type": "code",
   "execution_count": 18,
   "id": "845bcfcb",
   "metadata": {},
   "outputs": [
    {
     "name": "stdout",
     "output_type": "stream",
     "text": [
      "The result of evaluating expression is: 49\n"
     ]
    }
   ],
   "source": [
    "# The eval() method evaluates the specified expression.\n",
    "number = 7\n",
    "expression = eval('number * number')\n",
    "print('The result of evaluating expression is:', expression)"
   ]
  },
  {
   "cell_type": "code",
   "execution_count": 19,
   "id": "8801a29f",
   "metadata": {},
   "outputs": [
    {
     "name": "stdout",
     "output_type": "stream",
     "text": [
      "The even numbers are:\n",
      "2\n",
      "4\n",
      "6\n",
      "8\n",
      "10\n"
     ]
    }
   ],
   "source": [
    "# The filter() method is used to exclude items in an iterable object.\n",
    "numbers = [1, 2, 3, 4, 5, 6, 7, 8, 9, 10]\n",
    "\n",
    "def get_even(number):\n",
    "    if number % 2 == 0:\n",
    "        return True  \n",
    "    else:\n",
    "        return False\n",
    "\n",
    "even_numbers = filter(get_even, numbers)\n",
    "print('The even numbers are:')\n",
    "for num in even_numbers:\n",
    "    print(num)"
   ]
  },
  {
   "cell_type": "code",
   "execution_count": 20,
   "id": "d9d3b366",
   "metadata": {},
   "outputs": [
    {
     "name": "stdout",
     "output_type": "stream",
     "text": [
      "The conversion of 8 to float is: 8.0\n"
     ]
    }
   ],
   "source": [
    "# The float() method converts a number to the float type.\n",
    "integer = 8\n",
    "float_int = float(integer)\n",
    "print('The conversion of 8 to float is:', float_int)"
   ]
  },
  {
   "cell_type": "code",
   "execution_count": 21,
   "id": "38be2708",
   "metadata": {},
   "outputs": [
    {
     "name": "stdout",
     "output_type": "stream",
     "text": [
      "The binary value of 23 is: 10111\n"
     ]
    }
   ],
   "source": [
    "# The format() method returns a formatted representation of the given value controlled by the format specifier.\n",
    "value = 23\n",
    "binary_value = format(value, 'b')\n",
    "print('The binary value of 23 is:', binary_value)"
   ]
  },
  {
   "cell_type": "code",
   "execution_count": 22,
   "id": "d71c0d11",
   "metadata": {},
   "outputs": [
    {
     "name": "stdout",
     "output_type": "stream",
     "text": [
      "The frozen set is: frozenset({'i', 'u', 'e', 'o', 'a'})\n"
     ]
    },
    {
     "ename": "AttributeError",
     "evalue": "'frozenset' object has no attribute 'add'",
     "output_type": "error",
     "traceback": [
      "\u001b[1;31m---------------------------------------------------------------------------\u001b[0m",
      "\u001b[1;31mAttributeError\u001b[0m                            Traceback (most recent call last)",
      "Cell \u001b[1;32mIn[22], line 8\u001b[0m\n\u001b[0;32m      5\u001b[0m \u001b[38;5;28mprint\u001b[39m(\u001b[38;5;124m'\u001b[39m\u001b[38;5;124mThe frozen set is:\u001b[39m\u001b[38;5;124m'\u001b[39m, frozon_set)\n\u001b[0;32m      7\u001b[0m \u001b[38;5;66;03m# frozensets are immutable\u001b[39;00m\n\u001b[1;32m----> 8\u001b[0m \u001b[38;5;28mprint\u001b[39m(frozon_set\u001b[38;5;241m.\u001b[39madd(\u001b[38;5;124m'\u001b[39m\u001b[38;5;124mv\u001b[39m\u001b[38;5;124m'\u001b[39m))\n",
      "\u001b[1;31mAttributeError\u001b[0m: 'frozenset' object has no attribute 'add'"
     ]
    }
   ],
   "source": [
    "# The frozenset() method creates an immutable version of a set object, it takes a single parameter.\n",
    "vowels = ('a', 'e', 'i', 'o', 'u')\n",
    "\n",
    "frozon_set = frozenset(vowels)\n",
    "print('The frozen set is:', frozon_set)\n",
    "\n",
    "# frozensets are immutable\n",
    "print(frozon_set.add('v'))"
   ]
  },
  {
   "cell_type": "code",
   "execution_count": 23,
   "id": "986a38c4",
   "metadata": {},
   "outputs": [
    {
     "name": "stdout",
     "output_type": "stream",
     "text": [
      "The Student name is: John\n",
      "The Student mark is: 92\n"
     ]
    }
   ],
   "source": [
    "# The getattr() method returns the value of the named attribute of an object.\n",
    "class Student:\n",
    "    mark = 92\n",
    "    name = 'John'\n",
    "\n",
    "person = Student()\n",
    "\n",
    "name = getattr(person, 'name')\n",
    "print('The Student name is:', name)\n",
    "\n",
    "mark = getattr(person, 'mark')\n",
    "print('The Student mark is:', mark)"
   ]
  },
  {
   "cell_type": "code",
   "execution_count": 24,
   "id": "0a7636a3",
   "metadata": {},
   "outputs": [
    {
     "name": "stdout",
     "output_type": "stream",
     "text": [
      "The global age is: 24\n",
      "The new global age is: 32\n"
     ]
    }
   ],
   "source": [
    "# The globals() method returns a dictionary with all the global variables and symbols for the current program.\n",
    "age = 24\n",
    "print('The global age is:', age)\n",
    "globals()['age'] = 32\n",
    "print('The new global age is:', age)"
   ]
  },
  {
   "cell_type": "code",
   "execution_count": 25,
   "id": "c6d3e69d",
   "metadata": {},
   "outputs": [
    {
     "name": "stdout",
     "output_type": "stream",
     "text": [
      "The Person class has attribute age: True\n"
     ]
    }
   ],
   "source": [
    "# The The hasattr() method returns true if an object has the given named attribute and false if it does not.\n",
    "\n",
    "class Person:\n",
    "    name = \"Mark\"\n",
    "    age = 52\n",
    "    country = \"England\"\n",
    "\n",
    "hasattr_person = hasattr(Person, 'age')\n",
    "print('The Person class has attribute age:', hasattr_person)"
   ]
  },
  {
   "cell_type": "code",
   "execution_count": 26,
   "id": "f110edb0",
   "metadata": {},
   "outputs": [
    {
     "name": "stdout",
     "output_type": "stream",
     "text": [
      "The hash value of text is: 8393401724637842443\n"
     ]
    }
   ],
   "source": [
    "# The hash() method returns the hash value of an object if it has one.\n",
    "text = 'Python Programming for Professionals'\n",
    "hash_text = hash(text)\n",
    "print('The hash value of text is:', hash_text)"
   ]
  },
  {
   "cell_type": "code",
   "execution_count": 27,
   "id": "2d69b465",
   "metadata": {},
   "outputs": [
    {
     "name": "stdout",
     "output_type": "stream",
     "text": [
      "Help on class list in module builtins:\n",
      "\n",
      "class list(object)\n",
      " |  list(iterable=(), /)\n",
      " |  \n",
      " |  Built-in mutable sequence.\n",
      " |  \n",
      " |  If no argument is given, the constructor creates a new empty list.\n",
      " |  The argument must be an iterable if specified.\n",
      " |  \n",
      " |  Methods defined here:\n",
      " |  \n",
      " |  __add__(self, value, /)\n",
      " |      Return self+value.\n",
      " |  \n",
      " |  __contains__(self, key, /)\n",
      " |      Return key in self.\n",
      " |  \n",
      " |  __delitem__(self, key, /)\n",
      " |      Delete self[key].\n",
      " |  \n",
      " |  __eq__(self, value, /)\n",
      " |      Return self==value.\n",
      " |  \n",
      " |  __ge__(self, value, /)\n",
      " |      Return self>=value.\n",
      " |  \n",
      " |  __getattribute__(self, name, /)\n",
      " |      Return getattr(self, name).\n",
      " |  \n",
      " |  __getitem__(...)\n",
      " |      x.__getitem__(y) <==> x[y]\n",
      " |  \n",
      " |  __gt__(self, value, /)\n",
      " |      Return self>value.\n",
      " |  \n",
      " |  __iadd__(self, value, /)\n",
      " |      Implement self+=value.\n",
      " |  \n",
      " |  __imul__(self, value, /)\n",
      " |      Implement self*=value.\n",
      " |  \n",
      " |  __init__(self, /, *args, **kwargs)\n",
      " |      Initialize self.  See help(type(self)) for accurate signature.\n",
      " |  \n",
      " |  __iter__(self, /)\n",
      " |      Implement iter(self).\n",
      " |  \n",
      " |  __le__(self, value, /)\n",
      " |      Return self<=value.\n",
      " |  \n",
      " |  __len__(self, /)\n",
      " |      Return len(self).\n",
      " |  \n",
      " |  __lt__(self, value, /)\n",
      " |      Return self<value.\n",
      " |  \n",
      " |  __mul__(self, value, /)\n",
      " |      Return self*value.\n",
      " |  \n",
      " |  __ne__(self, value, /)\n",
      " |      Return self!=value.\n",
      " |  \n",
      " |  __repr__(self, /)\n",
      " |      Return repr(self).\n",
      " |  \n",
      " |  __reversed__(self, /)\n",
      " |      Return a reverse iterator over the list.\n",
      " |  \n",
      " |  __rmul__(self, value, /)\n",
      " |      Return value*self.\n",
      " |  \n",
      " |  __setitem__(self, key, value, /)\n",
      " |      Set self[key] to value.\n",
      " |  \n",
      " |  __sizeof__(self, /)\n",
      " |      Return the size of the list in memory, in bytes.\n",
      " |  \n",
      " |  append(self, object, /)\n",
      " |      Append object to the end of the list.\n",
      " |  \n",
      " |  clear(self, /)\n",
      " |      Remove all items from list.\n",
      " |  \n",
      " |  copy(self, /)\n",
      " |      Return a shallow copy of the list.\n",
      " |  \n",
      " |  count(self, value, /)\n",
      " |      Return number of occurrences of value.\n",
      " |  \n",
      " |  extend(self, iterable, /)\n",
      " |      Extend list by appending elements from the iterable.\n",
      " |  \n",
      " |  index(self, value, start=0, stop=9223372036854775807, /)\n",
      " |      Return first index of value.\n",
      " |      \n",
      " |      Raises ValueError if the value is not present.\n",
      " |  \n",
      " |  insert(self, index, object, /)\n",
      " |      Insert object before index.\n",
      " |  \n",
      " |  pop(self, index=-1, /)\n",
      " |      Remove and return item at index (default last).\n",
      " |      \n",
      " |      Raises IndexError if list is empty or index is out of range.\n",
      " |  \n",
      " |  remove(self, value, /)\n",
      " |      Remove first occurrence of value.\n",
      " |      \n",
      " |      Raises ValueError if the value is not present.\n",
      " |  \n",
      " |  reverse(self, /)\n",
      " |      Reverse *IN PLACE*.\n",
      " |  \n",
      " |  sort(self, /, *, key=None, reverse=False)\n",
      " |      Sort the list in ascending order and return None.\n",
      " |      \n",
      " |      The sort is in-place (i.e. the list itself is modified) and stable (i.e. the\n",
      " |      order of two equal elements is maintained).\n",
      " |      \n",
      " |      If a key function is given, apply it once to each list item and sort them,\n",
      " |      ascending or descending, according to their function values.\n",
      " |      \n",
      " |      The reverse flag can be set to sort in descending order.\n",
      " |  \n",
      " |  ----------------------------------------------------------------------\n",
      " |  Class methods defined here:\n",
      " |  \n",
      " |  __class_getitem__(...) from builtins.type\n",
      " |      See PEP 585\n",
      " |  \n",
      " |  ----------------------------------------------------------------------\n",
      " |  Static methods defined here:\n",
      " |  \n",
      " |  __new__(*args, **kwargs) from builtins.type\n",
      " |      Create and return a new object.  See help(type) for accurate signature.\n",
      " |  \n",
      " |  ----------------------------------------------------------------------\n",
      " |  Data and other attributes defined here:\n",
      " |  \n",
      " |  __hash__ = None\n",
      "\n",
      "None\n"
     ]
    }
   ],
   "source": [
    "# The help() method generates the help of the given object, it takes a maximum of one parameter.\n",
    "object = list\n",
    "help_list = help(list)\n",
    "print(help_list)"
   ]
  },
  {
   "cell_type": "code",
   "execution_count": 28,
   "id": "f393fa0e",
   "metadata": {},
   "outputs": [
    {
     "name": "stdout",
     "output_type": "stream",
     "text": [
      "The corresponding hexadecimal number of 64 is: 0x40\n"
     ]
    }
   ],
   "source": [
    "# The hex() function converts a number to the corresponding hexadecimal number in string form.\n",
    "number = 64\n",
    "hex_num = hex(number)\n",
    "print('The corresponding hexadecimal number of 64 is:', hex_num)"
   ]
  },
  {
   "cell_type": "code",
   "execution_count": 29,
   "id": "05c31de2",
   "metadata": {},
   "outputs": [
    {
     "name": "stdout",
     "output_type": "stream",
     "text": [
      "The id of sum_num is: 140711710987368\n"
     ]
    }
   ],
   "source": [
    "# The id() method returns a unique integer (identity) of a passed argument object.\n",
    "a = 7\n",
    "b = 4\n",
    "sum_num = a + b\n",
    "print(\"The id of sum_num is:\", id(sum_num))"
   ]
  },
  {
   "cell_type": "code",
   "execution_count": 30,
   "id": "43e02406",
   "metadata": {},
   "outputs": [
    {
     "name": "stdout",
     "output_type": "stream",
     "text": [
      "Enter your name: Bruce\n",
      "The name entered is: Bruce\n"
     ]
    }
   ],
   "source": [
    "# The input() method takes input from the user and returns it.\n",
    "name = input(\"Enter your name: \")\n",
    "print('The name entered is:', name)"
   ]
  },
  {
   "cell_type": "code",
   "execution_count": 31,
   "id": "087337ab",
   "metadata": {},
   "outputs": [
    {
     "name": "stdout",
     "output_type": "stream",
     "text": [
      "The integer form of 5.6 is: 5\n",
      "The integer form of '9' is: 9\n"
     ]
    },
    {
     "ename": "ValueError",
     "evalue": "invalid literal for int() with base 10: '4.3'",
     "output_type": "error",
     "traceback": [
      "\u001b[1;31m---------------------------------------------------------------------------\u001b[0m",
      "\u001b[1;31mValueError\u001b[0m                                Traceback (most recent call last)",
      "Cell \u001b[1;32mIn[31], line 8\u001b[0m\n\u001b[0;32m      6\u001b[0m \u001b[38;5;28mprint\u001b[39m(\u001b[38;5;124m'\u001b[39m\u001b[38;5;124mThe integer form of 5.6 is:\u001b[39m\u001b[38;5;124m'\u001b[39m, \u001b[38;5;28mint\u001b[39m(number))\n\u001b[0;32m      7\u001b[0m \u001b[38;5;28mprint\u001b[39m(\u001b[38;5;124m\"\u001b[39m\u001b[38;5;124mThe integer form of \u001b[39m\u001b[38;5;124m'\u001b[39m\u001b[38;5;124m9\u001b[39m\u001b[38;5;124m'\u001b[39m\u001b[38;5;124m is:\u001b[39m\u001b[38;5;124m\"\u001b[39m, \u001b[38;5;28mint\u001b[39m(string_int))\n\u001b[1;32m----> 8\u001b[0m \u001b[38;5;28mprint\u001b[39m(\u001b[38;5;124m\"\u001b[39m\u001b[38;5;124mThe integer form of \u001b[39m\u001b[38;5;124m'\u001b[39m\u001b[38;5;124m4.3\u001b[39m\u001b[38;5;124m'\u001b[39m\u001b[38;5;124m is:\u001b[39m\u001b[38;5;124m\"\u001b[39m, \u001b[38;5;28mint\u001b[39m(string_float))\n",
      "\u001b[1;31mValueError\u001b[0m: invalid literal for int() with base 10: '4.3'"
     ]
    }
   ],
   "source": [
    "# The int() method outputs the integer part of a number or a string to an integer.\n",
    "number = 5.6\n",
    "string_int = '9'\n",
    "string_float = '4.3'\n",
    "\n",
    "print('The integer form of 5.6 is:', int(number))\n",
    "print(\"The integer form of '9' is:\", int(string_int))\n",
    "print(\"The integer form of '4.3' is:\", int(string_float))"
   ]
  },
  {
   "cell_type": "code",
   "execution_count": 32,
   "id": "fb8adfde",
   "metadata": {},
   "outputs": [
    {
     "name": "stdout",
     "output_type": "stream",
     "text": [
      "Is numbers a list: True\n"
     ]
    }
   ],
   "source": [
    "# The isinstance() method checks if the object is an instance or subclass of classinfo class.\n",
    "numbers = [1, 2, 3, 4, 2, 5]\n",
    "isin_num = isinstance(numbers, list)\n",
    "print(\"Is numbers a list:\", isin_num)"
   ]
  },
  {
   "cell_type": "code",
   "execution_count": 33,
   "id": "dd802276",
   "metadata": {},
   "outputs": [
    {
     "name": "stdout",
     "output_type": "stream",
     "text": [
      "Triangle is a subclass Polygon: True\n",
      "Triangle is a subclass list: False\n",
      "Triangle is a subclass list or Polygon: True\n",
      "Polygon is a subclass list or Polygon: True\n"
     ]
    }
   ],
   "source": [
    "# The issubclass() method returns True if class is subclass of a class, or any element of the tuple.\n",
    "class Polygon:\n",
    "    def __init__(polygonType):\n",
    "        print('Polygon is a ', polygonType)\n",
    "\n",
    "class Triangle(Polygon):\n",
    "    def __init__(self):\n",
    "        Polygon.__init__('triangle')\n",
    "    \n",
    "print('Triangle is a subclass Polygon:', issubclass(Triangle, Polygon))\n",
    "print('Triangle is a subclass list:', issubclass(Triangle, list))\n",
    "print('Triangle is a subclass list or Polygon:', issubclass(Triangle, (list, Polygon)))\n",
    "print('Polygon is a subclass list or Polygon:', issubclass(Polygon, (list, Polygon)))"
   ]
  },
  {
   "cell_type": "code",
   "execution_count": 34,
   "id": "b0cd2542",
   "metadata": {},
   "outputs": [
    {
     "name": "stdout",
     "output_type": "stream",
     "text": [
      "First item in list: apple\n",
      "Second item in list: samsung\n",
      "Third item in list: oneplus\n"
     ]
    }
   ],
   "source": [
    "# The iter() method returns an iterator for the given argument. \n",
    "phones = ['apple', 'samsung', 'oneplus']\n",
    "phones_iter = iter(phones)\n",
    "\n",
    "print('First item in list:', next(phones_iter))\n",
    "print('Second item in list:', next(phones_iter))\n",
    "print('Third item in list:', next(phones_iter))"
   ]
  },
  {
   "cell_type": "code",
   "execution_count": 35,
   "id": "89766510",
   "metadata": {},
   "outputs": [
    {
     "name": "stdout",
     "output_type": "stream",
     "text": [
      "The number of items in friuts is: 4\n"
     ]
    }
   ],
   "source": [
    "# The len() method returns the number of items in an object.\n",
    "friuts = ['apple', 'banana', 'mango', 'orange']\n",
    "len_friuts = len(friuts)\n",
    "print('The number of items in friuts is:', len_friuts)"
   ]
  },
  {
   "cell_type": "code",
   "execution_count": 36,
   "id": "26ef67d3",
   "metadata": {},
   "outputs": [
    {
     "name": "stdout",
     "output_type": "stream",
     "text": [
      "The list created from text is: ['P', 'y', 't', 'h', 'o', 'n', ' ', 'i', 's', ' ', 'g', 'r', 'e', 'a', 't']\n"
     ]
    }
   ],
   "source": [
    "# The list() method returns a list. \n",
    "text = 'Python is great'\n",
    "list_text = list(text)\n",
    "print('The list created from text is:', list_text)"
   ]
  },
  {
   "cell_type": "code",
   "execution_count": 37,
   "id": "f254ecd9",
   "metadata": {},
   "outputs": [
    {
     "name": "stdout",
     "output_type": "stream",
     "text": [
      "The local variables and symbols inside the_local are:\n",
      "\n",
      " {'__module__': '__main__', '__qualname__': 'the_local', 'x': 50}\n"
     ]
    }
   ],
   "source": [
    "# The locals() method returns a dictionary with all the local variables and symbols for the current program.\n",
    "class the_local:\n",
    "    x = 50\n",
    "    print('The local variables and symbols inside the_local are:\\n\\n', locals())"
   ]
  },
  {
   "cell_type": "code",
   "execution_count": 38,
   "id": "c79a8bcf",
   "metadata": {},
   "outputs": [
    {
     "name": "stdout",
     "output_type": "stream",
     "text": [
      "The result of mapping square to numbers is: [1, 9, 25, 49, 81]\n"
     ]
    }
   ],
   "source": [
    "# The map() method applies a given function to each element of an iterable and returns an iterator containing the results.\n",
    "numbers = [1, 3, 5, 7, 9]\n",
    "\n",
    "def square(number):\n",
    "    return number * number\n",
    "\n",
    "iterator_numbers = map(square, numbers)\n",
    "squared_numbers = list(iterator_numbers)\n",
    "print('The result of mapping square to numbers is:', squared_numbers)"
   ]
  },
  {
   "cell_type": "code",
   "execution_count": 39,
   "id": "336cb600",
   "metadata": {},
   "outputs": [
    {
     "name": "stdout",
     "output_type": "stream",
     "text": [
      "The maximum number in numbers is: 11\n"
     ]
    }
   ],
   "source": [
    "# The max() method returns the largest item in an iterable.\n",
    "numbers = [4, 3, 9, 6, 11, 7, 5]\n",
    "max_num = max(numbers)\n",
    "print('The maximum number in numbers is:', max_num)"
   ]
  },
  {
   "cell_type": "code",
   "execution_count": 40,
   "id": "06644ee1",
   "metadata": {},
   "outputs": [
    {
     "name": "stdout",
     "output_type": "stream",
     "text": [
      "The minimum number in numbers is: 3\n"
     ]
    }
   ],
   "source": [
    "# The min() method returns the smallest item in an iterable.\n",
    "numbers = [4, 3, 9, 6, 11, 7, 5]\n",
    "min_num = min(numbers)\n",
    "print('The minimum number in numbers is:', min_num)"
   ]
  },
  {
   "cell_type": "code",
   "execution_count": 41,
   "id": "05147bce",
   "metadata": {},
   "outputs": [
    {
     "name": "stdout",
     "output_type": "stream",
     "text": [
      "The location of the memoryview is: <memory at 0x0000024ED3C522C0>\n",
      "The unicode of the first character is: 87\n",
      "The unicode of the second character is: 111\n"
     ]
    }
   ],
   "source": [
    "# The memoryview() method returns a memory view object.\n",
    "object = b\"World\"\n",
    "mem_view = memoryview(object)\n",
    "\n",
    "print('The location of the memoryview is:', mem_view)\n",
    "print('The unicode of the first character is:', mem_view[0])\n",
    "print('The unicode of the second character is:', mem_view[1])"
   ]
  },
  {
   "cell_type": "code",
   "execution_count": 42,
   "id": "35882119",
   "metadata": {},
   "outputs": [
    {
     "name": "stdout",
     "output_type": "stream",
     "text": [
      "The first element is: 85\n",
      "The second element is: 79\n"
     ]
    }
   ],
   "source": [
    "# The next() method returns the next item from the iterator.\n",
    "marks = [85, 79, 62, 81, 76]\n",
    "iterator_marks = iter(marks)\n",
    "\n",
    "marks_1 = next(iterator_marks)\n",
    "print('The first element is:', marks_1)\n",
    "\n",
    "marks_2 = next(iterator_marks)\n",
    "print('The second element is:', marks_2)"
   ]
  },
  {
   "cell_type": "code",
   "execution_count": 43,
   "id": "98d27e6a",
   "metadata": {},
   "outputs": [
    {
     "name": "stdout",
     "output_type": "stream",
     "text": [
      "Age: 24 \n",
      "Name: John\n"
     ]
    }
   ],
   "source": [
    "# The object() method returns a valid list of attributes of the object it is called upon.\n",
    "\n",
    "class Person:         \n",
    "    name = \"John\"      \n",
    "    age = 24  \n",
    "    def display (self):      \n",
    "        print(\"Age: %d \\nName: %s\"%(self.age, self.name))   \n",
    "        \n",
    "# Creating a emp instance of Employee class    \n",
    "person = Person()      \n",
    "person.display()"
   ]
  },
  {
   "cell_type": "code",
   "execution_count": 44,
   "id": "51ec9f1a",
   "metadata": {},
   "outputs": [
    {
     "name": "stdout",
     "output_type": "stream",
     "text": [
      "From decimal 10 to octal is: 0o12\n",
      "From binary 101 to octal is: 0o5\n",
      "From hexadecimal 0XA to octal is: 0o12\n"
     ]
    }
   ],
   "source": [
    "# The oct() method returns an octal string from the given integer number.\n",
    "print('From decimal 10 to octal is:', oct(10))\n",
    "print('From binary 101 to octal is:', oct(0b101))\n",
    "print('From hexadecimal 0XA to octal is:', oct(0XA))"
   ]
  },
  {
   "cell_type": "raw",
   "id": "2ad497da",
   "metadata": {},
   "source": [
    "# The open() method returns a file object which can be used to read, write and modify the file.\n",
    "# opens test.text file of the current directory\n",
    "f = open(\"test.txt\")\n",
    "\n",
    "# specifying the full path\n",
    "f = open(\"C:/Python38/README.txt\")\n",
    "\n",
    "# opens the file in reading mode\n",
    "f = open(\"path_to_file\", mode='r')\n",
    "\n",
    "# opens the file in writing mode \n",
    "f = open(\"path_to_file\", mode='w')\n",
    "\n",
    "# opens for writing to the end \n",
    "f = open(\"path_to_file\", mode='a')"
   ]
  },
  {
   "cell_type": "code",
   "execution_count": 45,
   "id": "73595b30",
   "metadata": {},
   "outputs": [
    {
     "name": "stdout",
     "output_type": "stream",
     "text": [
      "The unicode of B is: 66\n"
     ]
    }
   ],
   "source": [
    "# The ord() method returns an integer representing the Unicode character.\n",
    "character = 'B'\n",
    "\n",
    "unicode_char = ord(character)\n",
    "print('The unicode of B is:', unicode_char)"
   ]
  },
  {
   "cell_type": "code",
   "execution_count": 46,
   "id": "0b46cee5",
   "metadata": {},
   "outputs": [
    {
     "name": "stdout",
     "output_type": "stream",
     "text": [
      "Raising 5 to a power of 3 gives: 125\n"
     ]
    }
   ],
   "source": [
    "# The pow() method computes the power of a number by raising the first argument to the second argument.\n",
    "result = pow(5, 3)\n",
    "print('Raising 5 to a power of 3 gives:', result)"
   ]
  },
  {
   "cell_type": "code",
   "execution_count": 47,
   "id": "e4851c32",
   "metadata": {},
   "outputs": [
    {
     "name": "stdout",
     "output_type": "stream",
     "text": [
      "The message is: Python is great\n"
     ]
    }
   ],
   "source": [
    "# The print() method prints the given object to the standard output device (screen) or to the text stream file.\n",
    "message = 'Python is great'\n",
    "print('The message is:', message)"
   ]
  },
  {
   "cell_type": "code",
   "execution_count": 48,
   "id": "b468b74a",
   "metadata": {},
   "outputs": [
    {
     "name": "stdout",
     "output_type": "stream",
     "text": [
      "Getting name: Adam\n",
      "Setting name to: John\n",
      "Deleting name\n"
     ]
    }
   ],
   "source": [
    "# The property() method gets, sets, deletes a property.\n",
    "class Person:\n",
    "    def __init__(self, name):\n",
    "        self._name = name\n",
    "\n",
    "    def get_name(self):\n",
    "        return self._name\n",
    "\n",
    "    def set_name(self, value):\n",
    "        self._name = value\n",
    "\n",
    "    def del_name(self):\n",
    "        del self._name\n",
    "\n",
    "    # Set property to use get_name, set_name and del_name methods\n",
    "    name = property(get_name, set_name, del_name, 'Name property')\n",
    "\n",
    "p = Person('Adam')\n",
    "name = p.name\n",
    "print('Getting name:', name)\n",
    "\n",
    "p.name = 'John'\n",
    "name = p.name\n",
    "print('Setting name to:', name)\n",
    "\n",
    "print('Deleting name')\n",
    "del p.name"
   ]
  },
  {
   "cell_type": "code",
   "execution_count": 49,
   "id": "595bc4b5",
   "metadata": {},
   "outputs": [
    {
     "name": "stdout",
     "output_type": "stream",
     "text": [
      "The numbers in the range are:\n",
      "0\n",
      "1\n",
      "2\n",
      "3\n",
      "4\n"
     ]
    }
   ],
   "source": [
    "# The range() method returns a sequence of numbers between the give range.\n",
    "# create a sequence of numbers from 0 to 4\n",
    "numbers = range(5)\n",
    "\n",
    "print('The numbers in the range are:')\n",
    "for num in numbers:\n",
    "    print(num)"
   ]
  },
  {
   "cell_type": "code",
   "execution_count": 50,
   "id": "4eca9c06",
   "metadata": {},
   "outputs": [
    {
     "name": "stdout",
     "output_type": "stream",
     "text": [
      "The numbers in the range are:\n",
      "0\n",
      "4\n",
      "8\n",
      "12\n",
      "16\n",
      "20\n"
     ]
    }
   ],
   "source": [
    "# create a sequence of numbers between 0 to 20 at steps of 5\n",
    "numbers = range(0, 21, 4)\n",
    "\n",
    "print('The numbers in the range are:')\n",
    "for num in numbers:\n",
    "    print(num)"
   ]
  },
  {
   "cell_type": "code",
   "execution_count": 51,
   "id": "0c54e286",
   "metadata": {},
   "outputs": [
    {
     "name": "stdout",
     "output_type": "stream",
     "text": [
      "The printable representation of the list is: [1, 2, 3, 4, 5]\n"
     ]
    }
   ],
   "source": [
    "# The repr() method returns a printable representation of the given object.\n",
    "numbers = [1, 2, 3, 4, 5]\n",
    "\n",
    "# create a printable representation of the list\n",
    "printable_numbers = repr(numbers)\n",
    "print('The printable representation of the list is:', printable_numbers)"
   ]
  },
  {
   "cell_type": "code",
   "execution_count": 52,
   "id": "49f3a670",
   "metadata": {},
   "outputs": [
    {
     "name": "stdout",
     "output_type": "stream",
     "text": [
      "The reverse of the text in a list is: ['n', 'o', 'h', 't', 'y', 'P']\n"
     ]
    }
   ],
   "source": [
    "# The reversed() method computes the reverse of a given sequence object and returns it in the form of a list.\n",
    "text = 'Python'\n",
    "reversed_text = reversed(text)\n",
    "reversed_list = list(reversed_text)\n",
    "print('The reverse of the text in a list is:', reversed_list)"
   ]
  },
  {
   "cell_type": "code",
   "execution_count": 53,
   "id": "1f0d6445",
   "metadata": {},
   "outputs": [
    {
     "name": "stdout",
     "output_type": "stream",
     "text": [
      "The rounding of 13.46 to the nearest integer gives: 18\n"
     ]
    }
   ],
   "source": [
    "# The round() method returns a floating-point number rounded to the specified number of decimals.\n",
    "number = 17.75\n",
    "rounded_number = round(number)\n",
    "print('The rounding of 13.46 to the nearest integer gives:', rounded_number)"
   ]
  },
  {
   "cell_type": "code",
   "execution_count": 54,
   "id": "1b80942d",
   "metadata": {},
   "outputs": [
    {
     "name": "stdout",
     "output_type": "stream",
     "text": [
      "The creation of a set from a list gives: {1, 2, 3, 4, 5}\n"
     ]
    }
   ],
   "source": [
    "# The set() function creates a set.\n",
    "list_numbers = [1, 2, 3, 4, 2, 5, 1]\n",
    "numbers_set = set(list_numbers)\n",
    "print('The creation of a set from a list gives:', numbers_set)"
   ]
  },
  {
   "cell_type": "code",
   "execution_count": 55,
   "id": "6f9f92f5",
   "metadata": {},
   "outputs": [
    {
     "name": "stdout",
     "output_type": "stream",
     "text": [
      "The new value of name is set to: James\n",
      "The new value of mark is set to: 89\n"
     ]
    }
   ],
   "source": [
    "# The setattr() method sets the value of the attribute of an object.\n",
    "class Student:\n",
    "    mark = 92\n",
    "    name = 'Sharon'\n",
    "\n",
    "person = Student()\n",
    "\n",
    "setattr(person, 'name', 'James')\n",
    "new_person = person.name\n",
    "\n",
    "setattr(person, 'mark', 89)\n",
    "new_age = person.mark\n",
    "\n",
    "print('The new value of name is set to:', new_person)\n",
    "print('The new value of mark is set to:', new_age)"
   ]
  },
  {
   "cell_type": "code",
   "execution_count": 56,
   "id": "74758373",
   "metadata": {},
   "outputs": [
    {
     "name": "stdout",
     "output_type": "stream",
     "text": [
      "The slice of first six objects are: Python\n",
      "The slice of the second then every two objects are: yhnPormig\n"
     ]
    }
   ],
   "source": [
    "# The slice() function returns a slice object that is used to slice any sequence (string, tuple, list, range, or bytes).\n",
    "text = 'Python Programming'\n",
    "\n",
    "sliced_six = slice(6)\n",
    "first_six = text[sliced_six]\n",
    "print('The slice of first six objects are:', first_six)\n",
    "\n",
    "sliced_two = slice(1, len(text), 2)\n",
    "first_then2 = text[sliced_two]\n",
    "print('The slice of the second then every two objects are:', first_then2)"
   ]
  },
  {
   "cell_type": "code",
   "execution_count": 57,
   "id": "fad326f5",
   "metadata": {},
   "outputs": [
    {
     "name": "stdout",
     "output_type": "stream",
     "text": [
      "The result of sorting numbers is: [2, 4, 5, 8, 12, 15]\n"
     ]
    }
   ],
   "source": [
    "# The sorted() method sorts the elements of a given iterable in a specific order (ascending or descending) \n",
    "# and returns it as a list.\n",
    "numbers = [4, 2, 12, 8, 5, 15]\n",
    "sorted_numbers = sorted(numbers)\n",
    "print('The result of sorting numbers is:', sorted_numbers)"
   ]
  },
  {
   "cell_type": "code",
   "execution_count": 58,
   "id": "957e10c6",
   "metadata": {},
   "outputs": [
    {
     "name": "stdout",
     "output_type": "stream",
     "text": [
      "The string representation of text is: Adam\n"
     ]
    }
   ],
   "source": [
    "# The str() method returns the string representation of a given object.\n",
    "# string representation of Adam\n",
    "text = 'Adam'\n",
    "string_text = str(text)\n",
    "print('The string representation of text is:', string_text)"
   ]
  },
  {
   "cell_type": "code",
   "execution_count": 59,
   "id": "094646c0",
   "metadata": {},
   "outputs": [
    {
     "name": "stdout",
     "output_type": "stream",
     "text": [
      "The sum of all marks is: 511\n"
     ]
    }
   ],
   "source": [
    "# The sum() method adds the items of an iterable and returns the total.\n",
    "marks = [65, 85, 71, 68, 74, 87, 61]\n",
    "total_marks = sum(marks)\n",
    "print('The sum of all marks is:', total_marks)"
   ]
  },
  {
   "cell_type": "code",
   "execution_count": 60,
   "id": "b8b20d16",
   "metadata": {},
   "outputs": [
    {
     "name": "stdout",
     "output_type": "stream",
     "text": [
      "An empty tuple is: ()\n",
      "A tuple from a list is: (1, 4, 6)\n",
      "A tuple from a string is: ('P', 'y', 't', 'h', 'o', 'n')\n",
      "A tuple from a dictionary is: (1, 2, 3)\n",
      "Another tuple from a dictionary is: ('one', 'two', 'three')\n",
      "A tuple from a dictionary values is: (1, 2, 3)\n"
     ]
    }
   ],
   "source": [
    "# The tuple() method creates an immutable sequence type.\n",
    "t1 = tuple()\n",
    "print('An empty tuple is:', t1)\n",
    "\n",
    "# creating a tuple from a list\n",
    "t2 = tuple([1, 4, 6])\n",
    "print('A tuple from a list is:', t2)\n",
    "\n",
    "# creating a tuple from a string\n",
    "t3 = tuple('Python')\n",
    "print('A tuple from a string is:', t3)\n",
    "\n",
    "# creating a tuple from a dictionary\n",
    "t4 = tuple({1: 'one', 2: 'two', 3: 'three'})\n",
    "print('A tuple from a dictionary is:', t4)\n",
    "\n",
    "# creating a tuple from a dictionary\n",
    "t5 = tuple({'one': 1, 'two': 2, 'three': 3})\n",
    "print('Another tuple from a dictionary is:', t5)\n",
    "\n",
    "# creating a tuple from a dictionary values\n",
    "t6 = tuple({'one': 1, 'two': 2, 'three': 3}.values())\n",
    "print('A tuple from a dictionary values is:', t6)"
   ]
  },
  {
   "cell_type": "code",
   "execution_count": 61,
   "id": "e712b41f",
   "metadata": {},
   "outputs": [
    {
     "name": "stdout",
     "output_type": "stream",
     "text": [
      "The type of item_int is: <class 'int'>\n",
      "The type of item_float is: <class 'float'>\n",
      "The type of item_string is: <class 'str'>\n",
      "The type of item_bool is: <class 'bool'>\n",
      "The type of item_list is: <class 'list'>\n",
      "The type of item_tuple is: <class 'tuple'>\n",
      "The type of item_dict is: <class 'dict'>\n"
     ]
    }
   ],
   "source": [
    "# The type() method either returns the type of the object or returns a new type object based on the arguments passed.\n",
    "item_int = 5\n",
    "item_float = 6.15\n",
    "item_string = 'Python'\n",
    "item_bool = True\n",
    "item_list = [2, 3, 5]\n",
    "item_tuple = (2, 3, 5)\n",
    "item_dict = {'two': 2, 'three': 3, 'five': 5}\n",
    "\n",
    "# check the types\n",
    "print('The type of item_int is:', type(item_int))\n",
    "print('The type of item_float is:', type(item_float))\n",
    "print('The type of item_string is:', type(item_string))\n",
    "print('The type of item_bool is:', type(item_bool))\n",
    "print('The type of item_list is:', type(item_list))\n",
    "print('The type of item_tuple is:', type(item_tuple))\n",
    "print('The type of item_dict is:', type(item_dict))"
   ]
  },
  {
   "cell_type": "code",
   "execution_count": 62,
   "id": "edca0f3d",
   "metadata": {},
   "outputs": [
    {
     "name": "stdout",
     "output_type": "stream",
     "text": [
      "The dictionary mapping of list is:\n",
      "\n",
      "{'__new__': <built-in method __new__ of type object at 0x00007FF9FF774D00>, '__repr__': <slot wrapper '__repr__' of 'list' objects>, '__hash__': None, '__getattribute__': <slot wrapper '__getattribute__' of 'list' objects>, '__lt__': <slot wrapper '__lt__' of 'list' objects>, '__le__': <slot wrapper '__le__' of 'list' objects>, '__eq__': <slot wrapper '__eq__' of 'list' objects>, '__ne__': <slot wrapper '__ne__' of 'list' objects>, '__gt__': <slot wrapper '__gt__' of 'list' objects>, '__ge__': <slot wrapper '__ge__' of 'list' objects>, '__iter__': <slot wrapper '__iter__' of 'list' objects>, '__init__': <slot wrapper '__init__' of 'list' objects>, '__len__': <slot wrapper '__len__' of 'list' objects>, '__getitem__': <method '__getitem__' of 'list' objects>, '__setitem__': <slot wrapper '__setitem__' of 'list' objects>, '__delitem__': <slot wrapper '__delitem__' of 'list' objects>, '__add__': <slot wrapper '__add__' of 'list' objects>, '__mul__': <slot wrapper '__mul__' of 'list' objects>, '__rmul__': <slot wrapper '__rmul__' of 'list' objects>, '__contains__': <slot wrapper '__contains__' of 'list' objects>, '__iadd__': <slot wrapper '__iadd__' of 'list' objects>, '__imul__': <slot wrapper '__imul__' of 'list' objects>, '__reversed__': <method '__reversed__' of 'list' objects>, '__sizeof__': <method '__sizeof__' of 'list' objects>, 'clear': <method 'clear' of 'list' objects>, 'copy': <method 'copy' of 'list' objects>, 'append': <method 'append' of 'list' objects>, 'insert': <method 'insert' of 'list' objects>, 'extend': <method 'extend' of 'list' objects>, 'pop': <method 'pop' of 'list' objects>, 'remove': <method 'remove' of 'list' objects>, 'index': <method 'index' of 'list' objects>, 'count': <method 'count' of 'list' objects>, 'reverse': <method 'reverse' of 'list' objects>, 'sort': <method 'sort' of 'list' objects>, '__class_getitem__': <method '__class_getitem__' of 'list' objects>, '__doc__': 'Built-in mutable sequence.\\n\\nIf no argument is given, the constructor creates a new empty list.\\nThe argument must be an iterable if specified.'}\n"
     ]
    }
   ],
   "source": [
    "# The vars() method returns the __dict__ (dictionary mapping) attribute of the given object.\n",
    "print('The dictionary mapping of list is:')\n",
    "print()\n",
    "print(vars(list))"
   ]
  },
  {
   "cell_type": "code",
   "execution_count": 63,
   "id": "80544f79",
   "metadata": {},
   "outputs": [
    {
     "name": "stdout",
     "output_type": "stream",
     "text": [
      "The zip list created with languages and versions is: [('Java', 14), ('Python', 3), ('JavaScript', 6)]\n"
     ]
    }
   ],
   "source": [
    "# The zip() method takes iterables (can be zero or more), aggregates them in a tuple, and returns it.\n",
    "languages = ['Java', 'Python', 'JavaScript']\n",
    "versions = [14, 3, 6]\n",
    "result_zip = zip(languages, versions)\n",
    "list_zip = list(result_zip)\n",
    "\n",
    "print('The zip list created with languages and versions is:', list_zip)"
   ]
  }
 ],
 "metadata": {
  "kernelspec": {
   "display_name": "Python 3 (ipykernel)",
   "language": "python",
   "name": "python3"
  },
  "language_info": {
   "codemirror_mode": {
    "name": "ipython",
    "version": 3
   },
   "file_extension": ".py",
   "mimetype": "text/x-python",
   "name": "python",
   "nbconvert_exporter": "python",
   "pygments_lexer": "ipython3",
   "version": "3.11.4"
  }
 },
 "nbformat": 4,
 "nbformat_minor": 5
}
